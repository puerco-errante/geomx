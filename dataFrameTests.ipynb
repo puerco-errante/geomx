{
 "cells": [
  {
   "cell_type": "markdown",
   "metadata": {},
   "source": [
    "# Analyzing the different regions and their correlations\n",
    "\n",
    "Useful links:\n",
    "\n",
    "* https://en.wikibooks.org/wiki/Introducing_Julia/DataFrames"
   ]
  },
  {
   "cell_type": "code",
   "execution_count": 89,
   "metadata": {},
   "outputs": [
    {
     "name": "stderr",
     "output_type": "stream",
     "text": [
      "\u001b[32m\u001b[1m   Resolving\u001b[22m\u001b[39m package versions...\n"
     ]
    },
    {
     "ename": "LoadError",
     "evalue": "InterruptException:",
     "output_type": "error",
     "traceback": [
      "InterruptException:",
      ""
     ]
    }
   ],
   "source": [
    "# Packages we will use throughout this notebook (only first time)\n",
    "Pkg.add(\"UMAP\")\n",
    "Pkg.add(\"Makie\")\n",
    "Pkg.add(\"XLSX\")\n",
    "Pkg.add(\"VegaDatasets\")\n",
    "Pkg.add(\"MultivariateStats\")\n",
    "Pkg.add(\"RDatasets\")\n",
    "Pkg.add(\"StatsBase\")\n",
    "Pkg.add(\"Statistics\")\n",
    "Pkg.add(\"LinearAlgebra\")\n",
    "Pkg.add(\"Plots\")\n",
    "Pkg.add(\"ScikitLearn\")\n",
    "Pkg.add(\"MLBase\")\n",
    "Pkg.add(\"Distances\")"
   ]
  },
  {
   "cell_type": "code",
   "execution_count": 90,
   "metadata": {},
   "outputs": [],
   "source": [
    "# Packages we will use throughout this notebook\n",
    "using UMAP\n",
    "using Makie\n",
    "using XLSX\n",
    "using VegaDatasets\n",
    "using DataFrames\n",
    "using MultivariateStats\n",
    "using RDatasets\n",
    "using StatsBase\n",
    "using Statistics\n",
    "using LinearAlgebra\n",
    "using Plots\n",
    "using ScikitLearn\n",
    "using MLBase\n",
    "using Distances"
   ]
  },
  {
   "cell_type": "code",
   "execution_count": null,
   "metadata": {},
   "outputs": [],
   "source": [
    "#using PlotlyJS"
   ]
  },
  {
   "cell_type": "code",
   "execution_count": 2,
   "metadata": {},
   "outputs": [],
   "source": [
    "using DataFrames"
   ]
  },
  {
   "cell_type": "code",
   "execution_count": 3,
   "metadata": {},
   "outputs": [],
   "source": [
    "using CSV"
   ]
  },
  {
   "cell_type": "code",
   "execution_count": 91,
   "metadata": {},
   "outputs": [
    {
     "data": {
      "text/html": [
       "<table class=\"data-frame\"><thead><tr><th></th><th>SlideName</th><th>ScanName</th><th>ROILabel</th><th>SegmentLabel</th><th>SegmentDisplayName</th></tr><tr><th></th><th>String</th><th>String</th><th>Int64</th><th>String</th><th>String</th></tr></thead><tbody><p>231 rows × 25 columns (omitted printing of 20 columns)</p><tr><th>1</th><td>disease3</td><td>disease3_scan</td><td>7</td><td>Geometric Segment</td><td>disease3_scan | 007 | Geometric Segment</td></tr><tr><th>2</th><td>disease3</td><td>disease3_scan</td><td>8</td><td>Geometric Segment</td><td>disease3_scan | 008 | Geometric Segment</td></tr><tr><th>3</th><td>disease3</td><td>disease3_scan</td><td>9</td><td>Geometric Segment</td><td>disease3_scan | 009 | Geometric Segment</td></tr><tr><th>4</th><td>disease3</td><td>disease3_scan</td><td>10</td><td>Geometric Segment</td><td>disease3_scan | 010 | Geometric Segment</td></tr><tr><th>5</th><td>disease3</td><td>disease3_scan</td><td>11</td><td>Geometric Segment</td><td>disease3_scan | 011 | Geometric Segment</td></tr><tr><th>6</th><td>disease3</td><td>disease3_scan</td><td>12</td><td>Geometric Segment</td><td>disease3_scan | 012 | Geometric Segment</td></tr><tr><th>7</th><td>disease3</td><td>disease3_scan</td><td>13</td><td>Geometric Segment</td><td>disease3_scan | 013 | Geometric Segment</td></tr><tr><th>8</th><td>disease3</td><td>disease3_scan</td><td>14</td><td>Geometric Segment</td><td>disease3_scan | 014 | Geometric Segment</td></tr><tr><th>9</th><td>disease3</td><td>disease3_scan</td><td>15</td><td>Geometric Segment</td><td>disease3_scan | 015 | Geometric Segment</td></tr><tr><th>10</th><td>disease3</td><td>disease3_scan</td><td>16</td><td>Geometric Segment</td><td>disease3_scan | 016 | Geometric Segment</td></tr><tr><th>11</th><td>disease3</td><td>disease3_scan</td><td>17</td><td>Geometric Segment</td><td>disease3_scan | 017 | Geometric Segment</td></tr><tr><th>12</th><td>disease3</td><td>disease3_scan</td><td>18</td><td>Geometric Segment</td><td>disease3_scan | 018 | Geometric Segment</td></tr><tr><th>13</th><td>disease3</td><td>disease3_scan</td><td>19</td><td>Geometric Segment</td><td>disease3_scan | 019 | Geometric Segment</td></tr><tr><th>14</th><td>disease3</td><td>disease3_scan</td><td>20</td><td>Geometric Segment</td><td>disease3_scan | 020 | Geometric Segment</td></tr><tr><th>15</th><td>disease3</td><td>disease3_scan</td><td>21</td><td>Geometric Segment</td><td>disease3_scan | 021 | Geometric Segment</td></tr><tr><th>16</th><td>disease3</td><td>disease3_scan</td><td>22</td><td>Geometric Segment</td><td>disease3_scan | 022 | Geometric Segment</td></tr><tr><th>17</th><td>disease3</td><td>disease3_scan</td><td>23</td><td>Geometric Segment</td><td>disease3_scan | 023 | Geometric Segment</td></tr><tr><th>18</th><td>disease3</td><td>disease3_scan</td><td>24</td><td>Geometric Segment</td><td>disease3_scan | 024 | Geometric Segment</td></tr><tr><th>19</th><td>disease3</td><td>disease3_scan</td><td>25</td><td>Geometric Segment</td><td>disease3_scan | 025 | Geometric Segment</td></tr><tr><th>20</th><td>disease3</td><td>disease3_scan</td><td>26</td><td>Geometric Segment</td><td>disease3_scan | 026 | Geometric Segment</td></tr><tr><th>21</th><td>disease3</td><td>disease3_scan</td><td>27</td><td>Geometric Segment</td><td>disease3_scan | 027 | Geometric Segment</td></tr><tr><th>22</th><td>disease3</td><td>disease3_scan</td><td>28</td><td>Geometric Segment</td><td>disease3_scan | 028 | Geometric Segment</td></tr><tr><th>23</th><td>disease3</td><td>disease3_scan</td><td>29</td><td>Geometric Segment</td><td>disease3_scan | 029 | Geometric Segment</td></tr><tr><th>24</th><td>disease3</td><td>disease3_scan</td><td>30</td><td>Geometric Segment</td><td>disease3_scan | 030 | Geometric Segment</td></tr><tr><th>25</th><td>disease3</td><td>disease3_scan</td><td>31</td><td>Geometric Segment</td><td>disease3_scan | 031 | Geometric Segment</td></tr><tr><th>26</th><td>disease3</td><td>disease3_scan</td><td>32</td><td>Geometric Segment</td><td>disease3_scan | 032 | Geometric Segment</td></tr><tr><th>27</th><td>disease3</td><td>disease3_scan</td><td>33</td><td>Geometric Segment</td><td>disease3_scan | 033 | Geometric Segment</td></tr><tr><th>28</th><td>disease3</td><td>disease3_scan</td><td>34</td><td>Geometric Segment</td><td>disease3_scan | 034 | Geometric Segment</td></tr><tr><th>29</th><td>disease3</td><td>disease3_scan</td><td>35</td><td>Geometric Segment</td><td>disease3_scan | 035 | Geometric Segment</td></tr><tr><th>30</th><td>disease3</td><td>disease3_scan</td><td>36</td><td>Geometric Segment</td><td>disease3_scan | 036 | Geometric Segment</td></tr><tr><th>&vellip;</th><td>&vellip;</td><td>&vellip;</td><td>&vellip;</td><td>&vellip;</td><td>&vellip;</td></tr></tbody></table>"
      ],
      "text/latex": [
       "\\begin{tabular}{r|cccccc}\n",
       "\t& SlideName & ScanName & ROILabel & SegmentLabel & SegmentDisplayName & \\\\\n",
       "\t\\hline\n",
       "\t& String & String & Int64 & String & String & \\\\\n",
       "\t\\hline\n",
       "\t1 & disease3 & disease3\\_scan & 7 & Geometric Segment & disease3\\_scan | 007 | Geometric Segment & $\\dots$ \\\\\n",
       "\t2 & disease3 & disease3\\_scan & 8 & Geometric Segment & disease3\\_scan | 008 | Geometric Segment & $\\dots$ \\\\\n",
       "\t3 & disease3 & disease3\\_scan & 9 & Geometric Segment & disease3\\_scan | 009 | Geometric Segment & $\\dots$ \\\\\n",
       "\t4 & disease3 & disease3\\_scan & 10 & Geometric Segment & disease3\\_scan | 010 | Geometric Segment & $\\dots$ \\\\\n",
       "\t5 & disease3 & disease3\\_scan & 11 & Geometric Segment & disease3\\_scan | 011 | Geometric Segment & $\\dots$ \\\\\n",
       "\t6 & disease3 & disease3\\_scan & 12 & Geometric Segment & disease3\\_scan | 012 | Geometric Segment & $\\dots$ \\\\\n",
       "\t7 & disease3 & disease3\\_scan & 13 & Geometric Segment & disease3\\_scan | 013 | Geometric Segment & $\\dots$ \\\\\n",
       "\t8 & disease3 & disease3\\_scan & 14 & Geometric Segment & disease3\\_scan | 014 | Geometric Segment & $\\dots$ \\\\\n",
       "\t9 & disease3 & disease3\\_scan & 15 & Geometric Segment & disease3\\_scan | 015 | Geometric Segment & $\\dots$ \\\\\n",
       "\t10 & disease3 & disease3\\_scan & 16 & Geometric Segment & disease3\\_scan | 016 | Geometric Segment & $\\dots$ \\\\\n",
       "\t11 & disease3 & disease3\\_scan & 17 & Geometric Segment & disease3\\_scan | 017 | Geometric Segment & $\\dots$ \\\\\n",
       "\t12 & disease3 & disease3\\_scan & 18 & Geometric Segment & disease3\\_scan | 018 | Geometric Segment & $\\dots$ \\\\\n",
       "\t13 & disease3 & disease3\\_scan & 19 & Geometric Segment & disease3\\_scan | 019 | Geometric Segment & $\\dots$ \\\\\n",
       "\t14 & disease3 & disease3\\_scan & 20 & Geometric Segment & disease3\\_scan | 020 | Geometric Segment & $\\dots$ \\\\\n",
       "\t15 & disease3 & disease3\\_scan & 21 & Geometric Segment & disease3\\_scan | 021 | Geometric Segment & $\\dots$ \\\\\n",
       "\t16 & disease3 & disease3\\_scan & 22 & Geometric Segment & disease3\\_scan | 022 | Geometric Segment & $\\dots$ \\\\\n",
       "\t17 & disease3 & disease3\\_scan & 23 & Geometric Segment & disease3\\_scan | 023 | Geometric Segment & $\\dots$ \\\\\n",
       "\t18 & disease3 & disease3\\_scan & 24 & Geometric Segment & disease3\\_scan | 024 | Geometric Segment & $\\dots$ \\\\\n",
       "\t19 & disease3 & disease3\\_scan & 25 & Geometric Segment & disease3\\_scan | 025 | Geometric Segment & $\\dots$ \\\\\n",
       "\t20 & disease3 & disease3\\_scan & 26 & Geometric Segment & disease3\\_scan | 026 | Geometric Segment & $\\dots$ \\\\\n",
       "\t21 & disease3 & disease3\\_scan & 27 & Geometric Segment & disease3\\_scan | 027 | Geometric Segment & $\\dots$ \\\\\n",
       "\t22 & disease3 & disease3\\_scan & 28 & Geometric Segment & disease3\\_scan | 028 | Geometric Segment & $\\dots$ \\\\\n",
       "\t23 & disease3 & disease3\\_scan & 29 & Geometric Segment & disease3\\_scan | 029 | Geometric Segment & $\\dots$ \\\\\n",
       "\t24 & disease3 & disease3\\_scan & 30 & Geometric Segment & disease3\\_scan | 030 | Geometric Segment & $\\dots$ \\\\\n",
       "\t25 & disease3 & disease3\\_scan & 31 & Geometric Segment & disease3\\_scan | 031 | Geometric Segment & $\\dots$ \\\\\n",
       "\t26 & disease3 & disease3\\_scan & 32 & Geometric Segment & disease3\\_scan | 032 | Geometric Segment & $\\dots$ \\\\\n",
       "\t27 & disease3 & disease3\\_scan & 33 & Geometric Segment & disease3\\_scan | 033 | Geometric Segment & $\\dots$ \\\\\n",
       "\t28 & disease3 & disease3\\_scan & 34 & Geometric Segment & disease3\\_scan | 034 | Geometric Segment & $\\dots$ \\\\\n",
       "\t29 & disease3 & disease3\\_scan & 35 & Geometric Segment & disease3\\_scan | 035 | Geometric Segment & $\\dots$ \\\\\n",
       "\t30 & disease3 & disease3\\_scan & 36 & Geometric Segment & disease3\\_scan | 036 | Geometric Segment & $\\dots$ \\\\\n",
       "\t$\\dots$ & $\\dots$ & $\\dots$ & $\\dots$ & $\\dots$ & $\\dots$ &  \\\\\n",
       "\\end{tabular}\n"
      ],
      "text/plain": [
       "\u001b[1m231×25 DataFrame\u001b[0m\n",
       "\u001b[1m Row \u001b[0m│\u001b[1m SlideName \u001b[0m\u001b[1m ScanName       \u001b[0m\u001b[1m ROILabel \u001b[0m\u001b[1m SegmentLabel      \u001b[0m\u001b[1m SegmentDisplayN\u001b[0m ⋯\n",
       "\u001b[1m     \u001b[0m│\u001b[90m String    \u001b[0m\u001b[90m String         \u001b[0m\u001b[90m Int64    \u001b[0m\u001b[90m String            \u001b[0m\u001b[90m String         \u001b[0m ⋯\n",
       "─────┼──────────────────────────────────────────────────────────────────────────\n",
       "   1 │ disease3   disease3_scan          7  Geometric Segment  disease3_scan | ⋯\n",
       "   2 │ disease3   disease3_scan          8  Geometric Segment  disease3_scan |\n",
       "   3 │ disease3   disease3_scan          9  Geometric Segment  disease3_scan |\n",
       "   4 │ disease3   disease3_scan         10  Geometric Segment  disease3_scan |\n",
       "   5 │ disease3   disease3_scan         11  Geometric Segment  disease3_scan | ⋯\n",
       "   6 │ disease3   disease3_scan         12  Geometric Segment  disease3_scan |\n",
       "   7 │ disease3   disease3_scan         13  Geometric Segment  disease3_scan |\n",
       "   8 │ disease3   disease3_scan         14  Geometric Segment  disease3_scan |\n",
       "   9 │ disease3   disease3_scan         15  Geometric Segment  disease3_scan | ⋯\n",
       "  10 │ disease3   disease3_scan         16  Geometric Segment  disease3_scan |\n",
       "  11 │ disease3   disease3_scan         17  Geometric Segment  disease3_scan |\n",
       "  ⋮  │     ⋮            ⋮            ⋮              ⋮                          ⋱\n",
       " 222 │ disease1B  disease1B_scan         9  PanCK              disease1B_scan\n",
       " 223 │ disease1B  disease1B_scan         9  neg                disease1B_scan  ⋯\n",
       " 224 │ disease1B  disease1B_scan        10  PanCK              disease1B_scan\n",
       " 225 │ disease1B  disease1B_scan        10  neg                disease1B_scan\n",
       " 226 │ disease1B  disease1B_scan        11  PanCK              disease1B_scan\n",
       " 227 │ disease1B  disease1B_scan        11  neg                disease1B_scan  ⋯\n",
       " 228 │ disease1B  disease1B_scan        12  PanCK              disease1B_scan\n",
       " 229 │ disease1B  disease1B_scan        12  neg                disease1B_scan\n",
       " 230 │ disease1B  disease1B_scan        13  Geometric Segment  disease1B_scan\n",
       " 231 │ disease1B  disease1B_scan        14  Geometric Segment  disease1B_scan  ⋯\n",
       "\u001b[36m                                                 21 columns and 210 rows omitted\u001b[0m"
      ]
     },
     "execution_count": 91,
     "metadata": {},
     "output_type": "execute_result"
    }
   ],
   "source": [
    "features = DataFrame(CSV.File(\"data/Kidney_Sample_Annotations.txt\"))"
   ]
  },
  {
   "cell_type": "code",
   "execution_count": 92,
   "metadata": {},
   "outputs": [
    {
     "data": {
      "text/plain": [
       "25-element Vector{String}:\n",
       " \"SlideName\"\n",
       " \"ScanName\"\n",
       " \"ROILabel\"\n",
       " \"SegmentLabel\"\n",
       " \"SegmentDisplayName\"\n",
       " \"Sample_ID\"\n",
       " \"AOISurfaceArea\"\n",
       " \"AOINucleiCount\"\n",
       " \"ROICoordinateX\"\n",
       " \"ROICoordinateY\"\n",
       " \"RawReads\"\n",
       " \"TrimmedReads\"\n",
       " \"StitchedReads\"\n",
       " \"AlignedReads\"\n",
       " \"DeduplicatedReads\"\n",
       " \"SequencingSaturation\"\n",
       " \"UMIQ30\"\n",
       " \"RTSQ30\"\n",
       " \"disease_status\"\n",
       " \"pathology\"\n",
       " \"region\"\n",
       " \"LOQ\"\n",
       " \"NormalizationFactor\"\n",
       " \"RoiReportX\"\n",
       " \"RoiReportY\""
      ]
     },
     "execution_count": 92,
     "metadata": {},
     "output_type": "execute_result"
    }
   ],
   "source": [
    "names(features)"
   ]
  },
  {
   "cell_type": "code",
   "execution_count": 94,
   "metadata": {},
   "outputs": [
    {
     "data": {
      "text/plain": [
       "7-element Vector{String}:\n",
       " \"disease3_scan\"\n",
       " \"disease4_scan\"\n",
       " \"normal3_scan\"\n",
       " \"normal4_scan\"\n",
       " \"disease1B_scan\"\n",
       " \"disease2B_scan\"\n",
       " \"normal2B_scan\""
      ]
     },
     "execution_count": 94,
     "metadata": {},
     "output_type": "execute_result"
    }
   ],
   "source": [
    "unique(features.ScanName)"
   ]
  },
  {
   "cell_type": "code",
   "execution_count": 95,
   "metadata": {},
   "outputs": [
    {
     "data": {
      "text/plain": [
       "true"
      ]
     },
     "execution_count": 95,
     "metadata": {},
     "output_type": "execute_result"
    }
   ],
   "source": [
    "replace(\"DSP.1001250007851.H.A02\",\".\"=>\"-\") in features.Sample_ID"
   ]
  },
  {
   "cell_type": "code",
   "execution_count": null,
   "metadata": {},
   "outputs": [],
   "source": []
  },
  {
   "cell_type": "code",
   "execution_count": 231,
   "metadata": {},
   "outputs": [
    {
     "data": {
      "text/html": [
       "<table class=\"data-frame\"><thead><tr><th></th><th>cellGroup</th><th>DSP.1001250007851.H.A02</th><th>DSP.1001250007851.H.A03</th></tr><tr><th></th><th>String</th><th>Float64</th><th>Float64</th></tr></thead><tbody><p>17 rows × 232 columns (omitted printing of 229 columns)</p><tr><th>1</th><td>CD8 T cell</td><td>0.0</td><td>0.0</td></tr><tr><th>2</th><td>Endothelium</td><td>9.36451</td><td>7.07005</td></tr><tr><th>3</th><td>B cell</td><td>0.135515</td><td>0.37214</td></tr><tr><th>4</th><td>Distal_tubules_and_collecting_duct</td><td>0.0433893</td><td>0.0</td></tr><tr><th>5</th><td>Podocytes</td><td>1.68707</td><td>4.0284</td></tr><tr><th>6</th><td>Nephron_epithelium</td><td>1.21771</td><td>1.66347</td></tr><tr><th>7</th><td>Loop_of_Henle</td><td>3.43701</td><td>2.55098</td></tr><tr><th>8</th><td>Private</td><td>0.0</td><td>0.0</td></tr><tr><th>9</th><td>Mesangial_cells</td><td>6.99487</td><td>6.71202</td></tr><tr><th>10</th><td>MNP</td><td>1.02335</td><td>1.71035</td></tr><tr><th>11</th><td>Mast cell</td><td>0.0193634</td><td>0.00673392</td></tr><tr><th>12</th><td>NK cell</td><td>1.02036</td><td>1.2635</td></tr><tr><th>13</th><td>NKT cell</td><td>0.0</td><td>0.0</td></tr><tr><th>14</th><td>Neutrophil</td><td>0.0</td><td>0.165869</td></tr><tr><th>15</th><td>DC</td><td>0.17537</td><td>0.0967066</td></tr><tr><th>16</th><td>Proximal_tubular_cells</td><td>0.0</td><td>0.0</td></tr><tr><th>17</th><td>Th cell</td><td>0.0</td><td>0.0</td></tr></tbody></table>"
      ],
      "text/latex": [
       "\\begin{tabular}{r|cccc}\n",
       "\t& cellGroup & DSP.1001250007851.H.A02 & DSP.1001250007851.H.A03 & \\\\\n",
       "\t\\hline\n",
       "\t& String & Float64 & Float64 & \\\\\n",
       "\t\\hline\n",
       "\t1 & CD8 T cell & 0.0 & 0.0 & $\\dots$ \\\\\n",
       "\t2 & Endothelium & 9.36451 & 7.07005 & $\\dots$ \\\\\n",
       "\t3 & B cell & 0.135515 & 0.37214 & $\\dots$ \\\\\n",
       "\t4 & Distal\\_tubules\\_and\\_collecting\\_duct & 0.0433893 & 0.0 & $\\dots$ \\\\\n",
       "\t5 & Podocytes & 1.68707 & 4.0284 & $\\dots$ \\\\\n",
       "\t6 & Nephron\\_epithelium & 1.21771 & 1.66347 & $\\dots$ \\\\\n",
       "\t7 & Loop\\_of\\_Henle & 3.43701 & 2.55098 & $\\dots$ \\\\\n",
       "\t8 & Private & 0.0 & 0.0 & $\\dots$ \\\\\n",
       "\t9 & Mesangial\\_cells & 6.99487 & 6.71202 & $\\dots$ \\\\\n",
       "\t10 & MNP & 1.02335 & 1.71035 & $\\dots$ \\\\\n",
       "\t11 & Mast cell & 0.0193634 & 0.00673392 & $\\dots$ \\\\\n",
       "\t12 & NK cell & 1.02036 & 1.2635 & $\\dots$ \\\\\n",
       "\t13 & NKT cell & 0.0 & 0.0 & $\\dots$ \\\\\n",
       "\t14 & Neutrophil & 0.0 & 0.165869 & $\\dots$ \\\\\n",
       "\t15 & DC & 0.17537 & 0.0967066 & $\\dots$ \\\\\n",
       "\t16 & Proximal\\_tubular\\_cells & 0.0 & 0.0 & $\\dots$ \\\\\n",
       "\t17 & Th cell & 0.0 & 0.0 & $\\dots$ \\\\\n",
       "\\end{tabular}\n"
      ],
      "text/plain": [
       "\u001b[1m17×232 DataFrame\u001b[0m\n",
       "\u001b[1m Row \u001b[0m│\u001b[1m cellGroup                         \u001b[0m\u001b[1m DSP.1001250007851.H.A02 \u001b[0m\u001b[1m DSP.1001250\u001b[0m ⋯\n",
       "\u001b[1m     \u001b[0m│\u001b[90m String                            \u001b[0m\u001b[90m Float64                 \u001b[0m\u001b[90m Float64    \u001b[0m ⋯\n",
       "─────┼──────────────────────────────────────────────────────────────────────────\n",
       "   1 │ CD8 T cell                                       0.0                    ⋯\n",
       "   2 │ Endothelium                                      9.36451\n",
       "   3 │ B cell                                           0.135515\n",
       "   4 │ Distal_tubules_and_collecting_du…                0.0433893\n",
       "   5 │ Podocytes                                        1.68707                ⋯\n",
       "   6 │ Nephron_epithelium                               1.21771\n",
       "   7 │ Loop_of_Henle                                    3.43701\n",
       "   8 │ Private                                          0.0\n",
       "   9 │ Mesangial_cells                                  6.99487                ⋯\n",
       "  10 │ MNP                                              1.02335\n",
       "  11 │ Mast cell                                        0.0193634\n",
       "  12 │ NK cell                                          1.02036\n",
       "  13 │ NKT cell                                         0.0                    ⋯\n",
       "  14 │ Neutrophil                                       0.0\n",
       "  15 │ DC                                               0.17537\n",
       "  16 │ Proximal_tubular_cells                           0.0\n",
       "  17 │ Th cell                                          0.0                    ⋯\n",
       "\u001b[36m                                                             230 columns omitted\u001b[0m"
      ]
     },
     "execution_count": 231,
     "metadata": {},
     "output_type": "execute_result"
    }
   ],
   "source": [
    "CellTypes = DataFrame(CSV.File(\"data/Cell_Types_for_Spatial_Decon.txt\"))\n",
    "CDC = DataFrame(CSV.File(\"data/Kidney_Spatial_Decon.txt\"))\n",
    "insertcols!(CDC,  \"cellGroup\" => [CellTypes[ CellTypes.Alias .== row[1],9][1] for row in eachrow(CDC)])\n",
    "to_group = names(CDC[!, Not([\"Alias\", \"cellGroup\"])])\n",
    "newCDC = combine(groupby(CDC,\"cellGroup\"), to_group .=> sum .=> to_group)"
   ]
  },
  {
   "cell_type": "code",
   "execution_count": 194,
   "metadata": {},
   "outputs": [
    {
     "data": {
      "text/plain": [
       "\"cell_type_general\""
      ]
     },
     "execution_count": 194,
     "metadata": {},
     "output_type": "execute_result"
    }
   ],
   "source": [
    "names(CellTypes)[9]"
   ]
  },
  {
   "cell_type": "code",
   "execution_count": 228,
   "metadata": {},
   "outputs": [
    {
     "data": {
      "text/html": [
       "<table class=\"data-frame\"><thead><tr><th></th><th>cellGroup</th><th>DSP-1001250007851-H-A02</th><th>DSP-1001250007851-H-A03</th></tr><tr><th></th><th>String</th><th>Float64</th><th>Float64</th></tr></thead><tbody><p>17 rows × 232 columns (omitted printing of 229 columns)</p><tr><th>1</th><td>CD8 T cell</td><td>0.0</td><td>0.0</td></tr><tr><th>2</th><td>Endothelium</td><td>9.36451</td><td>7.07005</td></tr><tr><th>3</th><td>B cell</td><td>0.135515</td><td>0.37214</td></tr><tr><th>4</th><td>Distal_tubules_and_collecting_duct</td><td>0.0433893</td><td>0.0</td></tr><tr><th>5</th><td>Podocytes</td><td>1.68707</td><td>4.0284</td></tr><tr><th>6</th><td>Nephron_epithelium</td><td>1.21771</td><td>1.66347</td></tr><tr><th>7</th><td>Loop_of_Henle</td><td>3.43701</td><td>2.55098</td></tr><tr><th>8</th><td>Private</td><td>0.0</td><td>0.0</td></tr><tr><th>9</th><td>Mesangial_cells</td><td>6.99487</td><td>6.71202</td></tr><tr><th>10</th><td>MNP</td><td>1.02335</td><td>1.71035</td></tr><tr><th>11</th><td>Mast cell</td><td>0.0193634</td><td>0.00673392</td></tr><tr><th>12</th><td>NK cell</td><td>1.02036</td><td>1.2635</td></tr><tr><th>13</th><td>NKT cell</td><td>0.0</td><td>0.0</td></tr><tr><th>14</th><td>Neutrophil</td><td>0.0</td><td>0.165869</td></tr><tr><th>15</th><td>DC</td><td>0.17537</td><td>0.0967066</td></tr><tr><th>16</th><td>Proximal_tubular_cells</td><td>0.0</td><td>0.0</td></tr><tr><th>17</th><td>Th cell</td><td>0.0</td><td>0.0</td></tr></tbody></table>"
      ],
      "text/latex": [
       "\\begin{tabular}{r|cccc}\n",
       "\t& cellGroup & DSP-1001250007851-H-A02 & DSP-1001250007851-H-A03 & \\\\\n",
       "\t\\hline\n",
       "\t& String & Float64 & Float64 & \\\\\n",
       "\t\\hline\n",
       "\t1 & CD8 T cell & 0.0 & 0.0 & $\\dots$ \\\\\n",
       "\t2 & Endothelium & 9.36451 & 7.07005 & $\\dots$ \\\\\n",
       "\t3 & B cell & 0.135515 & 0.37214 & $\\dots$ \\\\\n",
       "\t4 & Distal\\_tubules\\_and\\_collecting\\_duct & 0.0433893 & 0.0 & $\\dots$ \\\\\n",
       "\t5 & Podocytes & 1.68707 & 4.0284 & $\\dots$ \\\\\n",
       "\t6 & Nephron\\_epithelium & 1.21771 & 1.66347 & $\\dots$ \\\\\n",
       "\t7 & Loop\\_of\\_Henle & 3.43701 & 2.55098 & $\\dots$ \\\\\n",
       "\t8 & Private & 0.0 & 0.0 & $\\dots$ \\\\\n",
       "\t9 & Mesangial\\_cells & 6.99487 & 6.71202 & $\\dots$ \\\\\n",
       "\t10 & MNP & 1.02335 & 1.71035 & $\\dots$ \\\\\n",
       "\t11 & Mast cell & 0.0193634 & 0.00673392 & $\\dots$ \\\\\n",
       "\t12 & NK cell & 1.02036 & 1.2635 & $\\dots$ \\\\\n",
       "\t13 & NKT cell & 0.0 & 0.0 & $\\dots$ \\\\\n",
       "\t14 & Neutrophil & 0.0 & 0.165869 & $\\dots$ \\\\\n",
       "\t15 & DC & 0.17537 & 0.0967066 & $\\dots$ \\\\\n",
       "\t16 & Proximal\\_tubular\\_cells & 0.0 & 0.0 & $\\dots$ \\\\\n",
       "\t17 & Th cell & 0.0 & 0.0 & $\\dots$ \\\\\n",
       "\\end{tabular}\n"
      ],
      "text/plain": [
       "\u001b[1m17×232 DataFrame\u001b[0m\n",
       "\u001b[1m Row \u001b[0m│\u001b[1m cellGroup                         \u001b[0m\u001b[1m DSP-1001250007851-H-A02 \u001b[0m\u001b[1m DSP-1001250\u001b[0m ⋯\n",
       "\u001b[1m     \u001b[0m│\u001b[90m String                            \u001b[0m\u001b[90m Float64                 \u001b[0m\u001b[90m Float64    \u001b[0m ⋯\n",
       "─────┼──────────────────────────────────────────────────────────────────────────\n",
       "   1 │ CD8 T cell                                       0.0                    ⋯\n",
       "   2 │ Endothelium                                      9.36451\n",
       "   3 │ B cell                                           0.135515\n",
       "   4 │ Distal_tubules_and_collecting_du…                0.0433893\n",
       "   5 │ Podocytes                                        1.68707                ⋯\n",
       "   6 │ Nephron_epithelium                               1.21771\n",
       "   7 │ Loop_of_Henle                                    3.43701\n",
       "   8 │ Private                                          0.0\n",
       "   9 │ Mesangial_cells                                  6.99487                ⋯\n",
       "  10 │ MNP                                              1.02335\n",
       "  11 │ Mast cell                                        0.0193634\n",
       "  12 │ NK cell                                          1.02036\n",
       "  13 │ NKT cell                                         0.0                    ⋯\n",
       "  14 │ Neutrophil                                       0.0\n",
       "  15 │ DC                                               0.17537\n",
       "  16 │ Proximal_tubular_cells                           0.0\n",
       "  17 │ Th cell                                          0.0                    ⋯\n",
       "\u001b[36m                                                             230 columns omitted\u001b[0m"
      ]
     },
     "execution_count": 228,
     "metadata": {},
     "output_type": "execute_result"
    }
   ],
   "source": []
  },
  {
   "cell_type": "code",
   "execution_count": 308,
   "metadata": {},
   "outputs": [
    {
     "data": {
      "text/plain": [
       "16-element view(::Vector{String}, 20:35) with eltype String:\n",
       " \"Immune\"\n",
       " \"Immune\"\n",
       " \"Immune\"\n",
       " \"Immune\"\n",
       " \"Immune\"\n",
       " \"Immune\"\n",
       " \"Immune\"\n",
       " \"Immune\"\n",
       " \"Immune\"\n",
       " \"Immune\"\n",
       " \"Immune\"\n",
       " \"Immune\"\n",
       " \"Immune\"\n",
       " \"Immune\"\n",
       " \"Immune\"\n",
       " \"Immune\""
      ]
     },
     "execution_count": 308,
     "metadata": {},
     "output_type": "execute_result"
    }
   ],
   "source": [
    "CellTypes[end-15:end,9].=\"Immune\""
   ]
  },
  {
   "cell_type": "code",
   "execution_count": 220,
   "metadata": {},
   "outputs": [
    {
     "data": {
      "text/html": [
       "<table class=\"data-frame\"><thead><tr><th></th><th>Alias</th><th>DSP-1001250007851-H-A02</th><th>DSP-1001250007851-H-A03</th><th>DSP-1001250007851-H-A04</th></tr><tr><th></th><th>String</th><th>Float64</th><th>Float64</th><th>Float64</th></tr></thead><tbody><p>35 rows × 233 columns (omitted printing of 229 columns)</p><tr><th>1</th><td>8T</td><td>0.0</td><td>0.0</td><td>0.0</td></tr><tr><th>2</th><td>AV1</td><td>4.5904</td><td>4.06622</td><td>5.24017</td></tr><tr><th>3</th><td>AV2</td><td>1.21088</td><td>0.430753</td><td>1.38894</td></tr><tr><th>4</th><td>B</td><td>0.135515</td><td>0.37214</td><td>0.386018</td></tr><tr><th>5</th><td>C1</td><td>0.0301434</td><td>0.0</td><td>0.0</td></tr><tr><th>6</th><td>C2</td><td>0.0</td><td>0.0</td><td>0.0</td></tr><tr><th>7</th><td>D</td><td>0.0132459</td><td>0.0</td><td>0.0</td></tr><tr><th>8</th><td>DV</td><td>3.56322</td><td>2.57307</td><td>3.92167</td></tr><tr><th>9</th><td>G</td><td>1.68707</td><td>4.0284</td><td>3.15502</td></tr><tr><th>10</th><td>GE</td><td>1.10257</td><td>1.66347</td><td>1.98834</td></tr><tr><th>11</th><td>H</td><td>0.0</td><td>0.0</td><td>0.0</td></tr><tr><th>12</th><td>IN12</td><td>0.0</td><td>0.0</td><td>0.0</td></tr><tr><th>13</th><td>IN2</td><td>0.0</td><td>0.0</td><td>0.0</td></tr><tr><th>14</th><td>IN5</td><td>0.0</td><td>0.0</td><td>0.0</td></tr><tr><th>15</th><td>M</td><td>6.99487</td><td>6.71202</td><td>7.22961</td></tr><tr><th>16</th><td>MNP1</td><td>0.203348</td><td>0.8423</td><td>0.723146</td></tr><tr><th>17</th><td>MNP2</td><td>0.36432</td><td>0.7897</td><td>0.556031</td></tr><tr><th>18</th><td>MNP3</td><td>0.455684</td><td>0.0783452</td><td>0.379343</td></tr><tr><th>19</th><td>MST</td><td>0.0193634</td><td>0.00673392</td><td>0.0130834</td></tr><tr><th>20</th><td>N1</td><td>0.0</td><td>0.0</td><td>0.0</td></tr><tr><th>21</th><td>N3</td><td>0.0</td><td>0.0</td><td>0.0</td></tr><tr><th>22</th><td>N5</td><td>0.0</td><td>0.0</td><td>0.0</td></tr><tr><th>23</th><td>N6</td><td>0.0</td><td>0.0</td><td>0.0</td></tr><tr><th>24</th><td>N8</td><td>3.43701</td><td>2.55098</td><td>2.49995</td></tr><tr><th>25</th><td>NK1</td><td>0.0</td><td>0.16957</td><td>0.0</td></tr><tr><th>26</th><td>NK2</td><td>1.02036</td><td>1.09393</td><td>1.02343</td></tr><tr><th>27</th><td>NKT1</td><td>0.0</td><td>0.0</td><td>0.0</td></tr><tr><th>28</th><td>NKT2</td><td>0.0</td><td>0.0</td><td>0.0</td></tr><tr><th>29</th><td>NP</td><td>0.0</td><td>0.165869</td><td>0.216796</td></tr><tr><th>30</th><td>P</td><td>0.115136</td><td>0.0</td><td>0.0</td></tr><tr><th>&vellip;</th><td>&vellip;</td><td>&vellip;</td><td>&vellip;</td><td>&vellip;</td></tr></tbody></table>"
      ],
      "text/latex": [
       "\\begin{tabular}{r|ccccc}\n",
       "\t& Alias & DSP-1001250007851-H-A02 & DSP-1001250007851-H-A03 & DSP-1001250007851-H-A04 & \\\\\n",
       "\t\\hline\n",
       "\t& String & Float64 & Float64 & Float64 & \\\\\n",
       "\t\\hline\n",
       "\t1 & 8T & 0.0 & 0.0 & 0.0 & $\\dots$ \\\\\n",
       "\t2 & AV1 & 4.5904 & 4.06622 & 5.24017 & $\\dots$ \\\\\n",
       "\t3 & AV2 & 1.21088 & 0.430753 & 1.38894 & $\\dots$ \\\\\n",
       "\t4 & B & 0.135515 & 0.37214 & 0.386018 & $\\dots$ \\\\\n",
       "\t5 & C1 & 0.0301434 & 0.0 & 0.0 & $\\dots$ \\\\\n",
       "\t6 & C2 & 0.0 & 0.0 & 0.0 & $\\dots$ \\\\\n",
       "\t7 & D & 0.0132459 & 0.0 & 0.0 & $\\dots$ \\\\\n",
       "\t8 & DV & 3.56322 & 2.57307 & 3.92167 & $\\dots$ \\\\\n",
       "\t9 & G & 1.68707 & 4.0284 & 3.15502 & $\\dots$ \\\\\n",
       "\t10 & GE & 1.10257 & 1.66347 & 1.98834 & $\\dots$ \\\\\n",
       "\t11 & H & 0.0 & 0.0 & 0.0 & $\\dots$ \\\\\n",
       "\t12 & IN12 & 0.0 & 0.0 & 0.0 & $\\dots$ \\\\\n",
       "\t13 & IN2 & 0.0 & 0.0 & 0.0 & $\\dots$ \\\\\n",
       "\t14 & IN5 & 0.0 & 0.0 & 0.0 & $\\dots$ \\\\\n",
       "\t15 & M & 6.99487 & 6.71202 & 7.22961 & $\\dots$ \\\\\n",
       "\t16 & MNP1 & 0.203348 & 0.8423 & 0.723146 & $\\dots$ \\\\\n",
       "\t17 & MNP2 & 0.36432 & 0.7897 & 0.556031 & $\\dots$ \\\\\n",
       "\t18 & MNP3 & 0.455684 & 0.0783452 & 0.379343 & $\\dots$ \\\\\n",
       "\t19 & MST & 0.0193634 & 0.00673392 & 0.0130834 & $\\dots$ \\\\\n",
       "\t20 & N1 & 0.0 & 0.0 & 0.0 & $\\dots$ \\\\\n",
       "\t21 & N3 & 0.0 & 0.0 & 0.0 & $\\dots$ \\\\\n",
       "\t22 & N5 & 0.0 & 0.0 & 0.0 & $\\dots$ \\\\\n",
       "\t23 & N6 & 0.0 & 0.0 & 0.0 & $\\dots$ \\\\\n",
       "\t24 & N8 & 3.43701 & 2.55098 & 2.49995 & $\\dots$ \\\\\n",
       "\t25 & NK1 & 0.0 & 0.16957 & 0.0 & $\\dots$ \\\\\n",
       "\t26 & NK2 & 1.02036 & 1.09393 & 1.02343 & $\\dots$ \\\\\n",
       "\t27 & NKT1 & 0.0 & 0.0 & 0.0 & $\\dots$ \\\\\n",
       "\t28 & NKT2 & 0.0 & 0.0 & 0.0 & $\\dots$ \\\\\n",
       "\t29 & NP & 0.0 & 0.165869 & 0.216796 & $\\dots$ \\\\\n",
       "\t30 & P & 0.115136 & 0.0 & 0.0 & $\\dots$ \\\\\n",
       "\t$\\dots$ & $\\dots$ & $\\dots$ & $\\dots$ & $\\dots$ &  \\\\\n",
       "\\end{tabular}\n"
      ],
      "text/plain": [
       "\u001b[1m35×233 DataFrame\u001b[0m\n",
       "\u001b[1m Row \u001b[0m│\u001b[1m Alias  \u001b[0m\u001b[1m DSP-1001250007851-H-A02 \u001b[0m\u001b[1m DSP-1001250007851-H-A03 \u001b[0m\u001b[1m DSP-100125000\u001b[0m ⋯\n",
       "\u001b[1m     \u001b[0m│\u001b[90m String \u001b[0m\u001b[90m Float64                 \u001b[0m\u001b[90m Float64                 \u001b[0m\u001b[90m Float64      \u001b[0m ⋯\n",
       "─────┼──────────────────────────────────────────────────────────────────────────\n",
       "   1 │ 8T                    0.0                      0.0                      ⋯\n",
       "   2 │ AV1                   4.5904                   4.06622\n",
       "   3 │ AV2                   1.21088                  0.430753\n",
       "   4 │ B                     0.135515                 0.37214\n",
       "   5 │ C1                    0.0301434                0.0                      ⋯\n",
       "   6 │ C2                    0.0                      0.0\n",
       "   7 │ D                     0.0132459                0.0\n",
       "   8 │ DV                    3.56322                  2.57307\n",
       "   9 │ G                     1.68707                  4.0284                   ⋯\n",
       "  10 │ GE                    1.10257                  1.66347\n",
       "  11 │ H                     0.0                      0.0\n",
       "  ⋮  │   ⋮                ⋮                        ⋮                        ⋮  ⋱\n",
       "  26 │ NK2                   1.02036                  1.09393\n",
       "  27 │ NKT1                  0.0                      0.0                      ⋯\n",
       "  28 │ NKT2                  0.0                      0.0\n",
       "  29 │ NP                    0.0                      0.165869\n",
       "  30 │ P                     0.115136                 0.0\n",
       "  31 │ PDC                   0.17537                  0.0967066                ⋯\n",
       "  32 │ PT1                   0.0                      0.0\n",
       "  33 │ PT2                   0.0                      0.0\n",
       "  34 │ PT3                   0.0                      0.0\n",
       "  35 │ Th                    0.0                      0.0                      ⋯\n",
       "\u001b[36m                                                 230 columns and 14 rows omitted\u001b[0m"
      ]
     },
     "execution_count": 220,
     "metadata": {},
     "output_type": "execute_result"
    }
   ],
   "source": [
    "insertcols!(CDC,  \"cellGroup\" => [CellTypes[ CellTypes.Alias .== row[1],9][1] for row in eachrow(CDC)])"
   ]
  },
  {
   "cell_type": "code",
   "execution_count": 221,
   "metadata": {},
   "outputs": [
    {
     "data": {
      "text/plain": [
       "35-element Vector{String}:\n",
       " \"CD8 T cell\"\n",
       " \"Endothelium\"\n",
       " \"Endothelium\"\n",
       " \"B cell\"\n",
       " \"Distal_tubules_and_collecting_duct\"\n",
       " \"Distal_tubules_and_collecting_duct\"\n",
       " \"Distal_tubules_and_collecting_duct\"\n",
       " \"Endothelium\"\n",
       " \"Podocytes\"\n",
       " \"Nephron_epithelium\"\n",
       " \"Loop_of_Henle\"\n",
       " \"Private\"\n",
       " \"Private\"\n",
       " ⋮\n",
       " \"Loop_of_Henle\"\n",
       " \"NK cell\"\n",
       " \"NK cell\"\n",
       " \"NKT cell\"\n",
       " \"NKT cell\"\n",
       " \"Neutrophil\"\n",
       " \"Nephron_epithelium\"\n",
       " \"DC\"\n",
       " \"Proximal_tubular_cells\"\n",
       " \"Proximal_tubular_cells\"\n",
       " \"Proximal_tubular_cells\"\n",
       " \"Th cell\""
      ]
     },
     "execution_count": 221,
     "metadata": {},
     "output_type": "execute_result"
    }
   ],
   "source": [
    "CDC.cellGroup"
   ]
  },
  {
   "cell_type": "code",
   "execution_count": 172,
   "metadata": {},
   "outputs": [
    {
     "data": {
      "text/plain": [
       "17-element Vector{BitVector}:\n",
       " [1, 0, 0, 0, 0, 0, 0, 0, 1, 0  …  0, 0, 0, 0, 0, 0, 0, 0, 0, 0]\n",
       " [0, 1, 0, 1, 0, 1, 1, 1, 0, 0  …  0, 0, 0, 0, 0, 0, 0, 0, 0, 0]\n",
       " [0, 0, 1, 0, 1, 0, 0, 0, 0, 1  …  0, 0, 0, 0, 0, 0, 0, 0, 0, 0]\n",
       " [0, 0, 0, 0, 0, 0, 0, 0, 0, 0  …  0, 0, 0, 0, 0, 0, 0, 0, 0, 0]\n",
       " [0, 0, 0, 0, 0, 0, 0, 0, 0, 0  …  0, 0, 0, 0, 0, 0, 0, 0, 0, 0]\n",
       " [0, 0, 0, 0, 0, 0, 0, 0, 0, 0  …  0, 0, 0, 0, 0, 0, 0, 0, 0, 0]\n",
       " [0, 0, 0, 0, 0, 0, 0, 0, 0, 0  …  0, 0, 0, 0, 0, 0, 0, 0, 0, 0]\n",
       " [0, 0, 0, 0, 0, 0, 0, 0, 0, 0  …  0, 0, 0, 0, 0, 0, 0, 1, 0, 0]\n",
       " [0, 0, 0, 0, 0, 0, 0, 0, 0, 0  …  0, 0, 1, 0, 0, 0, 0, 0, 0, 0]\n",
       " [0, 0, 0, 0, 0, 0, 0, 0, 0, 0  …  0, 0, 0, 0, 0, 1, 0, 0, 0, 0]\n",
       " [0, 0, 0, 0, 0, 0, 0, 0, 0, 0  …  0, 0, 0, 0, 0, 0, 0, 0, 0, 0]\n",
       " [0, 0, 0, 0, 0, 0, 0, 0, 0, 0  …  1, 1, 0, 0, 0, 0, 0, 0, 0, 0]\n",
       " [0, 0, 0, 0, 0, 0, 0, 0, 0, 0  …  0, 0, 0, 1, 0, 0, 0, 0, 0, 0]\n",
       " [0, 0, 0, 0, 0, 0, 0, 0, 0, 0  …  0, 0, 0, 0, 1, 0, 0, 0, 0, 0]\n",
       " [0, 0, 0, 0, 0, 0, 0, 0, 0, 0  …  0, 0, 0, 0, 0, 0, 1, 0, 0, 0]\n",
       " [0, 0, 0, 0, 0, 0, 0, 0, 0, 0  …  0, 0, 0, 0, 0, 0, 0, 0, 1, 0]\n",
       " [0, 0, 0, 0, 0, 0, 0, 0, 0, 0  …  0, 0, 0, 0, 0, 0, 0, 0, 0, 1]"
      ]
     },
     "execution_count": 172,
     "metadata": {},
     "output_type": "execute_result"
    }
   ],
   "source": [
    "aa=[CellTypes[!,9] .== cellGroup for cellGroup in unique(CellTypes[!,9])]"
   ]
  },
  {
   "cell_type": "code",
   "execution_count": 193,
   "metadata": {},
   "outputs": [
    {
     "data": {
      "text/plain": [
       "1×231 Matrix{Float64}:\n",
       " 1.68707  4.0284  3.15502  3.06097  …  0.0  0.0  0.0  0.756042  2.67288"
      ]
     },
     "execution_count": 193,
     "metadata": {},
     "output_type": "execute_result"
    }
   ],
   "source": [
    "sum(Matrix(CDC[aa[1],2:end]),dims=1)"
   ]
  },
  {
   "cell_type": "code",
   "execution_count": 130,
   "metadata": {},
   "outputs": [
    {
     "data": {
      "text/plain": [
       "true"
      ]
     },
     "execution_count": 130,
     "metadata": {},
     "output_type": "execute_result"
    }
   ],
   "source": [
    "([replace(name, \".\" => \"-\") for name in names(CDC)[2:end]] .== features.Sample_ID) |> all"
   ]
  },
  {
   "cell_type": "code",
   "execution_count": 131,
   "metadata": {},
   "outputs": [
    {
     "data": {
      "text/html": [
       "<table class=\"data-frame\"><thead><tr><th></th><th>Alias</th><th>DSP-1001250007851-H-A02</th><th>DSP-1001250007851-H-A03</th><th>DSP-1001250007851-H-A04</th></tr><tr><th></th><th>String</th><th>Float64</th><th>Float64</th><th>Float64</th></tr></thead><tbody><p>35 rows × 232 columns (omitted printing of 228 columns)</p><tr><th>1</th><td>8T</td><td>0.0</td><td>0.0</td><td>0.0</td></tr><tr><th>2</th><td>AV1</td><td>4.5904</td><td>4.06622</td><td>5.24017</td></tr><tr><th>3</th><td>AV2</td><td>1.21088</td><td>0.430753</td><td>1.38894</td></tr><tr><th>4</th><td>B</td><td>0.135515</td><td>0.37214</td><td>0.386018</td></tr><tr><th>5</th><td>C1</td><td>0.0301434</td><td>0.0</td><td>0.0</td></tr><tr><th>6</th><td>C2</td><td>0.0</td><td>0.0</td><td>0.0</td></tr><tr><th>7</th><td>D</td><td>0.0132459</td><td>0.0</td><td>0.0</td></tr><tr><th>8</th><td>DV</td><td>3.56322</td><td>2.57307</td><td>3.92167</td></tr><tr><th>9</th><td>G</td><td>1.68707</td><td>4.0284</td><td>3.15502</td></tr><tr><th>10</th><td>GE</td><td>1.10257</td><td>1.66347</td><td>1.98834</td></tr><tr><th>11</th><td>H</td><td>0.0</td><td>0.0</td><td>0.0</td></tr><tr><th>12</th><td>IN12</td><td>0.0</td><td>0.0</td><td>0.0</td></tr><tr><th>13</th><td>IN2</td><td>0.0</td><td>0.0</td><td>0.0</td></tr><tr><th>14</th><td>IN5</td><td>0.0</td><td>0.0</td><td>0.0</td></tr><tr><th>15</th><td>M</td><td>6.99487</td><td>6.71202</td><td>7.22961</td></tr><tr><th>16</th><td>MNP1</td><td>0.203348</td><td>0.8423</td><td>0.723146</td></tr><tr><th>17</th><td>MNP2</td><td>0.36432</td><td>0.7897</td><td>0.556031</td></tr><tr><th>18</th><td>MNP3</td><td>0.455684</td><td>0.0783452</td><td>0.379343</td></tr><tr><th>19</th><td>MST</td><td>0.0193634</td><td>0.00673392</td><td>0.0130834</td></tr><tr><th>20</th><td>N1</td><td>0.0</td><td>0.0</td><td>0.0</td></tr><tr><th>21</th><td>N3</td><td>0.0</td><td>0.0</td><td>0.0</td></tr><tr><th>22</th><td>N5</td><td>0.0</td><td>0.0</td><td>0.0</td></tr><tr><th>23</th><td>N6</td><td>0.0</td><td>0.0</td><td>0.0</td></tr><tr><th>24</th><td>N8</td><td>3.43701</td><td>2.55098</td><td>2.49995</td></tr><tr><th>25</th><td>NK1</td><td>0.0</td><td>0.16957</td><td>0.0</td></tr><tr><th>26</th><td>NK2</td><td>1.02036</td><td>1.09393</td><td>1.02343</td></tr><tr><th>27</th><td>NKT1</td><td>0.0</td><td>0.0</td><td>0.0</td></tr><tr><th>28</th><td>NKT2</td><td>0.0</td><td>0.0</td><td>0.0</td></tr><tr><th>29</th><td>NP</td><td>0.0</td><td>0.165869</td><td>0.216796</td></tr><tr><th>30</th><td>P</td><td>0.115136</td><td>0.0</td><td>0.0</td></tr><tr><th>&vellip;</th><td>&vellip;</td><td>&vellip;</td><td>&vellip;</td><td>&vellip;</td></tr></tbody></table>"
      ],
      "text/latex": [
       "\\begin{tabular}{r|ccccc}\n",
       "\t& Alias & DSP-1001250007851-H-A02 & DSP-1001250007851-H-A03 & DSP-1001250007851-H-A04 & \\\\\n",
       "\t\\hline\n",
       "\t& String & Float64 & Float64 & Float64 & \\\\\n",
       "\t\\hline\n",
       "\t1 & 8T & 0.0 & 0.0 & 0.0 & $\\dots$ \\\\\n",
       "\t2 & AV1 & 4.5904 & 4.06622 & 5.24017 & $\\dots$ \\\\\n",
       "\t3 & AV2 & 1.21088 & 0.430753 & 1.38894 & $\\dots$ \\\\\n",
       "\t4 & B & 0.135515 & 0.37214 & 0.386018 & $\\dots$ \\\\\n",
       "\t5 & C1 & 0.0301434 & 0.0 & 0.0 & $\\dots$ \\\\\n",
       "\t6 & C2 & 0.0 & 0.0 & 0.0 & $\\dots$ \\\\\n",
       "\t7 & D & 0.0132459 & 0.0 & 0.0 & $\\dots$ \\\\\n",
       "\t8 & DV & 3.56322 & 2.57307 & 3.92167 & $\\dots$ \\\\\n",
       "\t9 & G & 1.68707 & 4.0284 & 3.15502 & $\\dots$ \\\\\n",
       "\t10 & GE & 1.10257 & 1.66347 & 1.98834 & $\\dots$ \\\\\n",
       "\t11 & H & 0.0 & 0.0 & 0.0 & $\\dots$ \\\\\n",
       "\t12 & IN12 & 0.0 & 0.0 & 0.0 & $\\dots$ \\\\\n",
       "\t13 & IN2 & 0.0 & 0.0 & 0.0 & $\\dots$ \\\\\n",
       "\t14 & IN5 & 0.0 & 0.0 & 0.0 & $\\dots$ \\\\\n",
       "\t15 & M & 6.99487 & 6.71202 & 7.22961 & $\\dots$ \\\\\n",
       "\t16 & MNP1 & 0.203348 & 0.8423 & 0.723146 & $\\dots$ \\\\\n",
       "\t17 & MNP2 & 0.36432 & 0.7897 & 0.556031 & $\\dots$ \\\\\n",
       "\t18 & MNP3 & 0.455684 & 0.0783452 & 0.379343 & $\\dots$ \\\\\n",
       "\t19 & MST & 0.0193634 & 0.00673392 & 0.0130834 & $\\dots$ \\\\\n",
       "\t20 & N1 & 0.0 & 0.0 & 0.0 & $\\dots$ \\\\\n",
       "\t21 & N3 & 0.0 & 0.0 & 0.0 & $\\dots$ \\\\\n",
       "\t22 & N5 & 0.0 & 0.0 & 0.0 & $\\dots$ \\\\\n",
       "\t23 & N6 & 0.0 & 0.0 & 0.0 & $\\dots$ \\\\\n",
       "\t24 & N8 & 3.43701 & 2.55098 & 2.49995 & $\\dots$ \\\\\n",
       "\t25 & NK1 & 0.0 & 0.16957 & 0.0 & $\\dots$ \\\\\n",
       "\t26 & NK2 & 1.02036 & 1.09393 & 1.02343 & $\\dots$ \\\\\n",
       "\t27 & NKT1 & 0.0 & 0.0 & 0.0 & $\\dots$ \\\\\n",
       "\t28 & NKT2 & 0.0 & 0.0 & 0.0 & $\\dots$ \\\\\n",
       "\t29 & NP & 0.0 & 0.165869 & 0.216796 & $\\dots$ \\\\\n",
       "\t30 & P & 0.115136 & 0.0 & 0.0 & $\\dots$ \\\\\n",
       "\t$\\dots$ & $\\dots$ & $\\dots$ & $\\dots$ & $\\dots$ &  \\\\\n",
       "\\end{tabular}\n"
      ],
      "text/plain": [
       "\u001b[1m35×232 DataFrame\u001b[0m\n",
       "\u001b[1m Row \u001b[0m│\u001b[1m Alias  \u001b[0m\u001b[1m DSP-1001250007851-H-A02 \u001b[0m\u001b[1m DSP-1001250007851-H-A03 \u001b[0m\u001b[1m DSP-100125000\u001b[0m ⋯\n",
       "\u001b[1m     \u001b[0m│\u001b[90m String \u001b[0m\u001b[90m Float64                 \u001b[0m\u001b[90m Float64                 \u001b[0m\u001b[90m Float64      \u001b[0m ⋯\n",
       "─────┼──────────────────────────────────────────────────────────────────────────\n",
       "   1 │ 8T                    0.0                      0.0                      ⋯\n",
       "   2 │ AV1                   4.5904                   4.06622\n",
       "   3 │ AV2                   1.21088                  0.430753\n",
       "   4 │ B                     0.135515                 0.37214\n",
       "   5 │ C1                    0.0301434                0.0                      ⋯\n",
       "   6 │ C2                    0.0                      0.0\n",
       "   7 │ D                     0.0132459                0.0\n",
       "   8 │ DV                    3.56322                  2.57307\n",
       "   9 │ G                     1.68707                  4.0284                   ⋯\n",
       "  10 │ GE                    1.10257                  1.66347\n",
       "  11 │ H                     0.0                      0.0\n",
       "  ⋮  │   ⋮                ⋮                        ⋮                        ⋮  ⋱\n",
       "  26 │ NK2                   1.02036                  1.09393\n",
       "  27 │ NKT1                  0.0                      0.0                      ⋯\n",
       "  28 │ NKT2                  0.0                      0.0\n",
       "  29 │ NP                    0.0                      0.165869\n",
       "  30 │ P                     0.115136                 0.0\n",
       "  31 │ PDC                   0.17537                  0.0967066                ⋯\n",
       "  32 │ PT1                   0.0                      0.0\n",
       "  33 │ PT2                   0.0                      0.0\n",
       "  34 │ PT3                   0.0                      0.0\n",
       "  35 │ Th                    0.0                      0.0                      ⋯\n",
       "\u001b[36m                                                 229 columns and 14 rows omitted\u001b[0m"
      ]
     },
     "execution_count": 131,
     "metadata": {},
     "output_type": "execute_result"
    }
   ],
   "source": [
    "rename!(CDC, names(CDC)[2:end] .=> features.Sample_ID)"
   ]
  },
  {
   "cell_type": "code",
   "execution_count": 98,
   "metadata": {},
   "outputs": [
    {
     "data": {
      "text/html": [
       "<table class=\"data-frame\"><thead><tr><th></th><th>Alias</th><th>DSP.1001250007851.H.A02</th><th>DSP.1001250007851.H.A03</th><th>DSP.1001250007851.H.A04</th></tr><tr><th></th><th>String</th><th>Float64</th><th>Float64</th><th>Float64</th></tr></thead><tbody><p>35 rows × 232 columns (omitted printing of 228 columns)</p><tr><th>1</th><td>8T</td><td>0.0</td><td>0.0</td><td>0.0</td></tr><tr><th>2</th><td>AV1</td><td>4.5904</td><td>4.06622</td><td>5.24017</td></tr><tr><th>3</th><td>AV2</td><td>1.21088</td><td>0.430753</td><td>1.38894</td></tr><tr><th>4</th><td>B</td><td>0.135515</td><td>0.37214</td><td>0.386018</td></tr><tr><th>5</th><td>C1</td><td>0.0301434</td><td>0.0</td><td>0.0</td></tr><tr><th>6</th><td>C2</td><td>0.0</td><td>0.0</td><td>0.0</td></tr><tr><th>7</th><td>D</td><td>0.0132459</td><td>0.0</td><td>0.0</td></tr><tr><th>8</th><td>DV</td><td>3.56322</td><td>2.57307</td><td>3.92167</td></tr><tr><th>9</th><td>G</td><td>1.68707</td><td>4.0284</td><td>3.15502</td></tr><tr><th>10</th><td>GE</td><td>1.10257</td><td>1.66347</td><td>1.98834</td></tr><tr><th>11</th><td>H</td><td>0.0</td><td>0.0</td><td>0.0</td></tr><tr><th>12</th><td>IN12</td><td>0.0</td><td>0.0</td><td>0.0</td></tr><tr><th>13</th><td>IN2</td><td>0.0</td><td>0.0</td><td>0.0</td></tr><tr><th>14</th><td>IN5</td><td>0.0</td><td>0.0</td><td>0.0</td></tr><tr><th>15</th><td>M</td><td>6.99487</td><td>6.71202</td><td>7.22961</td></tr><tr><th>16</th><td>MNP1</td><td>0.203348</td><td>0.8423</td><td>0.723146</td></tr><tr><th>17</th><td>MNP2</td><td>0.36432</td><td>0.7897</td><td>0.556031</td></tr><tr><th>18</th><td>MNP3</td><td>0.455684</td><td>0.0783452</td><td>0.379343</td></tr><tr><th>19</th><td>MST</td><td>0.0193634</td><td>0.00673392</td><td>0.0130834</td></tr><tr><th>20</th><td>N1</td><td>0.0</td><td>0.0</td><td>0.0</td></tr><tr><th>21</th><td>N3</td><td>0.0</td><td>0.0</td><td>0.0</td></tr><tr><th>22</th><td>N5</td><td>0.0</td><td>0.0</td><td>0.0</td></tr><tr><th>23</th><td>N6</td><td>0.0</td><td>0.0</td><td>0.0</td></tr><tr><th>24</th><td>N8</td><td>3.43701</td><td>2.55098</td><td>2.49995</td></tr><tr><th>25</th><td>NK1</td><td>0.0</td><td>0.16957</td><td>0.0</td></tr><tr><th>26</th><td>NK2</td><td>1.02036</td><td>1.09393</td><td>1.02343</td></tr><tr><th>27</th><td>NKT1</td><td>0.0</td><td>0.0</td><td>0.0</td></tr><tr><th>28</th><td>NKT2</td><td>0.0</td><td>0.0</td><td>0.0</td></tr><tr><th>29</th><td>NP</td><td>0.0</td><td>0.165869</td><td>0.216796</td></tr><tr><th>30</th><td>P</td><td>0.115136</td><td>0.0</td><td>0.0</td></tr><tr><th>&vellip;</th><td>&vellip;</td><td>&vellip;</td><td>&vellip;</td><td>&vellip;</td></tr></tbody></table>"
      ],
      "text/latex": [
       "\\begin{tabular}{r|ccccc}\n",
       "\t& Alias & DSP.1001250007851.H.A02 & DSP.1001250007851.H.A03 & DSP.1001250007851.H.A04 & \\\\\n",
       "\t\\hline\n",
       "\t& String & Float64 & Float64 & Float64 & \\\\\n",
       "\t\\hline\n",
       "\t1 & 8T & 0.0 & 0.0 & 0.0 & $\\dots$ \\\\\n",
       "\t2 & AV1 & 4.5904 & 4.06622 & 5.24017 & $\\dots$ \\\\\n",
       "\t3 & AV2 & 1.21088 & 0.430753 & 1.38894 & $\\dots$ \\\\\n",
       "\t4 & B & 0.135515 & 0.37214 & 0.386018 & $\\dots$ \\\\\n",
       "\t5 & C1 & 0.0301434 & 0.0 & 0.0 & $\\dots$ \\\\\n",
       "\t6 & C2 & 0.0 & 0.0 & 0.0 & $\\dots$ \\\\\n",
       "\t7 & D & 0.0132459 & 0.0 & 0.0 & $\\dots$ \\\\\n",
       "\t8 & DV & 3.56322 & 2.57307 & 3.92167 & $\\dots$ \\\\\n",
       "\t9 & G & 1.68707 & 4.0284 & 3.15502 & $\\dots$ \\\\\n",
       "\t10 & GE & 1.10257 & 1.66347 & 1.98834 & $\\dots$ \\\\\n",
       "\t11 & H & 0.0 & 0.0 & 0.0 & $\\dots$ \\\\\n",
       "\t12 & IN12 & 0.0 & 0.0 & 0.0 & $\\dots$ \\\\\n",
       "\t13 & IN2 & 0.0 & 0.0 & 0.0 & $\\dots$ \\\\\n",
       "\t14 & IN5 & 0.0 & 0.0 & 0.0 & $\\dots$ \\\\\n",
       "\t15 & M & 6.99487 & 6.71202 & 7.22961 & $\\dots$ \\\\\n",
       "\t16 & MNP1 & 0.203348 & 0.8423 & 0.723146 & $\\dots$ \\\\\n",
       "\t17 & MNP2 & 0.36432 & 0.7897 & 0.556031 & $\\dots$ \\\\\n",
       "\t18 & MNP3 & 0.455684 & 0.0783452 & 0.379343 & $\\dots$ \\\\\n",
       "\t19 & MST & 0.0193634 & 0.00673392 & 0.0130834 & $\\dots$ \\\\\n",
       "\t20 & N1 & 0.0 & 0.0 & 0.0 & $\\dots$ \\\\\n",
       "\t21 & N3 & 0.0 & 0.0 & 0.0 & $\\dots$ \\\\\n",
       "\t22 & N5 & 0.0 & 0.0 & 0.0 & $\\dots$ \\\\\n",
       "\t23 & N6 & 0.0 & 0.0 & 0.0 & $\\dots$ \\\\\n",
       "\t24 & N8 & 3.43701 & 2.55098 & 2.49995 & $\\dots$ \\\\\n",
       "\t25 & NK1 & 0.0 & 0.16957 & 0.0 & $\\dots$ \\\\\n",
       "\t26 & NK2 & 1.02036 & 1.09393 & 1.02343 & $\\dots$ \\\\\n",
       "\t27 & NKT1 & 0.0 & 0.0 & 0.0 & $\\dots$ \\\\\n",
       "\t28 & NKT2 & 0.0 & 0.0 & 0.0 & $\\dots$ \\\\\n",
       "\t29 & NP & 0.0 & 0.165869 & 0.216796 & $\\dots$ \\\\\n",
       "\t30 & P & 0.115136 & 0.0 & 0.0 & $\\dots$ \\\\\n",
       "\t$\\dots$ & $\\dots$ & $\\dots$ & $\\dots$ & $\\dots$ &  \\\\\n",
       "\\end{tabular}\n"
      ],
      "text/plain": [
       "\u001b[1m35×232 DataFrame\u001b[0m\n",
       "\u001b[1m Row \u001b[0m│\u001b[1m Alias  \u001b[0m\u001b[1m DSP.1001250007851.H.A02 \u001b[0m\u001b[1m DSP.1001250007851.H.A03 \u001b[0m\u001b[1m DSP.100125000\u001b[0m ⋯\n",
       "\u001b[1m     \u001b[0m│\u001b[90m String \u001b[0m\u001b[90m Float64                 \u001b[0m\u001b[90m Float64                 \u001b[0m\u001b[90m Float64      \u001b[0m ⋯\n",
       "─────┼──────────────────────────────────────────────────────────────────────────\n",
       "   1 │ 8T                    0.0                      0.0                      ⋯\n",
       "   2 │ AV1                   4.5904                   4.06622\n",
       "   3 │ AV2                   1.21088                  0.430753\n",
       "   4 │ B                     0.135515                 0.37214\n",
       "   5 │ C1                    0.0301434                0.0                      ⋯\n",
       "   6 │ C2                    0.0                      0.0\n",
       "   7 │ D                     0.0132459                0.0\n",
       "   8 │ DV                    3.56322                  2.57307\n",
       "   9 │ G                     1.68707                  4.0284                   ⋯\n",
       "  10 │ GE                    1.10257                  1.66347\n",
       "  11 │ H                     0.0                      0.0\n",
       "  ⋮  │   ⋮                ⋮                        ⋮                        ⋮  ⋱\n",
       "  26 │ NK2                   1.02036                  1.09393\n",
       "  27 │ NKT1                  0.0                      0.0                      ⋯\n",
       "  28 │ NKT2                  0.0                      0.0\n",
       "  29 │ NP                    0.0                      0.165869\n",
       "  30 │ P                     0.115136                 0.0\n",
       "  31 │ PDC                   0.17537                  0.0967066                ⋯\n",
       "  32 │ PT1                   0.0                      0.0\n",
       "  33 │ PT2                   0.0                      0.0\n",
       "  34 │ PT3                   0.0                      0.0\n",
       "  35 │ Th                    0.0                      0.0                      ⋯\n",
       "\u001b[36m                                                 229 columns and 14 rows omitted\u001b[0m"
      ]
     },
     "execution_count": 98,
     "metadata": {},
     "output_type": "execute_result"
    }
   ],
   "source": [
    "CDC = DataFrame(CSV.File(\"data/Kidney_Spatial_Decon.txt\"))"
   ]
  },
  {
   "cell_type": "code",
   "execution_count": 144,
   "metadata": {},
   "outputs": [
    {
     "data": {
      "text/plain": [
       "231-element Vector{Bool}:\n",
       " 1\n",
       " 1\n",
       " 1\n",
       " 1\n",
       " 1\n",
       " 1\n",
       " 1\n",
       " 1\n",
       " 1\n",
       " 1\n",
       " 1\n",
       " 1\n",
       " 1\n",
       " ⋮\n",
       " 1\n",
       " 1\n",
       " 1\n",
       " 1\n",
       " 1\n",
       " 1\n",
       " 1\n",
       " 1\n",
       " 1\n",
       " 1\n",
       " 1\n",
       " 1"
      ]
     },
     "execution_count": 144,
     "metadata": {},
     "output_type": "execute_result"
    }
   ],
   "source": [
    "[slide in [\"disease3\", \"disease1B\"] for slide in features.SlideName]"
   ]
  },
  {
   "cell_type": "code",
   "execution_count": null,
   "metadata": {},
   "outputs": [],
   "source": [
    "mNormal = "
   ]
  },
  {
   "cell_type": "code",
   "execution_count": 232,
   "metadata": {},
   "outputs": [
    {
     "data": {
      "text/html": [
       "<table class=\"data-frame\"><thead><tr><th></th><th>SlideName</th><th>ScanName</th><th>ROILabel</th><th>SegmentLabel</th><th>SegmentDisplayName</th></tr><tr><th></th><th>String</th><th>String</th><th>Int64</th><th>String</th><th>String</th></tr></thead><tbody><p>231 rows × 27 columns (omitted printing of 22 columns)</p><tr><th>1</th><td>disease3</td><td>disease3_scan</td><td>7</td><td>Geometric Segment</td><td>disease3_scan | 007 | Geometric Segment</td></tr><tr><th>2</th><td>disease3</td><td>disease3_scan</td><td>8</td><td>Geometric Segment</td><td>disease3_scan | 008 | Geometric Segment</td></tr><tr><th>3</th><td>disease3</td><td>disease3_scan</td><td>9</td><td>Geometric Segment</td><td>disease3_scan | 009 | Geometric Segment</td></tr><tr><th>4</th><td>disease3</td><td>disease3_scan</td><td>10</td><td>Geometric Segment</td><td>disease3_scan | 010 | Geometric Segment</td></tr><tr><th>5</th><td>disease3</td><td>disease3_scan</td><td>11</td><td>Geometric Segment</td><td>disease3_scan | 011 | Geometric Segment</td></tr><tr><th>6</th><td>disease3</td><td>disease3_scan</td><td>12</td><td>Geometric Segment</td><td>disease3_scan | 012 | Geometric Segment</td></tr><tr><th>7</th><td>disease3</td><td>disease3_scan</td><td>13</td><td>Geometric Segment</td><td>disease3_scan | 013 | Geometric Segment</td></tr><tr><th>8</th><td>disease3</td><td>disease3_scan</td><td>14</td><td>Geometric Segment</td><td>disease3_scan | 014 | Geometric Segment</td></tr><tr><th>9</th><td>disease3</td><td>disease3_scan</td><td>15</td><td>Geometric Segment</td><td>disease3_scan | 015 | Geometric Segment</td></tr><tr><th>10</th><td>disease3</td><td>disease3_scan</td><td>16</td><td>Geometric Segment</td><td>disease3_scan | 016 | Geometric Segment</td></tr><tr><th>11</th><td>disease3</td><td>disease3_scan</td><td>17</td><td>Geometric Segment</td><td>disease3_scan | 017 | Geometric Segment</td></tr><tr><th>12</th><td>disease3</td><td>disease3_scan</td><td>18</td><td>Geometric Segment</td><td>disease3_scan | 018 | Geometric Segment</td></tr><tr><th>13</th><td>disease3</td><td>disease3_scan</td><td>19</td><td>Geometric Segment</td><td>disease3_scan | 019 | Geometric Segment</td></tr><tr><th>14</th><td>disease3</td><td>disease3_scan</td><td>20</td><td>Geometric Segment</td><td>disease3_scan | 020 | Geometric Segment</td></tr><tr><th>15</th><td>disease3</td><td>disease3_scan</td><td>21</td><td>Geometric Segment</td><td>disease3_scan | 021 | Geometric Segment</td></tr><tr><th>16</th><td>disease3</td><td>disease3_scan</td><td>22</td><td>Geometric Segment</td><td>disease3_scan | 022 | Geometric Segment</td></tr><tr><th>17</th><td>disease3</td><td>disease3_scan</td><td>23</td><td>Geometric Segment</td><td>disease3_scan | 023 | Geometric Segment</td></tr><tr><th>18</th><td>disease3</td><td>disease3_scan</td><td>24</td><td>Geometric Segment</td><td>disease3_scan | 024 | Geometric Segment</td></tr><tr><th>19</th><td>disease3</td><td>disease3_scan</td><td>25</td><td>Geometric Segment</td><td>disease3_scan | 025 | Geometric Segment</td></tr><tr><th>20</th><td>disease3</td><td>disease3_scan</td><td>26</td><td>Geometric Segment</td><td>disease3_scan | 026 | Geometric Segment</td></tr><tr><th>21</th><td>disease3</td><td>disease3_scan</td><td>27</td><td>Geometric Segment</td><td>disease3_scan | 027 | Geometric Segment</td></tr><tr><th>22</th><td>disease3</td><td>disease3_scan</td><td>28</td><td>Geometric Segment</td><td>disease3_scan | 028 | Geometric Segment</td></tr><tr><th>23</th><td>disease3</td><td>disease3_scan</td><td>29</td><td>Geometric Segment</td><td>disease3_scan | 029 | Geometric Segment</td></tr><tr><th>24</th><td>disease3</td><td>disease3_scan</td><td>30</td><td>Geometric Segment</td><td>disease3_scan | 030 | Geometric Segment</td></tr><tr><th>25</th><td>disease3</td><td>disease3_scan</td><td>31</td><td>Geometric Segment</td><td>disease3_scan | 031 | Geometric Segment</td></tr><tr><th>26</th><td>disease3</td><td>disease3_scan</td><td>32</td><td>Geometric Segment</td><td>disease3_scan | 032 | Geometric Segment</td></tr><tr><th>27</th><td>disease3</td><td>disease3_scan</td><td>33</td><td>Geometric Segment</td><td>disease3_scan | 033 | Geometric Segment</td></tr><tr><th>28</th><td>disease3</td><td>disease3_scan</td><td>34</td><td>Geometric Segment</td><td>disease3_scan | 034 | Geometric Segment</td></tr><tr><th>29</th><td>disease3</td><td>disease3_scan</td><td>35</td><td>Geometric Segment</td><td>disease3_scan | 035 | Geometric Segment</td></tr><tr><th>30</th><td>disease3</td><td>disease3_scan</td><td>36</td><td>Geometric Segment</td><td>disease3_scan | 036 | Geometric Segment</td></tr><tr><th>&vellip;</th><td>&vellip;</td><td>&vellip;</td><td>&vellip;</td><td>&vellip;</td><td>&vellip;</td></tr></tbody></table>"
      ],
      "text/latex": [
       "\\begin{tabular}{r|cccccc}\n",
       "\t& SlideName & ScanName & ROILabel & SegmentLabel & SegmentDisplayName & \\\\\n",
       "\t\\hline\n",
       "\t& String & String & Int64 & String & String & \\\\\n",
       "\t\\hline\n",
       "\t1 & disease3 & disease3\\_scan & 7 & Geometric Segment & disease3\\_scan | 007 | Geometric Segment & $\\dots$ \\\\\n",
       "\t2 & disease3 & disease3\\_scan & 8 & Geometric Segment & disease3\\_scan | 008 | Geometric Segment & $\\dots$ \\\\\n",
       "\t3 & disease3 & disease3\\_scan & 9 & Geometric Segment & disease3\\_scan | 009 | Geometric Segment & $\\dots$ \\\\\n",
       "\t4 & disease3 & disease3\\_scan & 10 & Geometric Segment & disease3\\_scan | 010 | Geometric Segment & $\\dots$ \\\\\n",
       "\t5 & disease3 & disease3\\_scan & 11 & Geometric Segment & disease3\\_scan | 011 | Geometric Segment & $\\dots$ \\\\\n",
       "\t6 & disease3 & disease3\\_scan & 12 & Geometric Segment & disease3\\_scan | 012 | Geometric Segment & $\\dots$ \\\\\n",
       "\t7 & disease3 & disease3\\_scan & 13 & Geometric Segment & disease3\\_scan | 013 | Geometric Segment & $\\dots$ \\\\\n",
       "\t8 & disease3 & disease3\\_scan & 14 & Geometric Segment & disease3\\_scan | 014 | Geometric Segment & $\\dots$ \\\\\n",
       "\t9 & disease3 & disease3\\_scan & 15 & Geometric Segment & disease3\\_scan | 015 | Geometric Segment & $\\dots$ \\\\\n",
       "\t10 & disease3 & disease3\\_scan & 16 & Geometric Segment & disease3\\_scan | 016 | Geometric Segment & $\\dots$ \\\\\n",
       "\t11 & disease3 & disease3\\_scan & 17 & Geometric Segment & disease3\\_scan | 017 | Geometric Segment & $\\dots$ \\\\\n",
       "\t12 & disease3 & disease3\\_scan & 18 & Geometric Segment & disease3\\_scan | 018 | Geometric Segment & $\\dots$ \\\\\n",
       "\t13 & disease3 & disease3\\_scan & 19 & Geometric Segment & disease3\\_scan | 019 | Geometric Segment & $\\dots$ \\\\\n",
       "\t14 & disease3 & disease3\\_scan & 20 & Geometric Segment & disease3\\_scan | 020 | Geometric Segment & $\\dots$ \\\\\n",
       "\t15 & disease3 & disease3\\_scan & 21 & Geometric Segment & disease3\\_scan | 021 | Geometric Segment & $\\dots$ \\\\\n",
       "\t16 & disease3 & disease3\\_scan & 22 & Geometric Segment & disease3\\_scan | 022 | Geometric Segment & $\\dots$ \\\\\n",
       "\t17 & disease3 & disease3\\_scan & 23 & Geometric Segment & disease3\\_scan | 023 | Geometric Segment & $\\dots$ \\\\\n",
       "\t18 & disease3 & disease3\\_scan & 24 & Geometric Segment & disease3\\_scan | 024 | Geometric Segment & $\\dots$ \\\\\n",
       "\t19 & disease3 & disease3\\_scan & 25 & Geometric Segment & disease3\\_scan | 025 | Geometric Segment & $\\dots$ \\\\\n",
       "\t20 & disease3 & disease3\\_scan & 26 & Geometric Segment & disease3\\_scan | 026 | Geometric Segment & $\\dots$ \\\\\n",
       "\t21 & disease3 & disease3\\_scan & 27 & Geometric Segment & disease3\\_scan | 027 | Geometric Segment & $\\dots$ \\\\\n",
       "\t22 & disease3 & disease3\\_scan & 28 & Geometric Segment & disease3\\_scan | 028 | Geometric Segment & $\\dots$ \\\\\n",
       "\t23 & disease3 & disease3\\_scan & 29 & Geometric Segment & disease3\\_scan | 029 | Geometric Segment & $\\dots$ \\\\\n",
       "\t24 & disease3 & disease3\\_scan & 30 & Geometric Segment & disease3\\_scan | 030 | Geometric Segment & $\\dots$ \\\\\n",
       "\t25 & disease3 & disease3\\_scan & 31 & Geometric Segment & disease3\\_scan | 031 | Geometric Segment & $\\dots$ \\\\\n",
       "\t26 & disease3 & disease3\\_scan & 32 & Geometric Segment & disease3\\_scan | 032 | Geometric Segment & $\\dots$ \\\\\n",
       "\t27 & disease3 & disease3\\_scan & 33 & Geometric Segment & disease3\\_scan | 033 | Geometric Segment & $\\dots$ \\\\\n",
       "\t28 & disease3 & disease3\\_scan & 34 & Geometric Segment & disease3\\_scan | 034 | Geometric Segment & $\\dots$ \\\\\n",
       "\t29 & disease3 & disease3\\_scan & 35 & Geometric Segment & disease3\\_scan | 035 | Geometric Segment & $\\dots$ \\\\\n",
       "\t30 & disease3 & disease3\\_scan & 36 & Geometric Segment & disease3\\_scan | 036 | Geometric Segment & $\\dots$ \\\\\n",
       "\t$\\dots$ & $\\dots$ & $\\dots$ & $\\dots$ & $\\dots$ & $\\dots$ &  \\\\\n",
       "\\end{tabular}\n"
      ],
      "text/plain": [
       "\u001b[1m231×27 DataFrame\u001b[0m\n",
       "\u001b[1m Row \u001b[0m│\u001b[1m SlideName \u001b[0m\u001b[1m ScanName       \u001b[0m\u001b[1m ROILabel \u001b[0m\u001b[1m SegmentLabel      \u001b[0m\u001b[1m SegmentDisplayN\u001b[0m ⋯\n",
       "\u001b[1m     \u001b[0m│\u001b[90m String    \u001b[0m\u001b[90m String         \u001b[0m\u001b[90m Int64    \u001b[0m\u001b[90m String            \u001b[0m\u001b[90m String         \u001b[0m ⋯\n",
       "─────┼──────────────────────────────────────────────────────────────────────────\n",
       "   1 │ disease3   disease3_scan          7  Geometric Segment  disease3_scan | ⋯\n",
       "   2 │ disease3   disease3_scan          8  Geometric Segment  disease3_scan |\n",
       "   3 │ disease3   disease3_scan          9  Geometric Segment  disease3_scan |\n",
       "   4 │ disease3   disease3_scan         10  Geometric Segment  disease3_scan |\n",
       "   5 │ disease3   disease3_scan         11  Geometric Segment  disease3_scan | ⋯\n",
       "   6 │ disease3   disease3_scan         12  Geometric Segment  disease3_scan |\n",
       "   7 │ disease3   disease3_scan         13  Geometric Segment  disease3_scan |\n",
       "   8 │ disease3   disease3_scan         14  Geometric Segment  disease3_scan |\n",
       "   9 │ disease3   disease3_scan         15  Geometric Segment  disease3_scan | ⋯\n",
       "  10 │ disease3   disease3_scan         16  Geometric Segment  disease3_scan |\n",
       "  11 │ disease3   disease3_scan         17  Geometric Segment  disease3_scan |\n",
       "  ⋮  │     ⋮            ⋮            ⋮              ⋮                          ⋱\n",
       " 222 │ disease1B  disease1B_scan         9  PanCK              disease1B_scan\n",
       " 223 │ disease1B  disease1B_scan         9  neg                disease1B_scan  ⋯\n",
       " 224 │ disease1B  disease1B_scan        10  PanCK              disease1B_scan\n",
       " 225 │ disease1B  disease1B_scan        10  neg                disease1B_scan\n",
       " 226 │ disease1B  disease1B_scan        11  PanCK              disease1B_scan\n",
       " 227 │ disease1B  disease1B_scan        11  neg                disease1B_scan  ⋯\n",
       " 228 │ disease1B  disease1B_scan        12  PanCK              disease1B_scan\n",
       " 229 │ disease1B  disease1B_scan        12  neg                disease1B_scan\n",
       " 230 │ disease1B  disease1B_scan        13  Geometric Segment  disease1B_scan\n",
       " 231 │ disease1B  disease1B_scan        14  Geometric Segment  disease1B_scan  ⋯\n",
       "\u001b[36m                                                 23 columns and 210 rows omitted\u001b[0m"
      ]
     },
     "execution_count": 232,
     "metadata": {},
     "output_type": "execute_result"
    }
   ],
   "source": [
    "insertcols!(features, \"barID\" =>[\"$(row[1]) | $(row[2])\" for row in eachrow( features[!,[\"ROILabel\",\"states\"]]) ])"
   ]
  },
  {
   "cell_type": "code",
   "execution_count": 100,
   "metadata": {},
   "outputs": [
    {
     "data": {
      "text/html": [
       "<table class=\"data-frame\"><thead><tr><th></th><th>TargetName</th><th>disease3_scan | 001 | PanCK</th><th>disease3_scan | 001 | neg</th><th>disease3_scan | 002 | PanCK</th></tr><tr><th></th><th>String</th><th>Float64</th><th>Float64</th><th>Float64</th></tr></thead><tbody><p>18,504 rows × 232 columns (omitted printing of 228 columns)</p><tr><th>1</th><td>PADI2</td><td>15.0</td><td>35.0</td><td>36.0</td></tr><tr><th>2</th><td>CYP24A1</td><td>23.0</td><td>32.0</td><td>23.0</td></tr><tr><th>3</th><td>SUPT16H</td><td>35.0</td><td>66.0</td><td>46.0</td></tr><tr><th>4</th><td>ZMIZ2</td><td>51.0</td><td>81.0</td><td>87.0</td></tr><tr><th>5</th><td>SPAG9</td><td>48.0</td><td>65.0</td><td>46.0</td></tr><tr><th>6</th><td>AMELX</td><td>21.0</td><td>30.0</td><td>31.0</td></tr><tr><th>7</th><td>VPS33B</td><td>44.0</td><td>55.0</td><td>32.0</td></tr><tr><th>8</th><td>DDX58</td><td>29.0</td><td>48.0</td><td>49.0</td></tr><tr><th>9</th><td>MAK</td><td>25.0</td><td>40.0</td><td>28.0</td></tr><tr><th>10</th><td>CDV3</td><td>55.0</td><td>80.0</td><td>62.0</td></tr><tr><th>11</th><td>RO60</td><td>37.0</td><td>54.0</td><td>46.0</td></tr><tr><th>12</th><td>UBE2Q1</td><td>36.0</td><td>63.0</td><td>46.0</td></tr><tr><th>13</th><td>VEGFB</td><td>47.0</td><td>71.0</td><td>62.0</td></tr><tr><th>14</th><td>METAP1D</td><td>29.0</td><td>43.0</td><td>32.0</td></tr><tr><th>15</th><td>SPANXN2</td><td>18.0</td><td>41.0</td><td>29.0</td></tr><tr><th>16</th><td>HCFC1</td><td>23.0</td><td>25.0</td><td>29.0</td></tr><tr><th>17</th><td>SGO1</td><td>27.0</td><td>50.0</td><td>19.0</td></tr><tr><th>18</th><td>ADIPOQ</td><td>33.0</td><td>68.0</td><td>42.0</td></tr><tr><th>19</th><td>OPN1SW</td><td>37.0</td><td>77.0</td><td>40.0</td></tr><tr><th>20</th><td>PALM2AKAP2</td><td>34.0</td><td>56.0</td><td>54.0</td></tr><tr><th>21</th><td>PAQR8</td><td>34.0</td><td>58.0</td><td>34.0</td></tr><tr><th>22</th><td>MT1E</td><td>56.0</td><td>80.0</td><td>37.0</td></tr><tr><th>23</th><td>SH2B3</td><td>31.0</td><td>41.0</td><td>17.0</td></tr><tr><th>24</th><td>MYB</td><td>19.0</td><td>28.0</td><td>16.0</td></tr><tr><th>25</th><td>NRDE2</td><td>46.0</td><td>61.0</td><td>44.0</td></tr><tr><th>26</th><td>CYP2C9</td><td>28.0</td><td>57.0</td><td>35.0</td></tr><tr><th>27</th><td>UBTD1</td><td>44.0</td><td>59.0</td><td>49.0</td></tr><tr><th>28</th><td>B3GAT2</td><td>19.0</td><td>66.0</td><td>33.0</td></tr><tr><th>29</th><td>CDK2AP2</td><td>81.0</td><td>139.0</td><td>90.0</td></tr><tr><th>30</th><td>AGAP3</td><td>30.0</td><td>64.0</td><td>42.0</td></tr><tr><th>&vellip;</th><td>&vellip;</td><td>&vellip;</td><td>&vellip;</td><td>&vellip;</td></tr></tbody></table>"
      ],
      "text/latex": [
       "\\begin{tabular}{r|ccccc}\n",
       "\t& TargetName & disease3\\_scan | 001 | PanCK & disease3\\_scan | 001 | neg & disease3\\_scan | 002 | PanCK & \\\\\n",
       "\t\\hline\n",
       "\t& String & Float64 & Float64 & Float64 & \\\\\n",
       "\t\\hline\n",
       "\t1 & PADI2 & 15.0 & 35.0 & 36.0 & $\\dots$ \\\\\n",
       "\t2 & CYP24A1 & 23.0 & 32.0 & 23.0 & $\\dots$ \\\\\n",
       "\t3 & SUPT16H & 35.0 & 66.0 & 46.0 & $\\dots$ \\\\\n",
       "\t4 & ZMIZ2 & 51.0 & 81.0 & 87.0 & $\\dots$ \\\\\n",
       "\t5 & SPAG9 & 48.0 & 65.0 & 46.0 & $\\dots$ \\\\\n",
       "\t6 & AMELX & 21.0 & 30.0 & 31.0 & $\\dots$ \\\\\n",
       "\t7 & VPS33B & 44.0 & 55.0 & 32.0 & $\\dots$ \\\\\n",
       "\t8 & DDX58 & 29.0 & 48.0 & 49.0 & $\\dots$ \\\\\n",
       "\t9 & MAK & 25.0 & 40.0 & 28.0 & $\\dots$ \\\\\n",
       "\t10 & CDV3 & 55.0 & 80.0 & 62.0 & $\\dots$ \\\\\n",
       "\t11 & RO60 & 37.0 & 54.0 & 46.0 & $\\dots$ \\\\\n",
       "\t12 & UBE2Q1 & 36.0 & 63.0 & 46.0 & $\\dots$ \\\\\n",
       "\t13 & VEGFB & 47.0 & 71.0 & 62.0 & $\\dots$ \\\\\n",
       "\t14 & METAP1D & 29.0 & 43.0 & 32.0 & $\\dots$ \\\\\n",
       "\t15 & SPANXN2 & 18.0 & 41.0 & 29.0 & $\\dots$ \\\\\n",
       "\t16 & HCFC1 & 23.0 & 25.0 & 29.0 & $\\dots$ \\\\\n",
       "\t17 & SGO1 & 27.0 & 50.0 & 19.0 & $\\dots$ \\\\\n",
       "\t18 & ADIPOQ & 33.0 & 68.0 & 42.0 & $\\dots$ \\\\\n",
       "\t19 & OPN1SW & 37.0 & 77.0 & 40.0 & $\\dots$ \\\\\n",
       "\t20 & PALM2AKAP2 & 34.0 & 56.0 & 54.0 & $\\dots$ \\\\\n",
       "\t21 & PAQR8 & 34.0 & 58.0 & 34.0 & $\\dots$ \\\\\n",
       "\t22 & MT1E & 56.0 & 80.0 & 37.0 & $\\dots$ \\\\\n",
       "\t23 & SH2B3 & 31.0 & 41.0 & 17.0 & $\\dots$ \\\\\n",
       "\t24 & MYB & 19.0 & 28.0 & 16.0 & $\\dots$ \\\\\n",
       "\t25 & NRDE2 & 46.0 & 61.0 & 44.0 & $\\dots$ \\\\\n",
       "\t26 & CYP2C9 & 28.0 & 57.0 & 35.0 & $\\dots$ \\\\\n",
       "\t27 & UBTD1 & 44.0 & 59.0 & 49.0 & $\\dots$ \\\\\n",
       "\t28 & B3GAT2 & 19.0 & 66.0 & 33.0 & $\\dots$ \\\\\n",
       "\t29 & CDK2AP2 & 81.0 & 139.0 & 90.0 & $\\dots$ \\\\\n",
       "\t30 & AGAP3 & 30.0 & 64.0 & 42.0 & $\\dots$ \\\\\n",
       "\t$\\dots$ & $\\dots$ & $\\dots$ & $\\dots$ & $\\dots$ &  \\\\\n",
       "\\end{tabular}\n"
      ],
      "text/plain": [
       "\u001b[1m18504×232 DataFrame\u001b[0m\n",
       "\u001b[1m   Row \u001b[0m│\u001b[1m TargetName \u001b[0m\u001b[1m disease3_scan | 001 | PanCK \u001b[0m\u001b[1m disease3_scan | 001 | neg \u001b[0m\u001b[1m d\u001b[0m ⋯\n",
       "\u001b[1m       \u001b[0m│\u001b[90m String     \u001b[0m\u001b[90m Float64                     \u001b[0m\u001b[90m Float64                   \u001b[0m\u001b[90m F\u001b[0m ⋯\n",
       "───────┼────────────────────────────────────────────────────────────────────────\n",
       "     1 │ PADI2                              15.0                       35.0    ⋯\n",
       "     2 │ CYP24A1                            23.0                       32.0\n",
       "     3 │ SUPT16H                            35.0                       66.0\n",
       "     4 │ ZMIZ2                              51.0                       81.0\n",
       "     5 │ SPAG9                              48.0                       65.0    ⋯\n",
       "     6 │ AMELX                              21.0                       30.0\n",
       "     7 │ VPS33B                             44.0                       55.0\n",
       "     8 │ DDX58                              29.0                       48.0\n",
       "     9 │ MAK                                25.0                       40.0    ⋯\n",
       "    10 │ CDV3                               55.0                       80.0\n",
       "    11 │ RO60                               37.0                       54.0\n",
       "   ⋮   │     ⋮                    ⋮                           ⋮                ⋱\n",
       " 18495 │ XAF1                               42.0                       79.0\n",
       " 18496 │ MYO5C                              36.0                       48.0    ⋯\n",
       " 18497 │ OSBPL9                             46.0                       94.0\n",
       " 18498 │ HERC3                              34.0                       44.0\n",
       " 18499 │ AMD1                               89.0                      136.0\n",
       " 18500 │ TMPRSS4                            42.0                       38.0    ⋯\n",
       " 18501 │ ATP6V0B                            90.0                      140.0\n",
       " 18502 │ DCHS1                              23.0                       59.0\n",
       " 18503 │ FAM166A                            21.0                       39.0\n",
       " 18504 │ AGTPBP1                            35.0                       47.0    ⋯\n",
       "\u001b[36m                                              229 columns and 18483 rows omitted\u001b[0m"
      ]
     },
     "execution_count": 100,
     "metadata": {},
     "output_type": "execute_result"
    }
   ],
   "source": [
    "TCM = DataFrame(CSV.File(\"data/Kidney_Raw_TargetCountMatrix.txt\"))"
   ]
  },
  {
   "cell_type": "code",
   "execution_count": 7,
   "metadata": {},
   "outputs": [
    {
     "data": {
      "text/html": [
       "<table class=\"data-frame\"><thead><tr><th></th><th>TargetName</th><th>disease3_scan | 001 | PanCK</th><th>disease3_scan | 001 | neg</th><th>disease3_scan | 002 | PanCK</th></tr><tr><th></th><th>String</th><th>Float64</th><th>Float64</th><th>Float64</th></tr></thead><tbody><p>16,084 rows × 232 columns (omitted printing of 228 columns)</p><tr><th>1</th><td>PADI2</td><td>6.01291</td><td>8.6185</td><td>11.7082</td></tr><tr><th>2</th><td>CYP24A1</td><td>9.2198</td><td>7.87978</td><td>7.48021</td></tr><tr><th>3</th><td>SUPT16H</td><td>14.0301</td><td>16.252</td><td>14.9604</td></tr><tr><th>4</th><td>ZMIZ2</td><td>20.4439</td><td>19.9457</td><td>28.2947</td></tr><tr><th>5</th><td>SPAG9</td><td>19.2413</td><td>16.0058</td><td>14.9604</td></tr><tr><th>6</th><td>AMELX</td><td>8.41807</td><td>7.38729</td><td>10.082</td></tr><tr><th>7</th><td>VPS33B</td><td>17.6379</td><td>13.5434</td><td>10.4073</td></tr><tr><th>8</th><td>DDX58</td><td>11.625</td><td>11.8197</td><td>15.9361</td></tr><tr><th>9</th><td>CDV3</td><td>22.0473</td><td>19.6994</td><td>20.164</td></tr><tr><th>10</th><td>RO60</td><td>14.8318</td><td>13.2971</td><td>14.9604</td></tr><tr><th>11</th><td>UBE2Q1</td><td>14.431</td><td>15.5133</td><td>14.9604</td></tr><tr><th>12</th><td>VEGFB</td><td>18.8405</td><td>17.4833</td><td>20.164</td></tr><tr><th>13</th><td>METAP1D</td><td>11.625</td><td>10.5884</td><td>10.4073</td></tr><tr><th>14</th><td>HCFC1</td><td>9.2198</td><td>6.15607</td><td>9.43157</td></tr><tr><th>15</th><td>ADIPOQ</td><td>13.2284</td><td>16.7445</td><td>13.6595</td></tr><tr><th>16</th><td>OPN1SW</td><td>14.8318</td><td>18.9607</td><td>13.0091</td></tr><tr><th>17</th><td>PALM2AKAP2</td><td>13.6293</td><td>13.7896</td><td>17.5622</td></tr><tr><th>18</th><td>PAQR8</td><td>13.6293</td><td>14.2821</td><td>11.0577</td></tr><tr><th>19</th><td>MT1E</td><td>22.4482</td><td>19.6994</td><td>12.0334</td></tr><tr><th>20</th><td>SH2B3</td><td>12.4267</td><td>10.096</td><td>5.52885</td></tr><tr><th>21</th><td>NRDE2</td><td>18.4396</td><td>15.0208</td><td>14.31</td></tr><tr><th>22</th><td>CYP2C9</td><td>11.2241</td><td>14.0359</td><td>11.3829</td></tr><tr><th>23</th><td>UBTD1</td><td>17.6379</td><td>14.5283</td><td>15.9361</td></tr><tr><th>24</th><td>B3GAT2</td><td>7.61635</td><td>16.252</td><td>10.7325</td></tr><tr><th>25</th><td>CDK2AP2</td><td>32.4697</td><td>34.2278</td><td>29.2704</td></tr><tr><th>26</th><td>AGAP3</td><td>12.0258</td><td>15.7596</td><td>13.6595</td></tr><tr><th>27</th><td>MROH6</td><td>7.21549</td><td>8.86475</td><td>9.7568</td></tr><tr><th>28</th><td>STRIT1</td><td>10.4224</td><td>13.2971</td><td>9.10634</td></tr><tr><th>29</th><td>FGGY</td><td>18.4396</td><td>19.4532</td><td>14.9604</td></tr><tr><th>30</th><td>CLRN3</td><td>8.01721</td><td>14.5283</td><td>14.6352</td></tr><tr><th>&vellip;</th><td>&vellip;</td><td>&vellip;</td><td>&vellip;</td><td>&vellip;</td></tr></tbody></table>"
      ],
      "text/latex": [
       "\\begin{tabular}{r|ccccc}\n",
       "\t& TargetName & disease3\\_scan | 001 | PanCK & disease3\\_scan | 001 | neg & disease3\\_scan | 002 | PanCK & \\\\\n",
       "\t\\hline\n",
       "\t& String & Float64 & Float64 & Float64 & \\\\\n",
       "\t\\hline\n",
       "\t1 & PADI2 & 6.01291 & 8.6185 & 11.7082 & $\\dots$ \\\\\n",
       "\t2 & CYP24A1 & 9.2198 & 7.87978 & 7.48021 & $\\dots$ \\\\\n",
       "\t3 & SUPT16H & 14.0301 & 16.252 & 14.9604 & $\\dots$ \\\\\n",
       "\t4 & ZMIZ2 & 20.4439 & 19.9457 & 28.2947 & $\\dots$ \\\\\n",
       "\t5 & SPAG9 & 19.2413 & 16.0058 & 14.9604 & $\\dots$ \\\\\n",
       "\t6 & AMELX & 8.41807 & 7.38729 & 10.082 & $\\dots$ \\\\\n",
       "\t7 & VPS33B & 17.6379 & 13.5434 & 10.4073 & $\\dots$ \\\\\n",
       "\t8 & DDX58 & 11.625 & 11.8197 & 15.9361 & $\\dots$ \\\\\n",
       "\t9 & CDV3 & 22.0473 & 19.6994 & 20.164 & $\\dots$ \\\\\n",
       "\t10 & RO60 & 14.8318 & 13.2971 & 14.9604 & $\\dots$ \\\\\n",
       "\t11 & UBE2Q1 & 14.431 & 15.5133 & 14.9604 & $\\dots$ \\\\\n",
       "\t12 & VEGFB & 18.8405 & 17.4833 & 20.164 & $\\dots$ \\\\\n",
       "\t13 & METAP1D & 11.625 & 10.5884 & 10.4073 & $\\dots$ \\\\\n",
       "\t14 & HCFC1 & 9.2198 & 6.15607 & 9.43157 & $\\dots$ \\\\\n",
       "\t15 & ADIPOQ & 13.2284 & 16.7445 & 13.6595 & $\\dots$ \\\\\n",
       "\t16 & OPN1SW & 14.8318 & 18.9607 & 13.0091 & $\\dots$ \\\\\n",
       "\t17 & PALM2AKAP2 & 13.6293 & 13.7896 & 17.5622 & $\\dots$ \\\\\n",
       "\t18 & PAQR8 & 13.6293 & 14.2821 & 11.0577 & $\\dots$ \\\\\n",
       "\t19 & MT1E & 22.4482 & 19.6994 & 12.0334 & $\\dots$ \\\\\n",
       "\t20 & SH2B3 & 12.4267 & 10.096 & 5.52885 & $\\dots$ \\\\\n",
       "\t21 & NRDE2 & 18.4396 & 15.0208 & 14.31 & $\\dots$ \\\\\n",
       "\t22 & CYP2C9 & 11.2241 & 14.0359 & 11.3829 & $\\dots$ \\\\\n",
       "\t23 & UBTD1 & 17.6379 & 14.5283 & 15.9361 & $\\dots$ \\\\\n",
       "\t24 & B3GAT2 & 7.61635 & 16.252 & 10.7325 & $\\dots$ \\\\\n",
       "\t25 & CDK2AP2 & 32.4697 & 34.2278 & 29.2704 & $\\dots$ \\\\\n",
       "\t26 & AGAP3 & 12.0258 & 15.7596 & 13.6595 & $\\dots$ \\\\\n",
       "\t27 & MROH6 & 7.21549 & 8.86475 & 9.7568 & $\\dots$ \\\\\n",
       "\t28 & STRIT1 & 10.4224 & 13.2971 & 9.10634 & $\\dots$ \\\\\n",
       "\t29 & FGGY & 18.4396 & 19.4532 & 14.9604 & $\\dots$ \\\\\n",
       "\t30 & CLRN3 & 8.01721 & 14.5283 & 14.6352 & $\\dots$ \\\\\n",
       "\t$\\dots$ & $\\dots$ & $\\dots$ & $\\dots$ & $\\dots$ &  \\\\\n",
       "\\end{tabular}\n"
      ],
      "text/plain": [
       "\u001b[1m16084×232 DataFrame\u001b[0m\n",
       "\u001b[1m   Row \u001b[0m│\u001b[1m TargetName \u001b[0m\u001b[1m disease3_scan | 001 | PanCK \u001b[0m\u001b[1m disease3_scan | 001 | neg \u001b[0m\u001b[1m d\u001b[0m ⋯\n",
       "\u001b[1m       \u001b[0m│\u001b[90m String     \u001b[0m\u001b[90m Float64                     \u001b[0m\u001b[90m Float64                   \u001b[0m\u001b[90m F\u001b[0m ⋯\n",
       "───────┼────────────────────────────────────────────────────────────────────────\n",
       "     1 │ PADI2                           6.01291                    8.6185     ⋯\n",
       "     2 │ CYP24A1                         9.2198                     7.87978\n",
       "     3 │ SUPT16H                        14.0301                    16.252\n",
       "     4 │ ZMIZ2                          20.4439                    19.9457\n",
       "     5 │ SPAG9                          19.2413                    16.0058     ⋯\n",
       "     6 │ AMELX                           8.41807                    7.38729\n",
       "     7 │ VPS33B                         17.6379                    13.5434\n",
       "     8 │ DDX58                          11.625                     11.8197\n",
       "     9 │ CDV3                           22.0473                    19.6994     ⋯\n",
       "    10 │ RO60                           14.8318                    13.2971\n",
       "    11 │ UBE2Q1                         14.431                     15.5133\n",
       "   ⋮   │     ⋮                    ⋮                           ⋮                ⋱\n",
       " 16075 │ SETD5                          16.8361                    17.4833\n",
       " 16076 │ XAF1                           16.8361                    19.4532     ⋯\n",
       " 16077 │ MYO5C                          14.431                     11.8197\n",
       " 16078 │ OSBPL9                         18.4396                    23.1468\n",
       " 16079 │ HERC3                          13.6293                    10.8347\n",
       " 16080 │ AMD1                           35.6766                    33.489      ⋯\n",
       " 16081 │ TMPRSS4                        16.8361                     9.35723\n",
       " 16082 │ ATP6V0B                        36.0775                    34.474\n",
       " 16083 │ DCHS1                           9.2198                    14.5283\n",
       " 16084 │ AGTPBP1                        14.0301                    11.5734     ⋯\n",
       "\u001b[36m                                              229 columns and 16063 rows omitted\u001b[0m"
      ]
     },
     "execution_count": 7,
     "metadata": {},
     "output_type": "execute_result"
    }
   ],
   "source": [
    "PCM = DataFrame(CSV.File(\"data/Kidney_Q3Norm_TargetCountMatrix.txt\"))"
   ]
  },
  {
   "cell_type": "code",
   "execution_count": 8,
   "metadata": {},
   "outputs": [
    {
     "data": {
      "text/plain": [
       "16084×231 Matrix{Float64}:\n",
       "  6.01291   8.6185   11.7082   …   4.30925  17.237    8.6185   8.6185\n",
       "  9.2198    7.87978   7.48021     12.9278    8.6185  25.8555   8.6185\n",
       " 14.0301   16.252    14.9604       4.30925  17.237    8.6185   8.6185\n",
       " 20.4439   19.9457   28.2947       8.6185   17.237   25.8555  17.237\n",
       " 19.2413   16.0058   14.9604      21.5463   34.474   51.711   17.237\n",
       "  8.41807   7.38729  10.082    …   4.30925  17.237   17.237    8.6185\n",
       " 17.6379   13.5434   10.4073       4.30925   8.6185   8.6185   8.6185\n",
       " 11.625    11.8197   15.9361      12.9278    8.6185  25.8555   8.6185\n",
       " 22.0473   19.6994   20.164        8.6185   25.8555  60.3295  51.711\n",
       " 14.8318   13.2971   14.9604       4.30925  17.237    8.6185  17.237\n",
       " 14.431    15.5133   14.9604   …  12.9278   17.237    8.6185   8.6185\n",
       " 18.8405   17.4833   20.164       17.237     8.6185   8.6185   8.6185\n",
       " 11.625    10.5884   10.4073       4.30925   8.6185  17.237    8.6185\n",
       "  ⋮                            ⋱                               ⋮\n",
       " 18.4396   16.7445   10.4073       4.30925   8.6185   8.6185   8.6185\n",
       "  9.2198   12.5584   13.6595       8.6185    8.6185  25.8555   8.6185\n",
       " 16.8361   17.4833   14.6352      17.237    43.0925  17.237    8.6185\n",
       " 16.8361   19.4532   14.31     …  21.5463    8.6185   8.6185  25.8555\n",
       " 14.431    11.8197   13.9847       8.6185    8.6185   8.6185  17.237\n",
       " 18.4396   23.1468   21.7902       8.6185   17.237    8.6185   8.6185\n",
       " 13.6293   10.8347    6.50453      4.30925   8.6185   8.6185   8.6185\n",
       " 35.6766   33.489    30.5713      17.237    25.8555  34.474   17.237\n",
       " 16.8361    9.35723  14.6352   …  12.9278   17.237   17.237    8.6185\n",
       " 36.0775   34.474    24.0668      21.5463   17.237    8.6185  17.237\n",
       "  9.2198   14.5283   12.3586       8.6185    8.6185   8.6185   8.6185\n",
       " 14.0301   11.5734   12.6838      12.9278   34.474   17.237    8.6185"
      ]
     },
     "execution_count": 8,
     "metadata": {},
     "output_type": "execute_result"
    }
   ],
   "source": [
    "M = Matrix(PCM[:,2:end])"
   ]
  },
  {
   "cell_type": "code",
   "execution_count": 9,
   "metadata": {},
   "outputs": [
    {
     "data": {
      "text/plain": [
       "16084×231 Matrix{Float64}:\n",
       " -0.572635     0.130916    0.96517    …   0.130916      0.130916\n",
       "  0.0609006   -0.119159   -0.172848       2.29625      -0.0198952\n",
       " -0.390533     0.0750558  -0.195594      -1.52451      -1.52451\n",
       " -0.419471    -0.495582    0.779878       0.407248     -0.909379\n",
       " -0.983715    -1.30961    -1.4149         2.28673      -1.18559\n",
       "  0.00936344  -0.295399    0.501327   …   2.61677       0.0686227\n",
       "  1.60162      0.571413   -0.217658      -0.66772      -0.66772\n",
       " -0.653512    -0.614887    0.201727       2.16953      -1.24993\n",
       " -0.693934    -0.931553   -0.884533       3.18043       2.30819\n",
       " -0.00624055  -0.358182    0.0232448     -1.43108       0.545309\n",
       " -0.425986    -0.227344   -0.328817   …  -1.49276      -1.49276\n",
       "  0.0135777   -0.187312    0.209494      -1.49945      -1.49945\n",
       "  0.873615     0.572578    0.519952       2.50354       0.000440403\n",
       "  ⋮                                   ⋱                 ⋮\n",
       "  2.63243      2.17797     0.47894       -0.000626416  -0.000626416\n",
       " -0.232329     0.604706    0.880774       3.93849      -0.383081\n",
       " -0.881787    -0.763186   -1.28518       -0.808317     -2.38792\n",
       " -0.202801     0.0468615  -0.443794   …  -0.986751      0.657632\n",
       "  0.488023    -0.149073    0.379151      -0.930075      1.17262\n",
       " -0.595838     0.130028   -0.0791715     -2.11027      -2.11027\n",
       "  1.11894      0.380366   -0.76405       -0.205349     -0.205349\n",
       "  0.705411     0.4702      0.156478       0.576107     -1.27725\n",
       "  1.40801      0.0726084   1.01502    …   1.47958      -0.0592955\n",
       "  0.857029     0.715061   -0.206395      -1.57418      -0.8111\n",
       " -0.604541     0.558682    0.0832451     -0.736298     -0.736298\n",
       "  0.0678966   -0.439692   -0.210265       0.730483     -1.05022"
      ]
     },
     "execution_count": 9,
     "metadata": {},
     "output_type": "execute_result"
    }
   ],
   "source": [
    "data = M\n",
    "data = (data .- mean(data,dims = 2))./ std(data,dims=2)"
   ]
  },
  {
   "cell_type": "code",
   "execution_count": null,
   "metadata": {},
   "outputs": [],
   "source": [
    "p = fit(PCA,data,maxoutdim=2)"
   ]
  },
  {
   "cell_type": "code",
   "execution_count": null,
   "metadata": {},
   "outputs": [],
   "source": [
    "P = projection(p)"
   ]
  },
  {
   "cell_type": "code",
   "execution_count": null,
   "metadata": {},
   "outputs": [],
   "source": [
    "Yte = MultivariateStats.transform(p, data) #notice that Yte[:,1] is the same as P'*(data[1,:]-mean(p))"
   ]
  },
  {
   "cell_type": "code",
   "execution_count": null,
   "metadata": {},
   "outputs": [],
   "source": [
    "   patientState = [\"DKD\", \"normal\"]\n",
    "xaxis_type = \"Linear\"\n",
    "yaxis_type = \"Linear\"\n",
    " PlotlyJS.plot(\n",
    "        M[1,features[!, \"disease_status\"] .== patientState[1]],\n",
    "        M[2,features[!, \"disease_status\"] .== patientState[1]],\n",
    "        Layout(\n",
    "            xaxis_type = xaxis_type == \"Linear\" ? \"linear\" : \"log\",\n",
    "            xaxis_title = \"pca_1\",\n",
    "            yaxis_title = \"pca_2\",\n",
    "            yaxis_type = yaxis_type == \"Linear\" ? \"linear\" : \"log\",\n",
    "            hovermode = \"closest\",\n",
    "            height = 450,\n",
    "        ),\n",
    "        kind = \"scatter\",\n",
    "        mode = \"markers\",\n",
    "        marker_size = 15,\n",
    "        marker_opacity = 0.5,\n",
    "        marker_line_width = 0.5,\n",
    "        marker_line_color = \"white\",\n",
    "\n",
    "    )"
   ]
  },
  {
   "cell_type": "code",
   "execution_count": null,
   "metadata": {},
   "outputs": [],
   "source": [
    "PlotlyJS.plot(\n",
    "        Yte[1,features[!, \"disease_status\"] .== patientState[1]],\n",
    "        Yte[2,features[!, \"disease_status\"] .== patientState[1]],\n",
    "        Layout(\n",
    "            xaxis_type = xaxis_type == \"Linear\" ? \"linear\" : \"log\",\n",
    "            xaxis_title = \"pca_1\",\n",
    "            yaxis_title = \"pca_2\",\n",
    "            yaxis_type = yaxis_type == \"Linear\" ? \"linear\" : \"log\",\n",
    "            hovermode = \"closest\",\n",
    "            height = 450,\n",
    "        ),\n",
    "        kind = \"scatter\",\n",
    "        mode = \"markers\",\n",
    "        marker_size = 15,\n",
    "        marker_opacity = 0.5,\n",
    "        marker_line_width = 0.5,\n",
    "        marker_line_color = \"white\",\n",
    ")"
   ]
  },
  {
   "cell_type": "code",
   "execution_count": null,
   "metadata": {},
   "outputs": [],
   "source": [
    "features.segmentDi"
   ]
  },
  {
   "cell_type": "code",
   "execution_count": null,
   "metadata": {},
   "outputs": [],
   "source": [
    "#To plot we need to know which points are what...\n",
    "#Preliminarily, we can use this:\n",
    "segmentDisplayNames=features[!,r\"SegmentDi.\"]"
   ]
  },
  {
   "cell_type": "code",
   "execution_count": null,
   "metadata": {},
   "outputs": [],
   "source": [
    "healthy=[!occursin(r\"disease.\",seg) for seg in segmentDisplayNames[!,1]];"
   ]
  },
  {
   "cell_type": "code",
   "execution_count": null,
   "metadata": {},
   "outputs": [],
   "source": [
    "glomeruli = [occursin(r\".Geo.\",seg) for seg in segmentDisplayNames[!,1]];\n",
    "distTub = [occursin(r\".Pan.\",seg) for seg in segmentDisplayNames[!,1]];\n",
    "proxTub = [occursin(r\".neg\",seg) for seg in segmentDisplayNames[!,1]];"
   ]
  },
  {
   "cell_type": "code",
   "execution_count": null,
   "metadata": {},
   "outputs": [],
   "source": [
    "Plots.scatter(Yte[1,healthy.& glomeruli],Yte[2,healthy.& glomeruli],color=1,label=\"Glomeruli (Healthy)\",marker=:o)\n",
    "Plots.xlabel!(\"pca component1\")\n",
    "Plots.ylabel!(\"pca component2\")\n",
    "Plots.scatter!(Yte[1,.!(healthy).& glomeruli],Yte[2,.!(healthy).& glomeruli],color=1,label=\"Glom (DKD)\",marker=:d)\n",
    "Plots.scatter!(Yte[1,healthy.& distTub],Yte[2,healthy.& distTub],color=2,label=\"Distub\",marker=:o)\n",
    "Plots.scatter!(Yte[1,.!(healthy).& distTub],Yte[2,.!(healthy).& distTub],color=2,label=:none, marker=:d)\n",
    "Plots.scatter!(Yte[1,healthy.& proxTub],Yte[2,healthy.& proxTub],color=3,label=\"Proxtub\",marker=:o)\n",
    "Plots.scatter!(Yte[1,.!(healthy).& proxTub],Yte[2,.!(healthy).& proxTub],color=3,label=:none, marker=:d)"
   ]
  },
  {
   "cell_type": "code",
   "execution_count": null,
   "metadata": {},
   "outputs": [],
   "source": [
    "a=[stat for stat in unique(features[!,\"disease_status\"])]"
   ]
  },
  {
   "cell_type": "code",
   "execution_count": null,
   "metadata": {},
   "outputs": [],
   "source": [
    "@show a"
   ]
  },
  {
   "cell_type": "code",
   "execution_count": null,
   "metadata": {},
   "outputs": [],
   "source": [
    "Plots.png(\"glomAndTubs.png\")"
   ]
  },
  {
   "cell_type": "code",
   "execution_count": null,
   "metadata": {},
   "outputs": [],
   "source": [
    "glomPath = features[!,\"pathology\"];\n",
    "glomPath = [ ismissing(x) ? \"a\" : x for x in glomPath ]"
   ]
  },
  {
   "cell_type": "code",
   "execution_count": null,
   "metadata": {},
   "outputs": [],
   "source": [
    "features.SegmentDisplayName"
   ]
  },
  {
   "cell_type": "code",
   "execution_count": null,
   "metadata": {},
   "outputs": [],
   "source": [
    "Plots.scatter(Yte[1,glomPath.==\"healthy\"],Yte[2,glomPath.==\"healthy\"],color=1,label=\"healthy Glomeruli\",marker=:o)\n",
    "Plots.xlabel!(\"pca component1\")\n",
    "Plots.ylabel!(\"pca component2\")\n",
    "Plots.scatter!(Yte[1,glomPath.==\"abnormal\"],Yte[2,glomPath.==\"abnormal\"],color=1,label=\"abnormal Glom\",marker=:x)\n"
   ]
  },
  {
   "cell_type": "code",
   "execution_count": null,
   "metadata": {},
   "outputs": [],
   "source": [
    "Plots.scatter(Yte[1, .!(healthy) .& (glomPath.==\"healthy\")],Yte[2,.!(healthy) .& (glomPath.==\"healthy\")],color=1,label=\"healthy Glomeruli(DKD)\",marker=:o)\n",
    "Plots.scatter!(Yte[1,.!(healthy) .& (glomPath.==\"abnormal\")],Yte[2,.!(healthy) .& (glomPath.==\"abnormal\")],color=1,label=\"abnormal Glom(DKD)\",marker=:x)\n",
    "\n",
    "Plots.scatter!(Yte[1, (healthy) .& (glomPath.==\"healthy\")],Yte[2,(healthy) .& (glomPath.==\"healthy\")],color=2,label=\"healthy Glomeruli(Ctrl)\",marker=:o)\n",
    "Plots.xlabel!(\"pca component1\")\n",
    "Plots.ylabel!(\"pca component2\")\n",
    "Plots.scatter!(Yte[1,(healthy) .& (glomPath.==\"abnormal\")],Yte[2,(healthy) .& (glomPath.==\"abnormal\")],color=2,label=\"abnormal Glom(Ctrl)\",marker=:x)\n"
   ]
  },
  {
   "cell_type": "code",
   "execution_count": null,
   "metadata": {},
   "outputs": [],
   "source": [
    "p = fit(PCA,data,maxoutdim=3)\n",
    "Yte = MultivariateStats.transform(p, data)\n",
    "scatter3d(Yte[1,:],Yte[2,:],Yte[3,:],legend=false)"
   ]
  },
  {
   "cell_type": "code",
   "execution_count": null,
   "metadata": {},
   "outputs": [],
   "source": [
    "scene = Makie.scatter(Yte[1,:],Yte[2,:],Yte[3,:])"
   ]
  },
  {
   "cell_type": "code",
   "execution_count": null,
   "metadata": {},
   "outputs": [],
   "source": [
    "display(scene)"
   ]
  },
  {
   "cell_type": "code",
   "execution_count": null,
   "metadata": {},
   "outputs": [],
   "source": [
    "car_origin = C[:,:Origin]\n",
    "carmap = labelmap(car_origin) #from MLBase\n",
    "uniqueids = labelencode(carmap,car_origin)"
   ]
  },
  {
   "cell_type": "code",
   "execution_count": null,
   "metadata": {},
   "outputs": [],
   "source": [
    "Plots.png(\"glomeruliDKDvsCtrl.png\")"
   ]
  },
  {
   "cell_type": "code",
   "execution_count": 11,
   "metadata": {},
   "outputs": [
    {
     "data": {
      "text/plain": [
       "7-element Vector{String}:\n",
       " \"disease3\"\n",
       " \"disease4\"\n",
       " \"normal3\"\n",
       " \"normal4\"\n",
       " \"disease1B\"\n",
       " \"disease2B\"\n",
       " \"normal2B\""
      ]
     },
     "execution_count": 11,
     "metadata": {},
     "output_type": "execute_result"
    }
   ],
   "source": [
    "patients=unique(features[!,\"SlideName\"])"
   ]
  },
  {
   "cell_type": "code",
   "execution_count": null,
   "metadata": {},
   "outputs": [],
   "source": [
    "\n",
    "\n",
    "using AbstractPlotting \n",
    "\n",
    "img = rand(100, 100)\n",
    "scene = Scene(resolution = (500, 500))\n",
    "AbstractPlotting.heatmap!(scene, img, scale_plot = false)\n",
    "clicks = Node(Point2f0[(0,0)])\n",
    "on(scene.events.mousebuttons) do buttons\n",
    "   if AbstractPlotting.ispressed(scene, Mouse.left)\n",
    "       pos = AbstractPlotting.to_world(scene, AbstractPlotting.Point2f0(scene.events.mouseposition[]))\n",
    "       clicks[] = push!(clicks[], pos)\n",
    "   end\n",
    "   return\n",
    "end\n",
    "AbstractPlotting.scatter!(scene, clicks, color = :red, marker = '+', markersize = 10)\n"
   ]
  },
  {
   "cell_type": "code",
   "execution_count": null,
   "metadata": {},
   "outputs": [],
   "source": [
    "patient = patients[1]\n",
    "patientRegions= features[!,\"SlideName\"].==patient\n",
    "healthyGlom = glomPath.==\"healthy\"\n",
    "abnormalGlom = glomPath.==\"abnormal\"\n",
    "Plots.scatter(Yte[1,patientRegions .& healthyGlom],Yte[2,patientRegions .& healthyGlom],color=1,label=\"healthy Glomeruli\",marker=:o)\n",
    "Plots.title!(patient)\n",
    "Plots.xlabel!(\"pca component1\")\n",
    "Plots.ylabel!(\"pca component2\")\n",
    "Plots.scatter!(Yte[1,patientRegions .& abnormalGlom],Yte[2,patientRegions .& abnormalGlom],color=1,label=\"abnormal Glom\",marker=:x)"
   ]
  },
  {
   "cell_type": "code",
   "execution_count": null,
   "metadata": {},
   "outputs": [],
   "source": [
    "inspectdr()"
   ]
  },
  {
   "cell_type": "code",
   "execution_count": null,
   "metadata": {},
   "outputs": [],
   "source": [
    "patient = patients[1]\n",
    "patientRegions= features[!,\"SlideName\"].==patient\n",
    "healthyGlom = glomPath.==\"healthy\"\n",
    "abnormalGlom = glomPath.==\"abnormal\"\n",
    "Plots.scatter(Yte[1,patientRegions .& healthyGlom],Yte[2,patientRegions .& healthyGlom],color=1,label=\"healthy Glomeruli\",marker=:o)\n",
    "Plots.title!(patient)\n",
    "Plots.xlabel!(\"pca component1\")\n",
    "Plots.ylabel!(\"pca component2\")\n",
    "Plots.scatter!(Yte[1,patientRegions .& abnormalGlom],Yte[2,patientRegions .& abnormalGlom],color=1,label=\"abnormal Glom\",marker=:x)"
   ]
  },
  {
   "cell_type": "code",
   "execution_count": null,
   "metadata": {},
   "outputs": [],
   "source": [
    "plotly()"
   ]
  },
  {
   "cell_type": "code",
   "execution_count": null,
   "metadata": {},
   "outputs": [],
   "source": [
    "Pkg.add.([\"Dash\", \"DashCoreComponents\", \"DashHtmlComponents\", \"DashTable\"])"
   ]
  },
  {
   "cell_type": "code",
   "execution_count": null,
   "metadata": {},
   "outputs": [],
   "source": [
    "using Pkg"
   ]
  },
  {
   "cell_type": "code",
   "execution_count": null,
   "metadata": {},
   "outputs": [],
   "source": [
    "patient = patients[1]\n",
    "patientRegions= features[!,\"SlideName\"].==patient\n",
    "healthyGlom = glomPath.==\"healthy\"\n",
    "abnormalGlom = glomPath.==\"abnormal\"\n",
    "Plots.scatter(Yte[1,patientRegions .& healthyGlom],Yte[2,patientRegions .& healthyGlom],color=1,label=\"healthy Glomeruli\",marker=:o)\n",
    "Plots.title!(patient)\n",
    "Plots.xlabel!(\"pca component1\")\n",
    "Plots.ylabel!(\"pca component2\")\n",
    "b=Plots.scatter!(Yte[1,patientRegions .& abnormalGlom],Yte[2,patientRegions .& abnormalGlom],color=1,label=\"abnormal Glom\",marker=:x)"
   ]
  },
  {
   "cell_type": "code",
   "execution_count": null,
   "metadata": {},
   "outputs": [],
   "source": []
  },
  {
   "cell_type": "code",
   "execution_count": null,
   "metadata": {},
   "outputs": [],
   "source": [
    "patient = patients[1]\n",
    "patientRegions= features[!,\"SlideName\"].==patient\n",
    "healthyGlom = glomPath.==\"healthy\"\n",
    "abnormalGlom = glomPath.==\"abnormal\"\n",
    "Plots.scatter(Yte[1,patientRegions .& healthyGlom],Yte[2,patientRegions .& healthyGlom],color=1,label=\"healthy Glomeruli\",marker=:o)\n",
    "Plots.title!(patient)\n",
    "Plots.xlabel!(\"pca component1\")\n",
    "Plots.ylabel!(\"pca component2\")\n",
    "Plots.scatter!(Yte[1,patientRegions .& abnormalGlom],Yte[2,patientRegions .& abnormalGlom],color=1,label=\"abnormal Glom\",marker=:x)"
   ]
  },
  {
   "cell_type": "code",
   "execution_count": null,
   "metadata": {},
   "outputs": [],
   "source": [
    "features[patientRegions,:]"
   ]
  },
  {
   "cell_type": "code",
   "execution_count": null,
   "metadata": {},
   "outputs": [],
   "source": [
    "#Patient by Patient plotting\n",
    "for (num,patient) in enumerate(patients)\n",
    "    patientRegions= features[!,\"SlideName\"].==patient\n",
    "    healthyGlom = glomPath.==\"healthy\"\n",
    "    abnormalGlom = glomPath.==\"abnormal\"\n",
    "    Plots.scatter!(Yte[1,patientRegions .& healthyGlom],Yte[2,patientRegions .& healthyGlom],color=num,marker=:o,legend=false)\n",
    "    Plots.title!(patient)\n",
    "    Plots.xlabel!(\"pca component1\")\n",
    "    Plots.ylabel!(\"pca component2\")\n",
    "    Plots.scatter!(Yte[1,patientRegions .& abnormalGlom],Yte[2,patientRegions .& abnormalGlom],color=num,marker=:x)\n",
    "    Plots.png(\"test.png\")\n",
    "end\n"
   ]
  },
  {
   "cell_type": "code",
   "execution_count": null,
   "metadata": {},
   "outputs": [],
   "source": [
    "names(PCM)"
   ]
  },
  {
   "cell_type": "code",
   "execution_count": null,
   "metadata": {},
   "outputs": [],
   "source": [
    "Plots.plot(PCM[!,\"normal2B_scan | 008 | PanCK\"])"
   ]
  },
  {
   "cell_type": "code",
   "execution_count": 24,
   "metadata": {},
   "outputs": [
    {
     "data": {
      "text/plain": [
       "47-element Vector{Float64}:\n",
       "  5.560325635\n",
       "  4.104049873\n",
       "  7.660893097\n",
       "  8.618504734\n",
       "  5.417345833\n",
       "  5.386565459\n",
       "  9.15716128\n",
       " 10.13941733\n",
       "  7.584284166\n",
       "  8.340488452\n",
       "  7.097592134\n",
       "  9.979321271\n",
       "  7.097592134\n",
       "  ⋮\n",
       " 10.77313092\n",
       "  2.462429924\n",
       "  8.164899222\n",
       "  8.618504734\n",
       "  8.618504734\n",
       "  7.097592134\n",
       " 13.31950732\n",
       "  8.618504734\n",
       "  8.618504734\n",
       "  8.208099747\n",
       "  7.051503873\n",
       "  3.0418252"
      ]
     },
     "execution_count": 24,
     "metadata": {},
     "output_type": "execute_result"
    }
   ],
   "source": [
    "genes=Vector(PCM[1,points[gloms,\"SegmentDisplayName\"]])"
   ]
  },
  {
   "cell_type": "code",
   "execution_count": 34,
   "metadata": {},
   "outputs": [
    {
     "name": "stderr",
     "output_type": "stream",
     "text": [
      "\u001b[32m\u001b[1m    Updating\u001b[22m\u001b[39m registry at `~/.julia/registries/General`\n",
      "\u001b[32m\u001b[1m    Updating\u001b[22m\u001b[39m git-repo `https://github.com/JuliaRegistries/General.git`\n",
      "\u001b[32m\u001b[1m   Resolving\u001b[22m\u001b[39m package versions...\n",
      "\u001b[32m\u001b[1m    Updating\u001b[22m\u001b[39m `~/.julia/environments/v1.6/Project.toml`\n",
      " \u001b[90m [a03496cd] \u001b[39m\u001b[92m+ PlotlyBase v0.4.3\u001b[39m\n",
      "\u001b[32m\u001b[1m  No Changes\u001b[22m\u001b[39m to `~/.julia/environments/v1.6/Manifest.toml`\n"
     ]
    }
   ],
   "source": [
    "using Pkg\n",
    "Pkg.add(\"PlotlyBase\")"
   ]
  },
  {
   "cell_type": "code",
   "execution_count": 39,
   "metadata": {},
   "outputs": [
    {
     "data": {
      "text/plain": [
       "\"PADI2\""
      ]
     },
     "execution_count": 39,
     "metadata": {},
     "output_type": "execute_result"
    }
   ],
   "source": [
    "selectedGene = PCM.TargetName[1]"
   ]
  },
  {
   "cell_type": "code",
   "execution_count": 47,
   "metadata": {},
   "outputs": [
    {
     "data": {
      "text/plain": [
       "47-element Vector{Float64}:\n",
       "  5.560325635\n",
       "  4.104049873\n",
       "  7.660893097\n",
       "  8.618504734\n",
       "  5.417345833\n",
       "  5.386565459\n",
       "  9.15716128\n",
       " 10.13941733\n",
       "  7.584284166\n",
       "  8.340488452\n",
       "  7.097592134\n",
       "  9.979321271\n",
       "  7.097592134\n",
       "  ⋮\n",
       " 10.77313092\n",
       "  2.462429924\n",
       "  8.164899222\n",
       "  8.618504734\n",
       "  8.618504734\n",
       "  7.097592134\n",
       " 13.31950732\n",
       "  8.618504734\n",
       "  8.618504734\n",
       "  8.208099747\n",
       "  7.051503873\n",
       "  3.0418252"
      ]
     },
     "execution_count": 47,
     "metadata": {},
     "output_type": "execute_result"
    }
   ],
   "source": [
    "ormalizedCounts = Vector(PCM[PCM[!,\"TargetName\" ] .== selectedGene,points[gloms,:].SegmentDisplayName][1,:])"
   ]
  },
  {
   "cell_type": "code",
   "execution_count": 35,
   "metadata": {},
   "outputs": [
    {
     "data": {
      "application/vnd.plotly.v1+json": {
       "data": [
        {
         "colorbar": {
          "title": ""
         },
         "legendgroup": "Tubules",
         "marker": {
          "color": "rgba(0, 154, 250, 1.000)",
          "line": {
           "color": "rgba(0, 0, 0, 1.000)",
           "width": 1
          },
          "size": 8,
          "symbol": "circle"
         },
         "mode": "markers",
         "name": "Tubules",
         "showlegend": true,
         "type": "scatter",
         "x": [
          11444,
          13064,
          14221,
          12120,
          12816,
          13075,
          13207,
          15449,
          17046,
          17029,
          12753,
          17524,
          18095,
          20972,
          22649,
          23800,
          21466,
          20836,
          20460,
          20119,
          23721,
          20794,
          24822,
          26204,
          28339,
          26277,
          29349,
          28612,
          26457,
          26588,
          26666,
          27506,
          25013,
          26261,
          27403,
          29422,
          24139,
          25666,
          23147,
          21760,
          24697,
          22825,
          29203,
          30404,
          31800,
          31869,
          32016,
          23572,
          23572,
          22404,
          22404,
          26308,
          26308,
          17325,
          17325,
          19799,
          19799,
          27423,
          27423
         ],
         "xaxis": "x",
         "y": [
          -18819,
          -20021,
          -18591,
          -17683,
          -16378,
          -14941,
          -13878,
          -18484,
          -20601,
          -22040,
          -23855,
          -30115,
          -31530,
          -31310,
          -32772,
          -34566,
          -34989,
          -35367,
          -36591,
          -37041,
          -38130,
          -39244,
          -40957,
          -41318,
          -43383,
          -44103,
          -45562,
          -46260,
          -45996,
          -46798,
          -48056,
          -53817,
          -54272,
          -54657,
          -55508,
          -57474,
          -50976,
          -49717,
          -28398,
          -28676,
          -29623,
          -30310,
          -35578,
          -35913,
          -35784,
          -38266,
          -39890,
          -39228,
          -39228,
          -47078,
          -47078,
          -51612,
          -51612,
          -23304,
          -23304,
          -24688,
          -24688,
          -57217,
          -57217
         ],
         "yaxis": "y",
         "zmax": null,
         "zmin": null
        },
        {
         "colorbar": {
          "title": ""
         },
         "legendgroup": "Gloms",
         "marker": {
          "color": "rgba(227, 111, 71, 1.000)",
          "line": {
           "color": "rgba(0, 0, 0, 1.000)",
           "width": 1
          },
          "size": 8,
          "symbol": "circle"
         },
         "mode": "markers",
         "name": "Gloms",
         "showlegend": true,
         "type": "scatter",
         "x": [
          11444,
          13064,
          14221,
          12120,
          12816,
          13075,
          13207,
          15449,
          17046,
          17029,
          12753,
          17524,
          18095,
          20972,
          22649,
          23800,
          21466,
          20836,
          20460,
          20119,
          23721,
          20794,
          24822,
          26204,
          28339,
          26277,
          29349,
          28612,
          26457,
          26588,
          26666,
          27506,
          25013,
          26261,
          27403,
          29422,
          24139,
          25666,
          23147,
          21760,
          24697,
          22825,
          29203,
          30404,
          31800,
          31869,
          32016
         ],
         "xaxis": "x",
         "y": [
          -18819,
          -20021,
          -18591,
          -17683,
          -16378,
          -14941,
          -13878,
          -18484,
          -20601,
          -22040,
          -23855,
          -30115,
          -31530,
          -31310,
          -32772,
          -34566,
          -34989,
          -35367,
          -36591,
          -37041,
          -38130,
          -39244,
          -40957,
          -41318,
          -43383,
          -44103,
          -45562,
          -46260,
          -45996,
          -46798,
          -48056,
          -53817,
          -54272,
          -54657,
          -55508,
          -57474,
          -50976,
          -49717,
          -28398,
          -28676,
          -29623,
          -30310,
          -35578,
          -35913,
          -35784,
          -38266,
          -39890
         ],
         "yaxis": "y",
         "zmax": null,
         "zmin": null
        }
       ],
       "layout": {
        "annotations": [
         {
          "font": {
           "color": "rgba(0, 0, 0, 1.000)",
           "family": "sans-serif",
           "size": 20
          },
          "rotation": 0,
          "showarrow": false,
          "text": "disease3",
          "x": 0.5444444444444446,
          "xanchor": "center",
          "xref": "paper",
          "y": 1,
          "yanchor": "top",
          "yref": "paper"
         }
        ],
        "height": 400,
        "legend": {
         "bgcolor": "rgba(255, 255, 255, 1.000)",
         "bordercolor": "rgba(0, 0, 0, 1.000)",
         "borderwidth": 1,
         "font": {
          "color": "rgba(0, 0, 0, 1.000)",
          "family": "sans-serif",
          "size": 11
         },
         "title": {
          "font": {
           "color": "rgba(0, 0, 0, 1.000)",
           "family": "sans-serif",
           "size": 15
          },
          "text": ""
         },
         "tracegroupgap": 0,
         "traceorder": "normal",
         "x": 1,
         "xanchor": "auto",
         "y": 1,
         "yanchor": "auto"
        },
        "margin": {
         "b": 20,
         "l": 0,
         "r": 0,
         "t": 20
        },
        "paper_bgcolor": "rgba(255, 255, 255, 1.000)",
        "plot_bgcolor": "rgba(255, 255, 255, 1.000)",
        "showlegend": true,
        "width": 600,
        "xaxis": {
         "anchor": "y",
         "domain": [
          0.09545056867891513,
          0.9934383202099738
         ],
         "gridcolor": "rgba(0, 0, 0, 0.100)",
         "gridwidth": 0.5,
         "linecolor": "rgba(0, 0, 0, 1.000)",
         "mirror": false,
         "range": [
          10826.84,
          32633.16
         ],
         "showgrid": true,
         "showline": true,
         "showticklabels": true,
         "tickangle": 0,
         "tickcolor": "rgb(0, 0, 0)",
         "tickfont": {
          "color": "rgba(0, 0, 0, 1.000)",
          "family": "sans-serif",
          "size": 11
         },
         "tickmode": "array",
         "ticks": "inside",
         "ticktext": [
          "1.5×10⁴",
          "2.0×10⁴",
          "2.5×10⁴",
          "3.0×10⁴"
         ],
         "tickvals": [
          15000,
          20000,
          25000,
          30000
         ],
         "title": "",
         "titlefont": {
          "color": "rgba(0, 0, 0, 1.000)",
          "family": "sans-serif",
          "size": 15
         },
         "type": "-",
         "visible": true,
         "zeroline": false,
         "zerolinecolor": "rgba(0, 0, 0, 1.000)"
        },
        "yaxis": {
         "anchor": "x",
         "domain": [
          0.03762029746281716,
          0.9415463692038496
         ],
         "gridcolor": "rgba(0, 0, 0, 0.100)",
         "gridwidth": 0.5,
         "linecolor": "rgba(0, 0, 0, 1.000)",
         "mirror": false,
         "range": [
          -58781.88,
          -12570.12
         ],
         "showgrid": true,
         "showline": true,
         "showticklabels": true,
         "tickangle": 0,
         "tickcolor": "rgb(0, 0, 0)",
         "tickfont": {
          "color": "rgba(0, 0, 0, 1.000)",
          "family": "sans-serif",
          "size": 11
         },
         "tickmode": "array",
         "ticks": "inside",
         "ticktext": [
          "-5×10⁴",
          "-4×10⁴",
          "-3×10⁴",
          "-2×10⁴"
         ],
         "tickvals": [
          -50000,
          -40000,
          -30000,
          -20000
         ],
         "title": "",
         "titlefont": {
          "color": "rgba(0, 0, 0, 1.000)",
          "family": "sans-serif",
          "size": 15
         },
         "type": "-",
         "visible": true,
         "zeroline": false,
         "zerolinecolor": "rgba(0, 0, 0, 1.000)"
        }
       }
      },
      "text/html": [
       "<!DOCTYPE html>\n",
       "<html>\n",
       "    <head>\n",
       "        <title>Plots.jl</title>\n",
       "        <meta http-equiv=\"content-type\" content=\"text/html; charset=UTF-8\">\n",
       "        \n",
       "    </head>\n",
       "    <body>\n",
       "            <div id=\"3070d7e0-7adf-43d8-8ecd-bc3617b207e0\" style=\"width:600px;height:400px;\"></div>\n",
       "    <script>\n",
       "        requirejs.config({\n",
       "        paths: {\n",
       "            Plotly: 'https://cdn.plot.ly/plotly-1.57.1.min'\n",
       "        }\n",
       "    });\n",
       "    require(['Plotly'], function (Plotly) {\n",
       "\n",
       "    PLOT = document.getElementById('3070d7e0-7adf-43d8-8ecd-bc3617b207e0');\n",
       "    Plotly.plot(PLOT, [\n",
       "    {\n",
       "        \"xaxis\": \"x\",\n",
       "        \"colorbar\": {\n",
       "            \"title\": \"\"\n",
       "        },\n",
       "        \"yaxis\": \"y\",\n",
       "        \"x\": [\n",
       "            11444.0,\n",
       "            13064.0,\n",
       "            14221.0,\n",
       "            12120.0,\n",
       "            12816.0,\n",
       "            13075.0,\n",
       "            13207.0,\n",
       "            15449.0,\n",
       "            17046.0,\n",
       "            17029.0,\n",
       "            12753.0,\n",
       "            17524.0,\n",
       "            18095.0,\n",
       "            20972.0,\n",
       "            22649.0,\n",
       "            23800.0,\n",
       "            21466.0,\n",
       "            20836.0,\n",
       "            20460.0,\n",
       "            20119.0,\n",
       "            23721.0,\n",
       "            20794.0,\n",
       "            24822.0,\n",
       "            26204.0,\n",
       "            28339.0,\n",
       "            26277.0,\n",
       "            29349.0,\n",
       "            28612.0,\n",
       "            26457.0,\n",
       "            26588.0,\n",
       "            26666.0,\n",
       "            27506.0,\n",
       "            25013.0,\n",
       "            26261.0,\n",
       "            27403.0,\n",
       "            29422.0,\n",
       "            24139.0,\n",
       "            25666.0,\n",
       "            23147.0,\n",
       "            21760.0,\n",
       "            24697.0,\n",
       "            22825.0,\n",
       "            29203.0,\n",
       "            30404.0,\n",
       "            31800.0,\n",
       "            31869.0,\n",
       "            32016.0,\n",
       "            23572.0,\n",
       "            23572.0,\n",
       "            22404.0,\n",
       "            22404.0,\n",
       "            26308.0,\n",
       "            26308.0,\n",
       "            17325.0,\n",
       "            17325.0,\n",
       "            19799.0,\n",
       "            19799.0,\n",
       "            27423.0,\n",
       "            27423.0\n",
       "        ],\n",
       "        \"showlegend\": true,\n",
       "        \"mode\": \"markers\",\n",
       "        \"name\": \"Tubules\",\n",
       "        \"zmin\": null,\n",
       "        \"legendgroup\": \"Tubules\",\n",
       "        \"marker\": {\n",
       "            \"symbol\": \"circle\",\n",
       "            \"color\": \"rgba(0, 154, 250, 1.000)\",\n",
       "            \"line\": {\n",
       "                \"color\": \"rgba(0, 0, 0, 1.000)\",\n",
       "                \"width\": 1\n",
       "            },\n",
       "            \"size\": 8\n",
       "        },\n",
       "        \"zmax\": null,\n",
       "        \"y\": [\n",
       "            -18819.0,\n",
       "            -20021.0,\n",
       "            -18591.0,\n",
       "            -17683.0,\n",
       "            -16378.0,\n",
       "            -14941.0,\n",
       "            -13878.0,\n",
       "            -18484.0,\n",
       "            -20601.0,\n",
       "            -22040.0,\n",
       "            -23855.0,\n",
       "            -30115.0,\n",
       "            -31530.0,\n",
       "            -31310.0,\n",
       "            -32772.0,\n",
       "            -34566.0,\n",
       "            -34989.0,\n",
       "            -35367.0,\n",
       "            -36591.0,\n",
       "            -37041.0,\n",
       "            -38130.0,\n",
       "            -39244.0,\n",
       "            -40957.0,\n",
       "            -41318.0,\n",
       "            -43383.0,\n",
       "            -44103.0,\n",
       "            -45562.0,\n",
       "            -46260.0,\n",
       "            -45996.0,\n",
       "            -46798.0,\n",
       "            -48056.0,\n",
       "            -53817.0,\n",
       "            -54272.0,\n",
       "            -54657.0,\n",
       "            -55508.0,\n",
       "            -57474.0,\n",
       "            -50976.0,\n",
       "            -49717.0,\n",
       "            -28398.0,\n",
       "            -28676.0,\n",
       "            -29623.0,\n",
       "            -30310.0,\n",
       "            -35578.0,\n",
       "            -35913.0,\n",
       "            -35784.0,\n",
       "            -38266.0,\n",
       "            -39890.0,\n",
       "            -39228.0,\n",
       "            -39228.0,\n",
       "            -47078.0,\n",
       "            -47078.0,\n",
       "            -51612.0,\n",
       "            -51612.0,\n",
       "            -23304.0,\n",
       "            -23304.0,\n",
       "            -24688.0,\n",
       "            -24688.0,\n",
       "            -57217.0,\n",
       "            -57217.0\n",
       "        ],\n",
       "        \"type\": \"scatter\"\n",
       "    },\n",
       "    {\n",
       "        \"xaxis\": \"x\",\n",
       "        \"colorbar\": {\n",
       "            \"title\": \"\"\n",
       "        },\n",
       "        \"yaxis\": \"y\",\n",
       "        \"x\": [\n",
       "            11444.0,\n",
       "            13064.0,\n",
       "            14221.0,\n",
       "            12120.0,\n",
       "            12816.0,\n",
       "            13075.0,\n",
       "            13207.0,\n",
       "            15449.0,\n",
       "            17046.0,\n",
       "            17029.0,\n",
       "            12753.0,\n",
       "            17524.0,\n",
       "            18095.0,\n",
       "            20972.0,\n",
       "            22649.0,\n",
       "            23800.0,\n",
       "            21466.0,\n",
       "            20836.0,\n",
       "            20460.0,\n",
       "            20119.0,\n",
       "            23721.0,\n",
       "            20794.0,\n",
       "            24822.0,\n",
       "            26204.0,\n",
       "            28339.0,\n",
       "            26277.0,\n",
       "            29349.0,\n",
       "            28612.0,\n",
       "            26457.0,\n",
       "            26588.0,\n",
       "            26666.0,\n",
       "            27506.0,\n",
       "            25013.0,\n",
       "            26261.0,\n",
       "            27403.0,\n",
       "            29422.0,\n",
       "            24139.0,\n",
       "            25666.0,\n",
       "            23147.0,\n",
       "            21760.0,\n",
       "            24697.0,\n",
       "            22825.0,\n",
       "            29203.0,\n",
       "            30404.0,\n",
       "            31800.0,\n",
       "            31869.0,\n",
       "            32016.0\n",
       "        ],\n",
       "        \"showlegend\": true,\n",
       "        \"mode\": \"markers\",\n",
       "        \"name\": \"Gloms\",\n",
       "        \"zmin\": null,\n",
       "        \"legendgroup\": \"Gloms\",\n",
       "        \"marker\": {\n",
       "            \"symbol\": \"circle\",\n",
       "            \"color\": \"rgba(227, 111, 71, 1.000)\",\n",
       "            \"line\": {\n",
       "                \"color\": \"rgba(0, 0, 0, 1.000)\",\n",
       "                \"width\": 1\n",
       "            },\n",
       "            \"size\": 8\n",
       "        },\n",
       "        \"zmax\": null,\n",
       "        \"y\": [\n",
       "            -18819.0,\n",
       "            -20021.0,\n",
       "            -18591.0,\n",
       "            -17683.0,\n",
       "            -16378.0,\n",
       "            -14941.0,\n",
       "            -13878.0,\n",
       "            -18484.0,\n",
       "            -20601.0,\n",
       "            -22040.0,\n",
       "            -23855.0,\n",
       "            -30115.0,\n",
       "            -31530.0,\n",
       "            -31310.0,\n",
       "            -32772.0,\n",
       "            -34566.0,\n",
       "            -34989.0,\n",
       "            -35367.0,\n",
       "            -36591.0,\n",
       "            -37041.0,\n",
       "            -38130.0,\n",
       "            -39244.0,\n",
       "            -40957.0,\n",
       "            -41318.0,\n",
       "            -43383.0,\n",
       "            -44103.0,\n",
       "            -45562.0,\n",
       "            -46260.0,\n",
       "            -45996.0,\n",
       "            -46798.0,\n",
       "            -48056.0,\n",
       "            -53817.0,\n",
       "            -54272.0,\n",
       "            -54657.0,\n",
       "            -55508.0,\n",
       "            -57474.0,\n",
       "            -50976.0,\n",
       "            -49717.0,\n",
       "            -28398.0,\n",
       "            -28676.0,\n",
       "            -29623.0,\n",
       "            -30310.0,\n",
       "            -35578.0,\n",
       "            -35913.0,\n",
       "            -35784.0,\n",
       "            -38266.0,\n",
       "            -39890.0\n",
       "        ],\n",
       "        \"type\": \"scatter\"\n",
       "    }\n",
       "]\n",
       ", {\n",
       "    \"showlegend\": true,\n",
       "    \"xaxis\": {\n",
       "        \"showticklabels\": true,\n",
       "        \"gridwidth\": 0.5,\n",
       "        \"tickvals\": [\n",
       "            15000.0,\n",
       "            20000.0,\n",
       "            25000.0,\n",
       "            30000.0\n",
       "        ],\n",
       "        \"range\": [\n",
       "            10826.84,\n",
       "            32633.16\n",
       "        ],\n",
       "        \"domain\": [\n",
       "            0.09545056867891513,\n",
       "            0.9934383202099738\n",
       "        ],\n",
       "        \"mirror\": false,\n",
       "        \"tickangle\": 0,\n",
       "        \"showline\": true,\n",
       "        \"ticktext\": [\n",
       "            \"1.5×10⁴\",\n",
       "            \"2.0×10⁴\",\n",
       "            \"2.5×10⁴\",\n",
       "            \"3.0×10⁴\"\n",
       "        ],\n",
       "        \"zeroline\": false,\n",
       "        \"tickfont\": {\n",
       "            \"color\": \"rgba(0, 0, 0, 1.000)\",\n",
       "            \"family\": \"sans-serif\",\n",
       "            \"size\": 11\n",
       "        },\n",
       "        \"zerolinecolor\": \"rgba(0, 0, 0, 1.000)\",\n",
       "        \"anchor\": \"y\",\n",
       "        \"visible\": true,\n",
       "        \"ticks\": \"inside\",\n",
       "        \"tickmode\": \"array\",\n",
       "        \"linecolor\": \"rgba(0, 0, 0, 1.000)\",\n",
       "        \"showgrid\": true,\n",
       "        \"title\": \"\",\n",
       "        \"gridcolor\": \"rgba(0, 0, 0, 0.100)\",\n",
       "        \"titlefont\": {\n",
       "            \"color\": \"rgba(0, 0, 0, 1.000)\",\n",
       "            \"family\": \"sans-serif\",\n",
       "            \"size\": 15\n",
       "        },\n",
       "        \"tickcolor\": \"rgb(0, 0, 0)\",\n",
       "        \"type\": \"-\"\n",
       "    },\n",
       "    \"paper_bgcolor\": \"rgba(255, 255, 255, 1.000)\",\n",
       "    \"annotations\": [\n",
       "        {\n",
       "            \"yanchor\": \"top\",\n",
       "            \"xanchor\": \"center\",\n",
       "            \"rotation\": -0.0,\n",
       "            \"y\": 1.0,\n",
       "            \"font\": {\n",
       "                \"color\": \"rgba(0, 0, 0, 1.000)\",\n",
       "                \"family\": \"sans-serif\",\n",
       "                \"size\": 20\n",
       "            },\n",
       "            \"yref\": \"paper\",\n",
       "            \"showarrow\": false,\n",
       "            \"text\": \"disease3\",\n",
       "            \"xref\": \"paper\",\n",
       "            \"x\": 0.5444444444444446\n",
       "        }\n",
       "    ],\n",
       "    \"height\": 400,\n",
       "    \"margin\": {\n",
       "        \"l\": 0,\n",
       "        \"b\": 20,\n",
       "        \"r\": 0,\n",
       "        \"t\": 20\n",
       "    },\n",
       "    \"plot_bgcolor\": \"rgba(255, 255, 255, 1.000)\",\n",
       "    \"yaxis\": {\n",
       "        \"showticklabels\": true,\n",
       "        \"gridwidth\": 0.5,\n",
       "        \"tickvals\": [\n",
       "            -50000.0,\n",
       "            -40000.0,\n",
       "            -30000.0,\n",
       "            -20000.0\n",
       "        ],\n",
       "        \"range\": [\n",
       "            -58781.88,\n",
       "            -12570.12\n",
       "        ],\n",
       "        \"domain\": [\n",
       "            0.03762029746281716,\n",
       "            0.9415463692038496\n",
       "        ],\n",
       "        \"mirror\": false,\n",
       "        \"tickangle\": 0,\n",
       "        \"showline\": true,\n",
       "        \"ticktext\": [\n",
       "            \"-5×10⁴\",\n",
       "            \"-4×10⁴\",\n",
       "            \"-3×10⁴\",\n",
       "            \"-2×10⁴\"\n",
       "        ],\n",
       "        \"zeroline\": false,\n",
       "        \"tickfont\": {\n",
       "            \"color\": \"rgba(0, 0, 0, 1.000)\",\n",
       "            \"family\": \"sans-serif\",\n",
       "            \"size\": 11\n",
       "        },\n",
       "        \"zerolinecolor\": \"rgba(0, 0, 0, 1.000)\",\n",
       "        \"anchor\": \"x\",\n",
       "        \"visible\": true,\n",
       "        \"ticks\": \"inside\",\n",
       "        \"tickmode\": \"array\",\n",
       "        \"linecolor\": \"rgba(0, 0, 0, 1.000)\",\n",
       "        \"showgrid\": true,\n",
       "        \"title\": \"\",\n",
       "        \"gridcolor\": \"rgba(0, 0, 0, 0.100)\",\n",
       "        \"titlefont\": {\n",
       "            \"color\": \"rgba(0, 0, 0, 1.000)\",\n",
       "            \"family\": \"sans-serif\",\n",
       "            \"size\": 15\n",
       "        },\n",
       "        \"tickcolor\": \"rgb(0, 0, 0)\",\n",
       "        \"type\": \"-\"\n",
       "    },\n",
       "    \"legend\": {\n",
       "        \"yanchor\": \"auto\",\n",
       "        \"xanchor\": \"auto\",\n",
       "        \"bordercolor\": \"rgba(0, 0, 0, 1.000)\",\n",
       "        \"bgcolor\": \"rgba(255, 255, 255, 1.000)\",\n",
       "        \"borderwidth\": 1,\n",
       "        \"tracegroupgap\": 0,\n",
       "        \"y\": 1.0,\n",
       "        \"font\": {\n",
       "            \"color\": \"rgba(0, 0, 0, 1.000)\",\n",
       "            \"family\": \"sans-serif\",\n",
       "            \"size\": 11\n",
       "        },\n",
       "        \"title\": {\n",
       "            \"font\": {\n",
       "                \"color\": \"rgba(0, 0, 0, 1.000)\",\n",
       "                \"family\": \"sans-serif\",\n",
       "                \"size\": 15\n",
       "            },\n",
       "            \"text\": \"\"\n",
       "        },\n",
       "        \"traceorder\": \"normal\",\n",
       "        \"x\": 1.0\n",
       "    },\n",
       "    \"width\": 600\n",
       "}\n",
       ");\n",
       "    });\n",
       "    </script>\n",
       "\n",
       "    </body>\n",
       "</html>\n"
      ]
     },
     "execution_count": 35,
     "metadata": {},
     "output_type": "execute_result"
    }
   ],
   "source": [
    "patientid=1\n",
    "patient=patients[patientid]\n",
    "patientRegions= features[!,\"SlideName\"].==patient\n",
    "points = features[patientRegions,[\"SegmentDisplayName\", \"ROICoordinateX\", \"ROICoordinateY\"]]\n",
    "gloms=[occursin(r\"Geom.\",x) for x in points[!,\"SegmentDisplayName\"]]\n",
    "Plots.scatter(points.ROICoordinateX,points.ROICoordinateY,color=1,label=\"Tubules\")\n",
    "Plots.title!(patient)\n",
    "Plots.scatter!(points[gloms,:].ROICoordinateX,points[gloms,:].ROICoordinateY,color=2,label=\"Gloms\")"
   ]
  },
  {
   "cell_type": "code",
   "execution_count": 32,
   "metadata": {},
   "outputs": [
    {
     "data": {
      "text/html": [
       "<script>\n",
       "// Immediately-invoked-function-expression to avoid global variables.\n",
       "(function() {\n",
       "    var warning_div = document.getElementById(\"webio-warning-4422728411971066278\");\n",
       "    var hide = function () {\n",
       "        var script = document.getElementById(\"webio-setup-13165516602854216741\");\n",
       "        var parent = script && script.parentElement;\n",
       "        var grandparent = parent && parent.parentElement;\n",
       "        if (grandparent) {\n",
       "            grandparent.style.display = \"none\";\n",
       "        }\n",
       "        warning_div.style.display = \"none\";\n",
       "    };\n",
       "    if (typeof Jupyter !== \"undefined\") {\n",
       "        console.log(\"WebIO detected Jupyter notebook environment.\");\n",
       "        // Jupyter notebook.\n",
       "        var extensions = (\n",
       "            Jupyter\n",
       "            && Jupyter.notebook.config.data\n",
       "            && Jupyter.notebook.config.data.load_extensions\n",
       "        );\n",
       "        if (extensions && extensions[\"webio-jupyter-notebook\"]) {\n",
       "            // Extension already loaded.\n",
       "            console.log(\"Jupyter WebIO nbextension detected; not loading ad-hoc.\");\n",
       "            hide();\n",
       "            return;\n",
       "        }\n",
       "    } else if (window.location.pathname.includes(\"/lab\")) {\n",
       "        // Guessing JupyterLa\n",
       "        console.log(\"Jupyter Lab detected; make sure the @webio/jupyter-lab-provider labextension is installed.\");\n",
       "        hide();\n",
       "        return;\n",
       "    }\n",
       "})();\n",
       "\n",
       "</script>\n",
       "<p\n",
       "    id=\"webio-warning-4422728411971066278\"\n",
       "    class=\"output_text output_stderr\"\n",
       "    style=\"padding: 1em; font-weight: bold;\"\n",
       ">\n",
       "    Unable to load WebIO. Please make sure WebIO works for your Jupyter client.\n",
       "    For troubleshooting, please see <a href=\"https://juliagizmos.github.io/WebIO.jl/latest/providers/ijulia/\">\n",
       "    the WebIO/IJulia documentation</a>.\n",
       "    <!-- TODO: link to installation docs. -->\n",
       "</p>\n"
      ],
      "text/plain": [
       "HTML{String}(\"<script>\\n// Immediately-invoked-function-expression to avoid global variables.\\n(function() {\\n    var warning_div = document.getElementById(\\\"webio-warning-4422728411971066278\\\");\\n    var hide = function () {\\n        var script = document.getElementById(\\\"webio-setup-13165516602854216741\\\");\\n        var parent = script && script.parentElement;\\n        var grandparent = parent && parent.parentElement;\\n        if (grandparent) {\\n            grandparent.style.display = \\\"none\\\";\\n        }\\n        warning_div.style.display = \\\"none\\\";\\n    };\\n    if (typeof Jupyter !== \\\"undefined\\\") {\\n        console.log(\\\"WebIO detected Jupyter notebook environment.\\\");\\n        // Jupyter notebook.\\n        var extensions = (\\n            Jupyter\\n            && Jupyter.notebook.config.data\\n            && Jupyter.notebook.config.data.load_extensions\\n        );\\n        if (extensions && extensions[\\\"webio-jupyter-notebook\\\"]) {\\n            // Extension already loaded.\\n            console.log(\\\"Jupyter WebIO nbextension detected; not loading ad-hoc.\\\");\\n            hide();\\n            return;\\n        }\\n    } else if (window.location.pathname.includes(\\\"/lab\\\")) {\\n        // Guessing JupyterLa\\n        console.log(\\\"Jupyter Lab detected; make sure the @webio/jupyter-lab-provider labextension is installed.\\\");\\n        hide();\\n        return;\\n    }\\n})();\\n\\n</script>\\n<p\\n    id=\\\"webio-warning-4422728411971066278\\\"\\n    class=\\\"output_text output_stderr\\\"\\n    style=\\\"padding: 1em; font-weight: bold;\\\"\\n>\\n    Unable to load WebIO. Please make sure WebIO works for your Jupyter client.\\n    For troubleshooting, please see <a href=\\\"https://juliagizmos.github.io/WebIO.jl/latest/providers/ijulia/\\\">\\n    the WebIO/IJulia documentation</a>.\\n    <!-- TODO: link to installation docs. -->\\n</p>\\n\")"
      ]
     },
     "metadata": {},
     "output_type": "display_data"
    },
    {
     "data": {
      "text/plain": [
       "Plots.PlotlyJSBackend()"
      ]
     },
     "execution_count": 32,
     "metadata": {},
     "output_type": "execute_result"
    }
   ],
   "source": [
    "plotlyjs()"
   ]
  },
  {
   "cell_type": "code",
   "execution_count": 101,
   "metadata": {},
   "outputs": [
    {
     "data": {
      "text/plain": [
       "231-element Vector{String}:\n",
       " \"Glom (Abnormal)\"\n",
       " \"Glom (Abnormal)\"\n",
       " \"Glom (Abnormal)\"\n",
       " \"Glom (Abnormal)\"\n",
       " \"Glom (Abnormal)\"\n",
       " \"Glom (Abnormal)\"\n",
       " \"Glom (Abnormal)\"\n",
       " \"Glom (Abnormal)\"\n",
       " \"Glom (Abnormal)\"\n",
       " \"Glom (Abnormal)\"\n",
       " \"Glom (Abnormal)\"\n",
       " \"Glom (Abnormal)\"\n",
       " \"Glom (Abnormal)\"\n",
       " ⋮\n",
       " \"Tub. Distal\"\n",
       " \"Tub. Proximal\"\n",
       " \"Tub. Distal\"\n",
       " \"Tub. Proximal\"\n",
       " \"Tub. Distal\"\n",
       " \"Tub. Proximal\"\n",
       " \"Tub. Distal\"\n",
       " \"Tub. Proximal\"\n",
       " \"Tub. Distal\"\n",
       " \"Tub. Proximal\"\n",
       " \"Glom (Healthy)\"\n",
       " \"Glom (Healthy)\""
      ]
     },
     "execution_count": 101,
     "metadata": {},
     "output_type": "execute_result"
    }
   ],
   "source": [
    "structuresDict = Dict(\"abnormal\"=>\"Glom (Abnormal)\",\"healthy\"=>\"Glom (Healthy)\",\" PanCK\" => \"Tub. Distal\", \" neg\" => \"Tub. Proximal\")\n",
    "comprehensiveStates = [structuresDict[ismissing(row.pathology) ? split(row[\"SegmentDisplayName\"],\"|\")[3] : row.pathology] for row in eachrow(features)]"
   ]
  },
  {
   "cell_type": "code",
   "execution_count": 112,
   "metadata": {},
   "outputs": [
    {
     "data": {
      "text/plain": [
       "2-element Vector{String}:\n",
       " \"DKD\"\n",
       " \"normal\""
      ]
     },
     "execution_count": 112,
     "metadata": {},
     "output_type": "execute_result"
    }
   ],
   "source": [
    "unique(features.disease_status)"
   ]
  },
  {
   "cell_type": "code",
   "execution_count": 115,
   "metadata": {},
   "outputs": [
    {
     "data": {
      "text/plain": [
       "2-element Vector{Int64}:\n",
       " 3\n",
       " 5"
      ]
     },
     "execution_count": 115,
     "metadata": {},
     "output_type": "execute_result"
    }
   ],
   "source": [
    "a=[1,2,3];b=[3,5]"
   ]
  },
  {
   "cell_type": "code",
   "execution_count": 116,
   "metadata": {},
   "outputs": [
    {
     "data": {
      "text/plain": [
       "6-element Vector{Tuple{Int64, Int64}}:\n",
       " (1, 3)\n",
       " (1, 5)\n",
       " (2, 3)\n",
       " (2, 5)\n",
       " (3, 3)\n",
       " (3, 5)"
      ]
     },
     "execution_count": 116,
     "metadata": {},
     "output_type": "execute_result"
    }
   ],
   "source": [
    "[(x,y) for x in a for y in b]"
   ]
  },
  {
   "cell_type": "code",
   "execution_count": null,
   "metadata": {},
   "outputs": [],
   "source": [
    "status==\"normal\" ? \"circle\" : \"square\""
   ]
  },
  {
   "cell_type": "code",
   "execution_count": 108,
   "metadata": {},
   "outputs": [
    {
     "data": {
      "text/html": [
       "<table class=\"data-frame\"><thead><tr><th></th><th>SlideName</th><th>ScanName</th><th>ROILabel</th><th>SegmentLabel</th><th>SegmentDisplayName</th></tr><tr><th></th><th>String</th><th>String</th><th>Int64</th><th>String</th><th>String</th></tr></thead><tbody><p>231 rows × 26 columns (omitted printing of 21 columns)</p><tr><th>1</th><td>disease3</td><td>disease3_scan</td><td>7</td><td>Geometric Segment</td><td>disease3_scan | 007 | Geometric Segment</td></tr><tr><th>2</th><td>disease3</td><td>disease3_scan</td><td>8</td><td>Geometric Segment</td><td>disease3_scan | 008 | Geometric Segment</td></tr><tr><th>3</th><td>disease3</td><td>disease3_scan</td><td>9</td><td>Geometric Segment</td><td>disease3_scan | 009 | Geometric Segment</td></tr><tr><th>4</th><td>disease3</td><td>disease3_scan</td><td>10</td><td>Geometric Segment</td><td>disease3_scan | 010 | Geometric Segment</td></tr><tr><th>5</th><td>disease3</td><td>disease3_scan</td><td>11</td><td>Geometric Segment</td><td>disease3_scan | 011 | Geometric Segment</td></tr><tr><th>6</th><td>disease3</td><td>disease3_scan</td><td>12</td><td>Geometric Segment</td><td>disease3_scan | 012 | Geometric Segment</td></tr><tr><th>7</th><td>disease3</td><td>disease3_scan</td><td>13</td><td>Geometric Segment</td><td>disease3_scan | 013 | Geometric Segment</td></tr><tr><th>8</th><td>disease3</td><td>disease3_scan</td><td>14</td><td>Geometric Segment</td><td>disease3_scan | 014 | Geometric Segment</td></tr><tr><th>9</th><td>disease3</td><td>disease3_scan</td><td>15</td><td>Geometric Segment</td><td>disease3_scan | 015 | Geometric Segment</td></tr><tr><th>10</th><td>disease3</td><td>disease3_scan</td><td>16</td><td>Geometric Segment</td><td>disease3_scan | 016 | Geometric Segment</td></tr><tr><th>11</th><td>disease3</td><td>disease3_scan</td><td>17</td><td>Geometric Segment</td><td>disease3_scan | 017 | Geometric Segment</td></tr><tr><th>12</th><td>disease3</td><td>disease3_scan</td><td>18</td><td>Geometric Segment</td><td>disease3_scan | 018 | Geometric Segment</td></tr><tr><th>13</th><td>disease3</td><td>disease3_scan</td><td>19</td><td>Geometric Segment</td><td>disease3_scan | 019 | Geometric Segment</td></tr><tr><th>14</th><td>disease3</td><td>disease3_scan</td><td>20</td><td>Geometric Segment</td><td>disease3_scan | 020 | Geometric Segment</td></tr><tr><th>15</th><td>disease3</td><td>disease3_scan</td><td>21</td><td>Geometric Segment</td><td>disease3_scan | 021 | Geometric Segment</td></tr><tr><th>16</th><td>disease3</td><td>disease3_scan</td><td>22</td><td>Geometric Segment</td><td>disease3_scan | 022 | Geometric Segment</td></tr><tr><th>17</th><td>disease3</td><td>disease3_scan</td><td>23</td><td>Geometric Segment</td><td>disease3_scan | 023 | Geometric Segment</td></tr><tr><th>18</th><td>disease3</td><td>disease3_scan</td><td>24</td><td>Geometric Segment</td><td>disease3_scan | 024 | Geometric Segment</td></tr><tr><th>19</th><td>disease3</td><td>disease3_scan</td><td>25</td><td>Geometric Segment</td><td>disease3_scan | 025 | Geometric Segment</td></tr><tr><th>20</th><td>disease3</td><td>disease3_scan</td><td>26</td><td>Geometric Segment</td><td>disease3_scan | 026 | Geometric Segment</td></tr><tr><th>21</th><td>disease3</td><td>disease3_scan</td><td>27</td><td>Geometric Segment</td><td>disease3_scan | 027 | Geometric Segment</td></tr><tr><th>22</th><td>disease3</td><td>disease3_scan</td><td>28</td><td>Geometric Segment</td><td>disease3_scan | 028 | Geometric Segment</td></tr><tr><th>23</th><td>disease3</td><td>disease3_scan</td><td>29</td><td>Geometric Segment</td><td>disease3_scan | 029 | Geometric Segment</td></tr><tr><th>24</th><td>disease3</td><td>disease3_scan</td><td>30</td><td>Geometric Segment</td><td>disease3_scan | 030 | Geometric Segment</td></tr><tr><th>25</th><td>disease3</td><td>disease3_scan</td><td>31</td><td>Geometric Segment</td><td>disease3_scan | 031 | Geometric Segment</td></tr><tr><th>26</th><td>disease3</td><td>disease3_scan</td><td>32</td><td>Geometric Segment</td><td>disease3_scan | 032 | Geometric Segment</td></tr><tr><th>27</th><td>disease3</td><td>disease3_scan</td><td>33</td><td>Geometric Segment</td><td>disease3_scan | 033 | Geometric Segment</td></tr><tr><th>28</th><td>disease3</td><td>disease3_scan</td><td>34</td><td>Geometric Segment</td><td>disease3_scan | 034 | Geometric Segment</td></tr><tr><th>29</th><td>disease3</td><td>disease3_scan</td><td>35</td><td>Geometric Segment</td><td>disease3_scan | 035 | Geometric Segment</td></tr><tr><th>30</th><td>disease3</td><td>disease3_scan</td><td>36</td><td>Geometric Segment</td><td>disease3_scan | 036 | Geometric Segment</td></tr><tr><th>&vellip;</th><td>&vellip;</td><td>&vellip;</td><td>&vellip;</td><td>&vellip;</td><td>&vellip;</td></tr></tbody></table>"
      ],
      "text/latex": [
       "\\begin{tabular}{r|cccccc}\n",
       "\t& SlideName & ScanName & ROILabel & SegmentLabel & SegmentDisplayName & \\\\\n",
       "\t\\hline\n",
       "\t& String & String & Int64 & String & String & \\\\\n",
       "\t\\hline\n",
       "\t1 & disease3 & disease3\\_scan & 7 & Geometric Segment & disease3\\_scan | 007 | Geometric Segment & $\\dots$ \\\\\n",
       "\t2 & disease3 & disease3\\_scan & 8 & Geometric Segment & disease3\\_scan | 008 | Geometric Segment & $\\dots$ \\\\\n",
       "\t3 & disease3 & disease3\\_scan & 9 & Geometric Segment & disease3\\_scan | 009 | Geometric Segment & $\\dots$ \\\\\n",
       "\t4 & disease3 & disease3\\_scan & 10 & Geometric Segment & disease3\\_scan | 010 | Geometric Segment & $\\dots$ \\\\\n",
       "\t5 & disease3 & disease3\\_scan & 11 & Geometric Segment & disease3\\_scan | 011 | Geometric Segment & $\\dots$ \\\\\n",
       "\t6 & disease3 & disease3\\_scan & 12 & Geometric Segment & disease3\\_scan | 012 | Geometric Segment & $\\dots$ \\\\\n",
       "\t7 & disease3 & disease3\\_scan & 13 & Geometric Segment & disease3\\_scan | 013 | Geometric Segment & $\\dots$ \\\\\n",
       "\t8 & disease3 & disease3\\_scan & 14 & Geometric Segment & disease3\\_scan | 014 | Geometric Segment & $\\dots$ \\\\\n",
       "\t9 & disease3 & disease3\\_scan & 15 & Geometric Segment & disease3\\_scan | 015 | Geometric Segment & $\\dots$ \\\\\n",
       "\t10 & disease3 & disease3\\_scan & 16 & Geometric Segment & disease3\\_scan | 016 | Geometric Segment & $\\dots$ \\\\\n",
       "\t11 & disease3 & disease3\\_scan & 17 & Geometric Segment & disease3\\_scan | 017 | Geometric Segment & $\\dots$ \\\\\n",
       "\t12 & disease3 & disease3\\_scan & 18 & Geometric Segment & disease3\\_scan | 018 | Geometric Segment & $\\dots$ \\\\\n",
       "\t13 & disease3 & disease3\\_scan & 19 & Geometric Segment & disease3\\_scan | 019 | Geometric Segment & $\\dots$ \\\\\n",
       "\t14 & disease3 & disease3\\_scan & 20 & Geometric Segment & disease3\\_scan | 020 | Geometric Segment & $\\dots$ \\\\\n",
       "\t15 & disease3 & disease3\\_scan & 21 & Geometric Segment & disease3\\_scan | 021 | Geometric Segment & $\\dots$ \\\\\n",
       "\t16 & disease3 & disease3\\_scan & 22 & Geometric Segment & disease3\\_scan | 022 | Geometric Segment & $\\dots$ \\\\\n",
       "\t17 & disease3 & disease3\\_scan & 23 & Geometric Segment & disease3\\_scan | 023 | Geometric Segment & $\\dots$ \\\\\n",
       "\t18 & disease3 & disease3\\_scan & 24 & Geometric Segment & disease3\\_scan | 024 | Geometric Segment & $\\dots$ \\\\\n",
       "\t19 & disease3 & disease3\\_scan & 25 & Geometric Segment & disease3\\_scan | 025 | Geometric Segment & $\\dots$ \\\\\n",
       "\t20 & disease3 & disease3\\_scan & 26 & Geometric Segment & disease3\\_scan | 026 | Geometric Segment & $\\dots$ \\\\\n",
       "\t21 & disease3 & disease3\\_scan & 27 & Geometric Segment & disease3\\_scan | 027 | Geometric Segment & $\\dots$ \\\\\n",
       "\t22 & disease3 & disease3\\_scan & 28 & Geometric Segment & disease3\\_scan | 028 | Geometric Segment & $\\dots$ \\\\\n",
       "\t23 & disease3 & disease3\\_scan & 29 & Geometric Segment & disease3\\_scan | 029 | Geometric Segment & $\\dots$ \\\\\n",
       "\t24 & disease3 & disease3\\_scan & 30 & Geometric Segment & disease3\\_scan | 030 | Geometric Segment & $\\dots$ \\\\\n",
       "\t25 & disease3 & disease3\\_scan & 31 & Geometric Segment & disease3\\_scan | 031 | Geometric Segment & $\\dots$ \\\\\n",
       "\t26 & disease3 & disease3\\_scan & 32 & Geometric Segment & disease3\\_scan | 032 | Geometric Segment & $\\dots$ \\\\\n",
       "\t27 & disease3 & disease3\\_scan & 33 & Geometric Segment & disease3\\_scan | 033 | Geometric Segment & $\\dots$ \\\\\n",
       "\t28 & disease3 & disease3\\_scan & 34 & Geometric Segment & disease3\\_scan | 034 | Geometric Segment & $\\dots$ \\\\\n",
       "\t29 & disease3 & disease3\\_scan & 35 & Geometric Segment & disease3\\_scan | 035 | Geometric Segment & $\\dots$ \\\\\n",
       "\t30 & disease3 & disease3\\_scan & 36 & Geometric Segment & disease3\\_scan | 036 | Geometric Segment & $\\dots$ \\\\\n",
       "\t$\\dots$ & $\\dots$ & $\\dots$ & $\\dots$ & $\\dots$ & $\\dots$ &  \\\\\n",
       "\\end{tabular}\n"
      ],
      "text/plain": [
       "\u001b[1m231×26 DataFrame\u001b[0m\n",
       "\u001b[1m Row \u001b[0m│\u001b[1m SlideName \u001b[0m\u001b[1m ScanName       \u001b[0m\u001b[1m ROILabel \u001b[0m\u001b[1m SegmentLabel      \u001b[0m\u001b[1m SegmentDisplayN\u001b[0m ⋯\n",
       "\u001b[1m     \u001b[0m│\u001b[90m String    \u001b[0m\u001b[90m String         \u001b[0m\u001b[90m Int64    \u001b[0m\u001b[90m String            \u001b[0m\u001b[90m String         \u001b[0m ⋯\n",
       "─────┼──────────────────────────────────────────────────────────────────────────\n",
       "   1 │ disease3   disease3_scan          7  Geometric Segment  disease3_scan | ⋯\n",
       "   2 │ disease3   disease3_scan          8  Geometric Segment  disease3_scan |\n",
       "   3 │ disease3   disease3_scan          9  Geometric Segment  disease3_scan |\n",
       "   4 │ disease3   disease3_scan         10  Geometric Segment  disease3_scan |\n",
       "   5 │ disease3   disease3_scan         11  Geometric Segment  disease3_scan | ⋯\n",
       "   6 │ disease3   disease3_scan         12  Geometric Segment  disease3_scan |\n",
       "   7 │ disease3   disease3_scan         13  Geometric Segment  disease3_scan |\n",
       "   8 │ disease3   disease3_scan         14  Geometric Segment  disease3_scan |\n",
       "   9 │ disease3   disease3_scan         15  Geometric Segment  disease3_scan | ⋯\n",
       "  10 │ disease3   disease3_scan         16  Geometric Segment  disease3_scan |\n",
       "  11 │ disease3   disease3_scan         17  Geometric Segment  disease3_scan |\n",
       "  ⋮  │     ⋮            ⋮            ⋮              ⋮                          ⋱\n",
       " 222 │ disease1B  disease1B_scan         9  PanCK              disease1B_scan\n",
       " 223 │ disease1B  disease1B_scan         9  neg                disease1B_scan  ⋯\n",
       " 224 │ disease1B  disease1B_scan        10  PanCK              disease1B_scan\n",
       " 225 │ disease1B  disease1B_scan        10  neg                disease1B_scan\n",
       " 226 │ disease1B  disease1B_scan        11  PanCK              disease1B_scan\n",
       " 227 │ disease1B  disease1B_scan        11  neg                disease1B_scan  ⋯\n",
       " 228 │ disease1B  disease1B_scan        12  PanCK              disease1B_scan\n",
       " 229 │ disease1B  disease1B_scan        12  neg                disease1B_scan\n",
       " 230 │ disease1B  disease1B_scan        13  Geometric Segment  disease1B_scan\n",
       " 231 │ disease1B  disease1B_scan        14  Geometric Segment  disease1B_scan  ⋯\n",
       "\u001b[36m                                                 22 columns and 210 rows omitted\u001b[0m"
      ]
     },
     "execution_count": 108,
     "metadata": {},
     "output_type": "execute_result"
    }
   ],
   "source": [
    "insertcols!(features,\"states\"=>comprehensiveStates)"
   ]
  },
  {
   "cell_type": "code",
   "execution_count": 109,
   "metadata": {},
   "outputs": [
    {
     "data": {
      "text/plain": [
       "231-element Vector{String}:\n",
       " \"Glom (Abnormal)\"\n",
       " \"Glom (Abnormal)\"\n",
       " \"Glom (Abnormal)\"\n",
       " \"Glom (Abnormal)\"\n",
       " \"Glom (Abnormal)\"\n",
       " \"Glom (Abnormal)\"\n",
       " \"Glom (Abnormal)\"\n",
       " \"Glom (Abnormal)\"\n",
       " \"Glom (Abnormal)\"\n",
       " \"Glom (Abnormal)\"\n",
       " \"Glom (Abnormal)\"\n",
       " \"Glom (Abnormal)\"\n",
       " \"Glom (Abnormal)\"\n",
       " ⋮\n",
       " \"Tub. Distal\"\n",
       " \"Tub. Proximal\"\n",
       " \"Tub. Distal\"\n",
       " \"Tub. Proximal\"\n",
       " \"Tub. Distal\"\n",
       " \"Tub. Proximal\"\n",
       " \"Tub. Distal\"\n",
       " \"Tub. Proximal\"\n",
       " \"Tub. Distal\"\n",
       " \"Tub. Proximal\"\n",
       " \"Glom (Healthy)\"\n",
       " \"Glom (Healthy)\""
      ]
     },
     "execution_count": 109,
     "metadata": {},
     "output_type": "execute_result"
    }
   ],
   "source": [
    "features.states"
   ]
  },
  {
   "cell_type": "code",
   "execution_count": 33,
   "metadata": {},
   "outputs": [
    {
     "data": {
      "application/vnd.plotly.v1+json": {
       "data": [
        {
         "colorbar": {
          "title": ""
         },
         "legendgroup": "Gloms",
         "line": {
          "color": "rgba(227, 111, 71, 1.000)",
          "dash": "solid",
          "shape": "linear",
          "width": 1
         },
         "mode": "lines",
         "name": "Gloms",
         "showlegend": true,
         "type": "scatter",
         "x": [
          11444,
          13064,
          14221,
          12120,
          12816,
          13075,
          13207,
          15449,
          17046,
          17029,
          12753,
          17524,
          18095,
          20972,
          22649,
          23800,
          21466,
          20836,
          20460,
          20119,
          23721,
          20794,
          24822,
          26204,
          28339,
          26277,
          29349,
          28612,
          26457,
          26588,
          26666,
          27506,
          25013,
          26261,
          27403,
          29422,
          24139,
          25666,
          23147,
          21760,
          24697,
          22825,
          29203,
          30404,
          31800,
          31869,
          32016
         ],
         "xaxis": "x",
         "y": [
          -18819,
          -20021,
          -18591,
          -17683,
          -16378,
          -14941,
          -13878,
          -18484,
          -20601,
          -22040,
          -23855,
          -30115,
          -31530,
          -31310,
          -32772,
          -34566,
          -34989,
          -35367,
          -36591,
          -37041,
          -38130,
          -39244,
          -40957,
          -41318,
          -43383,
          -44103,
          -45562,
          -46260,
          -45996,
          -46798,
          -48056,
          -53817,
          -54272,
          -54657,
          -55508,
          -57474,
          -50976,
          -49717,
          -28398,
          -28676,
          -29623,
          -30310,
          -35578,
          -35913,
          -35784,
          -38266,
          -39890
         ],
         "yaxis": "y",
         "zmax": null,
         "zmin": null
        }
       ],
       "layout": {
        "annotations": [],
        "height": 400,
        "legend": {
         "bgcolor": "rgba(255, 255, 255, 1.000)",
         "bordercolor": "rgba(0, 0, 0, 1.000)",
         "borderwidth": 1,
         "font": {
          "color": "rgba(0, 0, 0, 1.000)",
          "family": "sans-serif",
          "size": 11
         },
         "title": {
          "font": {
           "color": "rgba(0, 0, 0, 1.000)",
           "family": "sans-serif",
           "size": 15
          },
          "text": ""
         },
         "tracegroupgap": 0,
         "traceorder": "normal",
         "x": 1,
         "xanchor": "auto",
         "y": 1,
         "yanchor": "auto"
        },
        "margin": {
         "b": 20,
         "l": 0,
         "r": 0,
         "t": 20
        },
        "paper_bgcolor": "rgba(255, 255, 255, 1.000)",
        "plot_bgcolor": "rgba(255, 255, 255, 1.000)",
        "showlegend": true,
        "width": 600,
        "xaxis": {
         "anchor": "y",
         "domain": [
          0.09545056867891513,
          0.9934383202099738
         ],
         "gridcolor": "rgba(0, 0, 0, 0.100)",
         "gridwidth": 0.5,
         "linecolor": "rgba(0, 0, 0, 1.000)",
         "mirror": false,
         "range": [
          10826.84,
          32633.16
         ],
         "showgrid": true,
         "showline": true,
         "showticklabels": true,
         "tickangle": 0,
         "tickcolor": "rgb(0, 0, 0)",
         "tickfont": {
          "color": "rgba(0, 0, 0, 1.000)",
          "family": "sans-serif",
          "size": 11
         },
         "tickmode": "array",
         "ticks": "inside",
         "ticktext": [
          "1.5×10⁴",
          "2.0×10⁴",
          "2.5×10⁴",
          "3.0×10⁴"
         ],
         "tickvals": [
          15000,
          20000,
          25000,
          30000
         ],
         "title": "",
         "titlefont": {
          "color": "rgba(0, 0, 0, 1.000)",
          "family": "sans-serif",
          "size": 15
         },
         "type": "-",
         "visible": true,
         "zeroline": false,
         "zerolinecolor": "rgba(0, 0, 0, 1.000)"
        },
        "yaxis": {
         "anchor": "x",
         "domain": [
          0.03762029746281716,
          0.9901574803149606
         ],
         "gridcolor": "rgba(0, 0, 0, 0.100)",
         "gridwidth": 0.5,
         "linecolor": "rgba(0, 0, 0, 1.000)",
         "mirror": false,
         "range": [
          -58781.88,
          -12570.12
         ],
         "showgrid": true,
         "showline": true,
         "showticklabels": true,
         "tickangle": 0,
         "tickcolor": "rgb(0, 0, 0)",
         "tickfont": {
          "color": "rgba(0, 0, 0, 1.000)",
          "family": "sans-serif",
          "size": 11
         },
         "tickmode": "array",
         "ticks": "inside",
         "ticktext": [
          "-5×10⁴",
          "-4×10⁴",
          "-3×10⁴",
          "-2×10⁴"
         ],
         "tickvals": [
          -50000,
          -40000,
          -30000,
          -20000
         ],
         "title": "",
         "titlefont": {
          "color": "rgba(0, 0, 0, 1.000)",
          "family": "sans-serif",
          "size": 15
         },
         "type": "-",
         "visible": true,
         "zeroline": false,
         "zerolinecolor": "rgba(0, 0, 0, 1.000)"
        }
       }
      },
      "text/html": [
       "<!DOCTYPE html>\n",
       "<html>\n",
       "    <head>\n",
       "        <title>Plots.jl</title>\n",
       "        <meta http-equiv=\"content-type\" content=\"text/html; charset=UTF-8\">\n",
       "        \n",
       "    </head>\n",
       "    <body>\n",
       "            <div id=\"98afda73-fb24-4c7d-8954-b34e595a54a5\" style=\"width:600px;height:400px;\"></div>\n",
       "    <script>\n",
       "        requirejs.config({\n",
       "        paths: {\n",
       "            Plotly: 'https://cdn.plot.ly/plotly-1.57.1.min'\n",
       "        }\n",
       "    });\n",
       "    require(['Plotly'], function (Plotly) {\n",
       "\n",
       "    PLOT = document.getElementById('98afda73-fb24-4c7d-8954-b34e595a54a5');\n",
       "    Plotly.plot(PLOT, [\n",
       "    {\n",
       "        \"xaxis\": \"x\",\n",
       "        \"colorbar\": {\n",
       "            \"title\": \"\"\n",
       "        },\n",
       "        \"yaxis\": \"y\",\n",
       "        \"x\": [\n",
       "            11444.0,\n",
       "            13064.0,\n",
       "            14221.0,\n",
       "            12120.0,\n",
       "            12816.0,\n",
       "            13075.0,\n",
       "            13207.0,\n",
       "            15449.0,\n",
       "            17046.0,\n",
       "            17029.0,\n",
       "            12753.0,\n",
       "            17524.0,\n",
       "            18095.0,\n",
       "            20972.0,\n",
       "            22649.0,\n",
       "            23800.0,\n",
       "            21466.0,\n",
       "            20836.0,\n",
       "            20460.0,\n",
       "            20119.0,\n",
       "            23721.0,\n",
       "            20794.0,\n",
       "            24822.0,\n",
       "            26204.0,\n",
       "            28339.0,\n",
       "            26277.0,\n",
       "            29349.0,\n",
       "            28612.0,\n",
       "            26457.0,\n",
       "            26588.0,\n",
       "            26666.0,\n",
       "            27506.0,\n",
       "            25013.0,\n",
       "            26261.0,\n",
       "            27403.0,\n",
       "            29422.0,\n",
       "            24139.0,\n",
       "            25666.0,\n",
       "            23147.0,\n",
       "            21760.0,\n",
       "            24697.0,\n",
       "            22825.0,\n",
       "            29203.0,\n",
       "            30404.0,\n",
       "            31800.0,\n",
       "            31869.0,\n",
       "            32016.0\n",
       "        ],\n",
       "        \"showlegend\": true,\n",
       "        \"mode\": \"lines\",\n",
       "        \"name\": \"Gloms\",\n",
       "        \"zmin\": null,\n",
       "        \"legendgroup\": \"Gloms\",\n",
       "        \"zmax\": null,\n",
       "        \"line\": {\n",
       "            \"color\": \"rgba(227, 111, 71, 1.000)\",\n",
       "            \"shape\": \"linear\",\n",
       "            \"dash\": \"solid\",\n",
       "            \"width\": 1\n",
       "        },\n",
       "        \"y\": [\n",
       "            -18819.0,\n",
       "            -20021.0,\n",
       "            -18591.0,\n",
       "            -17683.0,\n",
       "            -16378.0,\n",
       "            -14941.0,\n",
       "            -13878.0,\n",
       "            -18484.0,\n",
       "            -20601.0,\n",
       "            -22040.0,\n",
       "            -23855.0,\n",
       "            -30115.0,\n",
       "            -31530.0,\n",
       "            -31310.0,\n",
       "            -32772.0,\n",
       "            -34566.0,\n",
       "            -34989.0,\n",
       "            -35367.0,\n",
       "            -36591.0,\n",
       "            -37041.0,\n",
       "            -38130.0,\n",
       "            -39244.0,\n",
       "            -40957.0,\n",
       "            -41318.0,\n",
       "            -43383.0,\n",
       "            -44103.0,\n",
       "            -45562.0,\n",
       "            -46260.0,\n",
       "            -45996.0,\n",
       "            -46798.0,\n",
       "            -48056.0,\n",
       "            -53817.0,\n",
       "            -54272.0,\n",
       "            -54657.0,\n",
       "            -55508.0,\n",
       "            -57474.0,\n",
       "            -50976.0,\n",
       "            -49717.0,\n",
       "            -28398.0,\n",
       "            -28676.0,\n",
       "            -29623.0,\n",
       "            -30310.0,\n",
       "            -35578.0,\n",
       "            -35913.0,\n",
       "            -35784.0,\n",
       "            -38266.0,\n",
       "            -39890.0\n",
       "        ],\n",
       "        \"type\": \"scatter\"\n",
       "    }\n",
       "]\n",
       ", {\n",
       "    \"showlegend\": true,\n",
       "    \"xaxis\": {\n",
       "        \"showticklabels\": true,\n",
       "        \"gridwidth\": 0.5,\n",
       "        \"tickvals\": [\n",
       "            15000.0,\n",
       "            20000.0,\n",
       "            25000.0,\n",
       "            30000.0\n",
       "        ],\n",
       "        \"range\": [\n",
       "            10826.84,\n",
       "            32633.16\n",
       "        ],\n",
       "        \"domain\": [\n",
       "            0.09545056867891513,\n",
       "            0.9934383202099738\n",
       "        ],\n",
       "        \"mirror\": false,\n",
       "        \"tickangle\": 0,\n",
       "        \"showline\": true,\n",
       "        \"ticktext\": [\n",
       "            \"1.5×10⁴\",\n",
       "            \"2.0×10⁴\",\n",
       "            \"2.5×10⁴\",\n",
       "            \"3.0×10⁴\"\n",
       "        ],\n",
       "        \"zeroline\": false,\n",
       "        \"tickfont\": {\n",
       "            \"color\": \"rgba(0, 0, 0, 1.000)\",\n",
       "            \"family\": \"sans-serif\",\n",
       "            \"size\": 11\n",
       "        },\n",
       "        \"zerolinecolor\": \"rgba(0, 0, 0, 1.000)\",\n",
       "        \"anchor\": \"y\",\n",
       "        \"visible\": true,\n",
       "        \"ticks\": \"inside\",\n",
       "        \"tickmode\": \"array\",\n",
       "        \"linecolor\": \"rgba(0, 0, 0, 1.000)\",\n",
       "        \"showgrid\": true,\n",
       "        \"title\": \"\",\n",
       "        \"gridcolor\": \"rgba(0, 0, 0, 0.100)\",\n",
       "        \"titlefont\": {\n",
       "            \"color\": \"rgba(0, 0, 0, 1.000)\",\n",
       "            \"family\": \"sans-serif\",\n",
       "            \"size\": 15\n",
       "        },\n",
       "        \"tickcolor\": \"rgb(0, 0, 0)\",\n",
       "        \"type\": \"-\"\n",
       "    },\n",
       "    \"paper_bgcolor\": \"rgba(255, 255, 255, 1.000)\",\n",
       "    \"annotations\": [],\n",
       "    \"height\": 400,\n",
       "    \"margin\": {\n",
       "        \"l\": 0,\n",
       "        \"b\": 20,\n",
       "        \"r\": 0,\n",
       "        \"t\": 20\n",
       "    },\n",
       "    \"plot_bgcolor\": \"rgba(255, 255, 255, 1.000)\",\n",
       "    \"yaxis\": {\n",
       "        \"showticklabels\": true,\n",
       "        \"gridwidth\": 0.5,\n",
       "        \"tickvals\": [\n",
       "            -50000.0,\n",
       "            -40000.0,\n",
       "            -30000.0,\n",
       "            -20000.0\n",
       "        ],\n",
       "        \"range\": [\n",
       "            -58781.88,\n",
       "            -12570.12\n",
       "        ],\n",
       "        \"domain\": [\n",
       "            0.03762029746281716,\n",
       "            0.9901574803149606\n",
       "        ],\n",
       "        \"mirror\": false,\n",
       "        \"tickangle\": 0,\n",
       "        \"showline\": true,\n",
       "        \"ticktext\": [\n",
       "            \"-5×10⁴\",\n",
       "            \"-4×10⁴\",\n",
       "            \"-3×10⁴\",\n",
       "            \"-2×10⁴\"\n",
       "        ],\n",
       "        \"zeroline\": false,\n",
       "        \"tickfont\": {\n",
       "            \"color\": \"rgba(0, 0, 0, 1.000)\",\n",
       "            \"family\": \"sans-serif\",\n",
       "            \"size\": 11\n",
       "        },\n",
       "        \"zerolinecolor\": \"rgba(0, 0, 0, 1.000)\",\n",
       "        \"anchor\": \"x\",\n",
       "        \"visible\": true,\n",
       "        \"ticks\": \"inside\",\n",
       "        \"tickmode\": \"array\",\n",
       "        \"linecolor\": \"rgba(0, 0, 0, 1.000)\",\n",
       "        \"showgrid\": true,\n",
       "        \"title\": \"\",\n",
       "        \"gridcolor\": \"rgba(0, 0, 0, 0.100)\",\n",
       "        \"titlefont\": {\n",
       "            \"color\": \"rgba(0, 0, 0, 1.000)\",\n",
       "            \"family\": \"sans-serif\",\n",
       "            \"size\": 15\n",
       "        },\n",
       "        \"tickcolor\": \"rgb(0, 0, 0)\",\n",
       "        \"type\": \"-\"\n",
       "    },\n",
       "    \"legend\": {\n",
       "        \"yanchor\": \"auto\",\n",
       "        \"xanchor\": \"auto\",\n",
       "        \"bordercolor\": \"rgba(0, 0, 0, 1.000)\",\n",
       "        \"bgcolor\": \"rgba(255, 255, 255, 1.000)\",\n",
       "        \"borderwidth\": 1,\n",
       "        \"tracegroupgap\": 0,\n",
       "        \"y\": 1.0,\n",
       "        \"font\": {\n",
       "            \"color\": \"rgba(0, 0, 0, 1.000)\",\n",
       "            \"family\": \"sans-serif\",\n",
       "            \"size\": 11\n",
       "        },\n",
       "        \"title\": {\n",
       "            \"font\": {\n",
       "                \"color\": \"rgba(0, 0, 0, 1.000)\",\n",
       "                \"family\": \"sans-serif\",\n",
       "                \"size\": 15\n",
       "            },\n",
       "            \"text\": \"\"\n",
       "        },\n",
       "        \"traceorder\": \"normal\",\n",
       "        \"x\": 1.0\n",
       "    },\n",
       "    \"width\": 600\n",
       "}\n",
       ");\n",
       "    });\n",
       "    </script>\n",
       "\n",
       "    </body>\n",
       "</html>\n"
      ]
     },
     "execution_count": 33,
     "metadata": {},
     "output_type": "execute_result"
    }
   ],
   "source": [
    "\n",
    "Plots.plot(points[gloms,:].ROICoordinateX,points[gloms,:].ROICoordinateY,color=2,label=\"Gloms\")"
   ]
  },
  {
   "cell_type": "code",
   "execution_count": null,
   "metadata": {},
   "outputs": [],
   "source": [
    "modePerRegion=[argmax(PCM[!,nn]) for nn in names(PCM)];"
   ]
  },
  {
   "cell_type": "code",
   "execution_count": null,
   "metadata": {},
   "outputs": [],
   "source": [
    "Plots.histogram(modePerRegion)"
   ]
  },
  {
   "cell_type": "markdown",
   "metadata": {},
   "source": [
    "# GSEA"
   ]
  },
  {
   "cell_type": "code",
   "execution_count": null,
   "metadata": {},
   "outputs": [],
   "source": [
    "ssGSEA = DataFrame(CSV.File(\"data/Kidney_ssGSEA.txt\"))"
   ]
  },
  {
   "cell_type": "code",
   "execution_count": null,
   "metadata": {},
   "outputs": [],
   "source": [
    "names(ssGSEA)"
   ]
  },
  {
   "cell_type": "code",
   "execution_count": null,
   "metadata": {},
   "outputs": [],
   "source": [
    "groupPerRegion=[ssGSEA[argmax(ssGSEA[!,nn]),\"Column1\"] for nn in names(ssGSEA)];"
   ]
  },
  {
   "cell_type": "code",
   "execution_count": null,
   "metadata": {},
   "outputs": [],
   "source": [
    "groupPerRegion"
   ]
  },
  {
   "cell_type": "code",
   "execution_count": null,
   "metadata": {},
   "outputs": [],
   "source": [
    "s=unique(groupPerRegion);"
   ]
  },
  {
   "cell_type": "code",
   "execution_count": null,
   "metadata": {},
   "outputs": [],
   "source": [
    "datamap = countmap(groupPerRegion)\n",
    "bar((x -> datamap[x]).(s), yticks=(1:length(s), s),orientation = :horizontal,yflip=true,size=(1200,500))"
   ]
  },
  {
   "cell_type": "code",
   "execution_count": null,
   "metadata": {},
   "outputs": [],
   "source": [
    "png(\"GEA_histogram.png\")"
   ]
  },
  {
   "cell_type": "markdown",
   "metadata": {},
   "source": [
    "## RCall"
   ]
  },
  {
   "cell_type": "code",
   "execution_count": 233,
   "metadata": {
    "collapsed": true,
    "jupyter": {
     "outputs_hidden": true
    }
   },
   "outputs": [
    {
     "data": {
      "text/html": [
       "<table class=\"data-frame\"><thead><tr><th></th><th>gene</th><th>disease3_scan | 007 | Geometric Segment</th><th>disease3_scan | 008 | Geometric Segment</th></tr><tr><th></th><th>String</th><th>Float64</th><th>Float64</th></tr></thead><tbody><p>16,084 rows × 150 columns (omitted printing of 147 columns)</p><tr><th>1</th><td>PADI2</td><td>5.56033</td><td>4.10405</td></tr><tr><th>2</th><td>CYP24A1</td><td>5.56033</td><td>6.56648</td></tr><tr><th>3</th><td>SUPT16H</td><td>17.793</td><td>19.6994</td></tr><tr><th>4</th><td>ZMIZ2</td><td>24.4654</td><td>22.9827</td></tr><tr><th>5</th><td>SPAG9</td><td>21.6853</td><td>18.0578</td></tr><tr><th>6</th><td>AMELX</td><td>4.44826</td><td>6.56648</td></tr><tr><th>7</th><td>VPS33B</td><td>12.7887</td><td>14.7746</td></tr><tr><th>8</th><td>DDX58</td><td>18.3491</td><td>17.237</td></tr><tr><th>9</th><td>CDV3</td><td>25.5775</td><td>30.37</td></tr><tr><th>10</th><td>RO60</td><td>12.7887</td><td>12.3121</td></tr><tr><th>11</th><td>UBE2Q1</td><td>17.237</td><td>20.5202</td></tr><tr><th>12</th><td>VEGFB</td><td>15.0129</td><td>19.6994</td></tr><tr><th>13</th><td>METAP1D</td><td>11.6767</td><td>5.74567</td></tr><tr><th>14</th><td>HCFC1</td><td>7.78446</td><td>9.84972</td></tr><tr><th>15</th><td>ADIPOQ</td><td>12.2327</td><td>13.133</td></tr><tr><th>16</th><td>OPN1SW</td><td>13.9008</td><td>13.133</td></tr><tr><th>17</th><td>PALM2AKAP2</td><td>23.3534</td><td>15.5954</td></tr><tr><th>18</th><td>PAQR8</td><td>13.3448</td><td>7.38729</td></tr><tr><th>19</th><td>MT1E</td><td>18.9051</td><td>24.6243</td></tr><tr><th>20</th><td>SH2B3</td><td>15.5689</td><td>13.9538</td></tr><tr><th>21</th><td>NRDE2</td><td>13.3448</td><td>9.84972</td></tr><tr><th>22</th><td>CYP2C9</td><td>10.5646</td><td>7.38729</td></tr><tr><th>23</th><td>UBTD1</td><td>17.237</td><td>14.7746</td></tr><tr><th>24</th><td>B3GAT2</td><td>10.5646</td><td>7.38729</td></tr><tr><th>25</th><td>CDK2AP2</td><td>40.0343</td><td>36.9364</td></tr><tr><th>26</th><td>AGAP3</td><td>9.45255</td><td>9.02891</td></tr><tr><th>27</th><td>MROH6</td><td>8.34049</td><td>9.02891</td></tr><tr><th>28</th><td>STRIT1</td><td>9.45255</td><td>12.3121</td></tr><tr><th>29</th><td>FGGY</td><td>10.0086</td><td>15.5954</td></tr><tr><th>30</th><td>CLRN3</td><td>11.1207</td><td>18.0578</td></tr><tr><th>&vellip;</th><td>&vellip;</td><td>&vellip;</td><td>&vellip;</td></tr></tbody></table>"
      ],
      "text/latex": [
       "\\begin{tabular}{r|cccc}\n",
       "\t& gene & disease3\\_scan | 007 | Geometric Segment & disease3\\_scan | 008 | Geometric Segment & \\\\\n",
       "\t\\hline\n",
       "\t& String & Float64 & Float64 & \\\\\n",
       "\t\\hline\n",
       "\t1 & PADI2 & 5.56033 & 4.10405 & $\\dots$ \\\\\n",
       "\t2 & CYP24A1 & 5.56033 & 6.56648 & $\\dots$ \\\\\n",
       "\t3 & SUPT16H & 17.793 & 19.6994 & $\\dots$ \\\\\n",
       "\t4 & ZMIZ2 & 24.4654 & 22.9827 & $\\dots$ \\\\\n",
       "\t5 & SPAG9 & 21.6853 & 18.0578 & $\\dots$ \\\\\n",
       "\t6 & AMELX & 4.44826 & 6.56648 & $\\dots$ \\\\\n",
       "\t7 & VPS33B & 12.7887 & 14.7746 & $\\dots$ \\\\\n",
       "\t8 & DDX58 & 18.3491 & 17.237 & $\\dots$ \\\\\n",
       "\t9 & CDV3 & 25.5775 & 30.37 & $\\dots$ \\\\\n",
       "\t10 & RO60 & 12.7887 & 12.3121 & $\\dots$ \\\\\n",
       "\t11 & UBE2Q1 & 17.237 & 20.5202 & $\\dots$ \\\\\n",
       "\t12 & VEGFB & 15.0129 & 19.6994 & $\\dots$ \\\\\n",
       "\t13 & METAP1D & 11.6767 & 5.74567 & $\\dots$ \\\\\n",
       "\t14 & HCFC1 & 7.78446 & 9.84972 & $\\dots$ \\\\\n",
       "\t15 & ADIPOQ & 12.2327 & 13.133 & $\\dots$ \\\\\n",
       "\t16 & OPN1SW & 13.9008 & 13.133 & $\\dots$ \\\\\n",
       "\t17 & PALM2AKAP2 & 23.3534 & 15.5954 & $\\dots$ \\\\\n",
       "\t18 & PAQR8 & 13.3448 & 7.38729 & $\\dots$ \\\\\n",
       "\t19 & MT1E & 18.9051 & 24.6243 & $\\dots$ \\\\\n",
       "\t20 & SH2B3 & 15.5689 & 13.9538 & $\\dots$ \\\\\n",
       "\t21 & NRDE2 & 13.3448 & 9.84972 & $\\dots$ \\\\\n",
       "\t22 & CYP2C9 & 10.5646 & 7.38729 & $\\dots$ \\\\\n",
       "\t23 & UBTD1 & 17.237 & 14.7746 & $\\dots$ \\\\\n",
       "\t24 & B3GAT2 & 10.5646 & 7.38729 & $\\dots$ \\\\\n",
       "\t25 & CDK2AP2 & 40.0343 & 36.9364 & $\\dots$ \\\\\n",
       "\t26 & AGAP3 & 9.45255 & 9.02891 & $\\dots$ \\\\\n",
       "\t27 & MROH6 & 8.34049 & 9.02891 & $\\dots$ \\\\\n",
       "\t28 & STRIT1 & 9.45255 & 12.3121 & $\\dots$ \\\\\n",
       "\t29 & FGGY & 10.0086 & 15.5954 & $\\dots$ \\\\\n",
       "\t30 & CLRN3 & 11.1207 & 18.0578 & $\\dots$ \\\\\n",
       "\t$\\dots$ & $\\dots$ & $\\dots$ & $\\dots$ &  \\\\\n",
       "\\end{tabular}\n"
      ],
      "text/plain": [
       "\u001b[1m16084×150 DataFrame\u001b[0m\n",
       "\u001b[1m   Row \u001b[0m│\u001b[1m gene    \u001b[0m\u001b[1m disease3_scan | 007 | Geometric Segment \u001b[0m\u001b[1m disease3_scan | 008\u001b[0m ⋯\n",
       "\u001b[1m       \u001b[0m│\u001b[90m String  \u001b[0m\u001b[90m Float64                                 \u001b[0m\u001b[90m Float64            \u001b[0m ⋯\n",
       "───────┼────────────────────────────────────────────────────────────────────────\n",
       "     1 │ PADI2                                    5.56033                      ⋯\n",
       "     2 │ CYP24A1                                  5.56033\n",
       "     3 │ SUPT16H                                 17.793\n",
       "     4 │ ZMIZ2                                   24.4654\n",
       "     5 │ SPAG9                                   21.6853                       ⋯\n",
       "     6 │ AMELX                                    4.44826\n",
       "     7 │ VPS33B                                  12.7887\n",
       "     8 │ DDX58                                   18.3491\n",
       "     9 │ CDV3                                    25.5775                       ⋯\n",
       "    10 │ RO60                                    12.7887\n",
       "    11 │ UBE2Q1                                  17.237\n",
       "   ⋮   │    ⋮                        ⋮                                         ⋱\n",
       " 16075 │ SETD5                                   16.1249\n",
       " 16076 │ XAF1                                    23.9094                       ⋯\n",
       " 16077 │ MYO5C                                   16.1249\n",
       " 16078 │ OSBPL9                                  23.3534\n",
       " 16079 │ HERC3                                    6.67239\n",
       " 16080 │ AMD1                                    27.2456                       ⋯\n",
       " 16081 │ TMPRSS4                                 11.6767\n",
       " 16082 │ ATP6V0B                                 23.3534\n",
       " 16083 │ DCHS1                                   18.9051\n",
       " 16084 │ AGTPBP1                                 18.3491                       ⋯\n",
       "\u001b[36m                                              148 columns and 16063 rows omitted\u001b[0m"
      ]
     },
     "execution_count": 233,
     "metadata": {},
     "output_type": "execute_result"
    }
   ],
   "source": [
    "#rows = genes\n",
    "#cols = selected ROIs\n",
    "mNormal = DataFrame(CSV.File(\"RScripts/matrix_DKD_normal.txt\"))"
   ]
  },
  {
   "cell_type": "code",
   "execution_count": 234,
   "metadata": {},
   "outputs": [
    {
     "data": {
      "text/html": [
       "<table class=\"data-frame\"><thead><tr><th></th><th>sample</th><th>normal</th><th>DKD</th></tr><tr><th></th><th>String</th><th>Int64</th><th>Int64</th></tr></thead><tbody><p>149 rows × 3 columns</p><tr><th>1</th><td>disease3_scan | 007 | Geometric Segment</td><td>0</td><td>1</td></tr><tr><th>2</th><td>disease3_scan | 008 | Geometric Segment</td><td>0</td><td>1</td></tr><tr><th>3</th><td>disease3_scan | 009 | Geometric Segment</td><td>0</td><td>1</td></tr><tr><th>4</th><td>disease3_scan | 010 | Geometric Segment</td><td>0</td><td>1</td></tr><tr><th>5</th><td>disease3_scan | 011 | Geometric Segment</td><td>0</td><td>1</td></tr><tr><th>6</th><td>disease3_scan | 012 | Geometric Segment</td><td>0</td><td>1</td></tr><tr><th>7</th><td>disease3_scan | 013 | Geometric Segment</td><td>0</td><td>1</td></tr><tr><th>8</th><td>disease3_scan | 014 | Geometric Segment</td><td>0</td><td>1</td></tr><tr><th>9</th><td>disease3_scan | 015 | Geometric Segment</td><td>0</td><td>1</td></tr><tr><th>10</th><td>disease3_scan | 016 | Geometric Segment</td><td>0</td><td>1</td></tr><tr><th>11</th><td>disease3_scan | 017 | Geometric Segment</td><td>0</td><td>1</td></tr><tr><th>12</th><td>disease3_scan | 018 | Geometric Segment</td><td>0</td><td>1</td></tr><tr><th>13</th><td>disease3_scan | 019 | Geometric Segment</td><td>0</td><td>1</td></tr><tr><th>14</th><td>disease3_scan | 020 | Geometric Segment</td><td>0</td><td>1</td></tr><tr><th>15</th><td>disease3_scan | 021 | Geometric Segment</td><td>0</td><td>1</td></tr><tr><th>16</th><td>disease3_scan | 022 | Geometric Segment</td><td>0</td><td>1</td></tr><tr><th>17</th><td>disease3_scan | 023 | Geometric Segment</td><td>0</td><td>1</td></tr><tr><th>18</th><td>disease3_scan | 024 | Geometric Segment</td><td>0</td><td>1</td></tr><tr><th>19</th><td>disease3_scan | 025 | Geometric Segment</td><td>0</td><td>1</td></tr><tr><th>20</th><td>disease3_scan | 026 | Geometric Segment</td><td>0</td><td>1</td></tr><tr><th>21</th><td>disease3_scan | 027 | Geometric Segment</td><td>0</td><td>1</td></tr><tr><th>22</th><td>disease3_scan | 028 | Geometric Segment</td><td>0</td><td>1</td></tr><tr><th>23</th><td>disease3_scan | 029 | Geometric Segment</td><td>0</td><td>1</td></tr><tr><th>24</th><td>disease3_scan | 030 | Geometric Segment</td><td>0</td><td>1</td></tr><tr><th>25</th><td>disease3_scan | 031 | Geometric Segment</td><td>0</td><td>1</td></tr><tr><th>26</th><td>disease3_scan | 032 | Geometric Segment</td><td>0</td><td>1</td></tr><tr><th>27</th><td>disease3_scan | 033 | Geometric Segment</td><td>0</td><td>1</td></tr><tr><th>28</th><td>disease3_scan | 034 | Geometric Segment</td><td>0</td><td>1</td></tr><tr><th>29</th><td>disease3_scan | 035 | Geometric Segment</td><td>0</td><td>1</td></tr><tr><th>30</th><td>disease3_scan | 036 | Geometric Segment</td><td>0</td><td>1</td></tr><tr><th>&vellip;</th><td>&vellip;</td><td>&vellip;</td><td>&vellip;</td></tr></tbody></table>"
      ],
      "text/latex": [
       "\\begin{tabular}{r|ccc}\n",
       "\t& sample & normal & DKD\\\\\n",
       "\t\\hline\n",
       "\t& String & Int64 & Int64\\\\\n",
       "\t\\hline\n",
       "\t1 & disease3\\_scan | 007 | Geometric Segment & 0 & 1 \\\\\n",
       "\t2 & disease3\\_scan | 008 | Geometric Segment & 0 & 1 \\\\\n",
       "\t3 & disease3\\_scan | 009 | Geometric Segment & 0 & 1 \\\\\n",
       "\t4 & disease3\\_scan | 010 | Geometric Segment & 0 & 1 \\\\\n",
       "\t5 & disease3\\_scan | 011 | Geometric Segment & 0 & 1 \\\\\n",
       "\t6 & disease3\\_scan | 012 | Geometric Segment & 0 & 1 \\\\\n",
       "\t7 & disease3\\_scan | 013 | Geometric Segment & 0 & 1 \\\\\n",
       "\t8 & disease3\\_scan | 014 | Geometric Segment & 0 & 1 \\\\\n",
       "\t9 & disease3\\_scan | 015 | Geometric Segment & 0 & 1 \\\\\n",
       "\t10 & disease3\\_scan | 016 | Geometric Segment & 0 & 1 \\\\\n",
       "\t11 & disease3\\_scan | 017 | Geometric Segment & 0 & 1 \\\\\n",
       "\t12 & disease3\\_scan | 018 | Geometric Segment & 0 & 1 \\\\\n",
       "\t13 & disease3\\_scan | 019 | Geometric Segment & 0 & 1 \\\\\n",
       "\t14 & disease3\\_scan | 020 | Geometric Segment & 0 & 1 \\\\\n",
       "\t15 & disease3\\_scan | 021 | Geometric Segment & 0 & 1 \\\\\n",
       "\t16 & disease3\\_scan | 022 | Geometric Segment & 0 & 1 \\\\\n",
       "\t17 & disease3\\_scan | 023 | Geometric Segment & 0 & 1 \\\\\n",
       "\t18 & disease3\\_scan | 024 | Geometric Segment & 0 & 1 \\\\\n",
       "\t19 & disease3\\_scan | 025 | Geometric Segment & 0 & 1 \\\\\n",
       "\t20 & disease3\\_scan | 026 | Geometric Segment & 0 & 1 \\\\\n",
       "\t21 & disease3\\_scan | 027 | Geometric Segment & 0 & 1 \\\\\n",
       "\t22 & disease3\\_scan | 028 | Geometric Segment & 0 & 1 \\\\\n",
       "\t23 & disease3\\_scan | 029 | Geometric Segment & 0 & 1 \\\\\n",
       "\t24 & disease3\\_scan | 030 | Geometric Segment & 0 & 1 \\\\\n",
       "\t25 & disease3\\_scan | 031 | Geometric Segment & 0 & 1 \\\\\n",
       "\t26 & disease3\\_scan | 032 | Geometric Segment & 0 & 1 \\\\\n",
       "\t27 & disease3\\_scan | 033 | Geometric Segment & 0 & 1 \\\\\n",
       "\t28 & disease3\\_scan | 034 | Geometric Segment & 0 & 1 \\\\\n",
       "\t29 & disease3\\_scan | 035 | Geometric Segment & 0 & 1 \\\\\n",
       "\t30 & disease3\\_scan | 036 | Geometric Segment & 0 & 1 \\\\\n",
       "\t$\\dots$ & $\\dots$ & $\\dots$ & $\\dots$ \\\\\n",
       "\\end{tabular}\n"
      ],
      "text/plain": [
       "\u001b[1m149×3 DataFrame\u001b[0m\n",
       "\u001b[1m Row \u001b[0m│\u001b[1m sample                            \u001b[0m\u001b[1m normal \u001b[0m\u001b[1m DKD   \u001b[0m\n",
       "\u001b[1m     \u001b[0m│\u001b[90m String                            \u001b[0m\u001b[90m Int64  \u001b[0m\u001b[90m Int64 \u001b[0m\n",
       "─────┼──────────────────────────────────────────────────\n",
       "   1 │ disease3_scan | 007 | Geometric …       0      1\n",
       "   2 │ disease3_scan | 008 | Geometric …       0      1\n",
       "   3 │ disease3_scan | 009 | Geometric …       0      1\n",
       "   4 │ disease3_scan | 010 | Geometric …       0      1\n",
       "   5 │ disease3_scan | 011 | Geometric …       0      1\n",
       "   6 │ disease3_scan | 012 | Geometric …       0      1\n",
       "   7 │ disease3_scan | 013 | Geometric …       0      1\n",
       "   8 │ disease3_scan | 014 | Geometric …       0      1\n",
       "   9 │ disease3_scan | 015 | Geometric …       0      1\n",
       "  10 │ disease3_scan | 016 | Geometric …       0      1\n",
       "  11 │ disease3_scan | 017 | Geometric …       0      1\n",
       "  ⋮  │                 ⋮                    ⋮       ⋮\n",
       " 140 │ normal2B_scan | 013 | Geometric …       1      0\n",
       " 141 │ normal2B_scan | 014 | Geometric …       1      0\n",
       " 142 │ normal2B_scan | 015 | Geometric …       1      0\n",
       " 143 │ normal2B_scan | 016 | Geometric …       1      0\n",
       " 144 │ normal2B_scan | 017 | Geometric …       1      0\n",
       " 145 │ normal2B_scan | 018 | Geometric …       1      0\n",
       " 146 │ normal2B_scan | 019 | Geometric …       1      0\n",
       " 147 │ normal2B_scan | 020 | Geometric …       1      0\n",
       " 148 │ normal2B_scan | 021 | Geometric …       1      0\n",
       " 149 │ normal2B_scan | 022 | Geometric …       1      0\n",
       "\u001b[36m                                        128 rows omitted\u001b[0m"
      ]
     },
     "execution_count": 234,
     "metadata": {},
     "output_type": "execute_result"
    }
   ],
   "source": [
    "#rows = selected ROIs\n",
    "#cols = group\n",
    "mDesign = DataFrame(CSV.File(\"RScripts/matrix_Design_final.txt\"))"
   ]
  },
  {
   "cell_type": "code",
   "execution_count": 249,
   "metadata": {},
   "outputs": [
    {
     "data": {
      "text/plain": [
       "10"
      ]
     },
     "execution_count": 249,
     "metadata": {},
     "output_type": "execute_result"
    }
   ],
   "source": [
    "n1 = size(mDesign)[1]-10; n2 = 10"
   ]
  },
  {
   "cell_type": "code",
   "execution_count": 263,
   "metadata": {},
   "outputs": [
    {
     "data": {
      "text/plain": [
       "\"matrix_Design_final.txt\""
      ]
     },
     "execution_count": 263,
     "metadata": {},
     "output_type": "execute_result"
    }
   ],
   "source": [
    "CSV.write(\"matrix_Design_final.txt\", DataFrame(\"sample\" => mDesign.sample, \"normal\" => convert(Vector{UInt8},vcat(trues(n1),falses(n2))), \"DKD\" => convert(Vector{UInt8},vcat(falses(n1),trues(n2)))), delim = '\\t')"
   ]
  },
  {
   "cell_type": "code",
   "execution_count": 237,
   "metadata": {},
   "outputs": [
    {
     "data": {
      "text/html": [
       "<table class=\"data-frame\"><thead><tr><th></th><th>gene</th><th>disease3_scan | 001 | PanCK</th><th>disease3_scan | 001 | neg</th><th>disease3_scan | 002 | PanCK</th></tr><tr><th></th><th>String</th><th>Float64</th><th>Float64</th><th>Float64</th></tr></thead><tbody><p>16,084 rows × 232 columns (omitted printing of 228 columns)</p><tr><th>1</th><td>PADI2</td><td>6.01291</td><td>8.6185</td><td>11.7082</td></tr><tr><th>2</th><td>CYP24A1</td><td>9.2198</td><td>7.87978</td><td>7.48021</td></tr><tr><th>3</th><td>SUPT16H</td><td>14.0301</td><td>16.252</td><td>14.9604</td></tr><tr><th>4</th><td>ZMIZ2</td><td>20.4439</td><td>19.9457</td><td>28.2947</td></tr><tr><th>5</th><td>SPAG9</td><td>19.2413</td><td>16.0058</td><td>14.9604</td></tr><tr><th>6</th><td>AMELX</td><td>8.41807</td><td>7.38729</td><td>10.082</td></tr><tr><th>7</th><td>VPS33B</td><td>17.6379</td><td>13.5434</td><td>10.4073</td></tr><tr><th>8</th><td>DDX58</td><td>11.625</td><td>11.8197</td><td>15.9361</td></tr><tr><th>9</th><td>CDV3</td><td>22.0473</td><td>19.6994</td><td>20.164</td></tr><tr><th>10</th><td>RO60</td><td>14.8318</td><td>13.2971</td><td>14.9604</td></tr><tr><th>11</th><td>UBE2Q1</td><td>14.431</td><td>15.5133</td><td>14.9604</td></tr><tr><th>12</th><td>VEGFB</td><td>18.8405</td><td>17.4833</td><td>20.164</td></tr><tr><th>13</th><td>METAP1D</td><td>11.625</td><td>10.5884</td><td>10.4073</td></tr><tr><th>14</th><td>HCFC1</td><td>9.2198</td><td>6.15607</td><td>9.43157</td></tr><tr><th>15</th><td>ADIPOQ</td><td>13.2284</td><td>16.7445</td><td>13.6595</td></tr><tr><th>16</th><td>OPN1SW</td><td>14.8318</td><td>18.9607</td><td>13.0091</td></tr><tr><th>17</th><td>PALM2AKAP2</td><td>13.6293</td><td>13.7896</td><td>17.5622</td></tr><tr><th>18</th><td>PAQR8</td><td>13.6293</td><td>14.2821</td><td>11.0577</td></tr><tr><th>19</th><td>MT1E</td><td>22.4482</td><td>19.6994</td><td>12.0334</td></tr><tr><th>20</th><td>SH2B3</td><td>12.4267</td><td>10.096</td><td>5.52885</td></tr><tr><th>21</th><td>NRDE2</td><td>18.4396</td><td>15.0208</td><td>14.31</td></tr><tr><th>22</th><td>CYP2C9</td><td>11.2241</td><td>14.0359</td><td>11.3829</td></tr><tr><th>23</th><td>UBTD1</td><td>17.6379</td><td>14.5283</td><td>15.9361</td></tr><tr><th>24</th><td>B3GAT2</td><td>7.61635</td><td>16.252</td><td>10.7325</td></tr><tr><th>25</th><td>CDK2AP2</td><td>32.4697</td><td>34.2278</td><td>29.2704</td></tr><tr><th>26</th><td>AGAP3</td><td>12.0258</td><td>15.7596</td><td>13.6595</td></tr><tr><th>27</th><td>MROH6</td><td>7.21549</td><td>8.86475</td><td>9.7568</td></tr><tr><th>28</th><td>STRIT1</td><td>10.4224</td><td>13.2971</td><td>9.10634</td></tr><tr><th>29</th><td>FGGY</td><td>18.4396</td><td>19.4532</td><td>14.9604</td></tr><tr><th>30</th><td>CLRN3</td><td>8.01721</td><td>14.5283</td><td>14.6352</td></tr><tr><th>&vellip;</th><td>&vellip;</td><td>&vellip;</td><td>&vellip;</td><td>&vellip;</td></tr></tbody></table>"
      ],
      "text/latex": [
       "\\begin{tabular}{r|ccccc}\n",
       "\t& gene & disease3\\_scan | 001 | PanCK & disease3\\_scan | 001 | neg & disease3\\_scan | 002 | PanCK & \\\\\n",
       "\t\\hline\n",
       "\t& String & Float64 & Float64 & Float64 & \\\\\n",
       "\t\\hline\n",
       "\t1 & PADI2 & 6.01291 & 8.6185 & 11.7082 & $\\dots$ \\\\\n",
       "\t2 & CYP24A1 & 9.2198 & 7.87978 & 7.48021 & $\\dots$ \\\\\n",
       "\t3 & SUPT16H & 14.0301 & 16.252 & 14.9604 & $\\dots$ \\\\\n",
       "\t4 & ZMIZ2 & 20.4439 & 19.9457 & 28.2947 & $\\dots$ \\\\\n",
       "\t5 & SPAG9 & 19.2413 & 16.0058 & 14.9604 & $\\dots$ \\\\\n",
       "\t6 & AMELX & 8.41807 & 7.38729 & 10.082 & $\\dots$ \\\\\n",
       "\t7 & VPS33B & 17.6379 & 13.5434 & 10.4073 & $\\dots$ \\\\\n",
       "\t8 & DDX58 & 11.625 & 11.8197 & 15.9361 & $\\dots$ \\\\\n",
       "\t9 & CDV3 & 22.0473 & 19.6994 & 20.164 & $\\dots$ \\\\\n",
       "\t10 & RO60 & 14.8318 & 13.2971 & 14.9604 & $\\dots$ \\\\\n",
       "\t11 & UBE2Q1 & 14.431 & 15.5133 & 14.9604 & $\\dots$ \\\\\n",
       "\t12 & VEGFB & 18.8405 & 17.4833 & 20.164 & $\\dots$ \\\\\n",
       "\t13 & METAP1D & 11.625 & 10.5884 & 10.4073 & $\\dots$ \\\\\n",
       "\t14 & HCFC1 & 9.2198 & 6.15607 & 9.43157 & $\\dots$ \\\\\n",
       "\t15 & ADIPOQ & 13.2284 & 16.7445 & 13.6595 & $\\dots$ \\\\\n",
       "\t16 & OPN1SW & 14.8318 & 18.9607 & 13.0091 & $\\dots$ \\\\\n",
       "\t17 & PALM2AKAP2 & 13.6293 & 13.7896 & 17.5622 & $\\dots$ \\\\\n",
       "\t18 & PAQR8 & 13.6293 & 14.2821 & 11.0577 & $\\dots$ \\\\\n",
       "\t19 & MT1E & 22.4482 & 19.6994 & 12.0334 & $\\dots$ \\\\\n",
       "\t20 & SH2B3 & 12.4267 & 10.096 & 5.52885 & $\\dots$ \\\\\n",
       "\t21 & NRDE2 & 18.4396 & 15.0208 & 14.31 & $\\dots$ \\\\\n",
       "\t22 & CYP2C9 & 11.2241 & 14.0359 & 11.3829 & $\\dots$ \\\\\n",
       "\t23 & UBTD1 & 17.6379 & 14.5283 & 15.9361 & $\\dots$ \\\\\n",
       "\t24 & B3GAT2 & 7.61635 & 16.252 & 10.7325 & $\\dots$ \\\\\n",
       "\t25 & CDK2AP2 & 32.4697 & 34.2278 & 29.2704 & $\\dots$ \\\\\n",
       "\t26 & AGAP3 & 12.0258 & 15.7596 & 13.6595 & $\\dots$ \\\\\n",
       "\t27 & MROH6 & 7.21549 & 8.86475 & 9.7568 & $\\dots$ \\\\\n",
       "\t28 & STRIT1 & 10.4224 & 13.2971 & 9.10634 & $\\dots$ \\\\\n",
       "\t29 & FGGY & 18.4396 & 19.4532 & 14.9604 & $\\dots$ \\\\\n",
       "\t30 & CLRN3 & 8.01721 & 14.5283 & 14.6352 & $\\dots$ \\\\\n",
       "\t$\\dots$ & $\\dots$ & $\\dots$ & $\\dots$ & $\\dots$ &  \\\\\n",
       "\\end{tabular}\n"
      ],
      "text/plain": [
       "\u001b[1m16084×232 DataFrame\u001b[0m\n",
       "\u001b[1m   Row \u001b[0m│\u001b[1m gene    \u001b[0m\u001b[1m disease3_scan | 001 | PanCK \u001b[0m\u001b[1m disease3_scan | 001 | neg \u001b[0m\u001b[1m dise\u001b[0m ⋯\n",
       "\u001b[1m       \u001b[0m│\u001b[90m String  \u001b[0m\u001b[90m Float64                     \u001b[0m\u001b[90m Float64                   \u001b[0m\u001b[90m Floa\u001b[0m ⋯\n",
       "───────┼────────────────────────────────────────────────────────────────────────\n",
       "     1 │ PADI2                        6.01291                    8.6185        ⋯\n",
       "     2 │ CYP24A1                      9.2198                     7.87978\n",
       "     3 │ SUPT16H                     14.0301                    16.252\n",
       "     4 │ ZMIZ2                       20.4439                    19.9457\n",
       "     5 │ SPAG9                       19.2413                    16.0058        ⋯\n",
       "     6 │ AMELX                        8.41807                    7.38729\n",
       "     7 │ VPS33B                      17.6379                    13.5434\n",
       "     8 │ DDX58                       11.625                     11.8197\n",
       "     9 │ CDV3                        22.0473                    19.6994        ⋯\n",
       "    10 │ RO60                        14.8318                    13.2971\n",
       "    11 │ UBE2Q1                      14.431                     15.5133\n",
       "   ⋮   │    ⋮                  ⋮                           ⋮                   ⋱\n",
       " 16075 │ SETD5                       16.8361                    17.4833\n",
       " 16076 │ XAF1                        16.8361                    19.4532        ⋯\n",
       " 16077 │ MYO5C                       14.431                     11.8197\n",
       " 16078 │ OSBPL9                      18.4396                    23.1468\n",
       " 16079 │ HERC3                       13.6293                    10.8347\n",
       " 16080 │ AMD1                        35.6766                    33.489         ⋯\n",
       " 16081 │ TMPRSS4                     16.8361                     9.35723\n",
       " 16082 │ ATP6V0B                     36.0775                    34.474\n",
       " 16083 │ DCHS1                        9.2198                    14.5283\n",
       " 16084 │ AGTPBP1                     14.0301                    11.5734        ⋯\n",
       "\u001b[36m                                              229 columns and 16063 rows omitted\u001b[0m"
      ]
     },
     "execution_count": 237,
     "metadata": {},
     "output_type": "execute_result"
    }
   ],
   "source": [
    "arename(PCM,names(PCM)[1] => \"gene\")"
   ]
  },
  {
   "cell_type": "code",
   "execution_count": 276,
   "metadata": {},
   "outputs": [
    {
     "data": {
      "text/html": [
       "<table class=\"data-frame\"><thead><tr><th></th><th>8T</th><th>AV1</th><th>AV2</th><th>B</th><th>C1</th><th>C2</th><th>D</th><th>DV</th></tr><tr><th></th><th>Float64</th><th>Float64</th><th>Float64</th><th>Float64</th><th>Float64</th><th>Float64</th><th>Float64</th><th>Float64</th></tr></thead><tbody><p>231 rows × 36 columns (omitted printing of 28 columns)</p><tr><th>1</th><td>0.0</td><td>4.5904</td><td>1.21088</td><td>0.135515</td><td>0.0301434</td><td>0.0</td><td>0.0132459</td><td>3.56322</td></tr><tr><th>2</th><td>0.0</td><td>4.06622</td><td>0.430753</td><td>0.37214</td><td>0.0</td><td>0.0</td><td>0.0</td><td>2.57307</td></tr><tr><th>3</th><td>0.0</td><td>5.24017</td><td>1.38894</td><td>0.386018</td><td>0.0</td><td>0.0</td><td>0.0</td><td>3.92167</td></tr><tr><th>4</th><td>0.0</td><td>5.24679</td><td>0.809892</td><td>0.430381</td><td>0.0</td><td>0.0</td><td>0.0</td><td>3.76866</td></tr><tr><th>5</th><td>0.0</td><td>3.50703</td><td>2.30973</td><td>0.291574</td><td>0.0</td><td>0.0</td><td>0.0</td><td>5.09</td></tr><tr><th>6</th><td>0.0</td><td>3.36834</td><td>1.26955</td><td>0.449764</td><td>0.0</td><td>0.0</td><td>0.0</td><td>1.92555</td></tr><tr><th>7</th><td>0.0</td><td>4.81909</td><td>1.38718</td><td>0.410217</td><td>0.0</td><td>0.0</td><td>0.0</td><td>4.26995</td></tr><tr><th>8</th><td>0.0</td><td>3.34265</td><td>1.18114</td><td>0.392818</td><td>0.0</td><td>0.0</td><td>0.0</td><td>3.26289</td></tr><tr><th>9</th><td>0.0</td><td>3.74976</td><td>0.926026</td><td>0.418154</td><td>0.0</td><td>0.0</td><td>0.0</td><td>3.27684</td></tr><tr><th>10</th><td>0.0</td><td>4.33402</td><td>1.21028</td><td>0.289183</td><td>0.0</td><td>0.0</td><td>0.0</td><td>3.66378</td></tr><tr><th>11</th><td>0.0</td><td>4.26922</td><td>1.00929</td><td>0.373532</td><td>0.0</td><td>0.0</td><td>0.0</td><td>3.31763</td></tr><tr><th>12</th><td>0.0</td><td>2.68567</td><td>1.29931</td><td>0.249231</td><td>0.0</td><td>0.0</td><td>0.0</td><td>3.81579</td></tr><tr><th>13</th><td>0.0</td><td>3.83153</td><td>0.671598</td><td>0.304501</td><td>0.0</td><td>0.0</td><td>0.0</td><td>3.68075</td></tr><tr><th>14</th><td>0.0</td><td>3.24341</td><td>1.40063</td><td>0.562065</td><td>0.0161726</td><td>0.0</td><td>0.0</td><td>3.79844</td></tr><tr><th>15</th><td>0.0</td><td>3.67235</td><td>0.462538</td><td>0.220907</td><td>0.0</td><td>0.0</td><td>0.0</td><td>4.69998</td></tr><tr><th>16</th><td>0.0</td><td>4.11638</td><td>0.743219</td><td>0.439135</td><td>0.00417728</td><td>0.0</td><td>0.0388963</td><td>3.72484</td></tr><tr><th>17</th><td>0.0</td><td>3.77911</td><td>1.00418</td><td>0.602476</td><td>0.0</td><td>0.0</td><td>0.0</td><td>3.45477</td></tr><tr><th>18</th><td>0.0</td><td>2.67607</td><td>0.93871</td><td>0.57056</td><td>0.0</td><td>0.0</td><td>0.0</td><td>4.56735</td></tr><tr><th>19</th><td>0.0</td><td>3.23705</td><td>1.2005</td><td>0.379438</td><td>0.0</td><td>0.0</td><td>0.0</td><td>3.70134</td></tr><tr><th>20</th><td>0.0</td><td>1.99179</td><td>1.29522</td><td>0.237707</td><td>0.0</td><td>0.0</td><td>0.0</td><td>2.29065</td></tr><tr><th>21</th><td>0.0</td><td>3.40258</td><td>0.936563</td><td>0.1557</td><td>0.0</td><td>0.0</td><td>0.0</td><td>4.96505</td></tr><tr><th>22</th><td>0.101011</td><td>3.57376</td><td>0.979226</td><td>0.341577</td><td>0.0</td><td>0.0</td><td>0.0</td><td>3.81403</td></tr><tr><th>23</th><td>0.0</td><td>2.7087</td><td>1.02889</td><td>0.300192</td><td>0.0</td><td>0.0</td><td>0.0</td><td>4.193</td></tr><tr><th>24</th><td>0.0</td><td>2.4993</td><td>0.964052</td><td>0.257732</td><td>0.0</td><td>0.0</td><td>0.0</td><td>4.44933</td></tr><tr><th>25</th><td>0.0</td><td>4.14046</td><td>0.574311</td><td>0.285561</td><td>0.0</td><td>0.0</td><td>0.0</td><td>5.49106</td></tr><tr><th>26</th><td>0.0</td><td>3.69586</td><td>1.58509</td><td>0.204473</td><td>0.0</td><td>0.0</td><td>0.0</td><td>4.23325</td></tr><tr><th>27</th><td>0.0</td><td>4.32132</td><td>1.01846</td><td>0.622475</td><td>0.0</td><td>0.0</td><td>0.0</td><td>3.18087</td></tr><tr><th>28</th><td>0.0</td><td>3.74109</td><td>1.19893</td><td>0.314742</td><td>0.0</td><td>0.0</td><td>0.0</td><td>3.16284</td></tr><tr><th>29</th><td>0.0</td><td>4.46764</td><td>0.870362</td><td>0.475167</td><td>0.0</td><td>0.0</td><td>0.0</td><td>5.05686</td></tr><tr><th>30</th><td>0.0</td><td>4.15352</td><td>0.778908</td><td>0.412025</td><td>0.0</td><td>0.0</td><td>0.0</td><td>3.81962</td></tr><tr><th>&vellip;</th><td>&vellip;</td><td>&vellip;</td><td>&vellip;</td><td>&vellip;</td><td>&vellip;</td><td>&vellip;</td><td>&vellip;</td><td>&vellip;</td></tr></tbody></table>"
      ],
      "text/latex": [
       "\\begin{tabular}{r|ccccccccc}\n",
       "\t& 8T & AV1 & AV2 & B & C1 & C2 & D & DV & \\\\\n",
       "\t\\hline\n",
       "\t& Float64 & Float64 & Float64 & Float64 & Float64 & Float64 & Float64 & Float64 & \\\\\n",
       "\t\\hline\n",
       "\t1 & 0.0 & 4.5904 & 1.21088 & 0.135515 & 0.0301434 & 0.0 & 0.0132459 & 3.56322 & $\\dots$ \\\\\n",
       "\t2 & 0.0 & 4.06622 & 0.430753 & 0.37214 & 0.0 & 0.0 & 0.0 & 2.57307 & $\\dots$ \\\\\n",
       "\t3 & 0.0 & 5.24017 & 1.38894 & 0.386018 & 0.0 & 0.0 & 0.0 & 3.92167 & $\\dots$ \\\\\n",
       "\t4 & 0.0 & 5.24679 & 0.809892 & 0.430381 & 0.0 & 0.0 & 0.0 & 3.76866 & $\\dots$ \\\\\n",
       "\t5 & 0.0 & 3.50703 & 2.30973 & 0.291574 & 0.0 & 0.0 & 0.0 & 5.09 & $\\dots$ \\\\\n",
       "\t6 & 0.0 & 3.36834 & 1.26955 & 0.449764 & 0.0 & 0.0 & 0.0 & 1.92555 & $\\dots$ \\\\\n",
       "\t7 & 0.0 & 4.81909 & 1.38718 & 0.410217 & 0.0 & 0.0 & 0.0 & 4.26995 & $\\dots$ \\\\\n",
       "\t8 & 0.0 & 3.34265 & 1.18114 & 0.392818 & 0.0 & 0.0 & 0.0 & 3.26289 & $\\dots$ \\\\\n",
       "\t9 & 0.0 & 3.74976 & 0.926026 & 0.418154 & 0.0 & 0.0 & 0.0 & 3.27684 & $\\dots$ \\\\\n",
       "\t10 & 0.0 & 4.33402 & 1.21028 & 0.289183 & 0.0 & 0.0 & 0.0 & 3.66378 & $\\dots$ \\\\\n",
       "\t11 & 0.0 & 4.26922 & 1.00929 & 0.373532 & 0.0 & 0.0 & 0.0 & 3.31763 & $\\dots$ \\\\\n",
       "\t12 & 0.0 & 2.68567 & 1.29931 & 0.249231 & 0.0 & 0.0 & 0.0 & 3.81579 & $\\dots$ \\\\\n",
       "\t13 & 0.0 & 3.83153 & 0.671598 & 0.304501 & 0.0 & 0.0 & 0.0 & 3.68075 & $\\dots$ \\\\\n",
       "\t14 & 0.0 & 3.24341 & 1.40063 & 0.562065 & 0.0161726 & 0.0 & 0.0 & 3.79844 & $\\dots$ \\\\\n",
       "\t15 & 0.0 & 3.67235 & 0.462538 & 0.220907 & 0.0 & 0.0 & 0.0 & 4.69998 & $\\dots$ \\\\\n",
       "\t16 & 0.0 & 4.11638 & 0.743219 & 0.439135 & 0.00417728 & 0.0 & 0.0388963 & 3.72484 & $\\dots$ \\\\\n",
       "\t17 & 0.0 & 3.77911 & 1.00418 & 0.602476 & 0.0 & 0.0 & 0.0 & 3.45477 & $\\dots$ \\\\\n",
       "\t18 & 0.0 & 2.67607 & 0.93871 & 0.57056 & 0.0 & 0.0 & 0.0 & 4.56735 & $\\dots$ \\\\\n",
       "\t19 & 0.0 & 3.23705 & 1.2005 & 0.379438 & 0.0 & 0.0 & 0.0 & 3.70134 & $\\dots$ \\\\\n",
       "\t20 & 0.0 & 1.99179 & 1.29522 & 0.237707 & 0.0 & 0.0 & 0.0 & 2.29065 & $\\dots$ \\\\\n",
       "\t21 & 0.0 & 3.40258 & 0.936563 & 0.1557 & 0.0 & 0.0 & 0.0 & 4.96505 & $\\dots$ \\\\\n",
       "\t22 & 0.101011 & 3.57376 & 0.979226 & 0.341577 & 0.0 & 0.0 & 0.0 & 3.81403 & $\\dots$ \\\\\n",
       "\t23 & 0.0 & 2.7087 & 1.02889 & 0.300192 & 0.0 & 0.0 & 0.0 & 4.193 & $\\dots$ \\\\\n",
       "\t24 & 0.0 & 2.4993 & 0.964052 & 0.257732 & 0.0 & 0.0 & 0.0 & 4.44933 & $\\dots$ \\\\\n",
       "\t25 & 0.0 & 4.14046 & 0.574311 & 0.285561 & 0.0 & 0.0 & 0.0 & 5.49106 & $\\dots$ \\\\\n",
       "\t26 & 0.0 & 3.69586 & 1.58509 & 0.204473 & 0.0 & 0.0 & 0.0 & 4.23325 & $\\dots$ \\\\\n",
       "\t27 & 0.0 & 4.32132 & 1.01846 & 0.622475 & 0.0 & 0.0 & 0.0 & 3.18087 & $\\dots$ \\\\\n",
       "\t28 & 0.0 & 3.74109 & 1.19893 & 0.314742 & 0.0 & 0.0 & 0.0 & 3.16284 & $\\dots$ \\\\\n",
       "\t29 & 0.0 & 4.46764 & 0.870362 & 0.475167 & 0.0 & 0.0 & 0.0 & 5.05686 & $\\dots$ \\\\\n",
       "\t30 & 0.0 & 4.15352 & 0.778908 & 0.412025 & 0.0 & 0.0 & 0.0 & 3.81962 & $\\dots$ \\\\\n",
       "\t$\\dots$ & $\\dots$ & $\\dots$ & $\\dots$ & $\\dots$ & $\\dots$ & $\\dots$ & $\\dots$ & $\\dots$ &  \\\\\n",
       "\\end{tabular}\n"
      ],
      "text/plain": [
       "\u001b[1m231×36 DataFrame\u001b[0m\n",
       "\u001b[1m Row \u001b[0m│\u001b[1m 8T      \u001b[0m\u001b[1m AV1       \u001b[0m\u001b[1m AV2      \u001b[0m\u001b[1m B         \u001b[0m\u001b[1m C1        \u001b[0m\u001b[1m C2      \u001b[0m\u001b[1m D         \u001b[0m ⋯\n",
       "\u001b[1m     \u001b[0m│\u001b[90m Float64 \u001b[0m\u001b[90m Float64   \u001b[0m\u001b[90m Float64  \u001b[0m\u001b[90m Float64   \u001b[0m\u001b[90m Float64   \u001b[0m\u001b[90m Float64 \u001b[0m\u001b[90m Float64   \u001b[0m ⋯\n",
       "─────┼──────────────────────────────────────────────────────────────────────────\n",
       "   1 │     0.0  4.5904     1.21088   0.135515   0.0301434      0.0   0.0132459 ⋯\n",
       "   2 │     0.0  4.06622    0.430753  0.37214    0.0            0.0   0.0\n",
       "   3 │     0.0  5.24017    1.38894   0.386018   0.0            0.0   0.0\n",
       "   4 │     0.0  5.24679    0.809892  0.430381   0.0            0.0   0.0\n",
       "   5 │     0.0  3.50703    2.30973   0.291574   0.0            0.0   0.0       ⋯\n",
       "   6 │     0.0  3.36834    1.26955   0.449764   0.0            0.0   0.0\n",
       "   7 │     0.0  4.81909    1.38718   0.410217   0.0            0.0   0.0\n",
       "   8 │     0.0  3.34265    1.18114   0.392818   0.0            0.0   0.0\n",
       "   9 │     0.0  3.74976    0.926026  0.418154   0.0            0.0   0.0       ⋯\n",
       "  10 │     0.0  4.33402    1.21028   0.289183   0.0            0.0   0.0\n",
       "  11 │     0.0  4.26922    1.00929   0.373532   0.0            0.0   0.0\n",
       "  ⋮  │    ⋮         ⋮         ⋮          ⋮          ⋮         ⋮         ⋮      ⋱\n",
       " 222 │     0.0  0.439163   0.0       0.265669   0.770515       0.0   7.80407\n",
       " 223 │     0.0  0.0034957  0.577379  0.488043   0.480508       0.0   0.245861  ⋯\n",
       " 224 │     0.0  0.597166   0.0       0.0        0.155004       0.0   3.71102\n",
       " 225 │     0.0  0.0634464  0.53937   0.310699   0.354294       0.0   0.0743709\n",
       " 226 │     0.0  0.307367   0.431634  0.194935   0.895729       0.0   4.07813\n",
       " 227 │     0.0  0.0        0.73973   0.337677   0.0518723      0.0   0.0       ⋯\n",
       " 228 │     0.0  0.126917   0.0       0.0        0.188008       0.0   1.1316\n",
       " 229 │     0.0  0.0        0.363105  0.0        0.290077       0.0   0.160304\n",
       " 230 │     0.0  2.61697    0.0       0.0782753  0.230238       0.0   0.492212\n",
       " 231 │     0.0  3.18718    0.452163  0.0        0.0            0.0   0.0       ⋯\n",
       "\u001b[36m                                                 29 columns and 210 rows omitted\u001b[0m"
      ]
     },
     "execution_count": 276,
     "metadata": {},
     "output_type": "execute_result"
    }
   ],
   "source": [
    "#rows = selected ROIs\n",
    "#cols = group\n",
    "cellNew = DataFrame(CSV.File(\"RScripts/cell_new_final.txt\"))"
   ]
  },
  {
   "cell_type": "code",
   "execution_count": 288,
   "metadata": {},
   "outputs": [],
   "source": [
    "bv1 = falses(231);\n",
    "bv1[1:5] .= true;\n",
    "bv2 = falses(231);\n",
    "bv2[6:10] .= true;"
   ]
  },
  {
   "cell_type": "code",
   "execution_count": 283,
   "metadata": {},
   "outputs": [
    {
     "data": {
      "text/plain": [
       "2-element view(::PooledArrays.PooledVector{String, UInt32, Vector{UInt32}}, [1, 2]) with eltype String:\n",
       " \"Group2\"\n",
       " \"Group2\""
      ]
     },
     "execution_count": 283,
     "metadata": {},
     "output_type": "execute_result"
    }
   ],
   "source": [
    "cellNew.Group[bv] .= \"Group2\""
   ]
  },
  {
   "cell_type": "code",
   "execution_count": 295,
   "metadata": {},
   "outputs": [
    {
     "data": {
      "text/plain": [
       "5-element PooledArrays.PooledVector{String, UInt32, Vector{UInt32}}:\n",
       " \"Group2\"\n",
       " \"Group2\"\n",
       " \"Group2\"\n",
       " \"Group2\"\n",
       " \"Group2\""
      ]
     },
     "execution_count": 295,
     "metadata": {},
     "output_type": "execute_result"
    }
   ],
   "source": [
    "cnf1 = copy(cellNew[bv1,:])\n",
    "cnf1.Group .= \"Group1\"\n",
    "cnf2 = copy(cellNew[bv2,:])\n",
    "cnf2.Group .= \"Group2\""
   ]
  },
  {
   "cell_type": "code",
   "execution_count": 296,
   "metadata": {},
   "outputs": [
    {
     "data": {
      "text/plain": [
       "10-element Vector{String}:\n",
       " \"Group1\"\n",
       " \"Group1\"\n",
       " \"Group1\"\n",
       " \"Group1\"\n",
       " \"Group1\"\n",
       " \"Group2\"\n",
       " \"Group2\"\n",
       " \"Group2\"\n",
       " \"Group2\"\n",
       " \"Group2\""
      ]
     },
     "execution_count": 296,
     "metadata": {},
     "output_type": "execute_result"
    }
   ],
   "source": [
    "vcat(cnf1,cnf2)[!,\"Group\"]"
   ]
  },
  {
   "cell_type": "code",
   "execution_count": 298,
   "metadata": {},
   "outputs": [
    {
     "data": {
      "text/plain": [
       "231-element PooledArrays.PooledVector{String, UInt32, Vector{UInt32}}:\n",
       " \"Group2\"\n",
       " \"Group2\"\n",
       " \"Group1\"\n",
       " \"Group1\"\n",
       " \"Group1\"\n",
       " \"Group1\"\n",
       " \"Group1\"\n",
       " \"Group1\"\n",
       " \"Group1\"\n",
       " \"Group1\"\n",
       " \"Group1\"\n",
       " \"Group1\"\n",
       " \"Group1\"\n",
       " ⋮\n",
       " \"Group2\"\n",
       " \"Group2\"\n",
       " \"Group2\"\n",
       " \"Group2\"\n",
       " \"Group2\"\n",
       " \"Group2\"\n",
       " \"Group2\"\n",
       " \"Group2\"\n",
       " \"Group2\"\n",
       " \"Group2\"\n",
       " \"Group2\"\n",
       " \"Group2\""
      ]
     },
     "execution_count": 298,
     "metadata": {},
     "output_type": "execute_result"
    }
   ],
   "source": [
    "cellNew[!,\"Group\"]"
   ]
  },
  {
   "cell_type": "code",
   "execution_count": 274,
   "metadata": {},
   "outputs": [
    {
     "data": {
      "text/plain": [
       "1675-element Vector{String}:\n",
       " \"2-LTR circle formation\"\n",
       " \"A tetrasaccharide linker sequence is required for GAG synthesis\"\n",
       " \"Abacavir metabolism\"\n",
       " \"Abacavir transmembrane transport\"\n",
       " \"Abacavir transport and metabolism\"\n",
       " \"ABC transporter disorders\"\n",
       " \"ABC transporters in lipid homeostasis\"\n",
       " \"ABC-family proteins mediated transport\"\n",
       " \"Abortive elongation of HIV-1 transcript in the absence of Tat\"\n",
       " \"Acetylcholine binding and downstream events\"\n",
       " \"Acetylcholine Neurotransmitter Release Cycle\"\n",
       " \"Acetylcholine regulates insulin secretion\"\n",
       " \"Activated NOTCH1 Transmits Signal to the Nucleus\"\n",
       " ⋮\n",
       " \"WNT ligand biogenesis and trafficking\"\n",
       " \"WNT mediated activation of DVL\"\n",
       " \"WNT5A-dependent internalization of FZD2, FZD5 and ROR2\"\n",
       " \"WNT5A-dependent internalization of FZD4\"\n",
       " \"XBP1(S) activates chaperone genes\"\n",
       " \"Xenobiotics\"\n",
       " \"YAP1- and WWTR1 (TAZ)-stimulated gene expression\"\n",
       " \"ZBP1(DAI) mediated induction of type I IFNs\"\n",
       " \"Zinc efflux and compartmentalization by the SLC30 family\"\n",
       " \"Zinc influx into cells by the SLC39 gene family\"\n",
       " \"Zinc transporters\"\n",
       " \"Group\""
      ]
     },
     "execution_count": 274,
     "metadata": {},
     "output_type": "execute_result"
    }
   ],
   "source": [
    "names(genon)"
   ]
  },
  {
   "cell_type": "code",
   "execution_count": null,
   "metadata": {},
   "outputs": [],
   "source": [
    "cellN"
   ]
  }
 ],
 "metadata": {
  "@webio": {
   "lastCommId": null,
   "lastKernelId": null
  },
  "kernelspec": {
   "display_name": "Julia 1.6.0",
   "language": "julia",
   "name": "julia-1.6"
  },
  "language_info": {
   "file_extension": ".jl",
   "mimetype": "application/julia",
   "name": "julia",
   "version": "1.6.0"
  }
 },
 "nbformat": 4,
 "nbformat_minor": 4
}
