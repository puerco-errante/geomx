{
 "cells": [
  {
   "cell_type": "markdown",
   "metadata": {},
   "source": [
    "# Analyzing the different regions and their correlations\n",
    "\n",
    "Useful links:\n",
    "\n",
    "* https://en.wikibooks.org/wiki/Introducing_Julia/DataFrames"
   ]
  },
  {
   "cell_type": "code",
   "execution_count": 1,
   "metadata": {},
   "outputs": [
    {
     "ename": "LoadError",
     "evalue": "UndefVarError: Pkg not defined",
     "output_type": "error",
     "traceback": [
      "UndefVarError: Pkg not defined",
      "",
      "Stacktrace:",
      " [1] top-level scope",
      "   @ In[1]:2",
      " [2] eval",
      "   @ ./boot.jl:360 [inlined]",
      " [3] include_string(mapexpr::typeof(REPL.softscope), mod::Module, code::String, filename::String)",
      "   @ Base ./loading.jl:1094"
     ]
    }
   ],
   "source": [
    "# Packages we will use throughout this notebook (only first time)\n",
    "Pkg.add(\"UMAP\")\n",
    "Pkg.add(\"Makie\")\n",
    "Pkg.add(\"XLSX\")\n",
    "Pkg.add(\"VegaDatasets\")\n",
    "Pkg.add(\"MultivariateStats\")\n",
    "Pkg.add(\"RDatasets\")\n",
    "Pkg.add(\"StatsBase\")\n",
    "Pkg.add(\"Statistics\")\n",
    "Pkg.add(\"LinearAlgebra\")\n",
    "Pkg.add(\"Plots\")\n",
    "Pkg.add(\"ScikitLearn\")\n",
    "Pkg.add(\"MLBase\")\n",
    "Pkg.add(\"Distances\")"
   ]
  },
  {
   "cell_type": "code",
   "execution_count": 1,
   "metadata": {},
   "outputs": [],
   "source": [
    "# Packages we will use throughout this notebook\n",
    "using UMAP\n",
    "using Makie\n",
    "using XLSX\n",
    "using VegaDatasets\n",
    "using DataFrames\n",
    "using MultivariateStats\n",
    "using RDatasets\n",
    "using StatsBase\n",
    "using Statistics\n",
    "using LinearAlgebra\n",
    "#using Plots\n",
    "using ScikitLearn\n",
    "using MLBase\n",
    "using Distances"
   ]
  },
  {
   "cell_type": "code",
   "execution_count": 3,
   "metadata": {},
   "outputs": [
    {
     "data": {
      "text/html": [
       "<script>\n",
       "// Immediately-invoked-function-expression to avoid global variables.\n",
       "(function() {\n",
       "    var warning_div = document.getElementById(\"webio-warning-18250503110129617273\");\n",
       "    var hide = function () {\n",
       "        var script = document.getElementById(\"webio-setup-10842837970160443395\");\n",
       "        var parent = script && script.parentElement;\n",
       "        var grandparent = parent && parent.parentElement;\n",
       "        if (grandparent) {\n",
       "            grandparent.style.display = \"none\";\n",
       "        }\n",
       "        warning_div.style.display = \"none\";\n",
       "    };\n",
       "    if (typeof Jupyter !== \"undefined\") {\n",
       "        console.log(\"WebIO detected Jupyter notebook environment.\");\n",
       "        // Jupyter notebook.\n",
       "        var extensions = (\n",
       "            Jupyter\n",
       "            && Jupyter.notebook.config.data\n",
       "            && Jupyter.notebook.config.data.load_extensions\n",
       "        );\n",
       "        if (extensions && extensions[\"webio-jupyter-notebook\"]) {\n",
       "            // Extension already loaded.\n",
       "            console.log(\"Jupyter WebIO nbextension detected; not loading ad-hoc.\");\n",
       "            hide();\n",
       "            return;\n",
       "        }\n",
       "    } else if (window.location.pathname.includes(\"/lab\")) {\n",
       "        // Guessing JupyterLa\n",
       "        console.log(\"Jupyter Lab detected; make sure the @webio/jupyter-lab-provider labextension is installed.\");\n",
       "        hide();\n",
       "        return;\n",
       "    }\n",
       "})();\n",
       "\n",
       "</script>\n",
       "<p\n",
       "    id=\"webio-warning-18250503110129617273\"\n",
       "    class=\"output_text output_stderr\"\n",
       "    style=\"padding: 1em; font-weight: bold;\"\n",
       ">\n",
       "    Unable to load WebIO. Please make sure WebIO works for your Jupyter client.\n",
       "    For troubleshooting, please see <a href=\"https://juliagizmos.github.io/WebIO.jl/latest/providers/ijulia/\">\n",
       "    the WebIO/IJulia documentation</a>.\n",
       "    <!-- TODO: link to installation docs. -->\n",
       "</p>\n"
      ],
      "text/plain": [
       "HTML{String}(\"<script>\\n// Immediately-invoked-function-expression to avoid global variables.\\n(function() {\\n    var warning_div = document.getElementById(\\\"webio-warning-18250503110129617273\\\");\\n    var hide = function () {\\n        var script = document.getElementById(\\\"webio-setup-10842837970160443395\\\");\\n        var parent = script && script.parentElement;\\n        var grandparent = parent && parent.parentElement;\\n        if (grandparent) {\\n            grandparent.style.display = \\\"none\\\";\\n        }\\n        warning_div.style.display = \\\"none\\\";\\n    };\\n    if (typeof Jupyter !== \\\"undefined\\\") {\\n        console.log(\\\"WebIO detected Jupyter notebook environment.\\\");\\n        // Jupyter notebook.\\n        var extensions = (\\n            Jupyter\\n            && Jupyter.notebook.config.data\\n            && Jupyter.notebook.config.data.load_extensions\\n        );\\n        if (extensions && extensions[\\\"webio-jupyter-notebook\\\"]) {\\n            // Extension already loaded.\\n            console.log(\\\"Jupyter WebIO nbextension detected; not loading ad-hoc.\\\");\\n            hide();\\n            return;\\n        }\\n    } else if (window.location.pathname.includes(\\\"/lab\\\")) {\\n        // Guessing JupyterLa\\n        console.log(\\\"Jupyter Lab detected; make sure the @webio/jupyter-lab-provider labextension is installed.\\\");\\n        hide();\\n        return;\\n    }\\n})();\\n\\n</script>\\n<p\\n    id=\\\"webio-warning-18250503110129617273\\\"\\n    class=\\\"output_text output_stderr\\\"\\n    style=\\\"padding: 1em; font-weight: bold;\\\"\\n>\\n    Unable to load WebIO. Please make sure WebIO works for your Jupyter client.\\n    For troubleshooting, please see <a href=\\\"https://juliagizmos.github.io/WebIO.jl/latest/providers/ijulia/\\\">\\n    the WebIO/IJulia documentation</a>.\\n    <!-- TODO: link to installation docs. -->\\n</p>\\n\")"
      ]
     },
     "metadata": {},
     "output_type": "display_data"
    }
   ],
   "source": [
    "using PlotlyJS"
   ]
  },
  {
   "cell_type": "code",
   "execution_count": 2,
   "metadata": {},
   "outputs": [],
   "source": [
    "using DataFrames"
   ]
  },
  {
   "cell_type": "code",
   "execution_count": 3,
   "metadata": {},
   "outputs": [],
   "source": [
    "using CSV"
   ]
  },
  {
   "cell_type": "code",
   "execution_count": 4,
   "metadata": {},
   "outputs": [
    {
     "data": {
      "text/html": [
       "<table class=\"data-frame\"><thead><tr><th></th><th>SlideName</th><th>ScanName</th><th>ROILabel</th><th>SegmentLabel</th><th>SegmentDisplayName</th></tr><tr><th></th><th>String</th><th>String</th><th>Int64</th><th>String</th><th>String</th></tr></thead><tbody><p>231 rows × 28 columns (omitted printing of 23 columns)</p><tr><th>1</th><td>disease3</td><td>disease3_scan</td><td>7</td><td>Geometric Segment</td><td>disease3_scan | 007 | Geometric Segment</td></tr><tr><th>2</th><td>disease3</td><td>disease3_scan</td><td>8</td><td>Geometric Segment</td><td>disease3_scan | 008 | Geometric Segment</td></tr><tr><th>3</th><td>disease3</td><td>disease3_scan</td><td>9</td><td>Geometric Segment</td><td>disease3_scan | 009 | Geometric Segment</td></tr><tr><th>4</th><td>disease3</td><td>disease3_scan</td><td>10</td><td>Geometric Segment</td><td>disease3_scan | 010 | Geometric Segment</td></tr><tr><th>5</th><td>disease3</td><td>disease3_scan</td><td>11</td><td>Geometric Segment</td><td>disease3_scan | 011 | Geometric Segment</td></tr><tr><th>6</th><td>disease3</td><td>disease3_scan</td><td>12</td><td>Geometric Segment</td><td>disease3_scan | 012 | Geometric Segment</td></tr><tr><th>7</th><td>disease3</td><td>disease3_scan</td><td>13</td><td>Geometric Segment</td><td>disease3_scan | 013 | Geometric Segment</td></tr><tr><th>8</th><td>disease3</td><td>disease3_scan</td><td>14</td><td>Geometric Segment</td><td>disease3_scan | 014 | Geometric Segment</td></tr><tr><th>9</th><td>disease3</td><td>disease3_scan</td><td>15</td><td>Geometric Segment</td><td>disease3_scan | 015 | Geometric Segment</td></tr><tr><th>10</th><td>disease3</td><td>disease3_scan</td><td>16</td><td>Geometric Segment</td><td>disease3_scan | 016 | Geometric Segment</td></tr><tr><th>11</th><td>disease3</td><td>disease3_scan</td><td>17</td><td>Geometric Segment</td><td>disease3_scan | 017 | Geometric Segment</td></tr><tr><th>12</th><td>disease3</td><td>disease3_scan</td><td>18</td><td>Geometric Segment</td><td>disease3_scan | 018 | Geometric Segment</td></tr><tr><th>13</th><td>disease3</td><td>disease3_scan</td><td>19</td><td>Geometric Segment</td><td>disease3_scan | 019 | Geometric Segment</td></tr><tr><th>14</th><td>disease3</td><td>disease3_scan</td><td>20</td><td>Geometric Segment</td><td>disease3_scan | 020 | Geometric Segment</td></tr><tr><th>15</th><td>disease3</td><td>disease3_scan</td><td>21</td><td>Geometric Segment</td><td>disease3_scan | 021 | Geometric Segment</td></tr><tr><th>16</th><td>disease3</td><td>disease3_scan</td><td>22</td><td>Geometric Segment</td><td>disease3_scan | 022 | Geometric Segment</td></tr><tr><th>17</th><td>disease3</td><td>disease3_scan</td><td>23</td><td>Geometric Segment</td><td>disease3_scan | 023 | Geometric Segment</td></tr><tr><th>18</th><td>disease3</td><td>disease3_scan</td><td>24</td><td>Geometric Segment</td><td>disease3_scan | 024 | Geometric Segment</td></tr><tr><th>19</th><td>disease3</td><td>disease3_scan</td><td>25</td><td>Geometric Segment</td><td>disease3_scan | 025 | Geometric Segment</td></tr><tr><th>20</th><td>disease3</td><td>disease3_scan</td><td>26</td><td>Geometric Segment</td><td>disease3_scan | 026 | Geometric Segment</td></tr><tr><th>21</th><td>disease3</td><td>disease3_scan</td><td>27</td><td>Geometric Segment</td><td>disease3_scan | 027 | Geometric Segment</td></tr><tr><th>22</th><td>disease3</td><td>disease3_scan</td><td>28</td><td>Geometric Segment</td><td>disease3_scan | 028 | Geometric Segment</td></tr><tr><th>23</th><td>disease3</td><td>disease3_scan</td><td>29</td><td>Geometric Segment</td><td>disease3_scan | 029 | Geometric Segment</td></tr><tr><th>24</th><td>disease3</td><td>disease3_scan</td><td>30</td><td>Geometric Segment</td><td>disease3_scan | 030 | Geometric Segment</td></tr><tr><th>25</th><td>disease3</td><td>disease3_scan</td><td>31</td><td>Geometric Segment</td><td>disease3_scan | 031 | Geometric Segment</td></tr><tr><th>26</th><td>disease3</td><td>disease3_scan</td><td>32</td><td>Geometric Segment</td><td>disease3_scan | 032 | Geometric Segment</td></tr><tr><th>27</th><td>disease3</td><td>disease3_scan</td><td>33</td><td>Geometric Segment</td><td>disease3_scan | 033 | Geometric Segment</td></tr><tr><th>28</th><td>disease3</td><td>disease3_scan</td><td>34</td><td>Geometric Segment</td><td>disease3_scan | 034 | Geometric Segment</td></tr><tr><th>29</th><td>disease3</td><td>disease3_scan</td><td>35</td><td>Geometric Segment</td><td>disease3_scan | 035 | Geometric Segment</td></tr><tr><th>30</th><td>disease3</td><td>disease3_scan</td><td>36</td><td>Geometric Segment</td><td>disease3_scan | 036 | Geometric Segment</td></tr><tr><th>&vellip;</th><td>&vellip;</td><td>&vellip;</td><td>&vellip;</td><td>&vellip;</td><td>&vellip;</td></tr></tbody></table>"
      ],
      "text/latex": [
       "\\begin{tabular}{r|cccccc}\n",
       "\t& SlideName & ScanName & ROILabel & SegmentLabel & SegmentDisplayName & \\\\\n",
       "\t\\hline\n",
       "\t& String & String & Int64 & String & String & \\\\\n",
       "\t\\hline\n",
       "\t1 & disease3 & disease3\\_scan & 7 & Geometric Segment & disease3\\_scan | 007 | Geometric Segment & $\\dots$ \\\\\n",
       "\t2 & disease3 & disease3\\_scan & 8 & Geometric Segment & disease3\\_scan | 008 | Geometric Segment & $\\dots$ \\\\\n",
       "\t3 & disease3 & disease3\\_scan & 9 & Geometric Segment & disease3\\_scan | 009 | Geometric Segment & $\\dots$ \\\\\n",
       "\t4 & disease3 & disease3\\_scan & 10 & Geometric Segment & disease3\\_scan | 010 | Geometric Segment & $\\dots$ \\\\\n",
       "\t5 & disease3 & disease3\\_scan & 11 & Geometric Segment & disease3\\_scan | 011 | Geometric Segment & $\\dots$ \\\\\n",
       "\t6 & disease3 & disease3\\_scan & 12 & Geometric Segment & disease3\\_scan | 012 | Geometric Segment & $\\dots$ \\\\\n",
       "\t7 & disease3 & disease3\\_scan & 13 & Geometric Segment & disease3\\_scan | 013 | Geometric Segment & $\\dots$ \\\\\n",
       "\t8 & disease3 & disease3\\_scan & 14 & Geometric Segment & disease3\\_scan | 014 | Geometric Segment & $\\dots$ \\\\\n",
       "\t9 & disease3 & disease3\\_scan & 15 & Geometric Segment & disease3\\_scan | 015 | Geometric Segment & $\\dots$ \\\\\n",
       "\t10 & disease3 & disease3\\_scan & 16 & Geometric Segment & disease3\\_scan | 016 | Geometric Segment & $\\dots$ \\\\\n",
       "\t11 & disease3 & disease3\\_scan & 17 & Geometric Segment & disease3\\_scan | 017 | Geometric Segment & $\\dots$ \\\\\n",
       "\t12 & disease3 & disease3\\_scan & 18 & Geometric Segment & disease3\\_scan | 018 | Geometric Segment & $\\dots$ \\\\\n",
       "\t13 & disease3 & disease3\\_scan & 19 & Geometric Segment & disease3\\_scan | 019 | Geometric Segment & $\\dots$ \\\\\n",
       "\t14 & disease3 & disease3\\_scan & 20 & Geometric Segment & disease3\\_scan | 020 | Geometric Segment & $\\dots$ \\\\\n",
       "\t15 & disease3 & disease3\\_scan & 21 & Geometric Segment & disease3\\_scan | 021 | Geometric Segment & $\\dots$ \\\\\n",
       "\t16 & disease3 & disease3\\_scan & 22 & Geometric Segment & disease3\\_scan | 022 | Geometric Segment & $\\dots$ \\\\\n",
       "\t17 & disease3 & disease3\\_scan & 23 & Geometric Segment & disease3\\_scan | 023 | Geometric Segment & $\\dots$ \\\\\n",
       "\t18 & disease3 & disease3\\_scan & 24 & Geometric Segment & disease3\\_scan | 024 | Geometric Segment & $\\dots$ \\\\\n",
       "\t19 & disease3 & disease3\\_scan & 25 & Geometric Segment & disease3\\_scan | 025 | Geometric Segment & $\\dots$ \\\\\n",
       "\t20 & disease3 & disease3\\_scan & 26 & Geometric Segment & disease3\\_scan | 026 | Geometric Segment & $\\dots$ \\\\\n",
       "\t21 & disease3 & disease3\\_scan & 27 & Geometric Segment & disease3\\_scan | 027 | Geometric Segment & $\\dots$ \\\\\n",
       "\t22 & disease3 & disease3\\_scan & 28 & Geometric Segment & disease3\\_scan | 028 | Geometric Segment & $\\dots$ \\\\\n",
       "\t23 & disease3 & disease3\\_scan & 29 & Geometric Segment & disease3\\_scan | 029 | Geometric Segment & $\\dots$ \\\\\n",
       "\t24 & disease3 & disease3\\_scan & 30 & Geometric Segment & disease3\\_scan | 030 | Geometric Segment & $\\dots$ \\\\\n",
       "\t25 & disease3 & disease3\\_scan & 31 & Geometric Segment & disease3\\_scan | 031 | Geometric Segment & $\\dots$ \\\\\n",
       "\t26 & disease3 & disease3\\_scan & 32 & Geometric Segment & disease3\\_scan | 032 | Geometric Segment & $\\dots$ \\\\\n",
       "\t27 & disease3 & disease3\\_scan & 33 & Geometric Segment & disease3\\_scan | 033 | Geometric Segment & $\\dots$ \\\\\n",
       "\t28 & disease3 & disease3\\_scan & 34 & Geometric Segment & disease3\\_scan | 034 | Geometric Segment & $\\dots$ \\\\\n",
       "\t29 & disease3 & disease3\\_scan & 35 & Geometric Segment & disease3\\_scan | 035 | Geometric Segment & $\\dots$ \\\\\n",
       "\t30 & disease3 & disease3\\_scan & 36 & Geometric Segment & disease3\\_scan | 036 | Geometric Segment & $\\dots$ \\\\\n",
       "\t$\\dots$ & $\\dots$ & $\\dots$ & $\\dots$ & $\\dots$ & $\\dots$ &  \\\\\n",
       "\\end{tabular}\n"
      ],
      "text/plain": [
       "\u001b[1m231×28 DataFrame\u001b[0m\n",
       "\u001b[1m Row \u001b[0m│\u001b[1m SlideName \u001b[0m\u001b[1m ScanName       \u001b[0m\u001b[1m ROILabel \u001b[0m\u001b[1m SegmentLabel      \u001b[0m\u001b[1m SegmentDisplayN\u001b[0m ⋯\n",
       "\u001b[1m     \u001b[0m│\u001b[90m String    \u001b[0m\u001b[90m String         \u001b[0m\u001b[90m Int64    \u001b[0m\u001b[90m String            \u001b[0m\u001b[90m String         \u001b[0m ⋯\n",
       "─────┼──────────────────────────────────────────────────────────────────────────\n",
       "   1 │ disease3   disease3_scan          7  Geometric Segment  disease3_scan | ⋯\n",
       "   2 │ disease3   disease3_scan          8  Geometric Segment  disease3_scan |\n",
       "   3 │ disease3   disease3_scan          9  Geometric Segment  disease3_scan |\n",
       "   4 │ disease3   disease3_scan         10  Geometric Segment  disease3_scan |\n",
       "   5 │ disease3   disease3_scan         11  Geometric Segment  disease3_scan | ⋯\n",
       "   6 │ disease3   disease3_scan         12  Geometric Segment  disease3_scan |\n",
       "   7 │ disease3   disease3_scan         13  Geometric Segment  disease3_scan |\n",
       "   8 │ disease3   disease3_scan         14  Geometric Segment  disease3_scan |\n",
       "   9 │ disease3   disease3_scan         15  Geometric Segment  disease3_scan | ⋯\n",
       "  10 │ disease3   disease3_scan         16  Geometric Segment  disease3_scan |\n",
       "  11 │ disease3   disease3_scan         17  Geometric Segment  disease3_scan |\n",
       "  ⋮  │     ⋮            ⋮            ⋮              ⋮                          ⋱\n",
       " 222 │ disease1B  disease1B_scan         9  PanCK              disease1B_scan\n",
       " 223 │ disease1B  disease1B_scan         9  neg                disease1B_scan  ⋯\n",
       " 224 │ disease1B  disease1B_scan        10  PanCK              disease1B_scan\n",
       " 225 │ disease1B  disease1B_scan        10  neg                disease1B_scan\n",
       " 226 │ disease1B  disease1B_scan        11  PanCK              disease1B_scan\n",
       " 227 │ disease1B  disease1B_scan        11  neg                disease1B_scan  ⋯\n",
       " 228 │ disease1B  disease1B_scan        12  PanCK              disease1B_scan\n",
       " 229 │ disease1B  disease1B_scan        12  neg                disease1B_scan\n",
       " 230 │ disease1B  disease1B_scan        13  Geometric Segment  disease1B_scan\n",
       " 231 │ disease1B  disease1B_scan        14  Geometric Segment  disease1B_scan  ⋯\n",
       "\u001b[36m                                                 24 columns and 210 rows omitted\u001b[0m"
      ]
     },
     "execution_count": 4,
     "metadata": {},
     "output_type": "execute_result"
    }
   ],
   "source": [
    "features = DataFrame(CSV.File(\"data/Kidney_Sample_Annotations.txt\"))"
   ]
  },
  {
   "cell_type": "code",
   "execution_count": 5,
   "metadata": {},
   "outputs": [
    {
     "data": {
      "text/plain": [
       "String"
      ]
     },
     "execution_count": 5,
     "metadata": {},
     "output_type": "execute_result"
    }
   ],
   "source": [
    "typeof(features[1,\"SegmentDisplayName\"])"
   ]
  },
  {
   "cell_type": "code",
   "execution_count": 6,
   "metadata": {},
   "outputs": [
    {
     "data": {
      "text/html": [
       "<table class=\"data-frame\"><thead><tr><th></th><th>disease_status</th><th>region</th><th>pathology</th></tr><tr><th></th><th>String</th><th>String</th><th>String?</th></tr></thead><tbody><p>231 rows × 3 columns</p><tr><th>1</th><td>DKD</td><td>glomerulus</td><td>abnormal</td></tr><tr><th>2</th><td>DKD</td><td>glomerulus</td><td>abnormal</td></tr><tr><th>3</th><td>DKD</td><td>glomerulus</td><td>abnormal</td></tr><tr><th>4</th><td>DKD</td><td>glomerulus</td><td>abnormal</td></tr><tr><th>5</th><td>DKD</td><td>glomerulus</td><td>abnormal</td></tr><tr><th>6</th><td>DKD</td><td>glomerulus</td><td>abnormal</td></tr><tr><th>7</th><td>DKD</td><td>glomerulus</td><td>abnormal</td></tr><tr><th>8</th><td>DKD</td><td>glomerulus</td><td>abnormal</td></tr><tr><th>9</th><td>DKD</td><td>glomerulus</td><td>abnormal</td></tr><tr><th>10</th><td>DKD</td><td>glomerulus</td><td>abnormal</td></tr><tr><th>11</th><td>DKD</td><td>glomerulus</td><td>abnormal</td></tr><tr><th>12</th><td>DKD</td><td>glomerulus</td><td>abnormal</td></tr><tr><th>13</th><td>DKD</td><td>glomerulus</td><td>abnormal</td></tr><tr><th>14</th><td>DKD</td><td>glomerulus</td><td>abnormal</td></tr><tr><th>15</th><td>DKD</td><td>glomerulus</td><td>abnormal</td></tr><tr><th>16</th><td>DKD</td><td>glomerulus</td><td>abnormal</td></tr><tr><th>17</th><td>DKD</td><td>glomerulus</td><td>abnormal</td></tr><tr><th>18</th><td>DKD</td><td>glomerulus</td><td>abnormal</td></tr><tr><th>19</th><td>DKD</td><td>glomerulus</td><td>abnormal</td></tr><tr><th>20</th><td>DKD</td><td>glomerulus</td><td>abnormal</td></tr><tr><th>21</th><td>DKD</td><td>glomerulus</td><td>abnormal</td></tr><tr><th>22</th><td>DKD</td><td>glomerulus</td><td>abnormal</td></tr><tr><th>23</th><td>DKD</td><td>glomerulus</td><td>abnormal</td></tr><tr><th>24</th><td>DKD</td><td>glomerulus</td><td>abnormal</td></tr><tr><th>25</th><td>DKD</td><td>glomerulus</td><td>abnormal</td></tr><tr><th>26</th><td>DKD</td><td>glomerulus</td><td>abnormal</td></tr><tr><th>27</th><td>DKD</td><td>glomerulus</td><td>abnormal</td></tr><tr><th>28</th><td>DKD</td><td>glomerulus</td><td>abnormal</td></tr><tr><th>29</th><td>DKD</td><td>glomerulus</td><td>abnormal</td></tr><tr><th>30</th><td>DKD</td><td>glomerulus</td><td>abnormal</td></tr><tr><th>&vellip;</th><td>&vellip;</td><td>&vellip;</td><td>&vellip;</td></tr></tbody></table>"
      ],
      "text/latex": [
       "\\begin{tabular}{r|ccc}\n",
       "\t& disease\\_status & region & pathology\\\\\n",
       "\t\\hline\n",
       "\t& String & String & String?\\\\\n",
       "\t\\hline\n",
       "\t1 & DKD & glomerulus & abnormal \\\\\n",
       "\t2 & DKD & glomerulus & abnormal \\\\\n",
       "\t3 & DKD & glomerulus & abnormal \\\\\n",
       "\t4 & DKD & glomerulus & abnormal \\\\\n",
       "\t5 & DKD & glomerulus & abnormal \\\\\n",
       "\t6 & DKD & glomerulus & abnormal \\\\\n",
       "\t7 & DKD & glomerulus & abnormal \\\\\n",
       "\t8 & DKD & glomerulus & abnormal \\\\\n",
       "\t9 & DKD & glomerulus & abnormal \\\\\n",
       "\t10 & DKD & glomerulus & abnormal \\\\\n",
       "\t11 & DKD & glomerulus & abnormal \\\\\n",
       "\t12 & DKD & glomerulus & abnormal \\\\\n",
       "\t13 & DKD & glomerulus & abnormal \\\\\n",
       "\t14 & DKD & glomerulus & abnormal \\\\\n",
       "\t15 & DKD & glomerulus & abnormal \\\\\n",
       "\t16 & DKD & glomerulus & abnormal \\\\\n",
       "\t17 & DKD & glomerulus & abnormal \\\\\n",
       "\t18 & DKD & glomerulus & abnormal \\\\\n",
       "\t19 & DKD & glomerulus & abnormal \\\\\n",
       "\t20 & DKD & glomerulus & abnormal \\\\\n",
       "\t21 & DKD & glomerulus & abnormal \\\\\n",
       "\t22 & DKD & glomerulus & abnormal \\\\\n",
       "\t23 & DKD & glomerulus & abnormal \\\\\n",
       "\t24 & DKD & glomerulus & abnormal \\\\\n",
       "\t25 & DKD & glomerulus & abnormal \\\\\n",
       "\t26 & DKD & glomerulus & abnormal \\\\\n",
       "\t27 & DKD & glomerulus & abnormal \\\\\n",
       "\t28 & DKD & glomerulus & abnormal \\\\\n",
       "\t29 & DKD & glomerulus & abnormal \\\\\n",
       "\t30 & DKD & glomerulus & abnormal \\\\\n",
       "\t$\\dots$ & $\\dots$ & $\\dots$ & $\\dots$ \\\\\n",
       "\\end{tabular}\n"
      ],
      "text/plain": [
       "\u001b[1m231×3 DataFrame\u001b[0m\n",
       "\u001b[1m Row \u001b[0m│\u001b[1m disease_status \u001b[0m\u001b[1m region     \u001b[0m\u001b[1m pathology \u001b[0m\n",
       "\u001b[1m     \u001b[0m│\u001b[90m String         \u001b[0m\u001b[90m String     \u001b[0m\u001b[90m String?   \u001b[0m\n",
       "─────┼───────────────────────────────────────\n",
       "   1 │ DKD             glomerulus  abnormal\n",
       "   2 │ DKD             glomerulus  abnormal\n",
       "   3 │ DKD             glomerulus  abnormal\n",
       "   4 │ DKD             glomerulus  abnormal\n",
       "   5 │ DKD             glomerulus  abnormal\n",
       "   6 │ DKD             glomerulus  abnormal\n",
       "   7 │ DKD             glomerulus  abnormal\n",
       "   8 │ DKD             glomerulus  abnormal\n",
       "   9 │ DKD             glomerulus  abnormal\n",
       "  10 │ DKD             glomerulus  abnormal\n",
       "  11 │ DKD             glomerulus  abnormal\n",
       "  ⋮  │       ⋮             ⋮           ⋮\n",
       " 222 │ DKD             tubule     \u001b[90m missing   \u001b[0m\n",
       " 223 │ DKD             tubule     \u001b[90m missing   \u001b[0m\n",
       " 224 │ DKD             tubule     \u001b[90m missing   \u001b[0m\n",
       " 225 │ DKD             tubule     \u001b[90m missing   \u001b[0m\n",
       " 226 │ DKD             tubule     \u001b[90m missing   \u001b[0m\n",
       " 227 │ DKD             tubule     \u001b[90m missing   \u001b[0m\n",
       " 228 │ DKD             tubule     \u001b[90m missing   \u001b[0m\n",
       " 229 │ DKD             tubule     \u001b[90m missing   \u001b[0m\n",
       " 230 │ DKD             glomerulus  healthy\n",
       " 231 │ DKD             glomerulus  healthy\n",
       "\u001b[36m                             210 rows omitted\u001b[0m"
      ]
     },
     "execution_count": 6,
     "metadata": {},
     "output_type": "execute_result"
    }
   ],
   "source": [
    "features[!,[\"disease_status\",\"region\",\"pathology\"]]"
   ]
  },
  {
   "cell_type": "code",
   "execution_count": 16,
   "metadata": {},
   "outputs": [
    {
     "name": "stdout",
     "output_type": "stream",
     "text": [
      "search: \u001b[0m\u001b[1mD\u001b[22m\u001b[0m\u001b[1mi\u001b[22m\u001b[0m\u001b[1mc\u001b[22m\u001b[0m\u001b[1mt\u001b[22m pre\u001b[0m\u001b[1md\u001b[22m\u001b[0m\u001b[1mi\u001b[22m\u001b[0m\u001b[1mc\u001b[22m\u001b[0m\u001b[1mt\u001b[22m pre\u001b[0m\u001b[1md\u001b[22m\u001b[0m\u001b[1mi\u001b[22m\u001b[0m\u001b[1mc\u001b[22m\u001b[0m\u001b[1mt\u001b[22m! pre\u001b[0m\u001b[1md\u001b[22m\u001b[0m\u001b[1mi\u001b[22m\u001b[0m\u001b[1mc\u001b[22m\u001b[0m\u001b[1mt\u001b[22m_dist pre\u001b[0m\u001b[1md\u001b[22m\u001b[0m\u001b[1mi\u001b[22m\u001b[0m\u001b[1mc\u001b[22m\u001b[0m\u001b[1mt\u001b[22m_proba pre\u001b[0m\u001b[1md\u001b[22m\u001b[0m\u001b[1mi\u001b[22m\u001b[0m\u001b[1mc\u001b[22m\u001b[0m\u001b[1mt\u001b[22m_log_proba\n",
      "\n"
     ]
    },
    {
     "data": {
      "text/latex": [
       "\\begin{verbatim}\n",
       "Dict([itr])\n",
       "\\end{verbatim}\n",
       "\\texttt{Dict\\{K,V\\}()} constructs a hash table with keys of type \\texttt{K} and values of type \\texttt{V}. Keys are compared with \\href{@ref}{\\texttt{isequal}} and hashed with \\href{@ref}{\\texttt{hash}}.\n",
       "\n",
       "Given a single iterable argument, constructs a \\href{@ref}{\\texttt{Dict}} whose key-value pairs are taken from 2-tuples \\texttt{(key,value)} generated by the argument.\n",
       "\n",
       "\\section{Examples}\n",
       "\\begin{verbatim}\n",
       "julia> Dict([(\"A\", 1), (\"B\", 2)])\n",
       "Dict{String, Int64} with 2 entries:\n",
       "  \"B\" => 2\n",
       "  \"A\" => 1\n",
       "\\end{verbatim}\n",
       "Alternatively, a sequence of pair arguments may be passed.\n",
       "\n",
       "\\begin{verbatim}\n",
       "julia> Dict(\"A\"=>1, \"B\"=>2)\n",
       "Dict{String, Int64} with 2 entries:\n",
       "  \"B\" => 2\n",
       "  \"A\" => 1\n",
       "\\end{verbatim}\n"
      ],
      "text/markdown": [
       "```\n",
       "Dict([itr])\n",
       "```\n",
       "\n",
       "`Dict{K,V}()` constructs a hash table with keys of type `K` and values of type `V`. Keys are compared with [`isequal`](@ref) and hashed with [`hash`](@ref).\n",
       "\n",
       "Given a single iterable argument, constructs a [`Dict`](@ref) whose key-value pairs are taken from 2-tuples `(key,value)` generated by the argument.\n",
       "\n",
       "# Examples\n",
       "\n",
       "```jldoctest\n",
       "julia> Dict([(\"A\", 1), (\"B\", 2)])\n",
       "Dict{String, Int64} with 2 entries:\n",
       "  \"B\" => 2\n",
       "  \"A\" => 1\n",
       "```\n",
       "\n",
       "Alternatively, a sequence of pair arguments may be passed.\n",
       "\n",
       "```jldoctest\n",
       "julia> Dict(\"A\"=>1, \"B\"=>2)\n",
       "Dict{String, Int64} with 2 entries:\n",
       "  \"B\" => 2\n",
       "  \"A\" => 1\n",
       "```\n"
      ],
      "text/plain": [
       "\u001b[36m  Dict([itr])\u001b[39m\n",
       "\n",
       "  \u001b[36mDict{K,V}()\u001b[39m constructs a hash table with keys of type \u001b[36mK\u001b[39m and values of type\n",
       "  \u001b[36mV\u001b[39m. Keys are compared with \u001b[36misequal\u001b[39m and hashed with \u001b[36mhash\u001b[39m.\n",
       "\n",
       "  Given a single iterable argument, constructs a \u001b[36mDict\u001b[39m whose key-value pairs\n",
       "  are taken from 2-tuples \u001b[36m(key,value)\u001b[39m generated by the argument.\n",
       "\n",
       "\u001b[1m  Examples\u001b[22m\n",
       "\u001b[1m  ≡≡≡≡≡≡≡≡≡≡\u001b[22m\n",
       "\n",
       "\u001b[36m  julia> Dict([(\"A\", 1), (\"B\", 2)])\u001b[39m\n",
       "\u001b[36m  Dict{String, Int64} with 2 entries:\u001b[39m\n",
       "\u001b[36m    \"B\" => 2\u001b[39m\n",
       "\u001b[36m    \"A\" => 1\u001b[39m\n",
       "\n",
       "  Alternatively, a sequence of pair arguments may be passed.\n",
       "\n",
       "\u001b[36m  julia> Dict(\"A\"=>1, \"B\"=>2)\u001b[39m\n",
       "\u001b[36m  Dict{String, Int64} with 2 entries:\u001b[39m\n",
       "\u001b[36m    \"B\" => 2\u001b[39m\n",
       "\u001b[36m    \"A\" => 1\u001b[39m"
      ]
     },
     "execution_count": 16,
     "metadata": {},
     "output_type": "execute_result"
    }
   ],
   "source": [
    "?Dict"
   ]
  },
  {
   "cell_type": "code",
   "execution_count": 23,
   "metadata": {},
   "outputs": [
    {
     "data": {
      "text/plain": [
       "Dict{String, String} with 4 entries:\n",
       "  \" PanCK\"   => \"Tub. Distal\"\n",
       "  \"healthy\"  => \"Glom (Abnormal)\"\n",
       "  \" neg\"     => \"Tub. Proximal\"\n",
       "  \"abnormal\" => \"Glom (Abnormal)\""
      ]
     },
     "execution_count": 23,
     "metadata": {},
     "output_type": "execute_result"
    }
   ],
   "source": [
    "structuresDict = Dict(\"abnormal\"=>\"Glom (Abnormal)\",\"healthy\"=>\"Glom (Abnormal)\",\" PanCK\" => \"Tub. Distal\", \" neg\" => \"Tub. Proximal\")"
   ]
  },
  {
   "cell_type": "code",
   "execution_count": 24,
   "metadata": {},
   "outputs": [
    {
     "data": {
      "text/plain": [
       "231-element Vector{String}:\n",
       " \"Glom (Abnormal)\"\n",
       " \"Glom (Abnormal)\"\n",
       " \"Glom (Abnormal)\"\n",
       " \"Glom (Abnormal)\"\n",
       " \"Glom (Abnormal)\"\n",
       " \"Glom (Abnormal)\"\n",
       " \"Glom (Abnormal)\"\n",
       " \"Glom (Abnormal)\"\n",
       " \"Glom (Abnormal)\"\n",
       " \"Glom (Abnormal)\"\n",
       " \"Glom (Abnormal)\"\n",
       " \"Glom (Abnormal)\"\n",
       " \"Glom (Abnormal)\"\n",
       " ⋮\n",
       " \"Tub. Distal\"\n",
       " \"Tub. Proximal\"\n",
       " \"Tub. Distal\"\n",
       " \"Tub. Proximal\"\n",
       " \"Tub. Distal\"\n",
       " \"Tub. Proximal\"\n",
       " \"Tub. Distal\"\n",
       " \"Tub. Proximal\"\n",
       " \"Tub. Distal\"\n",
       " \"Tub. Proximal\"\n",
       " \"Glom (Abnormal)\"\n",
       " \"Glom (Abnormal)\""
      ]
     },
     "execution_count": 24,
     "metadata": {},
     "output_type": "execute_result"
    }
   ],
   "source": [
    "comprehensiveStates=[structuresDict[ismissing(row.pathology) ? split(row[\"SegmentDisplayName\"],\"|\")[3] : row.pathology] for row in eachrow(features)]"
   ]
  },
  {
   "cell_type": "code",
   "execution_count": 31,
   "metadata": {},
   "outputs": [
    {
     "data": {
      "text/plain": [
       "\"Tub. Distal\""
      ]
     },
     "execution_count": 31,
     "metadata": {},
     "output_type": "execute_result"
    }
   ],
   "source": [
    "first(values(structuresDict))"
   ]
  },
  {
   "cell_type": "code",
   "execution_count": 8,
   "metadata": {},
   "outputs": [
    {
     "data": {
      "text/html": [
       "<table class=\"data-frame\"><thead><tr><th></th><th>TargetName</th><th>disease3_scan | 001 | PanCK</th><th>disease3_scan | 001 | neg</th><th>disease3_scan | 002 | PanCK</th></tr><tr><th></th><th>String</th><th>Float64</th><th>Float64</th><th>Float64</th></tr></thead><tbody><p>18,504 rows × 232 columns (omitted printing of 228 columns)</p><tr><th>1</th><td>PADI2</td><td>15.0</td><td>35.0</td><td>36.0</td></tr><tr><th>2</th><td>CYP24A1</td><td>23.0</td><td>32.0</td><td>23.0</td></tr><tr><th>3</th><td>SUPT16H</td><td>35.0</td><td>66.0</td><td>46.0</td></tr><tr><th>4</th><td>ZMIZ2</td><td>51.0</td><td>81.0</td><td>87.0</td></tr><tr><th>5</th><td>SPAG9</td><td>48.0</td><td>65.0</td><td>46.0</td></tr><tr><th>6</th><td>AMELX</td><td>21.0</td><td>30.0</td><td>31.0</td></tr><tr><th>7</th><td>VPS33B</td><td>44.0</td><td>55.0</td><td>32.0</td></tr><tr><th>8</th><td>DDX58</td><td>29.0</td><td>48.0</td><td>49.0</td></tr><tr><th>9</th><td>MAK</td><td>25.0</td><td>40.0</td><td>28.0</td></tr><tr><th>10</th><td>CDV3</td><td>55.0</td><td>80.0</td><td>62.0</td></tr><tr><th>11</th><td>RO60</td><td>37.0</td><td>54.0</td><td>46.0</td></tr><tr><th>12</th><td>UBE2Q1</td><td>36.0</td><td>63.0</td><td>46.0</td></tr><tr><th>13</th><td>VEGFB</td><td>47.0</td><td>71.0</td><td>62.0</td></tr><tr><th>14</th><td>METAP1D</td><td>29.0</td><td>43.0</td><td>32.0</td></tr><tr><th>15</th><td>SPANXN2</td><td>18.0</td><td>41.0</td><td>29.0</td></tr><tr><th>16</th><td>HCFC1</td><td>23.0</td><td>25.0</td><td>29.0</td></tr><tr><th>17</th><td>SGO1</td><td>27.0</td><td>50.0</td><td>19.0</td></tr><tr><th>18</th><td>ADIPOQ</td><td>33.0</td><td>68.0</td><td>42.0</td></tr><tr><th>19</th><td>OPN1SW</td><td>37.0</td><td>77.0</td><td>40.0</td></tr><tr><th>20</th><td>PALM2AKAP2</td><td>34.0</td><td>56.0</td><td>54.0</td></tr><tr><th>21</th><td>PAQR8</td><td>34.0</td><td>58.0</td><td>34.0</td></tr><tr><th>22</th><td>MT1E</td><td>56.0</td><td>80.0</td><td>37.0</td></tr><tr><th>23</th><td>SH2B3</td><td>31.0</td><td>41.0</td><td>17.0</td></tr><tr><th>24</th><td>MYB</td><td>19.0</td><td>28.0</td><td>16.0</td></tr><tr><th>25</th><td>NRDE2</td><td>46.0</td><td>61.0</td><td>44.0</td></tr><tr><th>26</th><td>CYP2C9</td><td>28.0</td><td>57.0</td><td>35.0</td></tr><tr><th>27</th><td>UBTD1</td><td>44.0</td><td>59.0</td><td>49.0</td></tr><tr><th>28</th><td>B3GAT2</td><td>19.0</td><td>66.0</td><td>33.0</td></tr><tr><th>29</th><td>CDK2AP2</td><td>81.0</td><td>139.0</td><td>90.0</td></tr><tr><th>30</th><td>AGAP3</td><td>30.0</td><td>64.0</td><td>42.0</td></tr><tr><th>&vellip;</th><td>&vellip;</td><td>&vellip;</td><td>&vellip;</td><td>&vellip;</td></tr></tbody></table>"
      ],
      "text/latex": [
       "\\begin{tabular}{r|ccccc}\n",
       "\t& TargetName & disease3\\_scan | 001 | PanCK & disease3\\_scan | 001 | neg & disease3\\_scan | 002 | PanCK & \\\\\n",
       "\t\\hline\n",
       "\t& String & Float64 & Float64 & Float64 & \\\\\n",
       "\t\\hline\n",
       "\t1 & PADI2 & 15.0 & 35.0 & 36.0 & $\\dots$ \\\\\n",
       "\t2 & CYP24A1 & 23.0 & 32.0 & 23.0 & $\\dots$ \\\\\n",
       "\t3 & SUPT16H & 35.0 & 66.0 & 46.0 & $\\dots$ \\\\\n",
       "\t4 & ZMIZ2 & 51.0 & 81.0 & 87.0 & $\\dots$ \\\\\n",
       "\t5 & SPAG9 & 48.0 & 65.0 & 46.0 & $\\dots$ \\\\\n",
       "\t6 & AMELX & 21.0 & 30.0 & 31.0 & $\\dots$ \\\\\n",
       "\t7 & VPS33B & 44.0 & 55.0 & 32.0 & $\\dots$ \\\\\n",
       "\t8 & DDX58 & 29.0 & 48.0 & 49.0 & $\\dots$ \\\\\n",
       "\t9 & MAK & 25.0 & 40.0 & 28.0 & $\\dots$ \\\\\n",
       "\t10 & CDV3 & 55.0 & 80.0 & 62.0 & $\\dots$ \\\\\n",
       "\t11 & RO60 & 37.0 & 54.0 & 46.0 & $\\dots$ \\\\\n",
       "\t12 & UBE2Q1 & 36.0 & 63.0 & 46.0 & $\\dots$ \\\\\n",
       "\t13 & VEGFB & 47.0 & 71.0 & 62.0 & $\\dots$ \\\\\n",
       "\t14 & METAP1D & 29.0 & 43.0 & 32.0 & $\\dots$ \\\\\n",
       "\t15 & SPANXN2 & 18.0 & 41.0 & 29.0 & $\\dots$ \\\\\n",
       "\t16 & HCFC1 & 23.0 & 25.0 & 29.0 & $\\dots$ \\\\\n",
       "\t17 & SGO1 & 27.0 & 50.0 & 19.0 & $\\dots$ \\\\\n",
       "\t18 & ADIPOQ & 33.0 & 68.0 & 42.0 & $\\dots$ \\\\\n",
       "\t19 & OPN1SW & 37.0 & 77.0 & 40.0 & $\\dots$ \\\\\n",
       "\t20 & PALM2AKAP2 & 34.0 & 56.0 & 54.0 & $\\dots$ \\\\\n",
       "\t21 & PAQR8 & 34.0 & 58.0 & 34.0 & $\\dots$ \\\\\n",
       "\t22 & MT1E & 56.0 & 80.0 & 37.0 & $\\dots$ \\\\\n",
       "\t23 & SH2B3 & 31.0 & 41.0 & 17.0 & $\\dots$ \\\\\n",
       "\t24 & MYB & 19.0 & 28.0 & 16.0 & $\\dots$ \\\\\n",
       "\t25 & NRDE2 & 46.0 & 61.0 & 44.0 & $\\dots$ \\\\\n",
       "\t26 & CYP2C9 & 28.0 & 57.0 & 35.0 & $\\dots$ \\\\\n",
       "\t27 & UBTD1 & 44.0 & 59.0 & 49.0 & $\\dots$ \\\\\n",
       "\t28 & B3GAT2 & 19.0 & 66.0 & 33.0 & $\\dots$ \\\\\n",
       "\t29 & CDK2AP2 & 81.0 & 139.0 & 90.0 & $\\dots$ \\\\\n",
       "\t30 & AGAP3 & 30.0 & 64.0 & 42.0 & $\\dots$ \\\\\n",
       "\t$\\dots$ & $\\dots$ & $\\dots$ & $\\dots$ & $\\dots$ &  \\\\\n",
       "\\end{tabular}\n"
      ],
      "text/plain": [
       "\u001b[1m18504×232 DataFrame\u001b[0m\n",
       "\u001b[1m   Row \u001b[0m│\u001b[1m TargetName \u001b[0m\u001b[1m disease3_scan | 001 | PanCK \u001b[0m\u001b[1m disease3_scan | 001 | neg \u001b[0m\u001b[1m d\u001b[0m ⋯\n",
       "\u001b[1m       \u001b[0m│\u001b[90m String     \u001b[0m\u001b[90m Float64                     \u001b[0m\u001b[90m Float64                   \u001b[0m\u001b[90m F\u001b[0m ⋯\n",
       "───────┼────────────────────────────────────────────────────────────────────────\n",
       "     1 │ PADI2                              15.0                       35.0    ⋯\n",
       "     2 │ CYP24A1                            23.0                       32.0\n",
       "     3 │ SUPT16H                            35.0                       66.0\n",
       "     4 │ ZMIZ2                              51.0                       81.0\n",
       "     5 │ SPAG9                              48.0                       65.0    ⋯\n",
       "     6 │ AMELX                              21.0                       30.0\n",
       "     7 │ VPS33B                             44.0                       55.0\n",
       "     8 │ DDX58                              29.0                       48.0\n",
       "     9 │ MAK                                25.0                       40.0    ⋯\n",
       "    10 │ CDV3                               55.0                       80.0\n",
       "    11 │ RO60                               37.0                       54.0\n",
       "   ⋮   │     ⋮                    ⋮                           ⋮                ⋱\n",
       " 18495 │ XAF1                               42.0                       79.0\n",
       " 18496 │ MYO5C                              36.0                       48.0    ⋯\n",
       " 18497 │ OSBPL9                             46.0                       94.0\n",
       " 18498 │ HERC3                              34.0                       44.0\n",
       " 18499 │ AMD1                               89.0                      136.0\n",
       " 18500 │ TMPRSS4                            42.0                       38.0    ⋯\n",
       " 18501 │ ATP6V0B                            90.0                      140.0\n",
       " 18502 │ DCHS1                              23.0                       59.0\n",
       " 18503 │ FAM166A                            21.0                       39.0\n",
       " 18504 │ AGTPBP1                            35.0                       47.0    ⋯\n",
       "\u001b[36m                                              229 columns and 18483 rows omitted\u001b[0m"
      ]
     },
     "execution_count": 8,
     "metadata": {},
     "output_type": "execute_result"
    }
   ],
   "source": [
    "TCM = DataFrame(CSV.File(\"data/Kidney_Raw_TargetCountMatrix.txt\"))"
   ]
  },
  {
   "cell_type": "code",
   "execution_count": 9,
   "metadata": {},
   "outputs": [
    {
     "data": {
      "text/html": [
       "<table class=\"data-frame\"><thead><tr><th></th><th>TargetName</th><th>disease3_scan | 001 | PanCK</th><th>disease3_scan | 001 | neg</th><th>disease3_scan | 002 | PanCK</th></tr><tr><th></th><th>String</th><th>Float64</th><th>Float64</th><th>Float64</th></tr></thead><tbody><p>16,084 rows × 232 columns (omitted printing of 228 columns)</p><tr><th>1</th><td>PADI2</td><td>6.01291</td><td>8.6185</td><td>11.7082</td></tr><tr><th>2</th><td>CYP24A1</td><td>9.2198</td><td>7.87978</td><td>7.48021</td></tr><tr><th>3</th><td>SUPT16H</td><td>14.0301</td><td>16.252</td><td>14.9604</td></tr><tr><th>4</th><td>ZMIZ2</td><td>20.4439</td><td>19.9457</td><td>28.2947</td></tr><tr><th>5</th><td>SPAG9</td><td>19.2413</td><td>16.0058</td><td>14.9604</td></tr><tr><th>6</th><td>AMELX</td><td>8.41807</td><td>7.38729</td><td>10.082</td></tr><tr><th>7</th><td>VPS33B</td><td>17.6379</td><td>13.5434</td><td>10.4073</td></tr><tr><th>8</th><td>DDX58</td><td>11.625</td><td>11.8197</td><td>15.9361</td></tr><tr><th>9</th><td>CDV3</td><td>22.0473</td><td>19.6994</td><td>20.164</td></tr><tr><th>10</th><td>RO60</td><td>14.8318</td><td>13.2971</td><td>14.9604</td></tr><tr><th>11</th><td>UBE2Q1</td><td>14.431</td><td>15.5133</td><td>14.9604</td></tr><tr><th>12</th><td>VEGFB</td><td>18.8405</td><td>17.4833</td><td>20.164</td></tr><tr><th>13</th><td>METAP1D</td><td>11.625</td><td>10.5884</td><td>10.4073</td></tr><tr><th>14</th><td>HCFC1</td><td>9.2198</td><td>6.15607</td><td>9.43157</td></tr><tr><th>15</th><td>ADIPOQ</td><td>13.2284</td><td>16.7445</td><td>13.6595</td></tr><tr><th>16</th><td>OPN1SW</td><td>14.8318</td><td>18.9607</td><td>13.0091</td></tr><tr><th>17</th><td>PALM2AKAP2</td><td>13.6293</td><td>13.7896</td><td>17.5622</td></tr><tr><th>18</th><td>PAQR8</td><td>13.6293</td><td>14.2821</td><td>11.0577</td></tr><tr><th>19</th><td>MT1E</td><td>22.4482</td><td>19.6994</td><td>12.0334</td></tr><tr><th>20</th><td>SH2B3</td><td>12.4267</td><td>10.096</td><td>5.52885</td></tr><tr><th>21</th><td>NRDE2</td><td>18.4396</td><td>15.0208</td><td>14.31</td></tr><tr><th>22</th><td>CYP2C9</td><td>11.2241</td><td>14.0359</td><td>11.3829</td></tr><tr><th>23</th><td>UBTD1</td><td>17.6379</td><td>14.5283</td><td>15.9361</td></tr><tr><th>24</th><td>B3GAT2</td><td>7.61635</td><td>16.252</td><td>10.7325</td></tr><tr><th>25</th><td>CDK2AP2</td><td>32.4697</td><td>34.2278</td><td>29.2704</td></tr><tr><th>26</th><td>AGAP3</td><td>12.0258</td><td>15.7596</td><td>13.6595</td></tr><tr><th>27</th><td>MROH6</td><td>7.21549</td><td>8.86475</td><td>9.7568</td></tr><tr><th>28</th><td>STRIT1</td><td>10.4224</td><td>13.2971</td><td>9.10634</td></tr><tr><th>29</th><td>FGGY</td><td>18.4396</td><td>19.4532</td><td>14.9604</td></tr><tr><th>30</th><td>CLRN3</td><td>8.01721</td><td>14.5283</td><td>14.6352</td></tr><tr><th>&vellip;</th><td>&vellip;</td><td>&vellip;</td><td>&vellip;</td><td>&vellip;</td></tr></tbody></table>"
      ],
      "text/latex": [
       "\\begin{tabular}{r|ccccc}\n",
       "\t& TargetName & disease3\\_scan | 001 | PanCK & disease3\\_scan | 001 | neg & disease3\\_scan | 002 | PanCK & \\\\\n",
       "\t\\hline\n",
       "\t& String & Float64 & Float64 & Float64 & \\\\\n",
       "\t\\hline\n",
       "\t1 & PADI2 & 6.01291 & 8.6185 & 11.7082 & $\\dots$ \\\\\n",
       "\t2 & CYP24A1 & 9.2198 & 7.87978 & 7.48021 & $\\dots$ \\\\\n",
       "\t3 & SUPT16H & 14.0301 & 16.252 & 14.9604 & $\\dots$ \\\\\n",
       "\t4 & ZMIZ2 & 20.4439 & 19.9457 & 28.2947 & $\\dots$ \\\\\n",
       "\t5 & SPAG9 & 19.2413 & 16.0058 & 14.9604 & $\\dots$ \\\\\n",
       "\t6 & AMELX & 8.41807 & 7.38729 & 10.082 & $\\dots$ \\\\\n",
       "\t7 & VPS33B & 17.6379 & 13.5434 & 10.4073 & $\\dots$ \\\\\n",
       "\t8 & DDX58 & 11.625 & 11.8197 & 15.9361 & $\\dots$ \\\\\n",
       "\t9 & CDV3 & 22.0473 & 19.6994 & 20.164 & $\\dots$ \\\\\n",
       "\t10 & RO60 & 14.8318 & 13.2971 & 14.9604 & $\\dots$ \\\\\n",
       "\t11 & UBE2Q1 & 14.431 & 15.5133 & 14.9604 & $\\dots$ \\\\\n",
       "\t12 & VEGFB & 18.8405 & 17.4833 & 20.164 & $\\dots$ \\\\\n",
       "\t13 & METAP1D & 11.625 & 10.5884 & 10.4073 & $\\dots$ \\\\\n",
       "\t14 & HCFC1 & 9.2198 & 6.15607 & 9.43157 & $\\dots$ \\\\\n",
       "\t15 & ADIPOQ & 13.2284 & 16.7445 & 13.6595 & $\\dots$ \\\\\n",
       "\t16 & OPN1SW & 14.8318 & 18.9607 & 13.0091 & $\\dots$ \\\\\n",
       "\t17 & PALM2AKAP2 & 13.6293 & 13.7896 & 17.5622 & $\\dots$ \\\\\n",
       "\t18 & PAQR8 & 13.6293 & 14.2821 & 11.0577 & $\\dots$ \\\\\n",
       "\t19 & MT1E & 22.4482 & 19.6994 & 12.0334 & $\\dots$ \\\\\n",
       "\t20 & SH2B3 & 12.4267 & 10.096 & 5.52885 & $\\dots$ \\\\\n",
       "\t21 & NRDE2 & 18.4396 & 15.0208 & 14.31 & $\\dots$ \\\\\n",
       "\t22 & CYP2C9 & 11.2241 & 14.0359 & 11.3829 & $\\dots$ \\\\\n",
       "\t23 & UBTD1 & 17.6379 & 14.5283 & 15.9361 & $\\dots$ \\\\\n",
       "\t24 & B3GAT2 & 7.61635 & 16.252 & 10.7325 & $\\dots$ \\\\\n",
       "\t25 & CDK2AP2 & 32.4697 & 34.2278 & 29.2704 & $\\dots$ \\\\\n",
       "\t26 & AGAP3 & 12.0258 & 15.7596 & 13.6595 & $\\dots$ \\\\\n",
       "\t27 & MROH6 & 7.21549 & 8.86475 & 9.7568 & $\\dots$ \\\\\n",
       "\t28 & STRIT1 & 10.4224 & 13.2971 & 9.10634 & $\\dots$ \\\\\n",
       "\t29 & FGGY & 18.4396 & 19.4532 & 14.9604 & $\\dots$ \\\\\n",
       "\t30 & CLRN3 & 8.01721 & 14.5283 & 14.6352 & $\\dots$ \\\\\n",
       "\t$\\dots$ & $\\dots$ & $\\dots$ & $\\dots$ & $\\dots$ &  \\\\\n",
       "\\end{tabular}\n"
      ],
      "text/plain": [
       "\u001b[1m16084×232 DataFrame\u001b[0m\n",
       "\u001b[1m   Row \u001b[0m│\u001b[1m TargetName \u001b[0m\u001b[1m disease3_scan | 001 | PanCK \u001b[0m\u001b[1m disease3_scan | 001 | neg \u001b[0m\u001b[1m d\u001b[0m ⋯\n",
       "\u001b[1m       \u001b[0m│\u001b[90m String     \u001b[0m\u001b[90m Float64                     \u001b[0m\u001b[90m Float64                   \u001b[0m\u001b[90m F\u001b[0m ⋯\n",
       "───────┼────────────────────────────────────────────────────────────────────────\n",
       "     1 │ PADI2                           6.01291                    8.6185     ⋯\n",
       "     2 │ CYP24A1                         9.2198                     7.87978\n",
       "     3 │ SUPT16H                        14.0301                    16.252\n",
       "     4 │ ZMIZ2                          20.4439                    19.9457\n",
       "     5 │ SPAG9                          19.2413                    16.0058     ⋯\n",
       "     6 │ AMELX                           8.41807                    7.38729\n",
       "     7 │ VPS33B                         17.6379                    13.5434\n",
       "     8 │ DDX58                          11.625                     11.8197\n",
       "     9 │ CDV3                           22.0473                    19.6994     ⋯\n",
       "    10 │ RO60                           14.8318                    13.2971\n",
       "    11 │ UBE2Q1                         14.431                     15.5133\n",
       "   ⋮   │     ⋮                    ⋮                           ⋮                ⋱\n",
       " 16075 │ SETD5                          16.8361                    17.4833\n",
       " 16076 │ XAF1                           16.8361                    19.4532     ⋯\n",
       " 16077 │ MYO5C                          14.431                     11.8197\n",
       " 16078 │ OSBPL9                         18.4396                    23.1468\n",
       " 16079 │ HERC3                          13.6293                    10.8347\n",
       " 16080 │ AMD1                           35.6766                    33.489      ⋯\n",
       " 16081 │ TMPRSS4                        16.8361                     9.35723\n",
       " 16082 │ ATP6V0B                        36.0775                    34.474\n",
       " 16083 │ DCHS1                           9.2198                    14.5283\n",
       " 16084 │ AGTPBP1                        14.0301                    11.5734     ⋯\n",
       "\u001b[36m                                              229 columns and 16063 rows omitted\u001b[0m"
      ]
     },
     "execution_count": 9,
     "metadata": {},
     "output_type": "execute_result"
    }
   ],
   "source": [
    "PCM = DataFrame(CSV.File(\"data/Kidney_Q3Norm_TargetCountMatrix.txt\"))"
   ]
  },
  {
   "cell_type": "code",
   "execution_count": 10,
   "metadata": {},
   "outputs": [
    {
     "data": {
      "text/plain": [
       "16084×231 Matrix{Float64}:\n",
       "  6.01291   8.6185   11.7082   …   4.30925  17.237    8.6185   8.6185\n",
       "  9.2198    7.87978   7.48021     12.9278    8.6185  25.8555   8.6185\n",
       " 14.0301   16.252    14.9604       4.30925  17.237    8.6185   8.6185\n",
       " 20.4439   19.9457   28.2947       8.6185   17.237   25.8555  17.237\n",
       " 19.2413   16.0058   14.9604      21.5463   34.474   51.711   17.237\n",
       "  8.41807   7.38729  10.082    …   4.30925  17.237   17.237    8.6185\n",
       " 17.6379   13.5434   10.4073       4.30925   8.6185   8.6185   8.6185\n",
       " 11.625    11.8197   15.9361      12.9278    8.6185  25.8555   8.6185\n",
       " 22.0473   19.6994   20.164        8.6185   25.8555  60.3295  51.711\n",
       " 14.8318   13.2971   14.9604       4.30925  17.237    8.6185  17.237\n",
       " 14.431    15.5133   14.9604   …  12.9278   17.237    8.6185   8.6185\n",
       " 18.8405   17.4833   20.164       17.237     8.6185   8.6185   8.6185\n",
       " 11.625    10.5884   10.4073       4.30925   8.6185  17.237    8.6185\n",
       "  ⋮                            ⋱                               ⋮\n",
       " 18.4396   16.7445   10.4073       4.30925   8.6185   8.6185   8.6185\n",
       "  9.2198   12.5584   13.6595       8.6185    8.6185  25.8555   8.6185\n",
       " 16.8361   17.4833   14.6352      17.237    43.0925  17.237    8.6185\n",
       " 16.8361   19.4532   14.31     …  21.5463    8.6185   8.6185  25.8555\n",
       " 14.431    11.8197   13.9847       8.6185    8.6185   8.6185  17.237\n",
       " 18.4396   23.1468   21.7902       8.6185   17.237    8.6185   8.6185\n",
       " 13.6293   10.8347    6.50453      4.30925   8.6185   8.6185   8.6185\n",
       " 35.6766   33.489    30.5713      17.237    25.8555  34.474   17.237\n",
       " 16.8361    9.35723  14.6352   …  12.9278   17.237   17.237    8.6185\n",
       " 36.0775   34.474    24.0668      21.5463   17.237    8.6185  17.237\n",
       "  9.2198   14.5283   12.3586       8.6185    8.6185   8.6185   8.6185\n",
       " 14.0301   11.5734   12.6838      12.9278   34.474   17.237    8.6185"
      ]
     },
     "execution_count": 10,
     "metadata": {},
     "output_type": "execute_result"
    }
   ],
   "source": [
    "M = Matrix(PCM[:,2:end])"
   ]
  },
  {
   "cell_type": "code",
   "execution_count": 11,
   "metadata": {},
   "outputs": [
    {
     "data": {
      "text/plain": [
       "16084×231 Matrix{Float64}:\n",
       " -0.572635     0.130916    0.96517    …   0.130916      0.130916\n",
       "  0.0609006   -0.119159   -0.172848       2.29625      -0.0198952\n",
       " -0.390533     0.0750558  -0.195594      -1.52451      -1.52451\n",
       " -0.419471    -0.495582    0.779878       0.407248     -0.909379\n",
       " -0.983715    -1.30961    -1.4149         2.28673      -1.18559\n",
       "  0.00936344  -0.295399    0.501327   …   2.61677       0.0686227\n",
       "  1.60162      0.571413   -0.217658      -0.66772      -0.66772\n",
       " -0.653512    -0.614887    0.201727       2.16953      -1.24993\n",
       " -0.693934    -0.931553   -0.884533       3.18043       2.30819\n",
       " -0.00624055  -0.358182    0.0232448     -1.43108       0.545309\n",
       " -0.425986    -0.227344   -0.328817   …  -1.49276      -1.49276\n",
       "  0.0135777   -0.187312    0.209494      -1.49945      -1.49945\n",
       "  0.873615     0.572578    0.519952       2.50354       0.000440403\n",
       "  ⋮                                   ⋱                 ⋮\n",
       "  2.63243      2.17797     0.47894       -0.000626416  -0.000626416\n",
       " -0.232329     0.604706    0.880774       3.93849      -0.383081\n",
       " -0.881787    -0.763186   -1.28518       -0.808317     -2.38792\n",
       " -0.202801     0.0468615  -0.443794   …  -0.986751      0.657632\n",
       "  0.488023    -0.149073    0.379151      -0.930075      1.17262\n",
       " -0.595838     0.130028   -0.0791715     -2.11027      -2.11027\n",
       "  1.11894      0.380366   -0.76405       -0.205349     -0.205349\n",
       "  0.705411     0.4702      0.156478       0.576107     -1.27725\n",
       "  1.40801      0.0726084   1.01502    …   1.47958      -0.0592955\n",
       "  0.857029     0.715061   -0.206395      -1.57418      -0.8111\n",
       " -0.604541     0.558682    0.0832451     -0.736298     -0.736298\n",
       "  0.0678966   -0.439692   -0.210265       0.730483     -1.05022"
      ]
     },
     "execution_count": 11,
     "metadata": {},
     "output_type": "execute_result"
    }
   ],
   "source": [
    "data = M\n",
    "data = (data .- mean(data,dims = 2))./ std(data,dims=2)"
   ]
  },
  {
   "cell_type": "code",
   "execution_count": 12,
   "metadata": {},
   "outputs": [
    {
     "data": {
      "text/plain": [
       "PCA(indim = 16084, outdim = 2, principalratio = 0.16156114406485683)"
      ]
     },
     "execution_count": 12,
     "metadata": {},
     "output_type": "execute_result"
    }
   ],
   "source": [
    "p = fit(PCA,data,maxoutdim=2)"
   ]
  },
  {
   "cell_type": "code",
   "execution_count": 13,
   "metadata": {},
   "outputs": [
    {
     "data": {
      "text/plain": [
       "16084×2 Matrix{Float64}:\n",
       "  0.00711522   -0.00291269\n",
       "  6.08004e-5   -0.011658\n",
       " -0.00522145    0.00699575\n",
       " -0.0037563    -0.00448816\n",
       " -0.0087203    -0.00334342\n",
       "  0.0031281    -0.00774205\n",
       "  0.00821834    0.000581944\n",
       "  0.00596965    0.00832335\n",
       " -0.014032      0.0031605\n",
       "  0.000241092   0.00825613\n",
       " -0.00424247    0.00783928\n",
       " -0.0112326    -0.00824861\n",
       "  0.00262046   -0.00448795\n",
       "  ⋮            \n",
       "  0.0105557    -0.000113116\n",
       "  0.00787844   -0.00638185\n",
       " -0.0083502     0.00167438\n",
       "  0.0067243     0.0196555\n",
       " -0.00427972   -0.00315404\n",
       " -0.0091326     0.00315792\n",
       "  0.00274058   -0.00828522\n",
       " -0.00493972   -0.0139812\n",
       "  0.0049015    -0.0127777\n",
       " -0.013343     -0.0182566\n",
       "  0.00675564    0.00636785\n",
       "  4.17318e-5    0.00568039"
      ]
     },
     "execution_count": 13,
     "metadata": {},
     "output_type": "execute_result"
    }
   ],
   "source": [
    "P = projection(p)"
   ]
  },
  {
   "cell_type": "code",
   "execution_count": 14,
   "metadata": {},
   "outputs": [
    {
     "data": {
      "text/plain": [
       "2×231 Matrix{Float64}:\n",
       "  46.3309   79.6646   29.9858   73.4009  …   40.0674   55.2621   49.9721\n",
       " -41.4498  -44.9247  -39.806   -40.8212     -14.8971  -37.1187  -17.6628"
      ]
     },
     "execution_count": 14,
     "metadata": {},
     "output_type": "execute_result"
    }
   ],
   "source": [
    "Yte = MultivariateStats.transform(p, data) #notice that Yte[:,1] is the same as P'*(data[1,:]-mean(p))"
   ]
  },
  {
   "cell_type": "code",
   "execution_count": 31,
   "metadata": {},
   "outputs": [
    {
     "data": {
      "text/plain": [
       "\"PCA_matrix.txt\""
      ]
     },
     "execution_count": 31,
     "metadata": {},
     "output_type": "execute_result"
    }
   ],
   "source": [
    "CSV.write(\"PCA_matrix.txt\",Tables.table(Yte))"
   ]
  },
  {
   "cell_type": "code",
   "execution_count": 35,
   "metadata": {},
   "outputs": [
    {
     "data": {
      "text/plain": [
       "2×231 Matrix{Float64}:\n",
       "  46.3309   79.6646   29.9858   73.4009  …   40.0674   55.2621   49.9721\n",
       " -41.4498  -44.9247  -39.806   -40.8212     -14.8971  -37.1187  -17.6628"
      ]
     },
     "execution_count": 35,
     "metadata": {},
     "output_type": "execute_result"
    }
   ],
   "source": [
    "Yte=Matrix(CSV.read(\"PCA_matrix.txt\",DataFrame))"
   ]
  },
  {
   "cell_type": "code",
   "execution_count": 17,
   "metadata": {},
   "outputs": [
    {
     "data": {
      "application/vnd.plotly.v1+json": {
       "data": [
        {
         "marker": {
          "line": {
           "color": "white",
           "width": 0.5
          },
          "opacity": 0.5,
          "size": 15
         },
         "mode": "markers",
         "type": "scatter",
         "x": [],
         "y": []
        }
       ],
       "frames": [],
       "layout": {
        "height": 450,
        "hovermode": "closest",
        "margin": {
         "b": 50,
         "l": 50,
         "r": 50,
         "t": 60
        },
        "xaxis": {
         "title": "pca_1"
        },
        "yaxis": {
         "title": "pca_2"
        }
       }
      },
      "application/vnd.webio.node+json": {
       "children": [
        {
         "children": [],
         "instanceArgs": {
          "namespace": "html",
          "tag": "div"
         },
         "nodeType": "DOM",
         "props": {
          "id": "plot-b276d17c-3234-47be-bc77-e35314f52f85"
         },
         "type": "node"
        }
       ],
       "instanceArgs": {
        "handlers": {
         "__get_gd_contents": [
          "(function (prop){prop==\"data\" ? (WebIO.setval({\"name\":\"__gd_contents\",\"scope\":\"5464916202873880655\",\"id\":\"10438790888742371055\",\"type\":\"observable\"},this.plotElem.data)) : undefined; return prop==\"layout\" ? (WebIO.setval({\"name\":\"__gd_contents\",\"scope\":\"5464916202873880655\",\"id\":\"10438790888742371055\",\"type\":\"observable\"},this.plotElem.layout)) : undefined})"
         ],
         "_commands": [
          "(function (args){var fn=args.shift(); var elem=this.plotElem; var Plotly=this.Plotly; args.unshift(elem); return Plotly[fn].apply(this,args)})"
         ],
         "_downloadImage": [
          "(function (options){return this.Plotly.downloadImage(this.plotElem,options)})"
         ],
         "_toImage": [
          "(function (options){return this.Plotly.toImage(this.plotElem,options).then((function (data){return WebIO.setval({\"name\":\"image\",\"scope\":\"5464916202873880655\",\"id\":\"2207575743191889524\",\"type\":\"observable\"},data)}))})"
         ]
        },
        "id": "5464916202873880655",
        "imports": {
         "data": [
          {
           "name": "Plotly",
           "type": "js",
           "url": "/assetserver/1013e1af0b97d406e029d228e1f752c4690ee279-plotly.min.js"
          },
          {
           "name": null,
           "type": "js",
           "url": "/assetserver/7c2819329a8c0896961510a9544552b4855486de-plotly_webio.bundle.js"
          }
         ],
         "type": "async_block"
        },
        "mount_callbacks": [
         "function () {\n    var handler = ((function (Plotly,PlotlyWebIO){PlotlyWebIO.init(WebIO); var gd=this.dom.querySelector(\"#plot-b276d17c-3234-47be-bc77-e35314f52f85\"); this.plotElem=gd; this.Plotly=Plotly; (window.Blink!==undefined) ? (gd.style.width=\"100%\", gd.style.height=\"100vh\", gd.style.marginLeft=\"0%\", gd.style.marginTop=\"0vh\") : undefined; window.onresize=(function (){return Plotly.Plots.resize(gd)}); Plotly.newPlot(gd,[{\"marker\":{\"line\":{\"color\":\"white\",\"width\":0.5},\"opacity\":0.5,\"size\":15},\"mode\":\"markers\",\"y\":[],\"type\":\"scatter\",\"x\":[]}],{\"xaxis\":{\"title\":\"pca_1\"},\"hovermode\":\"closest\",\"height\":450,\"margin\":{\"l\":50,\"b\":50,\"r\":50,\"t\":60},\"yaxis\":{\"title\":\"pca_2\"}},{}); gd.on(\"plotly_hover\",(function (data){var filtered_data=WebIO.PlotlyCommands.filterEventData(gd,data,\"hover\"); return !(filtered_data.isnil) ? (WebIO.setval({\"name\":\"hover\",\"scope\":\"5464916202873880655\",\"id\":\"5656549985907791069\",\"type\":\"observable\"},filtered_data.out)) : undefined})); gd.on(\"plotly_unhover\",(function (){return WebIO.setval({\"name\":\"hover\",\"scope\":\"5464916202873880655\",\"id\":\"5656549985907791069\",\"type\":\"observable\"},{})})); gd.on(\"plotly_selected\",(function (data){var filtered_data=WebIO.PlotlyCommands.filterEventData(gd,data,\"selected\"); return !(filtered_data.isnil) ? (WebIO.setval({\"name\":\"selected\",\"scope\":\"5464916202873880655\",\"id\":\"11805701829482476755\",\"type\":\"observable\"},filtered_data.out)) : undefined})); gd.on(\"plotly_deselect\",(function (){return WebIO.setval({\"name\":\"selected\",\"scope\":\"5464916202873880655\",\"id\":\"11805701829482476755\",\"type\":\"observable\"},{})})); gd.on(\"plotly_relayout\",(function (data){var filtered_data=WebIO.PlotlyCommands.filterEventData(gd,data,\"relayout\"); return !(filtered_data.isnil) ? (WebIO.setval({\"name\":\"relayout\",\"scope\":\"5464916202873880655\",\"id\":\"619091652918756470\",\"type\":\"observable\"},filtered_data.out)) : undefined})); return gd.on(\"plotly_click\",(function (data){var filtered_data=WebIO.PlotlyCommands.filterEventData(gd,data,\"click\"); return !(filtered_data.isnil) ? (WebIO.setval({\"name\":\"click\",\"scope\":\"5464916202873880655\",\"id\":\"10345431919033034445\",\"type\":\"observable\"},filtered_data.out)) : undefined}))}));\n    (WebIO.importBlock({\"data\":[{\"name\":\"Plotly\",\"type\":\"js\",\"url\":\"/assetserver/1013e1af0b97d406e029d228e1f752c4690ee279-plotly.min.js\"},{\"name\":null,\"type\":\"js\",\"url\":\"/assetserver/7c2819329a8c0896961510a9544552b4855486de-plotly_webio.bundle.js\"}],\"type\":\"async_block\"})).then((imports) => handler.apply(this, imports));\n}\n"
        ],
        "observables": {
         "__gd_contents": {
          "id": "10438790888742371055",
          "sync": false,
          "value": {}
         },
         "__get_gd_contents": {
          "id": "13967356345110886131",
          "sync": false,
          "value": ""
         },
         "_commands": {
          "id": "10372147459573671778",
          "sync": false,
          "value": []
         },
         "_downloadImage": {
          "id": "2779025911743781177",
          "sync": false,
          "value": {}
         },
         "_toImage": {
          "id": "12786473041636574656",
          "sync": false,
          "value": {}
         },
         "click": {
          "id": "10345431919033034445",
          "sync": false,
          "value": {}
         },
         "hover": {
          "id": "5656549985907791069",
          "sync": false,
          "value": {}
         },
         "image": {
          "id": "2207575743191889524",
          "sync": true,
          "value": ""
         },
         "relayout": {
          "id": "619091652918756470",
          "sync": false,
          "value": {}
         },
         "selected": {
          "id": "11805701829482476755",
          "sync": false,
          "value": {}
         }
        },
        "systemjs_options": null
       },
       "nodeType": "Scope",
       "props": {},
       "type": "node"
      },
      "image/png": "[encoded data removed]",
      "image/svg+xml": [
       "<svg class=\"main-svg\" xmlns=\"http://www.w3.org/2000/svg\" xmlns:xlink=\"http://www.w3.org/1999/xlink\" width=\"700\" height=\"500\" style=\"\" viewBox=\"0 0 700 500\"><rect x=\"0\" y=\"0\" width=\"700\" height=\"500\" style=\"fill: rgb(255, 255, 255); fill-opacity: 1;\"/><defs id=\"defs-37a167\"><g class=\"clips\"><clipPath id=\"clip37a167xyplot\" class=\"plotclip\"><rect width=\"600\" height=\"390\"/></clipPath><clipPath class=\"axesclip\" id=\"clip37a167x\"><rect x=\"50\" y=\"0\" width=\"600\" height=\"500\"/></clipPath><clipPath class=\"axesclip\" id=\"clip37a167y\"><rect x=\"0\" y=\"60\" width=\"700\" height=\"390\"/></clipPath><clipPath class=\"axesclip\" id=\"clip37a167xy\"><rect x=\"50\" y=\"60\" width=\"600\" height=\"390\"/></clipPath></g><g class=\"gradients\"/></defs><g class=\"bglayer\"/><g class=\"layer-below\"><g class=\"imagelayer\"/><g class=\"shapelayer\"/></g><g class=\"cartesianlayer\"><g class=\"subplot xy\"><g class=\"layer-subplot\"><g class=\"shapelayer\"/><g class=\"imagelayer\"/></g><g class=\"gridlayer\"><g class=\"x\"><path class=\"xgrid crisp\" transform=\"translate(221.43,0)\" d=\"M0,60v390\" style=\"stroke: rgb(238, 238, 238); stroke-opacity: 1; stroke-width: 1px;\"/><path class=\"xgrid crisp\" transform=\"translate(307.14,0)\" d=\"M0,60v390\" style=\"stroke: rgb(238, 238, 238); stroke-opacity: 1; stroke-width: 1px;\"/><path class=\"xgrid crisp\" transform=\"translate(392.86,0)\" d=\"M0,60v390\" style=\"stroke: rgb(238, 238, 238); stroke-opacity: 1; stroke-width: 1px;\"/><path class=\"xgrid crisp\" transform=\"translate(478.57,0)\" d=\"M0,60v390\" style=\"stroke: rgb(238, 238, 238); stroke-opacity: 1; stroke-width: 1px;\"/><path class=\"xgrid crisp\" transform=\"translate(564.29,0)\" d=\"M0,60v390\" style=\"stroke: rgb(238, 238, 238); stroke-opacity: 1; stroke-width: 1px;\"/></g><g class=\"y\"><path class=\"ygrid crisp\" transform=\"translate(0,294)\" d=\"M50,0h600\" style=\"stroke: rgb(238, 238, 238); stroke-opacity: 1; stroke-width: 1px;\"/><path class=\"ygrid crisp\" transform=\"translate(0,216)\" d=\"M50,0h600\" style=\"stroke: rgb(238, 238, 238); stroke-opacity: 1; stroke-width: 1px;\"/><path class=\"ygrid crisp\" transform=\"translate(0,138)\" d=\"M50,0h600\" style=\"stroke: rgb(238, 238, 238); stroke-opacity: 1; stroke-width: 1px;\"/></g></g><g class=\"zerolinelayer\"><path class=\"xzl zl crisp\" transform=\"translate(135.70999999999998,0)\" d=\"M0,60v390\" style=\"stroke: rgb(68, 68, 68); stroke-opacity: 1; stroke-width: 1px;\"/><path class=\"yzl zl crisp\" transform=\"translate(0,372)\" d=\"M50,0h600\" style=\"stroke: rgb(68, 68, 68); stroke-opacity: 1; stroke-width: 1px;\"/></g><path class=\"xlines-below\"/><path class=\"ylines-below\"/><g class=\"overlines-below\"/><g class=\"xaxislayer-below\"/><g class=\"yaxislayer-below\"/><g class=\"overaxes-below\"/><g class=\"plot\" transform=\"translate(50,60)\" clip-path=\"url('#clip37a167xyplot')\"/><g class=\"overplot\"/><path class=\"xlines-above crisp\" d=\"M0,0\" style=\"fill: none;\"/><path class=\"ylines-above crisp\" d=\"M0,0\" style=\"fill: none;\"/><g class=\"overlines-above\"/><g class=\"xaxislayer-above\"><g class=\"xtick\"><text text-anchor=\"middle\" x=\"0\" y=\"463\" transform=\"translate(50,0)\" style=\"font-family: 'Open Sans', verdana, arial, sans-serif; font-size: 12px; fill: rgb(68, 68, 68); fill-opacity: 1; white-space: pre;\">−1</text></g><g class=\"xtick\"><text text-anchor=\"middle\" x=\"0\" y=\"463\" transform=\"translate(135.70999999999998,0)\" style=\"font-family: 'Open Sans', verdana, arial, sans-serif; font-size: 12px; fill: rgb(68, 68, 68); fill-opacity: 1; white-space: pre;\">0</text></g><g class=\"xtick\"><text text-anchor=\"middle\" x=\"0\" y=\"463\" transform=\"translate(221.43,0)\" style=\"font-family: 'Open Sans', verdana, arial, sans-serif; font-size: 12px; fill: rgb(68, 68, 68); fill-opacity: 1; white-space: pre;\">1</text></g><g class=\"xtick\"><text text-anchor=\"middle\" x=\"0\" y=\"463\" transform=\"translate(307.14,0)\" style=\"font-family: 'Open Sans', verdana, arial, sans-serif; font-size: 12px; fill: rgb(68, 68, 68); fill-opacity: 1; white-space: pre;\">2</text></g><g class=\"xtick\"><text text-anchor=\"middle\" x=\"0\" y=\"463\" transform=\"translate(392.86,0)\" style=\"font-family: 'Open Sans', verdana, arial, sans-serif; font-size: 12px; fill: rgb(68, 68, 68); fill-opacity: 1; white-space: pre;\">3</text></g><g class=\"xtick\"><text text-anchor=\"middle\" x=\"0\" y=\"463\" transform=\"translate(478.57,0)\" style=\"font-family: 'Open Sans', verdana, arial, sans-serif; font-size: 12px; fill: rgb(68, 68, 68); fill-opacity: 1; white-space: pre;\">4</text></g><g class=\"xtick\"><text text-anchor=\"middle\" x=\"0\" y=\"463\" transform=\"translate(564.29,0)\" style=\"font-family: 'Open Sans', verdana, arial, sans-serif; font-size: 12px; fill: rgb(68, 68, 68); fill-opacity: 1; white-space: pre;\">5</text></g><g class=\"xtick\"><text text-anchor=\"middle\" x=\"0\" y=\"463\" transform=\"translate(650,0)\" style=\"font-family: 'Open Sans', verdana, arial, sans-serif; font-size: 12px; fill: rgb(68, 68, 68); fill-opacity: 1; white-space: pre;\">6</text></g></g><g class=\"yaxislayer-above\"><g class=\"ytick\"><text text-anchor=\"end\" x=\"49\" y=\"4.199999999999999\" transform=\"translate(0,450)\" style=\"font-family: 'Open Sans', verdana, arial, sans-serif; font-size: 12px; fill: rgb(68, 68, 68); fill-opacity: 1; white-space: pre;\">−1</text></g><g class=\"ytick\"><text text-anchor=\"end\" x=\"49\" y=\"4.199999999999999\" transform=\"translate(0,372)\" style=\"font-family: 'Open Sans', verdana, arial, sans-serif; font-size: 12px; fill: rgb(68, 68, 68); fill-opacity: 1; white-space: pre;\">0</text></g><g class=\"ytick\"><text text-anchor=\"end\" x=\"49\" y=\"4.199999999999999\" transform=\"translate(0,294)\" style=\"font-family: 'Open Sans', verdana, arial, sans-serif; font-size: 12px; fill: rgb(68, 68, 68); fill-opacity: 1; white-space: pre;\">1</text></g><g class=\"ytick\"><text text-anchor=\"end\" x=\"49\" y=\"4.199999999999999\" transform=\"translate(0,216)\" style=\"font-family: 'Open Sans', verdana, arial, sans-serif; font-size: 12px; fill: rgb(68, 68, 68); fill-opacity: 1; white-space: pre;\">2</text></g><g class=\"ytick\"><text text-anchor=\"end\" x=\"49\" y=\"4.199999999999999\" transform=\"translate(0,138)\" style=\"font-family: 'Open Sans', verdana, arial, sans-serif; font-size: 12px; fill: rgb(68, 68, 68); fill-opacity: 1; white-space: pre;\">3</text></g><g class=\"ytick\"><text text-anchor=\"end\" x=\"49\" y=\"4.199999999999999\" transform=\"translate(0,60)\" style=\"font-family: 'Open Sans', verdana, arial, sans-serif; font-size: 12px; fill: rgb(68, 68, 68); fill-opacity: 1; white-space: pre;\">4</text></g></g><g class=\"overaxes-above\"/></g></g><g class=\"polarlayer\"/><g class=\"ternarylayer\"/><g class=\"geolayer\"/><g class=\"funnelarealayer\"/><g class=\"pielayer\"/><g class=\"treemaplayer\"/><g class=\"sunburstlayer\"/><g class=\"glimages\"/><defs id=\"topdefs-37a167\"><g class=\"clips\"/></defs><g class=\"layer-above\"><g class=\"imagelayer\"/><g class=\"shapelayer\"/></g><g class=\"infolayer\"><g class=\"g-gtitle\"/><g class=\"g-xtitle\" transform=\"translate(0,-5)\"><text class=\"xtitle\" x=\"350\" y=\"502\" text-anchor=\"middle\" style=\"font-family: 'Open Sans', verdana, arial, sans-serif; font-size: 14px; fill: rgb(68, 68, 68); opacity: 1; font-weight: normal; white-space: pre;\">pca_1</text></g><g class=\"g-ytitle\" transform=\"translate(2,0)\"><text class=\"ytitle\" transform=\"rotate(-90,12,255)\" x=\"12\" y=\"255\" text-anchor=\"middle\" style=\"font-family: 'Open Sans', verdana, arial, sans-serif; font-size: 14px; fill: rgb(68, 68, 68); opacity: 1; font-weight: normal; white-space: pre;\">pca_2</text></g></g></svg>"
      ],
      "text/html": [
       "<div\n",
       "    class=\"webio-mountpoint\"\n",
       "    data-webio-mountpoint=\"8465741185914691803\"\n",
       ">\n",
       "    <script>\n",
       "    if (window.require && require.defined && require.defined(\"nbextensions/webio-jupyter-notebook\")) {\n",
       "        console.log(\"Jupyter WebIO extension detected, not mounting.\");\n",
       "    } else if (window.WebIO) {\n",
       "        WebIO.mount(\n",
       "            document.querySelector('[data-webio-mountpoint=\"8465741185914691803\"]'),\n",
       "            {\"props\":{},\"nodeType\":\"Scope\",\"type\":\"node\",\"instanceArgs\":{\"imports\":{\"data\":[{\"name\":\"Plotly\",\"type\":\"js\",\"url\":\"\\/assetserver\\/1013e1af0b97d406e029d228e1f752c4690ee279-plotly.min.js\"},{\"name\":null,\"type\":\"js\",\"url\":\"\\/assetserver\\/7c2819329a8c0896961510a9544552b4855486de-plotly_webio.bundle.js\"}],\"type\":\"async_block\"},\"id\":\"5464916202873880655\",\"handlers\":{\"_toImage\":[\"(function (options){return this.Plotly.toImage(this.plotElem,options).then((function (data){return WebIO.setval({\\\"name\\\":\\\"image\\\",\\\"scope\\\":\\\"5464916202873880655\\\",\\\"id\\\":\\\"2207575743191889524\\\",\\\"type\\\":\\\"observable\\\"},data)}))})\"],\"__get_gd_contents\":[\"(function (prop){prop==\\\"data\\\" ? (WebIO.setval({\\\"name\\\":\\\"__gd_contents\\\",\\\"scope\\\":\\\"5464916202873880655\\\",\\\"id\\\":\\\"10438790888742371055\\\",\\\"type\\\":\\\"observable\\\"},this.plotElem.data)) : undefined; return prop==\\\"layout\\\" ? (WebIO.setval({\\\"name\\\":\\\"__gd_contents\\\",\\\"scope\\\":\\\"5464916202873880655\\\",\\\"id\\\":\\\"10438790888742371055\\\",\\\"type\\\":\\\"observable\\\"},this.plotElem.layout)) : undefined})\"],\"_downloadImage\":[\"(function (options){return this.Plotly.downloadImage(this.plotElem,options)})\"],\"_commands\":[\"(function (args){var fn=args.shift(); var elem=this.plotElem; var Plotly=this.Plotly; args.unshift(elem); return Plotly[fn].apply(this,args)})\"]},\"systemjs_options\":null,\"mount_callbacks\":[\"function () {\\n    var handler = ((function (Plotly,PlotlyWebIO){PlotlyWebIO.init(WebIO); var gd=this.dom.querySelector(\\\"#plot-b276d17c-3234-47be-bc77-e35314f52f85\\\"); this.plotElem=gd; this.Plotly=Plotly; (window.Blink!==undefined) ? (gd.style.width=\\\"100%\\\", gd.style.height=\\\"100vh\\\", gd.style.marginLeft=\\\"0%\\\", gd.style.marginTop=\\\"0vh\\\") : undefined; window.onresize=(function (){return Plotly.Plots.resize(gd)}); Plotly.newPlot(gd,[{\\\"marker\\\":{\\\"line\\\":{\\\"color\\\":\\\"white\\\",\\\"width\\\":0.5},\\\"opacity\\\":0.5,\\\"size\\\":15},\\\"mode\\\":\\\"markers\\\",\\\"y\\\":[],\\\"type\\\":\\\"scatter\\\",\\\"x\\\":[]}],{\\\"xaxis\\\":{\\\"title\\\":\\\"pca_1\\\"},\\\"hovermode\\\":\\\"closest\\\",\\\"height\\\":450,\\\"margin\\\":{\\\"l\\\":50,\\\"b\\\":50,\\\"r\\\":50,\\\"t\\\":60},\\\"yaxis\\\":{\\\"title\\\":\\\"pca_2\\\"}},{}); gd.on(\\\"plotly_hover\\\",(function (data){var filtered_data=WebIO.PlotlyCommands.filterEventData(gd,data,\\\"hover\\\"); return !(filtered_data.isnil) ? (WebIO.setval({\\\"name\\\":\\\"hover\\\",\\\"scope\\\":\\\"5464916202873880655\\\",\\\"id\\\":\\\"5656549985907791069\\\",\\\"type\\\":\\\"observable\\\"},filtered_data.out)) : undefined})); gd.on(\\\"plotly_unhover\\\",(function (){return WebIO.setval({\\\"name\\\":\\\"hover\\\",\\\"scope\\\":\\\"5464916202873880655\\\",\\\"id\\\":\\\"5656549985907791069\\\",\\\"type\\\":\\\"observable\\\"},{})})); gd.on(\\\"plotly_selected\\\",(function (data){var filtered_data=WebIO.PlotlyCommands.filterEventData(gd,data,\\\"selected\\\"); return !(filtered_data.isnil) ? (WebIO.setval({\\\"name\\\":\\\"selected\\\",\\\"scope\\\":\\\"5464916202873880655\\\",\\\"id\\\":\\\"11805701829482476755\\\",\\\"type\\\":\\\"observable\\\"},filtered_data.out)) : undefined})); gd.on(\\\"plotly_deselect\\\",(function (){return WebIO.setval({\\\"name\\\":\\\"selected\\\",\\\"scope\\\":\\\"5464916202873880655\\\",\\\"id\\\":\\\"11805701829482476755\\\",\\\"type\\\":\\\"observable\\\"},{})})); gd.on(\\\"plotly_relayout\\\",(function (data){var filtered_data=WebIO.PlotlyCommands.filterEventData(gd,data,\\\"relayout\\\"); return !(filtered_data.isnil) ? (WebIO.setval({\\\"name\\\":\\\"relayout\\\",\\\"scope\\\":\\\"5464916202873880655\\\",\\\"id\\\":\\\"619091652918756470\\\",\\\"type\\\":\\\"observable\\\"},filtered_data.out)) : undefined})); return gd.on(\\\"plotly_click\\\",(function (data){var filtered_data=WebIO.PlotlyCommands.filterEventData(gd,data,\\\"click\\\"); return !(filtered_data.isnil) ? (WebIO.setval({\\\"name\\\":\\\"click\\\",\\\"scope\\\":\\\"5464916202873880655\\\",\\\"id\\\":\\\"10345431919033034445\\\",\\\"type\\\":\\\"observable\\\"},filtered_data.out)) : undefined}))}));\\n    (WebIO.importBlock({\\\"data\\\":[{\\\"name\\\":\\\"Plotly\\\",\\\"type\\\":\\\"js\\\",\\\"url\\\":\\\"\\/assetserver\\/1013e1af0b97d406e029d228e1f752c4690ee279-plotly.min.js\\\"},{\\\"name\\\":null,\\\"type\\\":\\\"js\\\",\\\"url\\\":\\\"\\/assetserver\\/7c2819329a8c0896961510a9544552b4855486de-plotly_webio.bundle.js\\\"}],\\\"type\\\":\\\"async_block\\\"})).then((imports) => handler.apply(this, imports));\\n}\\n\"],\"observables\":{\"_toImage\":{\"sync\":false,\"id\":\"12786473041636574656\",\"value\":{}},\"hover\":{\"sync\":false,\"id\":\"5656549985907791069\",\"value\":{}},\"selected\":{\"sync\":false,\"id\":\"11805701829482476755\",\"value\":{}},\"__gd_contents\":{\"sync\":false,\"id\":\"10438790888742371055\",\"value\":{}},\"click\":{\"sync\":false,\"id\":\"10345431919033034445\",\"value\":{}},\"image\":{\"sync\":true,\"id\":\"2207575743191889524\",\"value\":\"\"},\"__get_gd_contents\":{\"sync\":false,\"id\":\"13967356345110886131\",\"value\":\"\"},\"_downloadImage\":{\"sync\":false,\"id\":\"2779025911743781177\",\"value\":{}},\"relayout\":{\"sync\":false,\"id\":\"619091652918756470\",\"value\":{}},\"_commands\":{\"sync\":false,\"id\":\"10372147459573671778\",\"value\":[]}}},\"children\":[{\"props\":{\"id\":\"plot-b276d17c-3234-47be-bc77-e35314f52f85\"},\"nodeType\":\"DOM\",\"type\":\"node\",\"instanceArgs\":{\"namespace\":\"html\",\"tag\":\"div\"},\"children\":[]}]},\n",
       "            window,\n",
       "        );\n",
       "    } else {\n",
       "        document\n",
       "            .querySelector('[data-webio-mountpoint=\"8465741185914691803\"]')\n",
       "            .innerHTML = (\n",
       "                '<div style=\"padding: 1em; background-color: #f8d6da; border: 1px solid #f5c6cb\">' +\n",
       "                '<p><strong>WebIO not detected.</strong></p>' +\n",
       "                '<p>Please read ' +\n",
       "                '<a href=\"https://juliagizmos.github.io/WebIO.jl/latest/troubleshooting/not-detected/\" target=\"_blank\">the troubleshooting guide</a> ' +\n",
       "                'for more information on how to resolve this issue.</p>' +\n",
       "                '<p><a href=\"https://juliagizmos.github.io/WebIO.jl/latest/troubleshooting/not-detected/\" target=\"_blank\">https://juliagizmos.github.io/WebIO.jl/latest/troubleshooting/not-detected/</a></p>' +\n",
       "                '</div>'\n",
       "            );\n",
       "    }\n",
       "    </script>\n",
       "</div>\n"
      ],
      "text/plain": [
       "data: [\n",
       "  \"scatter with fields marker, mode, type, x, and y\"\n",
       "]\n",
       "\n",
       "layout: \"layout with fields height, hovermode, margin, xaxis, and yaxis\"\n",
       "\n"
      ]
     },
     "execution_count": 17,
     "metadata": {},
     "output_type": "execute_result"
    }
   ],
   "source": [
    "patientState=\"normal\"\n",
    "PlotlyJS.plot(\n",
    "        Yte[1,features[!, \"disease_status\"] .== patientState[1]],\n",
    "        Yte[2,features[!, \"disease_status\"] .== patientState[1]],\n",
    "        Layout(\n",
    "          #  xaxis_type = xaxis_type == \"Linear\" ? \"linear\" : \"log\",\n",
    "            xaxis_title = \"pca_1\",\n",
    "            yaxis_title = \"pca_2\",\n",
    "           # yaxis_type = yaxis_type == \"Linear\" ? \"linear\" : \"log\",\n",
    "            hovermode = \"closest\",\n",
    "            height = 450,\n",
    "        ),\n",
    "        kind = \"scatter\",\n",
    "        mode = \"markers\",\n",
    "        marker_size = 15,\n",
    "        marker_opacity = 0.5,\n",
    "        marker_line_width = 0.5,\n",
    "        marker_line_color = \"white\",\n",
    ")"
   ]
  },
  {
   "cell_type": "code",
   "execution_count": 20,
   "metadata": {},
   "outputs": [
    {
     "name": "stderr",
     "output_type": "stream",
     "text": [
      "┌ Info: Using default Jupyter executable at `/Library/Frameworks/Python.framework/Versions/3.8/bin/jupyter`; to use a different executable, see the documentation by running `?WebIO.install_jupyter_labextension`.\n",
      "└ @ WebIO /Users/urieluval/.julia/packages/WebIO/Fy9h1/deps/jupyter.jl:198\n"
     ]
    },
    {
     "name": "stdout",
     "output_type": "stream",
     "text": [
      "An error occured.\n",
      "ValueError: No linked package for @webio/webio\n",
      "See the log file for details:  /var/folders/1j/bghpxnvd61zffqv6ytzxqgg40000gn/T/jupyterlab-debug-quncc9wq.log\n",
      "An error occured.\n",
      "ValueError: Please install Node.js and npm before continuing installation. You may be able to install Node.js from your package manager, from conda, or directly from the Node.js website (https://nodejs.org).\n",
      "See the log file for details:  /var/folders/1j/bghpxnvd61zffqv6ytzxqgg40000gn/T/jupyterlab-debug-qdy0nn_8.log\n",
      "An error occured.\n",
      "ValueError: Please install Node.js and npm before continuing installation. You may be able to install Node.js from your package manager, from conda, or directly from the Node.js website (https://nodejs.org).\n",
      "See the log file for details:  /var/folders/1j/bghpxnvd61zffqv6ytzxqgg40000gn/T/jupyterlab-debug-w0w3y2v0.log\n"
     ]
    },
    {
     "ename": "LoadError",
     "evalue": "failed process: Process(`\u001b[4m/Library/Frameworks/Python.framework/Versions/3.8/bin/jupyter\u001b[24m \u001b[4mlabextension\u001b[24m \u001b[4minstall\u001b[24m \u001b[4m--no-build\u001b[24m \u001b[4m@webio/jupyter-lab-provider@0.8.15\u001b[24m`, ProcessExited(1)) [1]\n",
     "output_type": "error",
     "traceback": [
      "failed process: Process(`\u001b[4m/Library/Frameworks/Python.framework/Versions/3.8/bin/jupyter\u001b[24m \u001b[4mlabextension\u001b[24m \u001b[4minstall\u001b[24m \u001b[4m--no-build\u001b[24m \u001b[4m@webio/jupyter-lab-provider@0.8.15\u001b[24m`, ProcessExited(1)) [1]\n",
      "",
      "Stacktrace:",
      " [1] pipeline_error",
      "   @ ./process.jl:525 [inlined]",
      " [2] run(::Cmd; wait::Bool)",
      "   @ Base ./process.jl:440",
      " [3] run",
      "   @ ./process.jl:438 [inlined]",
      " [4] install_jupyter_labextension(jupyter::Nothing; force_conda_jupyter::Nothing, condajl::Nothing, dev::Bool)",
      "   @ WebIO ~/.julia/packages/WebIO/Fy9h1/deps/jupyter.jl:216",
      " [5] install_jupyter_labextension(jupyter::Nothing) (repeats 2 times)",
      "   @ WebIO ~/.julia/packages/WebIO/Fy9h1/deps/jupyter.jl:196",
      " [6] top-level scope",
      "   @ In[20]:2",
      " [7] eval",
      "   @ ./boot.jl:360 [inlined]",
      " [8] include_string(mapexpr::typeof(REPL.softscope), mod::Module, code::String, filename::String)",
      "   @ Base ./loading.jl:1094"
     ]
    }
   ],
   "source": [
    "using WebIO\n",
    "WebIO.install_jupyter_labextension()"
   ]
  },
  {
   "cell_type": "code",
   "execution_count": 19,
   "metadata": {},
   "outputs": [
    {
     "name": "stderr",
     "output_type": "stream",
     "text": [
      "\u001b[32m\u001b[1m    Updating\u001b[22m\u001b[39m registry at `~/.julia/registries/General`\n",
      "\u001b[32m\u001b[1m    Updating\u001b[22m\u001b[39m git-repo `https://github.com/JuliaRegistries/General.git`\n",
      "\u001b[32m\u001b[1m   Resolving\u001b[22m\u001b[39m package versions...\n",
      "\u001b[32m\u001b[1m    Updating\u001b[22m\u001b[39m `~/.julia/environments/v1.6/Project.toml`\n",
      " \u001b[90m [0f1e0344] \u001b[39m\u001b[92m+ WebIO v0.8.15\u001b[39m\n",
      "\u001b[32m\u001b[1m  No Changes\u001b[22m\u001b[39m to `~/.julia/environments/v1.6/Manifest.toml`\n",
      "\u001b[32m\u001b[1mPrecompiling\u001b[22m\u001b[39m project...\n",
      "\u001b[32m  ✓ \u001b[39m\u001b[90mLibepoxy_jll\u001b[39m\n",
      "\u001b[32m  ✓ \u001b[39m\u001b[90mQt5Base_jll\u001b[39m\n",
      "\u001b[32m  ✓ \u001b[39m\u001b[90mGR_jll\u001b[39m\n",
      "\u001b[32m  ✓ \u001b[39m\u001b[90mGR\u001b[39m\n",
      "\u001b[32m  ✓ \u001b[39m\u001b[90mGTK3_jll\u001b[39m\n",
      "\u001b[32m  ✓ \u001b[39m\u001b[90mGtk\u001b[39m\n",
      "\u001b[32m  ✓ \u001b[39mInspectDR\n",
      "\u001b[32m  ✓ \u001b[39mPlots\n",
      "8 dependencies successfully precompiled in 70 seconds (286 already precompiled)\n"
     ]
    }
   ],
   "source": [
    "import Pkg; Pkg.add(\"WebIO\")"
   ]
  },
  {
   "cell_type": "code",
   "execution_count": null,
   "metadata": {},
   "outputs": [],
   "source": [
    "#To plot we need to know which points are what...\n",
    "#Preliminarily, we can use this:\n",
    "segmentDisplayNames=features[!,r\"SegmentDi.\"]"
   ]
  },
  {
   "cell_type": "code",
   "execution_count": null,
   "metadata": {},
   "outputs": [],
   "source": [
    "healthy=[!occursin(r\"disease.\",seg) for seg in segmentDisplayNames[!,1]];"
   ]
  },
  {
   "cell_type": "code",
   "execution_count": null,
   "metadata": {},
   "outputs": [],
   "source": [
    "glomeruli = [occursin(r\".Geo.\",seg) for seg in segmentDisplayNames[!,1]];\n",
    "distTub = [occursin(r\".Pan.\",seg) for seg in segmentDisplayNames[!,1]];\n",
    "proxTub = [occursin(r\".neg\",seg) for seg in segmentDisplayNames[!,1]];"
   ]
  },
  {
   "cell_type": "code",
   "execution_count": null,
   "metadata": {},
   "outputs": [],
   "source": [
    "Plots.scatter(Yte[1,healthy.& glomeruli],Yte[2,healthy.& glomeruli],color=1,label=\"Glomeruli (Healthy)\",marker=:o)\n",
    "Plots.xlabel!(\"pca component1\")\n",
    "Plots.ylabel!(\"pca component2\")\n",
    "Plots.scatter!(Yte[1,.!(healthy).& glomeruli],Yte[2,.!(healthy).& glomeruli],color=1,label=\"Glom (DKD)\",marker=:d)\n",
    "Plots.scatter!(Yte[1,healthy.& distTub],Yte[2,healthy.& distTub],color=2,label=\"Distub\",marker=:o)\n",
    "Plots.scatter!(Yte[1,.!(healthy).& distTub],Yte[2,.!(healthy).& distTub],color=2,label=:none, marker=:d)\n",
    "Plots.scatter!(Yte[1,healthy.& proxTub],Yte[2,healthy.& proxTub],color=3,label=\"Proxtub\",marker=:o)\n",
    "Plots.scatter!(Yte[1,.!(healthy).& proxTub],Yte[2,.!(healthy).& proxTub],color=3,label=:none, marker=:d)"
   ]
  },
  {
   "cell_type": "code",
   "execution_count": null,
   "metadata": {},
   "outputs": [],
   "source": [
    "a=[stat for stat in unique(features[!,\"disease_status\"])]"
   ]
  },
  {
   "cell_type": "code",
   "execution_count": null,
   "metadata": {},
   "outputs": [],
   "source": [
    "@show a"
   ]
  },
  {
   "cell_type": "code",
   "execution_count": null,
   "metadata": {},
   "outputs": [],
   "source": [
    "Plots.png(\"glomAndTubs.png\")"
   ]
  },
  {
   "cell_type": "code",
   "execution_count": null,
   "metadata": {},
   "outputs": [],
   "source": [
    "glomPath = features[!,\"pathology\"];\n",
    "glomPath = [ ismissing(x) ? \"a\" : x for x in glomPath ]"
   ]
  },
  {
   "cell_type": "code",
   "execution_count": null,
   "metadata": {},
   "outputs": [],
   "source": [
    "features.SegmentDisplayName"
   ]
  },
  {
   "cell_type": "code",
   "execution_count": null,
   "metadata": {},
   "outputs": [],
   "source": [
    "Plots.scatter(Yte[1,glomPath.==\"healthy\"],Yte[2,glomPath.==\"healthy\"],color=1,label=\"healthy Glomeruli\",marker=:o)\n",
    "Plots.xlabel!(\"pca component1\")\n",
    "Plots.ylabel!(\"pca component2\")\n",
    "Plots.scatter!(Yte[1,glomPath.==\"abnormal\"],Yte[2,glomPath.==\"abnormal\"],color=1,label=\"abnormal Glom\",marker=:x)\n"
   ]
  },
  {
   "cell_type": "code",
   "execution_count": null,
   "metadata": {},
   "outputs": [],
   "source": [
    "Plots.scatter(Yte[1, .!(healthy) .& (glomPath.==\"healthy\")],Yte[2,.!(healthy) .& (glomPath.==\"healthy\")],color=1,label=\"healthy Glomeruli(DKD)\",marker=:o)\n",
    "Plots.scatter!(Yte[1,.!(healthy) .& (glomPath.==\"abnormal\")],Yte[2,.!(healthy) .& (glomPath.==\"abnormal\")],color=1,label=\"abnormal Glom(DKD)\",marker=:x)\n",
    "\n",
    "Plots.scatter!(Yte[1, (healthy) .& (glomPath.==\"healthy\")],Yte[2,(healthy) .& (glomPath.==\"healthy\")],color=2,label=\"healthy Glomeruli(Ctrl)\",marker=:o)\n",
    "Plots.xlabel!(\"pca component1\")\n",
    "Plots.ylabel!(\"pca component2\")\n",
    "Plots.scatter!(Yte[1,(healthy) .& (glomPath.==\"abnormal\")],Yte[2,(healthy) .& (glomPath.==\"abnormal\")],color=2,label=\"abnormal Glom(Ctrl)\",marker=:x)\n"
   ]
  },
  {
   "cell_type": "code",
   "execution_count": null,
   "metadata": {},
   "outputs": [],
   "source": [
    "p = fit(PCA,data,maxoutdim=3)\n",
    "Yte = MultivariateStats.transform(p, data)\n",
    "scatter3d(Yte[1,:],Yte[2,:],Yte[3,:],legend=false)"
   ]
  },
  {
   "cell_type": "code",
   "execution_count": null,
   "metadata": {},
   "outputs": [],
   "source": [
    "scene = Makie.scatter(Yte[1,:],Yte[2,:],Yte[3,:])"
   ]
  },
  {
   "cell_type": "code",
   "execution_count": null,
   "metadata": {},
   "outputs": [],
   "source": [
    "display(scene)"
   ]
  },
  {
   "cell_type": "code",
   "execution_count": null,
   "metadata": {},
   "outputs": [],
   "source": [
    "car_origin = C[:,:Origin]\n",
    "carmap = labelmap(car_origin) #from MLBase\n",
    "uniqueids = labelencode(carmap,car_origin)"
   ]
  },
  {
   "cell_type": "code",
   "execution_count": null,
   "metadata": {},
   "outputs": [],
   "source": [
    "Plots.png(\"glomeruliDKDvsCtrl.png\")"
   ]
  },
  {
   "cell_type": "code",
   "execution_count": null,
   "metadata": {},
   "outputs": [],
   "source": [
    "patients=unique(features[!,\"SlideName\"])"
   ]
  },
  {
   "cell_type": "code",
   "execution_count": null,
   "metadata": {},
   "outputs": [],
   "source": [
    "patient = patients[1]\n",
    "patientRegions= features[!,\"SlideName\"].==patient\n",
    "healthyGlom = glomPath.==\"healthy\"\n",
    "abnormalGlom = glomPath.==\"abnormal\"\n",
    "Plots.scatter(Yte[1,patientRegions .& healthyGlom],Yte[2,patientRegions .& healthyGlom],color=1,label=\"healthy Glomeruli\",marker=:o)\n",
    "Plots.title!(patient)\n",
    "Plots.xlabel!(\"pca component1\")\n",
    "Plots.ylabel!(\"pca component2\")\n",
    "Plots.scatter!(Yte[1,patientRegions .& abnormalGlom],Yte[2,patientRegions .& abnormalGlom],color=1,label=\"abnormal Glom\",marker=:x)"
   ]
  }
 ],
 "metadata": {
  "@webio": {
   "lastCommId": null,
   "lastKernelId": null
  },
  "kernelspec": {
   "display_name": "Julia 1.6.0",
   "language": "julia",
   "name": "julia-1.6"
  },
  "language_info": {
   "file_extension": ".jl",
   "mimetype": "application/julia",
   "name": "julia",
   "version": "1.6.0"
  }
 },
 "nbformat": 4,
 "nbformat_minor": 4
}
