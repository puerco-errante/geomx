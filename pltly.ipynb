{
 "cells": [
  {
   "cell_type": "markdown",
   "metadata": {},
   "source": [
    "# Analyzing the different regions and their correlations\n",
    "\n",
    "Useful links:\n",
    "\n",
    "* https://en.wikibooks.org/wiki/Introducing_Julia/DataFrames"
   ]
  },
  {
   "cell_type": "code",
   "execution_count": 1,
   "metadata": {},
   "outputs": [
    {
     "ename": "LoadError",
     "evalue": "UndefVarError: Pkg not defined",
     "output_type": "error",
     "traceback": [
      "UndefVarError: Pkg not defined",
      "",
      "Stacktrace:",
      " [1] top-level scope",
      "   @ In[1]:2",
      " [2] eval",
      "   @ ./boot.jl:360 [inlined]",
      " [3] include_string(mapexpr::typeof(REPL.softscope), mod::Module, code::String, filename::String)",
      "   @ Base ./loading.jl:1094"
     ]
    }
   ],
   "source": [
    "# Packages we will use throughout this notebook (only first time)\n",
    "Pkg.add(\"UMAP\")\n",
    "Pkg.add(\"Makie\")\n",
    "Pkg.add(\"XLSX\")\n",
    "Pkg.add(\"VegaDatasets\")\n",
    "Pkg.add(\"MultivariateStats\")\n",
    "Pkg.add(\"RDatasets\")\n",
    "Pkg.add(\"StatsBase\")\n",
    "Pkg.add(\"Statistics\")\n",
    "Pkg.add(\"LinearAlgebra\")\n",
    "Pkg.add(\"Plots\")\n",
    "Pkg.add(\"ScikitLearn\")\n",
    "Pkg.add(\"MLBase\")\n",
    "Pkg.add(\"Distances\")"
   ]
  },
  {
   "cell_type": "code",
   "execution_count": 9,
   "metadata": {},
   "outputs": [],
   "source": [
    "# Packages we will use throughout this notebook\n",
    "using UMAP\n",
    "using Makie\n",
    "using XLSX\n",
    "using VegaDatasets\n",
    "using DataFrames\n",
    "using MultivariateStats\n",
    "using RDatasets\n",
    "using StatsBase\n",
    "using Statistics\n",
    "using LinearAlgebra\n",
    "using Plots\n",
    "using ScikitLearn\n",
    "using MLBase\n",
    "using Distances"
   ]
  },
  {
   "cell_type": "code",
   "execution_count": 10,
   "metadata": {},
   "outputs": [],
   "source": [
    "using PlotlyJS"
   ]
  },
  {
   "cell_type": "code",
   "execution_count": 11,
   "metadata": {},
   "outputs": [],
   "source": [
    "using DataFrames"
   ]
  },
  {
   "cell_type": "code",
   "execution_count": 12,
   "metadata": {},
   "outputs": [],
   "source": [
    "using CSV"
   ]
  },
  {
   "cell_type": "code",
   "execution_count": 13,
   "metadata": {},
   "outputs": [
    {
     "data": {
      "text/html": [
       "<table class=\"data-frame\"><thead><tr><th></th><th>SlideName</th><th>ScanName</th><th>ROILabel</th><th>SegmentLabel</th><th>SegmentDisplayName</th></tr><tr><th></th><th>String</th><th>String</th><th>Int64</th><th>String</th><th>String</th></tr></thead><tbody><p>231 rows × 25 columns (omitted printing of 20 columns)</p><tr><th>1</th><td>disease3</td><td>disease3_scan</td><td>7</td><td>Geometric Segment</td><td>disease3_scan | 007 | Geometric Segment</td></tr><tr><th>2</th><td>disease3</td><td>disease3_scan</td><td>8</td><td>Geometric Segment</td><td>disease3_scan | 008 | Geometric Segment</td></tr><tr><th>3</th><td>disease3</td><td>disease3_scan</td><td>9</td><td>Geometric Segment</td><td>disease3_scan | 009 | Geometric Segment</td></tr><tr><th>4</th><td>disease3</td><td>disease3_scan</td><td>10</td><td>Geometric Segment</td><td>disease3_scan | 010 | Geometric Segment</td></tr><tr><th>5</th><td>disease3</td><td>disease3_scan</td><td>11</td><td>Geometric Segment</td><td>disease3_scan | 011 | Geometric Segment</td></tr><tr><th>6</th><td>disease3</td><td>disease3_scan</td><td>12</td><td>Geometric Segment</td><td>disease3_scan | 012 | Geometric Segment</td></tr><tr><th>7</th><td>disease3</td><td>disease3_scan</td><td>13</td><td>Geometric Segment</td><td>disease3_scan | 013 | Geometric Segment</td></tr><tr><th>8</th><td>disease3</td><td>disease3_scan</td><td>14</td><td>Geometric Segment</td><td>disease3_scan | 014 | Geometric Segment</td></tr><tr><th>9</th><td>disease3</td><td>disease3_scan</td><td>15</td><td>Geometric Segment</td><td>disease3_scan | 015 | Geometric Segment</td></tr><tr><th>10</th><td>disease3</td><td>disease3_scan</td><td>16</td><td>Geometric Segment</td><td>disease3_scan | 016 | Geometric Segment</td></tr><tr><th>11</th><td>disease3</td><td>disease3_scan</td><td>17</td><td>Geometric Segment</td><td>disease3_scan | 017 | Geometric Segment</td></tr><tr><th>12</th><td>disease3</td><td>disease3_scan</td><td>18</td><td>Geometric Segment</td><td>disease3_scan | 018 | Geometric Segment</td></tr><tr><th>13</th><td>disease3</td><td>disease3_scan</td><td>19</td><td>Geometric Segment</td><td>disease3_scan | 019 | Geometric Segment</td></tr><tr><th>14</th><td>disease3</td><td>disease3_scan</td><td>20</td><td>Geometric Segment</td><td>disease3_scan | 020 | Geometric Segment</td></tr><tr><th>15</th><td>disease3</td><td>disease3_scan</td><td>21</td><td>Geometric Segment</td><td>disease3_scan | 021 | Geometric Segment</td></tr><tr><th>16</th><td>disease3</td><td>disease3_scan</td><td>22</td><td>Geometric Segment</td><td>disease3_scan | 022 | Geometric Segment</td></tr><tr><th>17</th><td>disease3</td><td>disease3_scan</td><td>23</td><td>Geometric Segment</td><td>disease3_scan | 023 | Geometric Segment</td></tr><tr><th>18</th><td>disease3</td><td>disease3_scan</td><td>24</td><td>Geometric Segment</td><td>disease3_scan | 024 | Geometric Segment</td></tr><tr><th>19</th><td>disease3</td><td>disease3_scan</td><td>25</td><td>Geometric Segment</td><td>disease3_scan | 025 | Geometric Segment</td></tr><tr><th>20</th><td>disease3</td><td>disease3_scan</td><td>26</td><td>Geometric Segment</td><td>disease3_scan | 026 | Geometric Segment</td></tr><tr><th>21</th><td>disease3</td><td>disease3_scan</td><td>27</td><td>Geometric Segment</td><td>disease3_scan | 027 | Geometric Segment</td></tr><tr><th>22</th><td>disease3</td><td>disease3_scan</td><td>28</td><td>Geometric Segment</td><td>disease3_scan | 028 | Geometric Segment</td></tr><tr><th>23</th><td>disease3</td><td>disease3_scan</td><td>29</td><td>Geometric Segment</td><td>disease3_scan | 029 | Geometric Segment</td></tr><tr><th>24</th><td>disease3</td><td>disease3_scan</td><td>30</td><td>Geometric Segment</td><td>disease3_scan | 030 | Geometric Segment</td></tr><tr><th>25</th><td>disease3</td><td>disease3_scan</td><td>31</td><td>Geometric Segment</td><td>disease3_scan | 031 | Geometric Segment</td></tr><tr><th>26</th><td>disease3</td><td>disease3_scan</td><td>32</td><td>Geometric Segment</td><td>disease3_scan | 032 | Geometric Segment</td></tr><tr><th>27</th><td>disease3</td><td>disease3_scan</td><td>33</td><td>Geometric Segment</td><td>disease3_scan | 033 | Geometric Segment</td></tr><tr><th>28</th><td>disease3</td><td>disease3_scan</td><td>34</td><td>Geometric Segment</td><td>disease3_scan | 034 | Geometric Segment</td></tr><tr><th>29</th><td>disease3</td><td>disease3_scan</td><td>35</td><td>Geometric Segment</td><td>disease3_scan | 035 | Geometric Segment</td></tr><tr><th>30</th><td>disease3</td><td>disease3_scan</td><td>36</td><td>Geometric Segment</td><td>disease3_scan | 036 | Geometric Segment</td></tr><tr><th>&vellip;</th><td>&vellip;</td><td>&vellip;</td><td>&vellip;</td><td>&vellip;</td><td>&vellip;</td></tr></tbody></table>"
      ],
      "text/latex": [
       "\\begin{tabular}{r|cccccc}\n",
       "\t& SlideName & ScanName & ROILabel & SegmentLabel & SegmentDisplayName & \\\\\n",
       "\t\\hline\n",
       "\t& String & String & Int64 & String & String & \\\\\n",
       "\t\\hline\n",
       "\t1 & disease3 & disease3\\_scan & 7 & Geometric Segment & disease3\\_scan | 007 | Geometric Segment & $\\dots$ \\\\\n",
       "\t2 & disease3 & disease3\\_scan & 8 & Geometric Segment & disease3\\_scan | 008 | Geometric Segment & $\\dots$ \\\\\n",
       "\t3 & disease3 & disease3\\_scan & 9 & Geometric Segment & disease3\\_scan | 009 | Geometric Segment & $\\dots$ \\\\\n",
       "\t4 & disease3 & disease3\\_scan & 10 & Geometric Segment & disease3\\_scan | 010 | Geometric Segment & $\\dots$ \\\\\n",
       "\t5 & disease3 & disease3\\_scan & 11 & Geometric Segment & disease3\\_scan | 011 | Geometric Segment & $\\dots$ \\\\\n",
       "\t6 & disease3 & disease3\\_scan & 12 & Geometric Segment & disease3\\_scan | 012 | Geometric Segment & $\\dots$ \\\\\n",
       "\t7 & disease3 & disease3\\_scan & 13 & Geometric Segment & disease3\\_scan | 013 | Geometric Segment & $\\dots$ \\\\\n",
       "\t8 & disease3 & disease3\\_scan & 14 & Geometric Segment & disease3\\_scan | 014 | Geometric Segment & $\\dots$ \\\\\n",
       "\t9 & disease3 & disease3\\_scan & 15 & Geometric Segment & disease3\\_scan | 015 | Geometric Segment & $\\dots$ \\\\\n",
       "\t10 & disease3 & disease3\\_scan & 16 & Geometric Segment & disease3\\_scan | 016 | Geometric Segment & $\\dots$ \\\\\n",
       "\t11 & disease3 & disease3\\_scan & 17 & Geometric Segment & disease3\\_scan | 017 | Geometric Segment & $\\dots$ \\\\\n",
       "\t12 & disease3 & disease3\\_scan & 18 & Geometric Segment & disease3\\_scan | 018 | Geometric Segment & $\\dots$ \\\\\n",
       "\t13 & disease3 & disease3\\_scan & 19 & Geometric Segment & disease3\\_scan | 019 | Geometric Segment & $\\dots$ \\\\\n",
       "\t14 & disease3 & disease3\\_scan & 20 & Geometric Segment & disease3\\_scan | 020 | Geometric Segment & $\\dots$ \\\\\n",
       "\t15 & disease3 & disease3\\_scan & 21 & Geometric Segment & disease3\\_scan | 021 | Geometric Segment & $\\dots$ \\\\\n",
       "\t16 & disease3 & disease3\\_scan & 22 & Geometric Segment & disease3\\_scan | 022 | Geometric Segment & $\\dots$ \\\\\n",
       "\t17 & disease3 & disease3\\_scan & 23 & Geometric Segment & disease3\\_scan | 023 | Geometric Segment & $\\dots$ \\\\\n",
       "\t18 & disease3 & disease3\\_scan & 24 & Geometric Segment & disease3\\_scan | 024 | Geometric Segment & $\\dots$ \\\\\n",
       "\t19 & disease3 & disease3\\_scan & 25 & Geometric Segment & disease3\\_scan | 025 | Geometric Segment & $\\dots$ \\\\\n",
       "\t20 & disease3 & disease3\\_scan & 26 & Geometric Segment & disease3\\_scan | 026 | Geometric Segment & $\\dots$ \\\\\n",
       "\t21 & disease3 & disease3\\_scan & 27 & Geometric Segment & disease3\\_scan | 027 | Geometric Segment & $\\dots$ \\\\\n",
       "\t22 & disease3 & disease3\\_scan & 28 & Geometric Segment & disease3\\_scan | 028 | Geometric Segment & $\\dots$ \\\\\n",
       "\t23 & disease3 & disease3\\_scan & 29 & Geometric Segment & disease3\\_scan | 029 | Geometric Segment & $\\dots$ \\\\\n",
       "\t24 & disease3 & disease3\\_scan & 30 & Geometric Segment & disease3\\_scan | 030 | Geometric Segment & $\\dots$ \\\\\n",
       "\t25 & disease3 & disease3\\_scan & 31 & Geometric Segment & disease3\\_scan | 031 | Geometric Segment & $\\dots$ \\\\\n",
       "\t26 & disease3 & disease3\\_scan & 32 & Geometric Segment & disease3\\_scan | 032 | Geometric Segment & $\\dots$ \\\\\n",
       "\t27 & disease3 & disease3\\_scan & 33 & Geometric Segment & disease3\\_scan | 033 | Geometric Segment & $\\dots$ \\\\\n",
       "\t28 & disease3 & disease3\\_scan & 34 & Geometric Segment & disease3\\_scan | 034 | Geometric Segment & $\\dots$ \\\\\n",
       "\t29 & disease3 & disease3\\_scan & 35 & Geometric Segment & disease3\\_scan | 035 | Geometric Segment & $\\dots$ \\\\\n",
       "\t30 & disease3 & disease3\\_scan & 36 & Geometric Segment & disease3\\_scan | 036 | Geometric Segment & $\\dots$ \\\\\n",
       "\t$\\dots$ & $\\dots$ & $\\dots$ & $\\dots$ & $\\dots$ & $\\dots$ &  \\\\\n",
       "\\end{tabular}\n"
      ],
      "text/plain": [
       "\u001b[1m231×25 DataFrame\u001b[0m\n",
       "\u001b[1m Row \u001b[0m│\u001b[1m SlideName \u001b[0m\u001b[1m ScanName       \u001b[0m\u001b[1m ROILabel \u001b[0m\u001b[1m SegmentLabel      \u001b[0m\u001b[1m SegmentDisplayN\u001b[0m ⋯\n",
       "\u001b[1m     \u001b[0m│\u001b[90m String    \u001b[0m\u001b[90m String         \u001b[0m\u001b[90m Int64    \u001b[0m\u001b[90m String            \u001b[0m\u001b[90m String         \u001b[0m ⋯\n",
       "─────┼──────────────────────────────────────────────────────────────────────────\n",
       "   1 │ disease3   disease3_scan          7  Geometric Segment  disease3_scan | ⋯\n",
       "   2 │ disease3   disease3_scan          8  Geometric Segment  disease3_scan |\n",
       "   3 │ disease3   disease3_scan          9  Geometric Segment  disease3_scan |\n",
       "   4 │ disease3   disease3_scan         10  Geometric Segment  disease3_scan |\n",
       "   5 │ disease3   disease3_scan         11  Geometric Segment  disease3_scan | ⋯\n",
       "   6 │ disease3   disease3_scan         12  Geometric Segment  disease3_scan |\n",
       "   7 │ disease3   disease3_scan         13  Geometric Segment  disease3_scan |\n",
       "   8 │ disease3   disease3_scan         14  Geometric Segment  disease3_scan |\n",
       "   9 │ disease3   disease3_scan         15  Geometric Segment  disease3_scan | ⋯\n",
       "  10 │ disease3   disease3_scan         16  Geometric Segment  disease3_scan |\n",
       "  11 │ disease3   disease3_scan         17  Geometric Segment  disease3_scan |\n",
       "  ⋮  │     ⋮            ⋮            ⋮              ⋮                          ⋱\n",
       " 222 │ disease1B  disease1B_scan         9  PanCK              disease1B_scan\n",
       " 223 │ disease1B  disease1B_scan         9  neg                disease1B_scan  ⋯\n",
       " 224 │ disease1B  disease1B_scan        10  PanCK              disease1B_scan\n",
       " 225 │ disease1B  disease1B_scan        10  neg                disease1B_scan\n",
       " 226 │ disease1B  disease1B_scan        11  PanCK              disease1B_scan\n",
       " 227 │ disease1B  disease1B_scan        11  neg                disease1B_scan  ⋯\n",
       " 228 │ disease1B  disease1B_scan        12  PanCK              disease1B_scan\n",
       " 229 │ disease1B  disease1B_scan        12  neg                disease1B_scan\n",
       " 230 │ disease1B  disease1B_scan        13  Geometric Segment  disease1B_scan\n",
       " 231 │ disease1B  disease1B_scan        14  Geometric Segment  disease1B_scan  ⋯\n",
       "\u001b[36m                                                 21 columns and 210 rows omitted\u001b[0m"
      ]
     },
     "execution_count": 13,
     "metadata": {},
     "output_type": "execute_result"
    }
   ],
   "source": [
    "features = DataFrame(CSV.File(\"data/Kidney_Sample_Annotations.txt\"))"
   ]
  },
  {
   "cell_type": "code",
   "execution_count": 14,
   "metadata": {},
   "outputs": [
    {
     "data": {
      "text/plain": [
       "Dict{String, String} with 4 entries:\n",
       "  \" PanCK\"   => \"Tub. Distal\"\n",
       "  \"healthy\"  => \"Glom (Abnormal)\"\n",
       "  \" neg\"     => \"Tub. Proximal\"\n",
       "  \"abnormal\" => \"Glom (Abnormal)\""
      ]
     },
     "execution_count": 14,
     "metadata": {},
     "output_type": "execute_result"
    }
   ],
   "source": [
    "structuresDict = Dict(\"abnormal\"=>\"Glom (Abnormal)\",\"healthy\"=>\"Glom (Abnormal)\",\" PanCK\" => \"Tub. Distal\", \" neg\" => \"Tub. Proximal\")"
   ]
  },
  {
   "cell_type": "code",
   "execution_count": 15,
   "metadata": {},
   "outputs": [
    {
     "data": {
      "text/plain": [
       "231-element Vector{String}:\n",
       " \"Glom (Abnormal)\"\n",
       " \"Glom (Abnormal)\"\n",
       " \"Glom (Abnormal)\"\n",
       " \"Glom (Abnormal)\"\n",
       " \"Glom (Abnormal)\"\n",
       " \"Glom (Abnormal)\"\n",
       " \"Glom (Abnormal)\"\n",
       " \"Glom (Abnormal)\"\n",
       " \"Glom (Abnormal)\"\n",
       " \"Glom (Abnormal)\"\n",
       " \"Glom (Abnormal)\"\n",
       " \"Glom (Abnormal)\"\n",
       " \"Glom (Abnormal)\"\n",
       " ⋮\n",
       " \"Tub. Distal\"\n",
       " \"Tub. Proximal\"\n",
       " \"Tub. Distal\"\n",
       " \"Tub. Proximal\"\n",
       " \"Tub. Distal\"\n",
       " \"Tub. Proximal\"\n",
       " \"Tub. Distal\"\n",
       " \"Tub. Proximal\"\n",
       " \"Tub. Distal\"\n",
       " \"Tub. Proximal\"\n",
       " \"Glom (Abnormal)\"\n",
       " \"Glom (Abnormal)\""
      ]
     },
     "execution_count": 15,
     "metadata": {},
     "output_type": "execute_result"
    }
   ],
   "source": [
    "comprehensiveStates=[structuresDict[ismissing(row.pathology) ? split(row[\"SegmentDisplayName\"],\"|\")[3] : row.pathology] for row in eachrow(features)]"
   ]
  },
  {
   "cell_type": "code",
   "execution_count": 16,
   "metadata": {},
   "outputs": [
    {
     "data": {
      "text/html": [
       "<table class=\"data-frame\"><thead><tr><th></th><th>TargetName</th><th>disease3_scan | 001 | PanCK</th><th>disease3_scan | 001 | neg</th><th>disease3_scan | 002 | PanCK</th></tr><tr><th></th><th>String</th><th>Float64</th><th>Float64</th><th>Float64</th></tr></thead><tbody><p>16,084 rows × 232 columns (omitted printing of 228 columns)</p><tr><th>1</th><td>PADI2</td><td>6.01291</td><td>8.6185</td><td>11.7082</td></tr><tr><th>2</th><td>CYP24A1</td><td>9.2198</td><td>7.87978</td><td>7.48021</td></tr><tr><th>3</th><td>SUPT16H</td><td>14.0301</td><td>16.252</td><td>14.9604</td></tr><tr><th>4</th><td>ZMIZ2</td><td>20.4439</td><td>19.9457</td><td>28.2947</td></tr><tr><th>5</th><td>SPAG9</td><td>19.2413</td><td>16.0058</td><td>14.9604</td></tr><tr><th>6</th><td>AMELX</td><td>8.41807</td><td>7.38729</td><td>10.082</td></tr><tr><th>7</th><td>VPS33B</td><td>17.6379</td><td>13.5434</td><td>10.4073</td></tr><tr><th>8</th><td>DDX58</td><td>11.625</td><td>11.8197</td><td>15.9361</td></tr><tr><th>9</th><td>CDV3</td><td>22.0473</td><td>19.6994</td><td>20.164</td></tr><tr><th>10</th><td>RO60</td><td>14.8318</td><td>13.2971</td><td>14.9604</td></tr><tr><th>11</th><td>UBE2Q1</td><td>14.431</td><td>15.5133</td><td>14.9604</td></tr><tr><th>12</th><td>VEGFB</td><td>18.8405</td><td>17.4833</td><td>20.164</td></tr><tr><th>13</th><td>METAP1D</td><td>11.625</td><td>10.5884</td><td>10.4073</td></tr><tr><th>14</th><td>HCFC1</td><td>9.2198</td><td>6.15607</td><td>9.43157</td></tr><tr><th>15</th><td>ADIPOQ</td><td>13.2284</td><td>16.7445</td><td>13.6595</td></tr><tr><th>16</th><td>OPN1SW</td><td>14.8318</td><td>18.9607</td><td>13.0091</td></tr><tr><th>17</th><td>PALM2AKAP2</td><td>13.6293</td><td>13.7896</td><td>17.5622</td></tr><tr><th>18</th><td>PAQR8</td><td>13.6293</td><td>14.2821</td><td>11.0577</td></tr><tr><th>19</th><td>MT1E</td><td>22.4482</td><td>19.6994</td><td>12.0334</td></tr><tr><th>20</th><td>SH2B3</td><td>12.4267</td><td>10.096</td><td>5.52885</td></tr><tr><th>21</th><td>NRDE2</td><td>18.4396</td><td>15.0208</td><td>14.31</td></tr><tr><th>22</th><td>CYP2C9</td><td>11.2241</td><td>14.0359</td><td>11.3829</td></tr><tr><th>23</th><td>UBTD1</td><td>17.6379</td><td>14.5283</td><td>15.9361</td></tr><tr><th>24</th><td>B3GAT2</td><td>7.61635</td><td>16.252</td><td>10.7325</td></tr><tr><th>25</th><td>CDK2AP2</td><td>32.4697</td><td>34.2278</td><td>29.2704</td></tr><tr><th>26</th><td>AGAP3</td><td>12.0258</td><td>15.7596</td><td>13.6595</td></tr><tr><th>27</th><td>MROH6</td><td>7.21549</td><td>8.86475</td><td>9.7568</td></tr><tr><th>28</th><td>STRIT1</td><td>10.4224</td><td>13.2971</td><td>9.10634</td></tr><tr><th>29</th><td>FGGY</td><td>18.4396</td><td>19.4532</td><td>14.9604</td></tr><tr><th>30</th><td>CLRN3</td><td>8.01721</td><td>14.5283</td><td>14.6352</td></tr><tr><th>&vellip;</th><td>&vellip;</td><td>&vellip;</td><td>&vellip;</td><td>&vellip;</td></tr></tbody></table>"
      ],
      "text/latex": [
       "\\begin{tabular}{r|ccccc}\n",
       "\t& TargetName & disease3\\_scan | 001 | PanCK & disease3\\_scan | 001 | neg & disease3\\_scan | 002 | PanCK & \\\\\n",
       "\t\\hline\n",
       "\t& String & Float64 & Float64 & Float64 & \\\\\n",
       "\t\\hline\n",
       "\t1 & PADI2 & 6.01291 & 8.6185 & 11.7082 & $\\dots$ \\\\\n",
       "\t2 & CYP24A1 & 9.2198 & 7.87978 & 7.48021 & $\\dots$ \\\\\n",
       "\t3 & SUPT16H & 14.0301 & 16.252 & 14.9604 & $\\dots$ \\\\\n",
       "\t4 & ZMIZ2 & 20.4439 & 19.9457 & 28.2947 & $\\dots$ \\\\\n",
       "\t5 & SPAG9 & 19.2413 & 16.0058 & 14.9604 & $\\dots$ \\\\\n",
       "\t6 & AMELX & 8.41807 & 7.38729 & 10.082 & $\\dots$ \\\\\n",
       "\t7 & VPS33B & 17.6379 & 13.5434 & 10.4073 & $\\dots$ \\\\\n",
       "\t8 & DDX58 & 11.625 & 11.8197 & 15.9361 & $\\dots$ \\\\\n",
       "\t9 & CDV3 & 22.0473 & 19.6994 & 20.164 & $\\dots$ \\\\\n",
       "\t10 & RO60 & 14.8318 & 13.2971 & 14.9604 & $\\dots$ \\\\\n",
       "\t11 & UBE2Q1 & 14.431 & 15.5133 & 14.9604 & $\\dots$ \\\\\n",
       "\t12 & VEGFB & 18.8405 & 17.4833 & 20.164 & $\\dots$ \\\\\n",
       "\t13 & METAP1D & 11.625 & 10.5884 & 10.4073 & $\\dots$ \\\\\n",
       "\t14 & HCFC1 & 9.2198 & 6.15607 & 9.43157 & $\\dots$ \\\\\n",
       "\t15 & ADIPOQ & 13.2284 & 16.7445 & 13.6595 & $\\dots$ \\\\\n",
       "\t16 & OPN1SW & 14.8318 & 18.9607 & 13.0091 & $\\dots$ \\\\\n",
       "\t17 & PALM2AKAP2 & 13.6293 & 13.7896 & 17.5622 & $\\dots$ \\\\\n",
       "\t18 & PAQR8 & 13.6293 & 14.2821 & 11.0577 & $\\dots$ \\\\\n",
       "\t19 & MT1E & 22.4482 & 19.6994 & 12.0334 & $\\dots$ \\\\\n",
       "\t20 & SH2B3 & 12.4267 & 10.096 & 5.52885 & $\\dots$ \\\\\n",
       "\t21 & NRDE2 & 18.4396 & 15.0208 & 14.31 & $\\dots$ \\\\\n",
       "\t22 & CYP2C9 & 11.2241 & 14.0359 & 11.3829 & $\\dots$ \\\\\n",
       "\t23 & UBTD1 & 17.6379 & 14.5283 & 15.9361 & $\\dots$ \\\\\n",
       "\t24 & B3GAT2 & 7.61635 & 16.252 & 10.7325 & $\\dots$ \\\\\n",
       "\t25 & CDK2AP2 & 32.4697 & 34.2278 & 29.2704 & $\\dots$ \\\\\n",
       "\t26 & AGAP3 & 12.0258 & 15.7596 & 13.6595 & $\\dots$ \\\\\n",
       "\t27 & MROH6 & 7.21549 & 8.86475 & 9.7568 & $\\dots$ \\\\\n",
       "\t28 & STRIT1 & 10.4224 & 13.2971 & 9.10634 & $\\dots$ \\\\\n",
       "\t29 & FGGY & 18.4396 & 19.4532 & 14.9604 & $\\dots$ \\\\\n",
       "\t30 & CLRN3 & 8.01721 & 14.5283 & 14.6352 & $\\dots$ \\\\\n",
       "\t$\\dots$ & $\\dots$ & $\\dots$ & $\\dots$ & $\\dots$ &  \\\\\n",
       "\\end{tabular}\n"
      ],
      "text/plain": [
       "\u001b[1m16084×232 DataFrame\u001b[0m\n",
       "\u001b[1m   Row \u001b[0m│\u001b[1m TargetName \u001b[0m\u001b[1m disease3_scan | 001 | PanCK \u001b[0m\u001b[1m disease3_scan | 001 | neg \u001b[0m\u001b[1m d\u001b[0m ⋯\n",
       "\u001b[1m       \u001b[0m│\u001b[90m String     \u001b[0m\u001b[90m Float64                     \u001b[0m\u001b[90m Float64                   \u001b[0m\u001b[90m F\u001b[0m ⋯\n",
       "───────┼────────────────────────────────────────────────────────────────────────\n",
       "     1 │ PADI2                           6.01291                    8.6185     ⋯\n",
       "     2 │ CYP24A1                         9.2198                     7.87978\n",
       "     3 │ SUPT16H                        14.0301                    16.252\n",
       "     4 │ ZMIZ2                          20.4439                    19.9457\n",
       "     5 │ SPAG9                          19.2413                    16.0058     ⋯\n",
       "     6 │ AMELX                           8.41807                    7.38729\n",
       "     7 │ VPS33B                         17.6379                    13.5434\n",
       "     8 │ DDX58                          11.625                     11.8197\n",
       "     9 │ CDV3                           22.0473                    19.6994     ⋯\n",
       "    10 │ RO60                           14.8318                    13.2971\n",
       "    11 │ UBE2Q1                         14.431                     15.5133\n",
       "   ⋮   │     ⋮                    ⋮                           ⋮                ⋱\n",
       " 16075 │ SETD5                          16.8361                    17.4833\n",
       " 16076 │ XAF1                           16.8361                    19.4532     ⋯\n",
       " 16077 │ MYO5C                          14.431                     11.8197\n",
       " 16078 │ OSBPL9                         18.4396                    23.1468\n",
       " 16079 │ HERC3                          13.6293                    10.8347\n",
       " 16080 │ AMD1                           35.6766                    33.489      ⋯\n",
       " 16081 │ TMPRSS4                        16.8361                     9.35723\n",
       " 16082 │ ATP6V0B                        36.0775                    34.474\n",
       " 16083 │ DCHS1                           9.2198                    14.5283\n",
       " 16084 │ AGTPBP1                        14.0301                    11.5734     ⋯\n",
       "\u001b[36m                                              229 columns and 16063 rows omitted\u001b[0m"
      ]
     },
     "execution_count": 16,
     "metadata": {},
     "output_type": "execute_result"
    }
   ],
   "source": [
    "PCM = DataFrame(CSV.File(\"data/Kidney_Q3Norm_TargetCountMatrix.txt\"))"
   ]
  },
  {
   "cell_type": "code",
   "execution_count": 21,
   "metadata": {},
   "outputs": [
    {
     "data": {
      "text/plain": [
       "16084×231 Matrix{Float64}:\n",
       " 2.58806  3.10744  3.54944  3.0556   …  2.10744  4.10744  3.10744  3.10744\n",
       " 3.20473  2.97815  2.90308  3.0556      3.6924   3.10744  4.6924   3.10744\n",
       " 3.81046  4.02255  3.90308  3.62878     2.10744  4.10744  3.10744  3.10744\n",
       " 4.3536   4.318    4.82246  4.51823     3.10744  4.10744  4.6924   4.10744\n",
       " 4.26614  4.00052  3.90308  4.20584     4.42937  5.10744  5.6924   4.10744\n",
       " 3.07349  2.88505  3.33371  3.22161  …  2.10744  4.10744  4.10744  3.10744\n",
       " 4.1406   3.75951  3.37952  3.42597     2.10744  3.10744  3.10744  3.10744\n",
       " 3.53915  3.56312  3.99423  4.35626     3.6924   3.10744  4.6924   3.10744\n",
       " 4.46253  4.30008  4.33371  4.2679      3.10744  4.6924   5.91479  5.6924\n",
       " 3.89063  3.73304  3.90308  3.9075      2.10744  4.10744  3.10744  4.10744\n",
       " 3.8511   3.95543  3.90308  3.65224  …  3.6924   4.10744  3.10744  3.10744\n",
       " 4.23576  4.1279   4.33371  4.1899      4.10744  3.10744  3.10744  3.10744\n",
       " 3.53915  3.40442  3.37952  3.31276     2.10744  3.10744  4.10744  3.10744\n",
       " ⋮                                   ⋱                             ⋮\n",
       " 4.20473  4.06562  3.37952  3.42597     2.10744  3.10744  3.10744  3.10744\n",
       " 3.20473  3.65058  3.77183  3.25264     3.10744  3.10744  4.6924   3.10744\n",
       " 4.07349  4.1279   3.87137  3.82733     4.10744  5.42937  4.10744  3.10744\n",
       " 4.07349  4.28194  3.83895  4.17378  …  4.42937  3.10744  3.10744  4.6924\n",
       " 3.8511   3.56312  3.80578  4.07309     3.10744  3.10744  3.10744  4.10744\n",
       " 4.20473  4.53274  4.44561  4.29796     3.10744  4.10744  3.10744  3.10744\n",
       " 3.76864  3.43759  2.70145  3.65224     2.10744  3.10744  3.10744  3.10744\n",
       " 5.15691  5.06562  4.93411  5.2679      4.10744  4.6924   5.10744  4.10744\n",
       " 4.07349  3.22608  3.87137  3.62878  …  3.6924   4.10744  4.10744  3.10744\n",
       " 5.17303  5.10744  4.58897  5.07309     4.42937  4.10744  3.10744  4.10744\n",
       " 3.20473  3.8608   3.62744  3.80657     3.10744  3.10744  3.10744  3.10744\n",
       " 3.81046  3.53274  3.66492  3.3419      3.6924   5.10744  4.10744  3.10744"
      ]
     },
     "execution_count": 21,
     "metadata": {},
     "output_type": "execute_result"
    }
   ],
   "source": [
    "M =log2.( Matrix(PCM[:,2:end]))"
   ]
  },
  {
   "cell_type": "code",
   "execution_count": 22,
   "metadata": {},
   "outputs": [
    {
     "data": {
      "text/plain": [
       "16084×231 Matrix{Float64}:\n",
       " -0.438769    0.343997    1.01016    …   1.85113     0.343997    0.343997\n",
       "  0.430114    0.167543    0.0805424      0.317362    2.15408     0.317362\n",
       " -0.225605    0.216819   -0.0323936      0.393897   -1.6921     -1.6921\n",
       " -0.294366   -0.379032    0.820918      -0.879908    0.511543   -0.879908\n",
       " -1.03539    -1.57457    -1.77238        0.67242     1.85987    -1.35754\n",
       "  0.205299   -0.0941417   0.618795   …   1.84825     1.84825     0.259241\n",
       "  1.34163     0.653975   -0.0317113     -0.522665   -0.522665   -0.522665\n",
       " -0.485761   -0.442053    0.344272      -1.27319     1.61771    -1.27319\n",
       " -0.571053   -0.878699   -0.81501       -0.135731    2.17923     1.75806\n",
       "  0.14383    -0.174276    0.168968       0.581495   -1.43715     0.581495\n",
       " -0.260292   -0.0566543  -0.158838   …   0.240016   -1.71172    -1.71172\n",
       "  0.18802    -0.0153005   0.372663      -1.93892    -1.93892    -1.93892\n",
       "  0.855428    0.650619    0.612765       0.199178    1.71927     0.199178\n",
       "  ⋮                                  ⋱                           ⋮\n",
       "  1.8058      1.60377     0.60737        0.212239    0.212239    0.212239\n",
       " -0.0409596   0.709251    0.913282      -0.204679    2.46229    -0.204679\n",
       " -0.835784   -0.691631   -1.37126        2.75636    -0.745847   -3.39516\n",
       "  0.0785547   0.312322   -0.18448    …  -1.00486    -1.00486     0.772652\n",
       "  0.584305    0.019418    0.495416      -0.874418   -0.874418    1.08713\n",
       " -0.475178    0.265575    0.0687904     -0.694908   -2.95324    -2.95324\n",
       "  0.96431     0.493344   -0.553923       0.0236601   0.0236601   0.0236601\n",
       "  0.796243    0.595443    0.30617       -0.225488    0.687431   -1.51218\n",
       "  1.35689     0.354663    1.11784    …   1.39704     1.39704     0.214342\n",
       "  0.980829    0.867782   -0.025836      -0.855795   -2.57937    -0.855795\n",
       " -0.464257    0.667678    0.265063      -0.632128   -0.632128   -0.632128\n",
       "  0.234799   -0.253945   -0.0213299      2.51735     0.757455   -1.00244"
      ]
     },
     "execution_count": 22,
     "metadata": {},
     "output_type": "execute_result"
    }
   ],
   "source": [
    "data = M\n",
    "data = (data .- mean(data,dims = 2))./ std(data,dims=2)"
   ]
  },
  {
   "cell_type": "code",
   "execution_count": 23,
   "metadata": {},
   "outputs": [
    {
     "data": {
      "text/plain": [
       "PCA(indim = 16084, outdim = 2, principalratio = 0.1654558588732398)"
      ]
     },
     "execution_count": 23,
     "metadata": {},
     "output_type": "execute_result"
    }
   ],
   "source": [
    "p = fit(PCA,data,maxoutdim=2)"
   ]
  },
  {
   "cell_type": "code",
   "execution_count": 24,
   "metadata": {},
   "outputs": [
    {
     "data": {
      "text/plain": [
       "16084×2 Matrix{Float64}:\n",
       "  0.00957288  -0.00109703\n",
       "  0.00289128  -0.0118863\n",
       " -0.00319794   0.00286057\n",
       " -0.00256249  -0.00595151\n",
       " -0.00818133  -0.00379386\n",
       "  0.00441227  -0.00846495\n",
       "  0.00917499   0.000210562\n",
       "  0.00690527   0.00782234\n",
       " -0.0130453    0.00105453\n",
       "  0.00160151   0.00560009\n",
       " -0.00215438   0.00440184\n",
       " -0.0087233   -0.00990253\n",
       "  0.00442555  -0.00533214\n",
       "  ⋮           \n",
       "  0.0110778    0.00125665\n",
       "  0.00852286  -0.00511006\n",
       " -0.00737406  -0.000746797\n",
       "  0.00866377   0.0193074\n",
       " -0.00293698  -0.00453512\n",
       " -0.00699974  -0.000313704\n",
       "  0.00434622  -0.00844659\n",
       " -0.00107313  -0.015126\n",
       "  0.00833398  -0.0130318\n",
       " -0.00874286  -0.0204491\n",
       "  0.00862556   0.00577746\n",
       "  0.00123999   0.00366095"
      ]
     },
     "execution_count": 24,
     "metadata": {},
     "output_type": "execute_result"
    }
   ],
   "source": [
    "P = projection(p)"
   ]
  },
  {
   "cell_type": "code",
   "execution_count": 25,
   "metadata": {},
   "outputs": [
    {
     "data": {
      "text/plain": [
       "2×231 Matrix{Float64}:\n",
       "  51.8939   81.2008   38.4686   75.4926  …  35.9909    45.569   47.8878\n",
       " -40.7609  -36.6923  -41.5636  -34.9053     -3.15425  -19.7528  -0.330803"
      ]
     },
     "execution_count": 25,
     "metadata": {},
     "output_type": "execute_result"
    }
   ],
   "source": [
    "Yte = MultivariateStats.transform(p, data) #notice that Yte[:,1] is the same as P'*(data[1,:]-mean(p))"
   ]
  },
  {
   "cell_type": "code",
   "execution_count": 26,
   "metadata": {},
   "outputs": [
    {
     "data": {
      "text/plain": [
       "\"PCA_matrix_log2.txt\""
      ]
     },
     "execution_count": 26,
     "metadata": {},
     "output_type": "execute_result"
    }
   ],
   "source": [
    "CSV.write(\"PCA_matrix_log2.txt\",Tables.table(Yte))"
   ]
  },
  {
   "cell_type": "code",
   "execution_count": 35,
   "metadata": {},
   "outputs": [
    {
     "data": {
      "text/plain": [
       "2×231 Matrix{Float64}:\n",
       "  46.3309   79.6646   29.9858   73.4009  …   40.0674   55.2621   49.9721\n",
       " -41.4498  -44.9247  -39.806   -40.8212     -14.8971  -37.1187  -17.6628"
      ]
     },
     "execution_count": 35,
     "metadata": {},
     "output_type": "execute_result"
    }
   ],
   "source": [
    "Yte=Matrix(CSV.read(\"PCA_matrix.txt\",DataFrame))"
   ]
  },
  {
   "cell_type": "code",
   "execution_count": 27,
   "metadata": {},
   "outputs": [
    {
     "data": {
      "application/vnd.plotly.v1+json": {
       "data": [
        {
         "marker": {
          "line": {
           "color": "white",
           "width": 0.5
          },
          "opacity": 0.5,
          "size": 15
         },
         "mode": "markers",
         "type": "scatter",
         "x": [],
         "y": []
        }
       ],
       "frames": [],
       "layout": {
        "height": 450,
        "hovermode": "closest",
        "margin": {
         "b": 50,
         "l": 50,
         "r": 50,
         "t": 60
        },
        "xaxis": {
         "title": "pca_1"
        },
        "yaxis": {
         "title": "pca_2"
        }
       }
      },
      "application/vnd.webio.node+json": {
       "children": [
        {
         "children": [],
         "instanceArgs": {
          "namespace": "html",
          "tag": "div"
         },
         "nodeType": "DOM",
         "props": {
          "id": "plot-7cef0242-4873-46d7-9c80-12854dcd845e"
         },
         "type": "node"
        }
       ],
       "instanceArgs": {
        "handlers": {
         "__get_gd_contents": [
          "(function (prop){prop==\"data\" ? (WebIO.setval({\"name\":\"__gd_contents\",\"scope\":\"17978775116374627155\",\"id\":\"7011194706347221893\",\"type\":\"observable\"},this.plotElem.data)) : undefined; return prop==\"layout\" ? (WebIO.setval({\"name\":\"__gd_contents\",\"scope\":\"17978775116374627155\",\"id\":\"7011194706347221893\",\"type\":\"observable\"},this.plotElem.layout)) : undefined})"
         ],
         "_commands": [
          "(function (args){var fn=args.shift(); var elem=this.plotElem; var Plotly=this.Plotly; args.unshift(elem); return Plotly[fn].apply(this,args)})"
         ],
         "_downloadImage": [
          "(function (options){return this.Plotly.downloadImage(this.plotElem,options)})"
         ],
         "_toImage": [
          "(function (options){return this.Plotly.toImage(this.plotElem,options).then((function (data){return WebIO.setval({\"name\":\"image\",\"scope\":\"17978775116374627155\",\"id\":\"7169038050936120064\",\"type\":\"observable\"},data)}))})"
         ]
        },
        "id": "17978775116374627155",
        "imports": {
         "data": [
          {
           "name": "Plotly",
           "type": "js",
           "url": "/assetserver/1013e1af0b97d406e029d228e1f752c4690ee279-plotly.min.js"
          },
          {
           "name": null,
           "type": "js",
           "url": "/assetserver/7c2819329a8c0896961510a9544552b4855486de-plotly_webio.bundle.js"
          }
         ],
         "type": "async_block"
        },
        "mount_callbacks": [
         "function () {\n    var handler = ((function (Plotly,PlotlyWebIO){PlotlyWebIO.init(WebIO); var gd=this.dom.querySelector(\"#plot-7cef0242-4873-46d7-9c80-12854dcd845e\"); this.plotElem=gd; this.Plotly=Plotly; (window.Blink!==undefined) ? (gd.style.width=\"100%\", gd.style.height=\"100vh\", gd.style.marginLeft=\"0%\", gd.style.marginTop=\"0vh\") : undefined; window.onresize=(function (){return Plotly.Plots.resize(gd)}); Plotly.newPlot(gd,[{\"marker\":{\"line\":{\"color\":\"white\",\"width\":0.5},\"opacity\":0.5,\"size\":15},\"mode\":\"markers\",\"y\":[],\"type\":\"scatter\",\"x\":[]}],{\"xaxis\":{\"title\":\"pca_1\"},\"hovermode\":\"closest\",\"height\":450,\"margin\":{\"l\":50,\"b\":50,\"r\":50,\"t\":60},\"yaxis\":{\"title\":\"pca_2\"}},{}); gd.on(\"plotly_hover\",(function (data){var filtered_data=WebIO.PlotlyCommands.filterEventData(gd,data,\"hover\"); return !(filtered_data.isnil) ? (WebIO.setval({\"name\":\"hover\",\"scope\":\"17978775116374627155\",\"id\":\"15129191206803455728\",\"type\":\"observable\"},filtered_data.out)) : undefined})); gd.on(\"plotly_unhover\",(function (){return WebIO.setval({\"name\":\"hover\",\"scope\":\"17978775116374627155\",\"id\":\"15129191206803455728\",\"type\":\"observable\"},{})})); gd.on(\"plotly_selected\",(function (data){var filtered_data=WebIO.PlotlyCommands.filterEventData(gd,data,\"selected\"); return !(filtered_data.isnil) ? (WebIO.setval({\"name\":\"selected\",\"scope\":\"17978775116374627155\",\"id\":\"16413397973773608824\",\"type\":\"observable\"},filtered_data.out)) : undefined})); gd.on(\"plotly_deselect\",(function (){return WebIO.setval({\"name\":\"selected\",\"scope\":\"17978775116374627155\",\"id\":\"16413397973773608824\",\"type\":\"observable\"},{})})); gd.on(\"plotly_relayout\",(function (data){var filtered_data=WebIO.PlotlyCommands.filterEventData(gd,data,\"relayout\"); return !(filtered_data.isnil) ? (WebIO.setval({\"name\":\"relayout\",\"scope\":\"17978775116374627155\",\"id\":\"17532663271209126631\",\"type\":\"observable\"},filtered_data.out)) : undefined})); return gd.on(\"plotly_click\",(function (data){var filtered_data=WebIO.PlotlyCommands.filterEventData(gd,data,\"click\"); return !(filtered_data.isnil) ? (WebIO.setval({\"name\":\"click\",\"scope\":\"17978775116374627155\",\"id\":\"12190299740108063481\",\"type\":\"observable\"},filtered_data.out)) : undefined}))}));\n    (WebIO.importBlock({\"data\":[{\"name\":\"Plotly\",\"type\":\"js\",\"url\":\"/assetserver/1013e1af0b97d406e029d228e1f752c4690ee279-plotly.min.js\"},{\"name\":null,\"type\":\"js\",\"url\":\"/assetserver/7c2819329a8c0896961510a9544552b4855486de-plotly_webio.bundle.js\"}],\"type\":\"async_block\"})).then((imports) => handler.apply(this, imports));\n}\n"
        ],
        "observables": {
         "__gd_contents": {
          "id": "7011194706347221893",
          "sync": false,
          "value": {}
         },
         "__get_gd_contents": {
          "id": "17385582128974950733",
          "sync": false,
          "value": ""
         },
         "_commands": {
          "id": "3203752859342427294",
          "sync": false,
          "value": []
         },
         "_downloadImage": {
          "id": "667908652973962193",
          "sync": false,
          "value": {}
         },
         "_toImage": {
          "id": "2382095382960216996",
          "sync": false,
          "value": {}
         },
         "click": {
          "id": "12190299740108063481",
          "sync": false,
          "value": {}
         },
         "hover": {
          "id": "15129191206803455728",
          "sync": false,
          "value": {}
         },
         "image": {
          "id": "7169038050936120064",
          "sync": true,
          "value": ""
         },
         "relayout": {
          "id": "17532663271209126631",
          "sync": false,
          "value": {}
         },
         "selected": {
          "id": "16413397973773608824",
          "sync": false,
          "value": {}
         }
        },
        "systemjs_options": null
       },
       "nodeType": "Scope",
       "props": {},
       "type": "node"
      },
      "text/html": [
       "<div\n",
       "    class=\"webio-mountpoint\"\n",
       "    data-webio-mountpoint=\"11517825886760822868\"\n",
       ">\n",
       "    <script>\n",
       "    if (window.require && require.defined && require.defined(\"nbextensions/webio-jupyter-notebook\")) {\n",
       "        console.log(\"Jupyter WebIO extension detected, not mounting.\");\n",
       "    } else if (window.WebIO) {\n",
       "        WebIO.mount(\n",
       "            document.querySelector('[data-webio-mountpoint=\"11517825886760822868\"]'),\n",
       "            {\"props\":{},\"nodeType\":\"Scope\",\"type\":\"node\",\"instanceArgs\":{\"imports\":{\"data\":[{\"name\":\"Plotly\",\"type\":\"js\",\"url\":\"\\/assetserver\\/1013e1af0b97d406e029d228e1f752c4690ee279-plotly.min.js\"},{\"name\":null,\"type\":\"js\",\"url\":\"\\/assetserver\\/7c2819329a8c0896961510a9544552b4855486de-plotly_webio.bundle.js\"}],\"type\":\"async_block\"},\"id\":\"17978775116374627155\",\"handlers\":{\"_toImage\":[\"(function (options){return this.Plotly.toImage(this.plotElem,options).then((function (data){return WebIO.setval({\\\"name\\\":\\\"image\\\",\\\"scope\\\":\\\"17978775116374627155\\\",\\\"id\\\":\\\"7169038050936120064\\\",\\\"type\\\":\\\"observable\\\"},data)}))})\"],\"__get_gd_contents\":[\"(function (prop){prop==\\\"data\\\" ? (WebIO.setval({\\\"name\\\":\\\"__gd_contents\\\",\\\"scope\\\":\\\"17978775116374627155\\\",\\\"id\\\":\\\"7011194706347221893\\\",\\\"type\\\":\\\"observable\\\"},this.plotElem.data)) : undefined; return prop==\\\"layout\\\" ? (WebIO.setval({\\\"name\\\":\\\"__gd_contents\\\",\\\"scope\\\":\\\"17978775116374627155\\\",\\\"id\\\":\\\"7011194706347221893\\\",\\\"type\\\":\\\"observable\\\"},this.plotElem.layout)) : undefined})\"],\"_downloadImage\":[\"(function (options){return this.Plotly.downloadImage(this.plotElem,options)})\"],\"_commands\":[\"(function (args){var fn=args.shift(); var elem=this.plotElem; var Plotly=this.Plotly; args.unshift(elem); return Plotly[fn].apply(this,args)})\"]},\"systemjs_options\":null,\"mount_callbacks\":[\"function () {\\n    var handler = ((function (Plotly,PlotlyWebIO){PlotlyWebIO.init(WebIO); var gd=this.dom.querySelector(\\\"#plot-7cef0242-4873-46d7-9c80-12854dcd845e\\\"); this.plotElem=gd; this.Plotly=Plotly; (window.Blink!==undefined) ? (gd.style.width=\\\"100%\\\", gd.style.height=\\\"100vh\\\", gd.style.marginLeft=\\\"0%\\\", gd.style.marginTop=\\\"0vh\\\") : undefined; window.onresize=(function (){return Plotly.Plots.resize(gd)}); Plotly.newPlot(gd,[{\\\"marker\\\":{\\\"line\\\":{\\\"color\\\":\\\"white\\\",\\\"width\\\":0.5},\\\"opacity\\\":0.5,\\\"size\\\":15},\\\"mode\\\":\\\"markers\\\",\\\"y\\\":[],\\\"type\\\":\\\"scatter\\\",\\\"x\\\":[]}],{\\\"xaxis\\\":{\\\"title\\\":\\\"pca_1\\\"},\\\"hovermode\\\":\\\"closest\\\",\\\"height\\\":450,\\\"margin\\\":{\\\"l\\\":50,\\\"b\\\":50,\\\"r\\\":50,\\\"t\\\":60},\\\"yaxis\\\":{\\\"title\\\":\\\"pca_2\\\"}},{}); gd.on(\\\"plotly_hover\\\",(function (data){var filtered_data=WebIO.PlotlyCommands.filterEventData(gd,data,\\\"hover\\\"); return !(filtered_data.isnil) ? (WebIO.setval({\\\"name\\\":\\\"hover\\\",\\\"scope\\\":\\\"17978775116374627155\\\",\\\"id\\\":\\\"15129191206803455728\\\",\\\"type\\\":\\\"observable\\\"},filtered_data.out)) : undefined})); gd.on(\\\"plotly_unhover\\\",(function (){return WebIO.setval({\\\"name\\\":\\\"hover\\\",\\\"scope\\\":\\\"17978775116374627155\\\",\\\"id\\\":\\\"15129191206803455728\\\",\\\"type\\\":\\\"observable\\\"},{})})); gd.on(\\\"plotly_selected\\\",(function (data){var filtered_data=WebIO.PlotlyCommands.filterEventData(gd,data,\\\"selected\\\"); return !(filtered_data.isnil) ? (WebIO.setval({\\\"name\\\":\\\"selected\\\",\\\"scope\\\":\\\"17978775116374627155\\\",\\\"id\\\":\\\"16413397973773608824\\\",\\\"type\\\":\\\"observable\\\"},filtered_data.out)) : undefined})); gd.on(\\\"plotly_deselect\\\",(function (){return WebIO.setval({\\\"name\\\":\\\"selected\\\",\\\"scope\\\":\\\"17978775116374627155\\\",\\\"id\\\":\\\"16413397973773608824\\\",\\\"type\\\":\\\"observable\\\"},{})})); gd.on(\\\"plotly_relayout\\\",(function (data){var filtered_data=WebIO.PlotlyCommands.filterEventData(gd,data,\\\"relayout\\\"); return !(filtered_data.isnil) ? (WebIO.setval({\\\"name\\\":\\\"relayout\\\",\\\"scope\\\":\\\"17978775116374627155\\\",\\\"id\\\":\\\"17532663271209126631\\\",\\\"type\\\":\\\"observable\\\"},filtered_data.out)) : undefined})); return gd.on(\\\"plotly_click\\\",(function (data){var filtered_data=WebIO.PlotlyCommands.filterEventData(gd,data,\\\"click\\\"); return !(filtered_data.isnil) ? (WebIO.setval({\\\"name\\\":\\\"click\\\",\\\"scope\\\":\\\"17978775116374627155\\\",\\\"id\\\":\\\"12190299740108063481\\\",\\\"type\\\":\\\"observable\\\"},filtered_data.out)) : undefined}))}));\\n    (WebIO.importBlock({\\\"data\\\":[{\\\"name\\\":\\\"Plotly\\\",\\\"type\\\":\\\"js\\\",\\\"url\\\":\\\"\\/assetserver\\/1013e1af0b97d406e029d228e1f752c4690ee279-plotly.min.js\\\"},{\\\"name\\\":null,\\\"type\\\":\\\"js\\\",\\\"url\\\":\\\"\\/assetserver\\/7c2819329a8c0896961510a9544552b4855486de-plotly_webio.bundle.js\\\"}],\\\"type\\\":\\\"async_block\\\"})).then((imports) => handler.apply(this, imports));\\n}\\n\"],\"observables\":{\"_toImage\":{\"sync\":false,\"id\":\"2382095382960216996\",\"value\":{}},\"hover\":{\"sync\":false,\"id\":\"15129191206803455728\",\"value\":{}},\"selected\":{\"sync\":false,\"id\":\"16413397973773608824\",\"value\":{}},\"__gd_contents\":{\"sync\":false,\"id\":\"7011194706347221893\",\"value\":{}},\"click\":{\"sync\":false,\"id\":\"12190299740108063481\",\"value\":{}},\"image\":{\"sync\":true,\"id\":\"7169038050936120064\",\"value\":\"\"},\"__get_gd_contents\":{\"sync\":false,\"id\":\"17385582128974950733\",\"value\":\"\"},\"_downloadImage\":{\"sync\":false,\"id\":\"667908652973962193\",\"value\":{}},\"relayout\":{\"sync\":false,\"id\":\"17532663271209126631\",\"value\":{}},\"_commands\":{\"sync\":false,\"id\":\"3203752859342427294\",\"value\":[]}}},\"children\":[{\"props\":{\"id\":\"plot-7cef0242-4873-46d7-9c80-12854dcd845e\"},\"nodeType\":\"DOM\",\"type\":\"node\",\"instanceArgs\":{\"namespace\":\"html\",\"tag\":\"div\"},\"children\":[]}]},\n",
       "            window,\n",
       "        );\n",
       "    } else {\n",
       "        document\n",
       "            .querySelector('[data-webio-mountpoint=\"11517825886760822868\"]')\n",
       "            .innerHTML = (\n",
       "                '<div style=\"padding: 1em; background-color: #f8d6da; border: 1px solid #f5c6cb\">' +\n",
       "                '<p><strong>WebIO not detected.</strong></p>' +\n",
       "                '<p>Please read ' +\n",
       "                '<a href=\"https://juliagizmos.github.io/WebIO.jl/latest/troubleshooting/not-detected/\" target=\"_blank\">the troubleshooting guide</a> ' +\n",
       "                'for more information on how to resolve this issue.</p>' +\n",
       "                '<p><a href=\"https://juliagizmos.github.io/WebIO.jl/latest/troubleshooting/not-detected/\" target=\"_blank\">https://juliagizmos.github.io/WebIO.jl/latest/troubleshooting/not-detected/</a></p>' +\n",
       "                '</div>'\n",
       "            );\n",
       "    }\n",
       "    </script>\n",
       "</div>\n"
      ],
      "text/plain": [
       "data: [\n",
       "  \"scatter with fields marker, mode, type, x, and y\"\n",
       "]\n",
       "\n",
       "layout: \"layout with fields height, hovermode, margin, xaxis, and yaxis\"\n",
       "\n"
      ]
     },
     "execution_count": 27,
     "metadata": {},
     "output_type": "execute_result"
    }
   ],
   "source": [
    "patientState=\"normal\"\n",
    "PlotlyJS.plot(\n",
    "        Yte[1,features[!, \"disease_status\"] .== patientState[1]],\n",
    "        Yte[2,features[!, \"disease_status\"] .== patientState[1]],\n",
    "        Layout(\n",
    "          #  xaxis_type = xaxis_type == \"Linear\" ? \"linear\" : \"log\",\n",
    "            xaxis_title = \"pca_1\",\n",
    "            yaxis_title = \"pca_2\",\n",
    "           # yaxis_type = yaxis_type == \"Linear\" ? \"linear\" : \"log\",\n",
    "            hovermode = \"closest\",\n",
    "            height = 450,\n",
    "        ),\n",
    "        kind = \"scatter\",\n",
    "        mode = \"markers\",\n",
    "        marker_size = 15,\n",
    "        marker_opacity = 0.5,\n",
    "        marker_line_width = 0.5,\n",
    "        marker_line_color = \"white\",\n",
    ")"
   ]
  },
  {
   "cell_type": "code",
   "execution_count": 20,
   "metadata": {},
   "outputs": [
    {
     "name": "stderr",
     "output_type": "stream",
     "text": [
      "┌ Info: Using default Jupyter executable at `/Library/Frameworks/Python.framework/Versions/3.8/bin/jupyter`; to use a different executable, see the documentation by running `?WebIO.install_jupyter_labextension`.\n",
      "└ @ WebIO /Users/urieluval/.julia/packages/WebIO/Fy9h1/deps/jupyter.jl:198\n"
     ]
    },
    {
     "name": "stdout",
     "output_type": "stream",
     "text": [
      "An error occured.\n",
      "ValueError: No linked package for @webio/webio\n",
      "See the log file for details:  /var/folders/1j/bghpxnvd61zffqv6ytzxqgg40000gn/T/jupyterlab-debug-quncc9wq.log\n",
      "An error occured.\n",
      "ValueError: Please install Node.js and npm before continuing installation. You may be able to install Node.js from your package manager, from conda, or directly from the Node.js website (https://nodejs.org).\n",
      "See the log file for details:  /var/folders/1j/bghpxnvd61zffqv6ytzxqgg40000gn/T/jupyterlab-debug-qdy0nn_8.log\n",
      "An error occured.\n",
      "ValueError: Please install Node.js and npm before continuing installation. You may be able to install Node.js from your package manager, from conda, or directly from the Node.js website (https://nodejs.org).\n",
      "See the log file for details:  /var/folders/1j/bghpxnvd61zffqv6ytzxqgg40000gn/T/jupyterlab-debug-w0w3y2v0.log\n"
     ]
    },
    {
     "ename": "LoadError",
     "evalue": "failed process: Process(`\u001b[4m/Library/Frameworks/Python.framework/Versions/3.8/bin/jupyter\u001b[24m \u001b[4mlabextension\u001b[24m \u001b[4minstall\u001b[24m \u001b[4m--no-build\u001b[24m \u001b[4m@webio/jupyter-lab-provider@0.8.15\u001b[24m`, ProcessExited(1)) [1]\n",
     "output_type": "error",
     "traceback": [
      "failed process: Process(`\u001b[4m/Library/Frameworks/Python.framework/Versions/3.8/bin/jupyter\u001b[24m \u001b[4mlabextension\u001b[24m \u001b[4minstall\u001b[24m \u001b[4m--no-build\u001b[24m \u001b[4m@webio/jupyter-lab-provider@0.8.15\u001b[24m`, ProcessExited(1)) [1]\n",
      "",
      "Stacktrace:",
      " [1] pipeline_error",
      "   @ ./process.jl:525 [inlined]",
      " [2] run(::Cmd; wait::Bool)",
      "   @ Base ./process.jl:440",
      " [3] run",
      "   @ ./process.jl:438 [inlined]",
      " [4] install_jupyter_labextension(jupyter::Nothing; force_conda_jupyter::Nothing, condajl::Nothing, dev::Bool)",
      "   @ WebIO ~/.julia/packages/WebIO/Fy9h1/deps/jupyter.jl:216",
      " [5] install_jupyter_labextension(jupyter::Nothing) (repeats 2 times)",
      "   @ WebIO ~/.julia/packages/WebIO/Fy9h1/deps/jupyter.jl:196",
      " [6] top-level scope",
      "   @ In[20]:2",
      " [7] eval",
      "   @ ./boot.jl:360 [inlined]",
      " [8] include_string(mapexpr::typeof(REPL.softscope), mod::Module, code::String, filename::String)",
      "   @ Base ./loading.jl:1094"
     ]
    }
   ],
   "source": [
    "using WebIO\n",
    "WebIO.install_jupyter_labextension()"
   ]
  },
  {
   "cell_type": "code",
   "execution_count": 19,
   "metadata": {},
   "outputs": [
    {
     "name": "stderr",
     "output_type": "stream",
     "text": [
      "\u001b[32m\u001b[1m    Updating\u001b[22m\u001b[39m registry at `~/.julia/registries/General`\n",
      "\u001b[32m\u001b[1m    Updating\u001b[22m\u001b[39m git-repo `https://github.com/JuliaRegistries/General.git`\n",
      "\u001b[32m\u001b[1m   Resolving\u001b[22m\u001b[39m package versions...\n",
      "\u001b[32m\u001b[1m    Updating\u001b[22m\u001b[39m `~/.julia/environments/v1.6/Project.toml`\n",
      " \u001b[90m [0f1e0344] \u001b[39m\u001b[92m+ WebIO v0.8.15\u001b[39m\n",
      "\u001b[32m\u001b[1m  No Changes\u001b[22m\u001b[39m to `~/.julia/environments/v1.6/Manifest.toml`\n",
      "\u001b[32m\u001b[1mPrecompiling\u001b[22m\u001b[39m project...\n",
      "\u001b[32m  ✓ \u001b[39m\u001b[90mLibepoxy_jll\u001b[39m\n",
      "\u001b[32m  ✓ \u001b[39m\u001b[90mQt5Base_jll\u001b[39m\n",
      "\u001b[32m  ✓ \u001b[39m\u001b[90mGR_jll\u001b[39m\n",
      "\u001b[32m  ✓ \u001b[39m\u001b[90mGR\u001b[39m\n",
      "\u001b[32m  ✓ \u001b[39m\u001b[90mGTK3_jll\u001b[39m\n",
      "\u001b[32m  ✓ \u001b[39m\u001b[90mGtk\u001b[39m\n",
      "\u001b[32m  ✓ \u001b[39mInspectDR\n",
      "\u001b[32m  ✓ \u001b[39mPlots\n",
      "8 dependencies successfully precompiled in 70 seconds (286 already precompiled)\n"
     ]
    }
   ],
   "source": [
    "import Pkg; Pkg.add(\"WebIO\")"
   ]
  },
  {
   "cell_type": "code",
   "execution_count": 28,
   "metadata": {},
   "outputs": [
    {
     "data": {
      "text/html": [
       "<table class=\"data-frame\"><thead><tr><th></th><th>SegmentDisplayName</th></tr><tr><th></th><th>String</th></tr></thead><tbody><p>231 rows × 1 columns</p><tr><th>1</th><td>disease3_scan | 007 | Geometric Segment</td></tr><tr><th>2</th><td>disease3_scan | 008 | Geometric Segment</td></tr><tr><th>3</th><td>disease3_scan | 009 | Geometric Segment</td></tr><tr><th>4</th><td>disease3_scan | 010 | Geometric Segment</td></tr><tr><th>5</th><td>disease3_scan | 011 | Geometric Segment</td></tr><tr><th>6</th><td>disease3_scan | 012 | Geometric Segment</td></tr><tr><th>7</th><td>disease3_scan | 013 | Geometric Segment</td></tr><tr><th>8</th><td>disease3_scan | 014 | Geometric Segment</td></tr><tr><th>9</th><td>disease3_scan | 015 | Geometric Segment</td></tr><tr><th>10</th><td>disease3_scan | 016 | Geometric Segment</td></tr><tr><th>11</th><td>disease3_scan | 017 | Geometric Segment</td></tr><tr><th>12</th><td>disease3_scan | 018 | Geometric Segment</td></tr><tr><th>13</th><td>disease3_scan | 019 | Geometric Segment</td></tr><tr><th>14</th><td>disease3_scan | 020 | Geometric Segment</td></tr><tr><th>15</th><td>disease3_scan | 021 | Geometric Segment</td></tr><tr><th>16</th><td>disease3_scan | 022 | Geometric Segment</td></tr><tr><th>17</th><td>disease3_scan | 023 | Geometric Segment</td></tr><tr><th>18</th><td>disease3_scan | 024 | Geometric Segment</td></tr><tr><th>19</th><td>disease3_scan | 025 | Geometric Segment</td></tr><tr><th>20</th><td>disease3_scan | 026 | Geometric Segment</td></tr><tr><th>21</th><td>disease3_scan | 027 | Geometric Segment</td></tr><tr><th>22</th><td>disease3_scan | 028 | Geometric Segment</td></tr><tr><th>23</th><td>disease3_scan | 029 | Geometric Segment</td></tr><tr><th>24</th><td>disease3_scan | 030 | Geometric Segment</td></tr><tr><th>25</th><td>disease3_scan | 031 | Geometric Segment</td></tr><tr><th>26</th><td>disease3_scan | 032 | Geometric Segment</td></tr><tr><th>27</th><td>disease3_scan | 033 | Geometric Segment</td></tr><tr><th>28</th><td>disease3_scan | 034 | Geometric Segment</td></tr><tr><th>29</th><td>disease3_scan | 035 | Geometric Segment</td></tr><tr><th>30</th><td>disease3_scan | 036 | Geometric Segment</td></tr><tr><th>&vellip;</th><td>&vellip;</td></tr></tbody></table>"
      ],
      "text/latex": [
       "\\begin{tabular}{r|c}\n",
       "\t& SegmentDisplayName\\\\\n",
       "\t\\hline\n",
       "\t& String\\\\\n",
       "\t\\hline\n",
       "\t1 & disease3\\_scan | 007 | Geometric Segment \\\\\n",
       "\t2 & disease3\\_scan | 008 | Geometric Segment \\\\\n",
       "\t3 & disease3\\_scan | 009 | Geometric Segment \\\\\n",
       "\t4 & disease3\\_scan | 010 | Geometric Segment \\\\\n",
       "\t5 & disease3\\_scan | 011 | Geometric Segment \\\\\n",
       "\t6 & disease3\\_scan | 012 | Geometric Segment \\\\\n",
       "\t7 & disease3\\_scan | 013 | Geometric Segment \\\\\n",
       "\t8 & disease3\\_scan | 014 | Geometric Segment \\\\\n",
       "\t9 & disease3\\_scan | 015 | Geometric Segment \\\\\n",
       "\t10 & disease3\\_scan | 016 | Geometric Segment \\\\\n",
       "\t11 & disease3\\_scan | 017 | Geometric Segment \\\\\n",
       "\t12 & disease3\\_scan | 018 | Geometric Segment \\\\\n",
       "\t13 & disease3\\_scan | 019 | Geometric Segment \\\\\n",
       "\t14 & disease3\\_scan | 020 | Geometric Segment \\\\\n",
       "\t15 & disease3\\_scan | 021 | Geometric Segment \\\\\n",
       "\t16 & disease3\\_scan | 022 | Geometric Segment \\\\\n",
       "\t17 & disease3\\_scan | 023 | Geometric Segment \\\\\n",
       "\t18 & disease3\\_scan | 024 | Geometric Segment \\\\\n",
       "\t19 & disease3\\_scan | 025 | Geometric Segment \\\\\n",
       "\t20 & disease3\\_scan | 026 | Geometric Segment \\\\\n",
       "\t21 & disease3\\_scan | 027 | Geometric Segment \\\\\n",
       "\t22 & disease3\\_scan | 028 | Geometric Segment \\\\\n",
       "\t23 & disease3\\_scan | 029 | Geometric Segment \\\\\n",
       "\t24 & disease3\\_scan | 030 | Geometric Segment \\\\\n",
       "\t25 & disease3\\_scan | 031 | Geometric Segment \\\\\n",
       "\t26 & disease3\\_scan | 032 | Geometric Segment \\\\\n",
       "\t27 & disease3\\_scan | 033 | Geometric Segment \\\\\n",
       "\t28 & disease3\\_scan | 034 | Geometric Segment \\\\\n",
       "\t29 & disease3\\_scan | 035 | Geometric Segment \\\\\n",
       "\t30 & disease3\\_scan | 036 | Geometric Segment \\\\\n",
       "\t$\\dots$ & $\\dots$ \\\\\n",
       "\\end{tabular}\n"
      ],
      "text/plain": [
       "\u001b[1m231×1 DataFrame\u001b[0m\n",
       "\u001b[1m Row \u001b[0m│\u001b[1m SegmentDisplayName                \u001b[0m\n",
       "\u001b[1m     \u001b[0m│\u001b[90m String                            \u001b[0m\n",
       "─────┼───────────────────────────────────\n",
       "   1 │ disease3_scan | 007 | Geometric …\n",
       "   2 │ disease3_scan | 008 | Geometric …\n",
       "   3 │ disease3_scan | 009 | Geometric …\n",
       "   4 │ disease3_scan | 010 | Geometric …\n",
       "   5 │ disease3_scan | 011 | Geometric …\n",
       "   6 │ disease3_scan | 012 | Geometric …\n",
       "   7 │ disease3_scan | 013 | Geometric …\n",
       "   8 │ disease3_scan | 014 | Geometric …\n",
       "   9 │ disease3_scan | 015 | Geometric …\n",
       "  10 │ disease3_scan | 016 | Geometric …\n",
       "  11 │ disease3_scan | 017 | Geometric …\n",
       "  ⋮  │                 ⋮\n",
       " 222 │ disease1B_scan | 009 | PanCK\n",
       " 223 │ disease1B_scan | 009 | neg\n",
       " 224 │ disease1B_scan | 010 | PanCK\n",
       " 225 │ disease1B_scan | 010 | neg\n",
       " 226 │ disease1B_scan | 011 | PanCK\n",
       " 227 │ disease1B_scan | 011 | neg\n",
       " 228 │ disease1B_scan | 012 | PanCK\n",
       " 229 │ disease1B_scan | 012 | neg\n",
       " 230 │ disease1B_scan | 013 | Geometric…\n",
       " 231 │ disease1B_scan | 014 | Geometric…\n",
       "\u001b[36m                         210 rows omitted\u001b[0m"
      ]
     },
     "execution_count": 28,
     "metadata": {},
     "output_type": "execute_result"
    }
   ],
   "source": [
    "#To plot we need to know which points are what...\n",
    "#Preliminarily, we can use this:\n",
    "segmentDisplayNames=features[!,r\"SegmentDi.\"]"
   ]
  },
  {
   "cell_type": "code",
   "execution_count": 29,
   "metadata": {},
   "outputs": [],
   "source": [
    "healthy=[!occursin(r\"disease.\",seg) for seg in segmentDisplayNames[!,1]];"
   ]
  },
  {
   "cell_type": "code",
   "execution_count": 30,
   "metadata": {},
   "outputs": [],
   "source": [
    "glomeruli = [occursin(r\".Geo.\",seg) for seg in segmentDisplayNames[!,1]];\n",
    "distTub = [occursin(r\".Pan.\",seg) for seg in segmentDisplayNames[!,1]];\n",
    "proxTub = [occursin(r\".neg\",seg) for seg in segmentDisplayNames[!,1]];"
   ]
  },
  {
   "cell_type": "code",
   "execution_count": 31,
   "metadata": {},
   "outputs": [
    {
     "data": {
      "image/svg+xml": [
       "<?xml version=\"1.0\" encoding=\"utf-8\"?>\n",
       "<svg xmlns=\"http://www.w3.org/2000/svg\" xmlns:xlink=\"http://www.w3.org/1999/xlink\" width=\"600\" height=\"400\" viewBox=\"0 0 2400 1600\">\n",
       "<defs>\n",
       "  <clipPath id=\"clip270\">\n",
       "    <rect x=\"0\" y=\"0\" width=\"2400\" height=\"1600\"/>\n",
       "  </clipPath>\n",
       "</defs>\n",
       "<path clip-path=\"url(#clip270)\" d=\"\n",
       "M0 1600 L2400 1600 L2400 0 L0 0  Z\n",
       "  \" fill=\"#ffffff\" fill-rule=\"evenodd\" fill-opacity=\"1\"/>\n",
       "<defs>\n",
       "  <clipPath id=\"clip271\">\n",
       "    <rect x=\"480\" y=\"0\" width=\"1681\" height=\"1600\"/>\n",
       "  </clipPath>\n",
       "</defs>\n",
       "<path clip-path=\"url(#clip270)\" d=\"\n",
       "M232.968 1423.18 L2352.76 1423.18 L2352.76 47.2441 L232.968 47.2441  Z\n",
       "  \" fill=\"#ffffff\" fill-rule=\"evenodd\" fill-opacity=\"1\"/>\n",
       "<defs>\n",
       "  <clipPath id=\"clip272\">\n",
       "    <rect x=\"232\" y=\"47\" width=\"2121\" height=\"1377\"/>\n",
       "  </clipPath>\n",
       "</defs>\n",
       "<polyline clip-path=\"url(#clip272)\" style=\"stroke:#000000; stroke-width:2; stroke-opacity:0.1; fill:none\" points=\"\n",
       "  465.239,1423.18 465.239,47.2441 \n",
       "  \"/>\n",
       "<polyline clip-path=\"url(#clip272)\" style=\"stroke:#000000; stroke-width:2; stroke-opacity:0.1; fill:none\" points=\"\n",
       "  936.326,1423.18 936.326,47.2441 \n",
       "  \"/>\n",
       "<polyline clip-path=\"url(#clip272)\" style=\"stroke:#000000; stroke-width:2; stroke-opacity:0.1; fill:none\" points=\"\n",
       "  1407.41,1423.18 1407.41,47.2441 \n",
       "  \"/>\n",
       "<polyline clip-path=\"url(#clip272)\" style=\"stroke:#000000; stroke-width:2; stroke-opacity:0.1; fill:none\" points=\"\n",
       "  1878.5,1423.18 1878.5,47.2441 \n",
       "  \"/>\n",
       "<polyline clip-path=\"url(#clip272)\" style=\"stroke:#000000; stroke-width:2; stroke-opacity:0.1; fill:none\" points=\"\n",
       "  2349.58,1423.18 2349.58,47.2441 \n",
       "  \"/>\n",
       "<polyline clip-path=\"url(#clip270)\" style=\"stroke:#000000; stroke-width:4; stroke-opacity:1; fill:none\" points=\"\n",
       "  232.968,1423.18 2352.76,1423.18 \n",
       "  \"/>\n",
       "<polyline clip-path=\"url(#clip270)\" style=\"stroke:#000000; stroke-width:4; stroke-opacity:1; fill:none\" points=\"\n",
       "  465.239,1423.18 465.239,1406.67 \n",
       "  \"/>\n",
       "<polyline clip-path=\"url(#clip270)\" style=\"stroke:#000000; stroke-width:4; stroke-opacity:1; fill:none\" points=\"\n",
       "  936.326,1423.18 936.326,1406.67 \n",
       "  \"/>\n",
       "<polyline clip-path=\"url(#clip270)\" style=\"stroke:#000000; stroke-width:4; stroke-opacity:1; fill:none\" points=\"\n",
       "  1407.41,1423.18 1407.41,1406.67 \n",
       "  \"/>\n",
       "<polyline clip-path=\"url(#clip270)\" style=\"stroke:#000000; stroke-width:4; stroke-opacity:1; fill:none\" points=\"\n",
       "  1878.5,1423.18 1878.5,1406.67 \n",
       "  \"/>\n",
       "<polyline clip-path=\"url(#clip270)\" style=\"stroke:#000000; stroke-width:4; stroke-opacity:1; fill:none\" points=\"\n",
       "  2349.58,1423.18 2349.58,1406.67 \n",
       "  \"/>\n",
       "<path clip-path=\"url(#clip270)\" d=\"M 0 0 M410.494 1467.02 L440.17 1467.02 L440.17 1470.96 L410.494 1470.96 L410.494 1467.02 Z\" fill=\"#000000\" fill-rule=\"evenodd\" fill-opacity=\"1\" /><path clip-path=\"url(#clip270)\" d=\"M 0 0 M446.05 1479.92 L453.689 1479.92 L453.689 1453.55 L445.378 1455.22 L445.378 1450.96 L453.642 1449.29 L458.318 1449.29 L458.318 1479.92 L465.957 1479.92 L465.957 1483.85 L446.05 1483.85 L446.05 1479.92 Z\" fill=\"#000000\" fill-rule=\"evenodd\" fill-opacity=\"1\" /><path clip-path=\"url(#clip270)\" d=\"M 0 0 M481.026 1452.37 Q477.415 1452.37 475.587 1455.94 Q473.781 1459.48 473.781 1466.61 Q473.781 1473.71 475.587 1477.28 Q477.415 1480.82 481.026 1480.82 Q484.661 1480.82 486.466 1477.28 Q488.295 1473.71 488.295 1466.61 Q488.295 1459.48 486.466 1455.94 Q484.661 1452.37 481.026 1452.37 M481.026 1448.67 Q486.836 1448.67 489.892 1453.27 Q492.971 1457.86 492.971 1466.61 Q492.971 1475.33 489.892 1479.94 Q486.836 1484.52 481.026 1484.52 Q475.216 1484.52 472.138 1479.94 Q469.082 1475.33 469.082 1466.61 Q469.082 1457.86 472.138 1453.27 Q475.216 1448.67 481.026 1448.67 Z\" fill=\"#000000\" fill-rule=\"evenodd\" fill-opacity=\"1\" /><path clip-path=\"url(#clip270)\" d=\"M 0 0 M508.04 1452.37 Q504.429 1452.37 502.6 1455.94 Q500.795 1459.48 500.795 1466.61 Q500.795 1473.71 502.6 1477.28 Q504.429 1480.82 508.04 1480.82 Q511.674 1480.82 513.48 1477.28 Q515.309 1473.71 515.309 1466.61 Q515.309 1459.48 513.48 1455.94 Q511.674 1452.37 508.04 1452.37 M508.04 1448.67 Q513.85 1448.67 516.906 1453.27 Q519.984 1457.86 519.984 1466.61 Q519.984 1475.33 516.906 1479.94 Q513.85 1484.52 508.04 1484.52 Q502.23 1484.52 499.151 1479.94 Q496.096 1475.33 496.096 1466.61 Q496.096 1457.86 499.151 1453.27 Q502.23 1448.67 508.04 1448.67 Z\" fill=\"#000000\" fill-rule=\"evenodd\" fill-opacity=\"1\" /><path clip-path=\"url(#clip270)\" d=\"M 0 0 M894.972 1467.02 L924.648 1467.02 L924.648 1470.96 L894.972 1470.96 L894.972 1467.02 Z\" fill=\"#000000\" fill-rule=\"evenodd\" fill-opacity=\"1\" /><path clip-path=\"url(#clip270)\" d=\"M 0 0 M929.763 1449.29 L948.12 1449.29 L948.12 1453.23 L934.046 1453.23 L934.046 1461.7 Q935.064 1461.35 936.083 1461.19 Q937.101 1461 938.12 1461 Q943.907 1461 947.286 1464.18 Q950.666 1467.35 950.666 1472.76 Q950.666 1478.34 947.194 1481.44 Q943.722 1484.52 937.402 1484.52 Q935.226 1484.52 932.958 1484.15 Q930.712 1483.78 928.305 1483.04 L928.305 1478.34 Q930.388 1479.48 932.61 1480.03 Q934.833 1480.59 937.31 1480.59 Q941.314 1480.59 943.652 1478.48 Q945.99 1476.38 945.99 1472.76 Q945.99 1469.15 943.652 1467.05 Q941.314 1464.94 937.31 1464.94 Q935.435 1464.94 933.56 1465.36 Q931.708 1465.77 929.763 1466.65 L929.763 1449.29 Z\" fill=\"#000000\" fill-rule=\"evenodd\" fill-opacity=\"1\" /><path clip-path=\"url(#clip270)\" d=\"M 0 0 M965.735 1452.37 Q962.124 1452.37 960.296 1455.94 Q958.49 1459.48 958.49 1466.61 Q958.49 1473.71 960.296 1477.28 Q962.124 1480.82 965.735 1480.82 Q969.37 1480.82 971.175 1477.28 Q973.004 1473.71 973.004 1466.61 Q973.004 1459.48 971.175 1455.94 Q969.37 1452.37 965.735 1452.37 M965.735 1448.67 Q971.545 1448.67 974.601 1453.27 Q977.68 1457.86 977.68 1466.61 Q977.68 1475.33 974.601 1479.94 Q971.545 1484.52 965.735 1484.52 Q959.925 1484.52 956.846 1479.94 Q953.791 1475.33 953.791 1466.61 Q953.791 1457.86 956.846 1453.27 Q959.925 1448.67 965.735 1448.67 Z\" fill=\"#000000\" fill-rule=\"evenodd\" fill-opacity=\"1\" /><path clip-path=\"url(#clip270)\" d=\"M 0 0 M1407.41 1452.37 Q1403.8 1452.37 1401.97 1455.94 Q1400.17 1459.48 1400.17 1466.61 Q1400.17 1473.71 1401.97 1477.28 Q1403.8 1480.82 1407.41 1480.82 Q1411.05 1480.82 1412.85 1477.28 Q1414.68 1473.71 1414.68 1466.61 Q1414.68 1459.48 1412.85 1455.94 Q1411.05 1452.37 1407.41 1452.37 M1407.41 1448.67 Q1413.22 1448.67 1416.28 1453.27 Q1419.36 1457.86 1419.36 1466.61 Q1419.36 1475.33 1416.28 1479.94 Q1413.22 1484.52 1407.41 1484.52 Q1401.6 1484.52 1398.52 1479.94 Q1395.47 1475.33 1395.47 1466.61 Q1395.47 1457.86 1398.52 1453.27 Q1401.6 1448.67 1407.41 1448.67 Z\" fill=\"#000000\" fill-rule=\"evenodd\" fill-opacity=\"1\" /><path clip-path=\"url(#clip270)\" d=\"M 0 0 M1855.27 1449.29 L1873.63 1449.29 L1873.63 1453.23 L1859.55 1453.23 L1859.55 1461.7 Q1860.57 1461.35 1861.59 1461.19 Q1862.61 1461 1863.63 1461 Q1869.41 1461 1872.79 1464.18 Q1876.17 1467.35 1876.17 1472.76 Q1876.17 1478.34 1872.7 1481.44 Q1869.23 1484.52 1862.91 1484.52 Q1860.73 1484.52 1858.46 1484.15 Q1856.22 1483.78 1853.81 1483.04 L1853.81 1478.34 Q1855.89 1479.48 1858.12 1480.03 Q1860.34 1480.59 1862.82 1480.59 Q1866.82 1480.59 1869.16 1478.48 Q1871.5 1476.38 1871.5 1472.76 Q1871.5 1469.15 1869.16 1467.05 Q1866.82 1464.94 1862.82 1464.94 Q1860.94 1464.94 1859.07 1465.36 Q1857.21 1465.77 1855.27 1466.65 L1855.27 1449.29 Z\" fill=\"#000000\" fill-rule=\"evenodd\" fill-opacity=\"1\" /><path clip-path=\"url(#clip270)\" d=\"M 0 0 M1891.24 1452.37 Q1887.63 1452.37 1885.8 1455.94 Q1884 1459.48 1884 1466.61 Q1884 1473.71 1885.8 1477.28 Q1887.63 1480.82 1891.24 1480.82 Q1894.88 1480.82 1896.68 1477.28 Q1898.51 1473.71 1898.51 1466.61 Q1898.51 1459.48 1896.68 1455.94 Q1894.88 1452.37 1891.24 1452.37 M1891.24 1448.67 Q1897.05 1448.67 1900.11 1453.27 Q1903.19 1457.86 1903.19 1466.61 Q1903.19 1475.33 1900.11 1479.94 Q1897.05 1484.52 1891.24 1484.52 Q1885.43 1484.52 1882.35 1479.94 Q1879.3 1475.33 1879.3 1466.61 Q1879.3 1457.86 1882.35 1453.27 Q1885.43 1448.67 1891.24 1448.67 Z\" fill=\"#000000\" fill-rule=\"evenodd\" fill-opacity=\"1\" /><path clip-path=\"url(#clip270)\" d=\"M 0 0 M2312.95 1479.92 L2320.59 1479.92 L2320.59 1453.55 L2312.28 1455.22 L2312.28 1450.96 L2320.55 1449.29 L2325.22 1449.29 L2325.22 1479.92 L2332.86 1479.92 L2332.86 1483.85 L2312.95 1483.85 L2312.95 1479.92 Z\" fill=\"#000000\" fill-rule=\"evenodd\" fill-opacity=\"1\" /><path clip-path=\"url(#clip270)\" d=\"M 0 0 M2347.93 1452.37 Q2344.32 1452.37 2342.49 1455.94 Q2340.68 1459.48 2340.68 1466.61 Q2340.68 1473.71 2342.49 1477.28 Q2344.32 1480.82 2347.93 1480.82 Q2351.56 1480.82 2353.37 1477.28 Q2355.2 1473.71 2355.2 1466.61 Q2355.2 1459.48 2353.37 1455.94 Q2351.56 1452.37 2347.93 1452.37 M2347.93 1448.67 Q2353.74 1448.67 2356.8 1453.27 Q2359.87 1457.86 2359.87 1466.61 Q2359.87 1475.33 2356.8 1479.94 Q2353.74 1484.52 2347.93 1484.52 Q2342.12 1484.52 2339.04 1479.94 Q2335.99 1475.33 2335.99 1466.61 Q2335.99 1457.86 2339.04 1453.27 Q2342.12 1448.67 2347.93 1448.67 Z\" fill=\"#000000\" fill-rule=\"evenodd\" fill-opacity=\"1\" /><path clip-path=\"url(#clip270)\" d=\"M 0 0 M2374.94 1452.37 Q2371.33 1452.37 2369.5 1455.94 Q2367.7 1459.48 2367.7 1466.61 Q2367.7 1473.71 2369.5 1477.28 Q2371.33 1480.82 2374.94 1480.82 Q2378.58 1480.82 2380.38 1477.28 Q2382.21 1473.71 2382.21 1466.61 Q2382.21 1459.48 2380.38 1455.94 Q2378.58 1452.37 2374.94 1452.37 M2374.94 1448.67 Q2380.75 1448.67 2383.81 1453.27 Q2386.89 1457.86 2386.89 1466.61 Q2386.89 1475.33 2383.81 1479.94 Q2380.75 1484.52 2374.94 1484.52 Q2369.13 1484.52 2366.05 1479.94 Q2363 1475.33 2363 1466.61 Q2363 1457.86 2366.05 1453.27 Q2369.13 1448.67 2374.94 1448.67 Z\" fill=\"#000000\" fill-rule=\"evenodd\" fill-opacity=\"1\" /><path clip-path=\"url(#clip270)\" d=\"M 0 0 M1055.61 1562.7 L1055.61 1581.6 L1049.72 1581.6 L1049.72 1532.4 L1055.61 1532.4 L1055.61 1537.81 Q1057.46 1534.62 1060.26 1533.1 Q1063.09 1531.54 1067.01 1531.54 Q1073.5 1531.54 1077.54 1536.69 Q1081.62 1541.85 1081.62 1550.25 Q1081.62 1558.65 1077.54 1563.81 Q1073.5 1568.97 1067.01 1568.97 Q1063.09 1568.97 1060.26 1567.44 Q1057.46 1565.88 1055.61 1562.7 M1075.54 1550.25 Q1075.54 1543.79 1072.86 1540.13 Q1070.22 1536.44 1065.57 1536.44 Q1060.93 1536.44 1058.25 1540.13 Q1055.61 1543.79 1055.61 1550.25 Q1055.61 1556.71 1058.25 1560.4 Q1060.93 1564.07 1065.57 1564.07 Q1070.22 1564.07 1072.86 1560.4 Q1075.54 1556.71 1075.54 1550.25 Z\" fill=\"#000000\" fill-rule=\"evenodd\" fill-opacity=\"1\" /><path clip-path=\"url(#clip270)\" d=\"M 0 0 M1113.41 1533.76 L1113.41 1539.24 Q1110.93 1537.87 1108.42 1537.2 Q1105.93 1536.5 1103.39 1536.5 Q1097.69 1536.5 1094.54 1540.13 Q1091.39 1543.73 1091.39 1550.25 Q1091.39 1556.78 1094.54 1560.4 Q1097.69 1564 1103.39 1564 Q1105.93 1564 1108.42 1563.33 Q1110.93 1562.63 1113.41 1561.26 L1113.41 1566.68 Q1110.96 1567.82 1108.32 1568.39 Q1105.71 1568.97 1102.75 1568.97 Q1094.7 1568.97 1089.96 1563.91 Q1085.21 1558.85 1085.21 1550.25 Q1085.21 1541.53 1089.99 1536.53 Q1094.79 1531.54 1103.13 1531.54 Q1105.84 1531.54 1108.42 1532.11 Q1110.99 1532.65 1113.41 1533.76 Z\" fill=\"#000000\" fill-rule=\"evenodd\" fill-opacity=\"1\" /><path clip-path=\"url(#clip270)\" d=\"M 0 0 M1135.76 1550.12 Q1128.66 1550.12 1125.92 1551.75 Q1123.18 1553.37 1123.18 1557.29 Q1123.18 1560.4 1125.22 1562.25 Q1127.29 1564.07 1130.82 1564.07 Q1135.69 1564.07 1138.62 1560.63 Q1141.58 1557.16 1141.58 1551.43 L1141.58 1550.12 L1135.76 1550.12 M1147.44 1547.71 L1147.44 1568.04 L1141.58 1568.04 L1141.58 1562.63 Q1139.58 1565.88 1136.58 1567.44 Q1133.59 1568.97 1129.26 1568.97 Q1123.79 1568.97 1120.54 1565.91 Q1117.33 1562.82 1117.33 1557.67 Q1117.33 1551.65 1121.34 1548.6 Q1125.38 1545.54 1133.37 1545.54 L1141.58 1545.54 L1141.58 1544.97 Q1141.58 1540.93 1138.91 1538.73 Q1136.27 1536.5 1131.46 1536.5 Q1128.4 1536.5 1125.51 1537.23 Q1122.61 1537.97 1119.94 1539.43 L1119.94 1534.02 Q1123.15 1532.78 1126.18 1532.17 Q1129.2 1531.54 1132.06 1531.54 Q1139.8 1531.54 1143.62 1535.55 Q1147.44 1539.56 1147.44 1547.71 Z\" fill=\"#000000\" fill-rule=\"evenodd\" fill-opacity=\"1\" /><path clip-path=\"url(#clip270)\" d=\"M 0 0 M1199.95 1533.76 L1199.95 1539.24 Q1197.47 1537.87 1194.96 1537.2 Q1192.47 1536.5 1189.93 1536.5 Q1184.23 1536.5 1181.08 1540.13 Q1177.93 1543.73 1177.93 1550.25 Q1177.93 1556.78 1181.08 1560.4 Q1184.23 1564 1189.93 1564 Q1192.47 1564 1194.96 1563.33 Q1197.47 1562.63 1199.95 1561.26 L1199.95 1566.68 Q1197.5 1567.82 1194.86 1568.39 Q1192.25 1568.97 1189.29 1568.97 Q1181.24 1568.97 1176.5 1563.91 Q1171.75 1558.85 1171.75 1550.25 Q1171.75 1541.53 1176.53 1536.53 Q1181.33 1531.54 1189.67 1531.54 Q1192.38 1531.54 1194.96 1532.11 Q1197.54 1532.65 1199.95 1533.76 Z\" fill=\"#000000\" fill-rule=\"evenodd\" fill-opacity=\"1\" /><path clip-path=\"url(#clip270)\" d=\"M 0 0 M1219.91 1536.5 Q1215.2 1536.5 1212.46 1540.19 Q1209.73 1543.85 1209.73 1550.25 Q1209.73 1556.65 1212.43 1560.34 Q1215.17 1564 1219.91 1564 Q1224.59 1564 1227.33 1560.31 Q1230.06 1556.62 1230.06 1550.25 Q1230.06 1543.92 1227.33 1540.23 Q1224.59 1536.5 1219.91 1536.5 M1219.91 1531.54 Q1227.55 1531.54 1231.91 1536.5 Q1236.27 1541.47 1236.27 1550.25 Q1236.27 1559 1231.91 1564 Q1227.55 1568.97 1219.91 1568.97 Q1212.24 1568.97 1207.88 1564 Q1203.55 1559 1203.55 1550.25 Q1203.55 1541.47 1207.88 1536.5 Q1212.24 1531.54 1219.91 1531.54 Z\" fill=\"#000000\" fill-rule=\"evenodd\" fill-opacity=\"1\" /><path clip-path=\"url(#clip270)\" d=\"M 0 0 M1270.17 1539.24 Q1272.36 1535.29 1275.42 1533.41 Q1278.48 1531.54 1282.61 1531.54 Q1288.18 1531.54 1291.21 1535.45 Q1294.23 1539.33 1294.23 1546.53 L1294.23 1568.04 L1288.34 1568.04 L1288.34 1546.72 Q1288.34 1541.59 1286.53 1539.11 Q1284.71 1536.63 1280.99 1536.63 Q1276.44 1536.63 1273.8 1539.65 Q1271.15 1542.68 1271.15 1547.9 L1271.15 1568.04 L1265.27 1568.04 L1265.27 1546.72 Q1265.27 1541.56 1263.45 1539.11 Q1261.64 1536.63 1257.85 1536.63 Q1253.36 1536.63 1250.72 1539.68 Q1248.08 1542.71 1248.08 1547.9 L1248.08 1568.04 L1242.19 1568.04 L1242.19 1532.4 L1248.08 1532.4 L1248.08 1537.93 Q1250.08 1534.66 1252.89 1533.1 Q1255.69 1531.54 1259.54 1531.54 Q1263.42 1531.54 1266.13 1533.51 Q1268.86 1535.48 1270.17 1539.24 Z\" fill=\"#000000\" fill-rule=\"evenodd\" fill-opacity=\"1\" /><path clip-path=\"url(#clip270)\" d=\"M 0 0 M1306.04 1562.7 L1306.04 1581.6 L1300.15 1581.6 L1300.15 1532.4 L1306.04 1532.4 L1306.04 1537.81 Q1307.89 1534.62 1310.69 1533.1 Q1313.52 1531.54 1317.43 1531.54 Q1323.93 1531.54 1327.97 1536.69 Q1332.04 1541.85 1332.04 1550.25 Q1332.04 1558.65 1327.97 1563.81 Q1323.93 1568.97 1317.43 1568.97 Q1313.52 1568.97 1310.69 1567.44 Q1307.89 1565.88 1306.04 1562.7 M1325.96 1550.25 Q1325.96 1543.79 1323.29 1540.13 Q1320.65 1536.44 1316 1536.44 Q1311.35 1536.44 1308.68 1540.13 Q1306.04 1543.79 1306.04 1550.25 Q1306.04 1556.71 1308.68 1560.4 Q1311.35 1564.07 1316 1564.07 Q1320.65 1564.07 1323.29 1560.4 Q1325.96 1556.71 1325.96 1550.25 Z\" fill=\"#000000\" fill-rule=\"evenodd\" fill-opacity=\"1\" /><path clip-path=\"url(#clip270)\" d=\"M 0 0 M1352 1536.5 Q1347.29 1536.5 1344.55 1540.19 Q1341.81 1543.85 1341.81 1550.25 Q1341.81 1556.65 1344.52 1560.34 Q1347.26 1564 1352 1564 Q1356.68 1564 1359.42 1560.31 Q1362.15 1556.62 1362.15 1550.25 Q1362.15 1543.92 1359.42 1540.23 Q1356.68 1536.5 1352 1536.5 M1352 1531.54 Q1359.64 1531.54 1364 1536.5 Q1368.36 1541.47 1368.36 1550.25 Q1368.36 1559 1364 1564 Q1359.64 1568.97 1352 1568.97 Q1344.33 1568.97 1339.97 1564 Q1335.64 1559 1335.64 1550.25 Q1335.64 1541.47 1339.97 1536.5 Q1344.33 1531.54 1352 1531.54 Z\" fill=\"#000000\" fill-rule=\"evenodd\" fill-opacity=\"1\" /><path clip-path=\"url(#clip270)\" d=\"M 0 0 M1404.13 1546.53 L1404.13 1568.04 L1398.28 1568.04 L1398.28 1546.72 Q1398.28 1541.66 1396.3 1539.14 Q1394.33 1536.63 1390.38 1536.63 Q1385.64 1536.63 1382.9 1539.65 Q1380.17 1542.68 1380.17 1547.9 L1380.17 1568.04 L1374.28 1568.04 L1374.28 1532.4 L1380.17 1532.4 L1380.17 1537.93 Q1382.27 1534.72 1385.1 1533.13 Q1387.97 1531.54 1391.69 1531.54 Q1397.83 1531.54 1400.98 1535.36 Q1404.13 1539.14 1404.13 1546.53 Z\" fill=\"#000000\" fill-rule=\"evenodd\" fill-opacity=\"1\" /><path clip-path=\"url(#clip270)\" d=\"M 0 0 M1440.77 1548.76 L1440.77 1551.62 L1413.84 1551.62 Q1414.22 1557.67 1417.47 1560.85 Q1420.75 1564 1426.57 1564 Q1429.95 1564 1433.1 1563.17 Q1436.28 1562.35 1439.4 1560.69 L1439.4 1566.23 Q1436.25 1567.57 1432.94 1568.27 Q1429.63 1568.97 1426.22 1568.97 Q1417.69 1568.97 1412.7 1564 Q1407.73 1559.04 1407.73 1550.57 Q1407.73 1541.82 1412.44 1536.69 Q1417.18 1531.54 1425.21 1531.54 Q1432.4 1531.54 1436.57 1536.18 Q1440.77 1540.8 1440.77 1548.76 M1434.91 1547.04 Q1434.85 1542.23 1432.21 1539.37 Q1429.6 1536.5 1425.27 1536.5 Q1420.37 1536.5 1417.41 1539.27 Q1414.48 1542.04 1414.03 1547.07 L1434.91 1547.04 Z\" fill=\"#000000\" fill-rule=\"evenodd\" fill-opacity=\"1\" /><path clip-path=\"url(#clip270)\" d=\"M 0 0 M1476.54 1546.53 L1476.54 1568.04 L1470.69 1568.04 L1470.69 1546.72 Q1470.69 1541.66 1468.71 1539.14 Q1466.74 1536.63 1462.79 1536.63 Q1458.05 1536.63 1455.31 1539.65 Q1452.58 1542.68 1452.58 1547.9 L1452.58 1568.04 L1446.69 1568.04 L1446.69 1532.4 L1452.58 1532.4 L1452.58 1537.93 Q1454.68 1534.72 1457.51 1533.13 Q1460.38 1531.54 1464.1 1531.54 Q1470.24 1531.54 1473.39 1535.36 Q1476.54 1539.14 1476.54 1546.53 Z\" fill=\"#000000\" fill-rule=\"evenodd\" fill-opacity=\"1\" /><path clip-path=\"url(#clip270)\" d=\"M 0 0 M1488.48 1522.27 L1488.48 1532.4 L1500.54 1532.4 L1500.54 1536.95 L1488.48 1536.95 L1488.48 1556.3 Q1488.48 1560.66 1489.66 1561.9 Q1490.87 1563.14 1494.53 1563.14 L1500.54 1563.14 L1500.54 1568.04 L1494.53 1568.04 Q1487.75 1568.04 1485.17 1565.53 Q1482.59 1562.98 1482.59 1556.3 L1482.59 1536.95 L1478.3 1536.95 L1478.3 1532.4 L1482.59 1532.4 L1482.59 1522.27 L1488.48 1522.27 Z\" fill=\"#000000\" fill-rule=\"evenodd\" fill-opacity=\"1\" /><path clip-path=\"url(#clip270)\" d=\"M 0 0 M1508.63 1562.63 L1519.13 1562.63 L1519.13 1526.38 L1507.7 1528.67 L1507.7 1522.82 L1519.07 1520.52 L1525.5 1520.52 L1525.5 1562.63 L1536 1562.63 L1536 1568.04 L1508.63 1568.04 L1508.63 1562.63 Z\" fill=\"#000000\" fill-rule=\"evenodd\" fill-opacity=\"1\" /><polyline clip-path=\"url(#clip272)\" style=\"stroke:#000000; stroke-width:2; stroke-opacity:0.1; fill:none\" points=\"\n",
       "  232.968,1290.51 2352.76,1290.51 \n",
       "  \"/>\n",
       "<polyline clip-path=\"url(#clip272)\" style=\"stroke:#000000; stroke-width:2; stroke-opacity:0.1; fill:none\" points=\"\n",
       "  232.968,985.236 2352.76,985.236 \n",
       "  \"/>\n",
       "<polyline clip-path=\"url(#clip272)\" style=\"stroke:#000000; stroke-width:2; stroke-opacity:0.1; fill:none\" points=\"\n",
       "  232.968,679.965 2352.76,679.965 \n",
       "  \"/>\n",
       "<polyline clip-path=\"url(#clip272)\" style=\"stroke:#000000; stroke-width:2; stroke-opacity:0.1; fill:none\" points=\"\n",
       "  232.968,374.695 2352.76,374.695 \n",
       "  \"/>\n",
       "<polyline clip-path=\"url(#clip272)\" style=\"stroke:#000000; stroke-width:2; stroke-opacity:0.1; fill:none\" points=\"\n",
       "  232.968,69.4249 2352.76,69.4249 \n",
       "  \"/>\n",
       "<polyline clip-path=\"url(#clip270)\" style=\"stroke:#000000; stroke-width:4; stroke-opacity:1; fill:none\" points=\"\n",
       "  232.968,1423.18 232.968,47.2441 \n",
       "  \"/>\n",
       "<polyline clip-path=\"url(#clip270)\" style=\"stroke:#000000; stroke-width:4; stroke-opacity:1; fill:none\" points=\"\n",
       "  232.968,1290.51 258.406,1290.51 \n",
       "  \"/>\n",
       "<polyline clip-path=\"url(#clip270)\" style=\"stroke:#000000; stroke-width:4; stroke-opacity:1; fill:none\" points=\"\n",
       "  232.968,985.236 258.406,985.236 \n",
       "  \"/>\n",
       "<polyline clip-path=\"url(#clip270)\" style=\"stroke:#000000; stroke-width:4; stroke-opacity:1; fill:none\" points=\"\n",
       "  232.968,679.965 258.406,679.965 \n",
       "  \"/>\n",
       "<polyline clip-path=\"url(#clip270)\" style=\"stroke:#000000; stroke-width:4; stroke-opacity:1; fill:none\" points=\"\n",
       "  232.968,374.695 258.406,374.695 \n",
       "  \"/>\n",
       "<polyline clip-path=\"url(#clip270)\" style=\"stroke:#000000; stroke-width:4; stroke-opacity:1; fill:none\" points=\"\n",
       "  232.968,69.4249 258.406,69.4249 \n",
       "  \"/>\n",
       "<path clip-path=\"url(#clip270)\" d=\"M 0 0 M114.26 1290.96 L143.936 1290.96 L143.936 1294.89 L114.26 1294.89 L114.26 1290.96 Z\" fill=\"#000000\" fill-rule=\"evenodd\" fill-opacity=\"1\" /><path clip-path=\"url(#clip270)\" d=\"M 0 0 M149.052 1273.23 L167.408 1273.23 L167.408 1277.16 L153.334 1277.16 L153.334 1285.63 Q154.353 1285.29 155.371 1285.12 Q156.39 1284.94 157.408 1284.94 Q163.195 1284.94 166.575 1288.11 Q169.954 1291.28 169.954 1296.7 Q169.954 1302.28 166.482 1305.38 Q163.01 1308.46 156.69 1308.46 Q154.515 1308.46 152.246 1308.09 Q150.001 1307.72 147.593 1306.98 L147.593 1302.28 Q149.677 1303.41 151.899 1303.97 Q154.121 1304.52 156.598 1304.52 Q160.603 1304.52 162.94 1302.42 Q165.278 1300.31 165.278 1296.7 Q165.278 1293.09 162.94 1290.98 Q160.603 1288.87 156.598 1288.87 Q154.723 1288.87 152.848 1289.29 Q150.996 1289.71 149.052 1290.59 L149.052 1273.23 Z\" fill=\"#000000\" fill-rule=\"evenodd\" fill-opacity=\"1\" /><path clip-path=\"url(#clip270)\" d=\"M 0 0 M185.024 1276.3 Q181.413 1276.3 179.584 1279.87 Q177.778 1283.41 177.778 1290.54 Q177.778 1297.65 179.584 1301.21 Q181.413 1304.75 185.024 1304.75 Q188.658 1304.75 190.463 1301.21 Q192.292 1297.65 192.292 1290.54 Q192.292 1283.41 190.463 1279.87 Q188.658 1276.3 185.024 1276.3 M185.024 1272.6 Q190.834 1272.6 193.889 1277.21 Q196.968 1281.79 196.968 1290.54 Q196.968 1299.27 193.889 1303.87 Q190.834 1308.46 185.024 1308.46 Q179.214 1308.46 176.135 1303.87 Q173.079 1299.27 173.079 1290.54 Q173.079 1281.79 176.135 1277.21 Q179.214 1272.6 185.024 1272.6 Z\" fill=\"#000000\" fill-rule=\"evenodd\" fill-opacity=\"1\" /><path clip-path=\"url(#clip270)\" d=\"M 0 0 M115.857 985.687 L145.533 985.687 L145.533 989.622 L115.857 989.622 L115.857 985.687 Z\" fill=\"#000000\" fill-rule=\"evenodd\" fill-opacity=\"1\" /><path clip-path=\"url(#clip270)\" d=\"M 0 0 M154.63 998.581 L170.95 998.581 L170.95 1002.52 L149.005 1002.52 L149.005 998.581 Q151.667 995.826 156.251 991.196 Q160.857 986.544 162.038 985.201 Q164.283 982.678 165.163 980.942 Q166.065 979.183 166.065 977.493 Q166.065 974.738 164.121 973.002 Q162.2 971.266 159.098 971.266 Q156.899 971.266 154.445 972.03 Q152.015 972.794 149.237 974.345 L149.237 969.622 Q152.061 968.488 154.515 967.909 Q156.968 967.331 159.005 967.331 Q164.376 967.331 167.57 970.016 Q170.764 972.701 170.764 977.192 Q170.764 979.321 169.954 981.243 Q169.167 983.141 167.061 985.733 Q166.482 986.405 163.38 989.622 Q160.278 992.817 154.63 998.581 Z\" fill=\"#000000\" fill-rule=\"evenodd\" fill-opacity=\"1\" /><path clip-path=\"url(#clip270)\" d=\"M 0 0 M176.065 967.956 L194.422 967.956 L194.422 971.891 L180.348 971.891 L180.348 980.363 Q181.366 980.016 182.385 979.854 Q183.403 979.669 184.422 979.669 Q190.209 979.669 193.588 982.84 Q196.968 986.011 196.968 991.428 Q196.968 997.006 193.496 1000.11 Q190.024 1003.19 183.704 1003.19 Q181.528 1003.19 179.26 1002.82 Q177.014 1002.45 174.607 1001.71 L174.607 997.006 Q176.69 998.141 178.913 998.696 Q181.135 999.252 183.612 999.252 Q187.616 999.252 189.954 997.145 Q192.292 995.039 192.292 991.428 Q192.292 987.817 189.954 985.71 Q187.616 983.604 183.612 983.604 Q181.737 983.604 179.862 984.02 Q178.01 984.437 176.065 985.317 L176.065 967.956 Z\" fill=\"#000000\" fill-rule=\"evenodd\" fill-opacity=\"1\" /><path clip-path=\"url(#clip270)\" d=\"M 0 0 M185.024 665.764 Q181.413 665.764 179.584 669.329 Q177.778 672.871 177.778 680 Q177.778 687.107 179.584 690.671 Q181.413 694.213 185.024 694.213 Q188.658 694.213 190.463 690.671 Q192.292 687.107 192.292 680 Q192.292 672.871 190.463 669.329 Q188.658 665.764 185.024 665.764 M185.024 662.06 Q190.834 662.06 193.889 666.667 Q196.968 671.25 196.968 680 Q196.968 688.727 193.889 693.333 Q190.834 697.917 185.024 697.917 Q179.214 697.917 176.135 693.333 Q173.079 688.727 173.079 680 Q173.079 671.25 176.135 666.667 Q179.214 662.06 185.024 662.06 Z\" fill=\"#000000\" fill-rule=\"evenodd\" fill-opacity=\"1\" /><path clip-path=\"url(#clip270)\" d=\"M 0 0 M154.63 388.04 L170.95 388.04 L170.95 391.975 L149.005 391.975 L149.005 388.04 Q151.667 385.285 156.251 380.656 Q160.857 376.003 162.038 374.66 Q164.283 372.137 165.163 370.401 Q166.065 368.642 166.065 366.952 Q166.065 364.198 164.121 362.461 Q162.2 360.725 159.098 360.725 Q156.899 360.725 154.445 361.489 Q152.015 362.253 149.237 363.804 L149.237 359.082 Q152.061 357.948 154.515 357.369 Q156.968 356.79 159.005 356.79 Q164.376 356.79 167.57 359.475 Q170.764 362.161 170.764 366.651 Q170.764 368.781 169.954 370.702 Q169.167 372.6 167.061 375.193 Q166.482 375.864 163.38 379.082 Q160.278 382.276 154.63 388.04 Z\" fill=\"#000000\" fill-rule=\"evenodd\" fill-opacity=\"1\" /><path clip-path=\"url(#clip270)\" d=\"M 0 0 M176.065 357.415 L194.422 357.415 L194.422 361.35 L180.348 361.35 L180.348 369.822 Q181.366 369.475 182.385 369.313 Q183.403 369.128 184.422 369.128 Q190.209 369.128 193.588 372.299 Q196.968 375.471 196.968 380.887 Q196.968 386.466 193.496 389.568 Q190.024 392.646 183.704 392.646 Q181.528 392.646 179.26 392.276 Q177.014 391.906 174.607 391.165 L174.607 386.466 Q176.69 387.6 178.913 388.156 Q181.135 388.711 183.612 388.711 Q187.616 388.711 189.954 386.605 Q192.292 384.498 192.292 380.887 Q192.292 377.276 189.954 375.17 Q187.616 373.063 183.612 373.063 Q181.737 373.063 179.862 373.48 Q178.01 373.897 176.065 374.776 L176.065 357.415 Z\" fill=\"#000000\" fill-rule=\"evenodd\" fill-opacity=\"1\" /><path clip-path=\"url(#clip270)\" d=\"M 0 0 M149.052 52.1449 L167.408 52.1449 L167.408 56.08 L153.334 56.08 L153.334 64.5522 Q154.353 64.205 155.371 64.043 Q156.39 63.8578 157.408 63.8578 Q163.195 63.8578 166.575 67.0291 Q169.954 70.2003 169.954 75.617 Q169.954 81.1956 166.482 84.2975 Q163.01 87.3762 156.69 87.3762 Q154.515 87.3762 152.246 87.0058 Q150.001 86.6354 147.593 85.8947 L147.593 81.1956 Q149.677 82.3299 151.899 82.8854 Q154.121 83.441 156.598 83.441 Q160.603 83.441 162.94 81.3345 Q165.278 79.2281 165.278 75.617 Q165.278 72.0059 162.94 69.8994 Q160.603 67.7929 156.598 67.7929 Q154.723 67.7929 152.848 68.2096 Q150.996 68.6263 149.052 69.5059 L149.052 52.1449 Z\" fill=\"#000000\" fill-rule=\"evenodd\" fill-opacity=\"1\" /><path clip-path=\"url(#clip270)\" d=\"M 0 0 M185.024 55.2236 Q181.413 55.2236 179.584 58.7884 Q177.778 62.33 177.778 69.4596 Q177.778 76.566 179.584 80.1308 Q181.413 83.6725 185.024 83.6725 Q188.658 83.6725 190.463 80.1308 Q192.292 76.566 192.292 69.4596 Q192.292 62.33 190.463 58.7884 Q188.658 55.2236 185.024 55.2236 M185.024 51.5199 Q190.834 51.5199 193.889 56.1263 Q196.968 60.7096 196.968 69.4596 Q196.968 78.1864 193.889 82.7929 Q190.834 87.3762 185.024 87.3762 Q179.214 87.3762 176.135 82.7929 Q173.079 78.1864 173.079 69.4596 Q173.079 60.7096 176.135 56.1263 Q179.214 51.5199 185.024 51.5199 Z\" fill=\"#000000\" fill-rule=\"evenodd\" fill-opacity=\"1\" /><path clip-path=\"url(#clip270)\" d=\"M 0 0 M58.657 972.207 L77.5631 972.207 L77.5631 978.096 L28.3562 978.096 L28.3562 972.207 L33.7671 972.207 Q30.5842 970.361 29.0564 967.56 Q27.4968 964.728 27.4968 960.813 Q27.4968 954.32 32.6531 950.277 Q37.8093 946.203 46.212 946.203 Q54.6147 946.203 59.771 950.277 Q64.9272 954.32 64.9272 960.813 Q64.9272 964.728 63.3994 967.56 Q61.8398 970.361 58.657 972.207 M46.212 952.283 Q39.7508 952.283 36.0905 954.956 Q32.3984 957.598 32.3984 962.245 Q32.3984 966.892 36.0905 969.565 Q39.7508 972.207 46.212 972.207 Q52.6732 972.207 56.3653 969.565 Q60.0256 966.892 60.0256 962.245 Q60.0256 957.598 56.3653 954.956 Q52.6732 952.283 46.212 952.283 Z\" fill=\"#000000\" fill-rule=\"evenodd\" fill-opacity=\"1\" /><path clip-path=\"url(#clip270)\" d=\"M 0 0 M29.7248 914.407 L35.1993 914.407 Q33.8307 916.889 33.1623 919.404 Q32.4621 921.886 32.4621 924.433 Q32.4621 930.13 36.0905 933.281 Q39.6872 936.432 46.212 936.432 Q52.7369 936.432 56.3653 933.281 Q59.9619 930.13 59.9619 924.433 Q59.9619 921.886 59.2935 919.404 Q58.5933 916.889 57.2247 914.407 L62.6355 914.407 Q63.7814 916.857 64.3543 919.499 Q64.9272 922.109 64.9272 925.069 Q64.9272 933.122 59.8664 937.864 Q54.8057 942.607 46.212 942.607 Q37.491 942.607 32.4939 937.832 Q27.4968 933.026 27.4968 924.687 Q27.4968 921.982 28.0697 919.404 Q28.6108 916.826 29.7248 914.407 Z\" fill=\"#000000\" fill-rule=\"evenodd\" fill-opacity=\"1\" /><path clip-path=\"url(#clip270)\" d=\"M 0 0 M46.0847 892.063 Q46.0847 899.161 47.7079 901.898 Q49.3312 904.635 53.2461 904.635 Q56.3653 904.635 58.2114 902.598 Q60.0256 900.529 60.0256 896.996 Q60.0256 892.127 56.5881 889.198 Q53.1188 886.238 47.3897 886.238 L46.0847 886.238 L46.0847 892.063 M43.6657 880.382 L64.0042 880.382 L64.0042 886.238 L58.5933 886.238 Q61.8398 888.244 63.3994 891.235 Q64.9272 894.227 64.9272 898.556 Q64.9272 904.031 61.8716 907.277 Q58.7843 910.492 53.6281 910.492 Q47.6125 910.492 44.5569 906.481 Q41.5014 902.439 41.5014 894.45 L41.5014 886.238 L40.9285 886.238 Q36.8862 886.238 34.6901 888.912 Q32.4621 891.554 32.4621 896.36 Q32.4621 899.415 33.1941 902.312 Q33.9262 905.208 35.3903 907.882 L29.9795 907.882 Q28.7381 904.667 28.1334 901.643 Q27.4968 898.62 27.4968 895.755 Q27.4968 888.021 31.5072 884.201 Q35.5176 880.382 43.6657 880.382 Z\" fill=\"#000000\" fill-rule=\"evenodd\" fill-opacity=\"1\" /><path clip-path=\"url(#clip270)\" d=\"M 0 0 M29.7248 827.865 L35.1993 827.865 Q33.8307 830.347 33.1623 832.862 Q32.4621 835.345 32.4621 837.891 Q32.4621 843.588 36.0905 846.739 Q39.6872 849.89 46.212 849.89 Q52.7369 849.89 56.3653 846.739 Q59.9619 843.588 59.9619 837.891 Q59.9619 835.345 59.2935 832.862 Q58.5933 830.347 57.2247 827.865 L62.6355 827.865 Q63.7814 830.316 64.3543 832.957 Q64.9272 835.567 64.9272 838.527 Q64.9272 846.58 59.8664 851.322 Q54.8057 856.065 46.212 856.065 Q37.491 856.065 32.4939 851.291 Q27.4968 846.485 27.4968 838.145 Q27.4968 835.44 28.0697 832.862 Q28.6108 830.284 29.7248 827.865 Z\" fill=\"#000000\" fill-rule=\"evenodd\" fill-opacity=\"1\" /><path clip-path=\"url(#clip270)\" d=\"M 0 0 M32.4621 807.908 Q32.4621 812.619 36.1542 815.356 Q39.8145 818.093 46.212 818.093 Q52.6095 818.093 56.3017 815.388 Q59.9619 812.651 59.9619 807.908 Q59.9619 803.23 56.2698 800.492 Q52.5777 797.755 46.212 797.755 Q39.8781 797.755 36.186 800.492 Q32.4621 803.23 32.4621 807.908 M27.4968 807.908 Q27.4968 800.269 32.4621 795.909 Q37.4273 791.548 46.212 791.548 Q54.9649 791.548 59.9619 795.909 Q64.9272 800.269 64.9272 807.908 Q64.9272 815.579 59.9619 819.94 Q54.9649 824.268 46.212 824.268 Q37.4273 824.268 32.4621 819.94 Q27.4968 815.579 27.4968 807.908 Z\" fill=\"#000000\" fill-rule=\"evenodd\" fill-opacity=\"1\" /><path clip-path=\"url(#clip270)\" d=\"M 0 0 M35.1993 757.651 Q31.2526 755.455 29.3747 752.399 Q27.4968 749.344 27.4968 745.206 Q27.4968 739.636 31.4117 736.612 Q35.2948 733.589 42.4881 733.589 L64.0042 733.589 L64.0042 739.477 L42.679 739.477 Q37.5546 739.477 35.072 741.291 Q32.5894 743.105 32.5894 746.829 Q32.5894 751.381 35.6131 754.023 Q38.6368 756.664 43.8567 756.664 L64.0042 756.664 L64.0042 762.553 L42.679 762.553 Q37.5228 762.553 35.072 764.367 Q32.5894 766.181 32.5894 769.969 Q32.5894 774.457 35.6449 777.098 Q38.6686 779.74 43.8567 779.74 L64.0042 779.74 L64.0042 785.628 L28.3562 785.628 L28.3562 779.74 L33.8944 779.74 Q30.616 777.735 29.0564 774.934 Q27.4968 772.133 27.4968 768.282 Q27.4968 764.399 29.4702 761.693 Q31.4436 758.956 35.1993 757.651 Z\" fill=\"#000000\" fill-rule=\"evenodd\" fill-opacity=\"1\" /><path clip-path=\"url(#clip270)\" d=\"M 0 0 M58.657 721.78 L77.5631 721.78 L77.5631 727.669 L28.3562 727.669 L28.3562 721.78 L33.7671 721.78 Q30.5842 719.934 29.0564 717.133 Q27.4968 714.301 27.4968 710.386 Q27.4968 703.893 32.6531 699.85 Q37.8093 695.776 46.212 695.776 Q54.6147 695.776 59.771 699.85 Q64.9272 703.893 64.9272 710.386 Q64.9272 714.301 63.3994 717.133 Q61.8398 719.934 58.657 721.78 M46.212 701.856 Q39.7508 701.856 36.0905 704.529 Q32.3984 707.171 32.3984 711.818 Q32.3984 716.465 36.0905 719.139 Q39.7508 721.78 46.212 721.78 Q52.6732 721.78 56.3653 719.139 Q60.0256 716.465 60.0256 711.818 Q60.0256 707.171 56.3653 704.529 Q52.6732 701.856 46.212 701.856 Z\" fill=\"#000000\" fill-rule=\"evenodd\" fill-opacity=\"1\" /><path clip-path=\"url(#clip270)\" d=\"M 0 0 M32.4621 675.82 Q32.4621 680.531 36.1542 683.268 Q39.8145 686.005 46.212 686.005 Q52.6095 686.005 56.3017 683.3 Q59.9619 680.562 59.9619 675.82 Q59.9619 671.141 56.2698 668.404 Q52.5777 665.667 46.212 665.667 Q39.8781 665.667 36.186 668.404 Q32.4621 671.141 32.4621 675.82 M27.4968 675.82 Q27.4968 668.181 32.4621 663.821 Q37.4273 659.46 46.212 659.46 Q54.9649 659.46 59.9619 663.821 Q64.9272 668.181 64.9272 675.82 Q64.9272 683.491 59.9619 687.851 Q54.9649 692.18 46.212 692.18 Q37.4273 692.18 32.4621 687.851 Q27.4968 683.491 27.4968 675.82 Z\" fill=\"#000000\" fill-rule=\"evenodd\" fill-opacity=\"1\" /><path clip-path=\"url(#clip270)\" d=\"M 0 0 M42.4881 623.685 L64.0042 623.685 L64.0042 629.541 L42.679 629.541 Q37.6183 629.541 35.1038 631.515 Q32.5894 633.488 32.5894 637.435 Q32.5894 642.177 35.6131 644.914 Q38.6368 647.652 43.8567 647.652 L64.0042 647.652 L64.0042 653.54 L28.3562 653.54 L28.3562 647.652 L33.8944 647.652 Q30.6797 645.551 29.0883 642.718 Q27.4968 639.854 27.4968 636.13 Q27.4968 629.987 31.3163 626.836 Q35.1038 623.685 42.4881 623.685 Z\" fill=\"#000000\" fill-rule=\"evenodd\" fill-opacity=\"1\" /><path clip-path=\"url(#clip270)\" d=\"M 0 0 M44.7161 587.05 L47.5806 587.05 L47.5806 613.977 Q53.6281 613.595 56.8109 610.349 Q59.9619 607.07 59.9619 601.246 Q59.9619 597.872 59.1344 594.721 Q58.3069 591.538 56.6518 588.419 L62.1899 588.419 Q63.5267 591.57 64.227 594.88 Q64.9272 598.19 64.9272 601.596 Q64.9272 610.126 59.9619 615.123 Q54.9967 620.088 46.5303 620.088 Q37.7774 620.088 32.6531 615.378 Q27.4968 610.635 27.4968 602.614 Q27.4968 595.421 32.1438 591.252 Q36.7589 587.05 44.7161 587.05 M42.9973 592.907 Q38.1912 592.97 35.3266 595.612 Q32.4621 598.222 32.4621 602.551 Q32.4621 607.452 35.2312 610.412 Q38.0002 613.341 43.0292 613.786 L42.9973 592.907 Z\" fill=\"#000000\" fill-rule=\"evenodd\" fill-opacity=\"1\" /><path clip-path=\"url(#clip270)\" d=\"M 0 0 M42.4881 551.275 L64.0042 551.275 L64.0042 557.131 L42.679 557.131 Q37.6183 557.131 35.1038 559.105 Q32.5894 561.078 32.5894 565.025 Q32.5894 569.767 35.6131 572.505 Q38.6368 575.242 43.8567 575.242 L64.0042 575.242 L64.0042 581.13 L28.3562 581.13 L28.3562 575.242 L33.8944 575.242 Q30.6797 573.141 29.0883 570.308 Q27.4968 567.444 27.4968 563.72 Q27.4968 557.577 31.3163 554.426 Q35.1038 551.275 42.4881 551.275 Z\" fill=\"#000000\" fill-rule=\"evenodd\" fill-opacity=\"1\" /><path clip-path=\"url(#clip270)\" d=\"M 0 0 M18.2347 539.339 L28.3562 539.339 L28.3562 527.276 L32.9077 527.276 L32.9077 539.339 L52.2594 539.339 Q56.6199 539.339 57.8613 538.162 Q59.1026 536.952 59.1026 533.292 L59.1026 527.276 L64.0042 527.276 L64.0042 533.292 Q64.0042 540.071 61.4897 542.649 Q58.9434 545.227 52.2594 545.227 L32.9077 545.227 L32.9077 549.524 L28.3562 549.524 L28.3562 545.227 L18.2347 545.227 L18.2347 539.339 Z\" fill=\"#000000\" fill-rule=\"evenodd\" fill-opacity=\"1\" /><path clip-path=\"url(#clip270)\" d=\"M 0 0 M58.5933 514.768 L58.5933 492.328 L64.0042 492.328 L64.0042 522.502 L58.5933 522.502 Q54.8057 518.842 48.44 512.54 Q42.0425 506.206 40.1964 504.582 Q36.7271 501.495 34.34 500.286 Q31.921 499.044 29.5975 499.044 Q25.8099 499.044 23.4228 501.718 Q21.0356 504.36 21.0356 508.625 Q21.0356 511.648 22.086 515.022 Q23.1363 518.364 25.2688 522.184 L18.7758 522.184 Q17.2162 518.301 16.4205 514.927 Q15.6248 511.553 15.6248 508.752 Q15.6248 501.368 19.3169 496.975 Q23.009 492.583 29.1837 492.583 Q32.112 492.583 34.7537 493.697 Q37.3637 494.779 40.9285 497.676 Q41.8515 498.471 46.2757 502.736 Q50.668 507.001 58.5933 514.768 Z\" fill=\"#000000\" fill-rule=\"evenodd\" fill-opacity=\"1\" /><path clip-path=\"url(#clip272)\" d=\"M1232.39 202.437 L1221.08 197.749 L1216.39 186.437 L1221.08 175.125 L1232.39 170.437 L1243.7 175.125 L1248.39 186.437 L1243.7 197.749 Z\" fill=\"#009af9\" fill-rule=\"evenodd\" fill-opacity=\"1\" stroke=\"#000000\" stroke-opacity=\"1\" stroke-width=\"3.2\"/>\n",
       "<path clip-path=\"url(#clip272)\" d=\"M1495.5 374.261 L1484.19 369.573 L1479.5 358.261 L1484.19 346.949 L1495.5 342.261 L1506.82 346.949 L1511.5 358.261 L1506.82 369.573 Z\" fill=\"#009af9\" fill-rule=\"evenodd\" fill-opacity=\"1\" stroke=\"#000000\" stroke-opacity=\"1\" stroke-width=\"3.2\"/>\n",
       "<path clip-path=\"url(#clip272)\" d=\"M1448.32 362.718 L1437.01 358.03 L1432.32 346.718 L1437.01 335.406 L1448.32 330.718 L1459.63 335.406 L1464.32 346.718 L1459.63 358.03 Z\" fill=\"#009af9\" fill-rule=\"evenodd\" fill-opacity=\"1\" stroke=\"#000000\" stroke-opacity=\"1\" stroke-width=\"3.2\"/>\n",
       "<path clip-path=\"url(#clip272)\" d=\"M1469.4 374.646 L1458.09 369.958 L1453.4 358.646 L1458.09 347.334 L1469.4 342.646 L1480.71 347.334 L1485.4 358.646 L1480.71 369.958 Z\" fill=\"#009af9\" fill-rule=\"evenodd\" fill-opacity=\"1\" stroke=\"#000000\" stroke-opacity=\"1\" stroke-width=\"3.2\"/>\n",
       "<path clip-path=\"url(#clip272)\" d=\"M1406.53 450.143 L1395.22 445.455 L1390.53 434.143 L1395.22 422.831 L1406.53 418.143 L1417.85 422.831 L1422.53 434.143 L1417.85 445.455 Z\" fill=\"#009af9\" fill-rule=\"evenodd\" fill-opacity=\"1\" stroke=\"#000000\" stroke-opacity=\"1\" stroke-width=\"3.2\"/>\n",
       "<path clip-path=\"url(#clip272)\" d=\"M1328.06 308.51 L1316.75 303.822 L1312.06 292.51 L1316.75 281.198 L1328.06 276.51 L1339.37 281.198 L1344.06 292.51 L1339.37 303.822 Z\" fill=\"#009af9\" fill-rule=\"evenodd\" fill-opacity=\"1\" stroke=\"#000000\" stroke-opacity=\"1\" stroke-width=\"3.2\"/>\n",
       "<path clip-path=\"url(#clip272)\" d=\"M1456.52 414.33 L1445.21 409.642 L1440.52 398.33 L1445.21 387.018 L1456.52 382.33 L1467.83 387.018 L1472.52 398.33 L1467.83 409.642 Z\" fill=\"#009af9\" fill-rule=\"evenodd\" fill-opacity=\"1\" stroke=\"#000000\" stroke-opacity=\"1\" stroke-width=\"3.2\"/>\n",
       "<path clip-path=\"url(#clip272)\" d=\"M1389.53 288.387 L1378.22 283.699 L1373.53 272.387 L1378.22 261.075 L1389.53 256.387 L1400.84 261.075 L1405.53 272.387 L1400.84 283.699 Z\" fill=\"#009af9\" fill-rule=\"evenodd\" fill-opacity=\"1\" stroke=\"#000000\" stroke-opacity=\"1\" stroke-width=\"3.2\"/>\n",
       "<path clip-path=\"url(#clip272)\" d=\"M1515.57 429.706 L1504.26 425.018 L1499.57 413.706 L1504.26 402.394 L1515.57 397.706 L1526.88 402.394 L1531.57 413.706 L1526.88 425.018 Z\" fill=\"#009af9\" fill-rule=\"evenodd\" fill-opacity=\"1\" stroke=\"#000000\" stroke-opacity=\"1\" stroke-width=\"3.2\"/>\n",
       "<path clip-path=\"url(#clip272)\" d=\"M1574.46 495.185 L1563.14 490.497 L1558.46 479.185 L1563.14 467.873 L1574.46 463.185 L1585.77 467.873 L1590.46 479.185 L1585.77 490.497 Z\" fill=\"#009af9\" fill-rule=\"evenodd\" fill-opacity=\"1\" stroke=\"#000000\" stroke-opacity=\"1\" stroke-width=\"3.2\"/>\n",
       "<path clip-path=\"url(#clip272)\" d=\"M1523.74 435.297 L1512.43 430.609 L1507.74 419.297 L1512.43 407.985 L1523.74 403.297 L1535.05 407.985 L1539.74 419.297 L1535.05 430.609 Z\" fill=\"#009af9\" fill-rule=\"evenodd\" fill-opacity=\"1\" stroke=\"#000000\" stroke-opacity=\"1\" stroke-width=\"3.2\"/>\n",
       "<path clip-path=\"url(#clip272)\" d=\"M1453.96 361.255 L1442.65 356.567 L1437.96 345.255 L1442.65 333.943 L1453.96 329.255 L1465.28 333.943 L1469.96 345.255 L1465.28 356.567 Z\" fill=\"#009af9\" fill-rule=\"evenodd\" fill-opacity=\"1\" stroke=\"#000000\" stroke-opacity=\"1\" stroke-width=\"3.2\"/>\n",
       "<path clip-path=\"url(#clip272)\" d=\"M1527.9 443.37 L1516.59 438.682 L1511.9 427.37 L1516.59 416.058 L1527.9 411.37 L1539.22 416.058 L1543.9 427.37 L1539.22 438.682 Z\" fill=\"#009af9\" fill-rule=\"evenodd\" fill-opacity=\"1\" stroke=\"#000000\" stroke-opacity=\"1\" stroke-width=\"3.2\"/>\n",
       "<path clip-path=\"url(#clip272)\" d=\"M1371.33 305.816 L1360.02 301.128 L1355.33 289.816 L1360.02 278.504 L1371.33 273.816 L1382.65 278.504 L1387.33 289.816 L1382.65 301.128 Z\" fill=\"#009af9\" fill-rule=\"evenodd\" fill-opacity=\"1\" stroke=\"#000000\" stroke-opacity=\"1\" stroke-width=\"3.2\"/>\n",
       "<path clip-path=\"url(#clip272)\" d=\"M1397.06 346.874 L1385.75 342.186 L1381.06 330.874 L1385.75 319.562 L1397.06 314.874 L1408.37 319.562 L1413.06 330.874 L1408.37 342.186 Z\" fill=\"#009af9\" fill-rule=\"evenodd\" fill-opacity=\"1\" stroke=\"#000000\" stroke-opacity=\"1\" stroke-width=\"3.2\"/>\n",
       "<path clip-path=\"url(#clip272)\" d=\"M1469.21 373.523 L1457.9 368.835 L1453.21 357.523 L1457.9 346.211 L1469.21 341.523 L1480.52 346.211 L1485.21 357.523 L1480.52 368.835 Z\" fill=\"#009af9\" fill-rule=\"evenodd\" fill-opacity=\"1\" stroke=\"#000000\" stroke-opacity=\"1\" stroke-width=\"3.2\"/>\n",
       "<path clip-path=\"url(#clip272)\" d=\"M1280.38 211.99 L1269.07 207.302 L1264.38 195.99 L1269.07 184.678 L1280.38 179.99 L1291.7 184.678 L1296.38 195.99 L1291.7 207.302 Z\" fill=\"#009af9\" fill-rule=\"evenodd\" fill-opacity=\"1\" stroke=\"#000000\" stroke-opacity=\"1\" stroke-width=\"3.2\"/>\n",
       "<path clip-path=\"url(#clip272)\" d=\"M1360.19 306.881 L1348.88 302.193 L1344.19 290.881 L1348.88 279.569 L1360.19 274.881 L1371.5 279.569 L1376.19 290.881 L1371.5 302.193 Z\" fill=\"#009af9\" fill-rule=\"evenodd\" fill-opacity=\"1\" stroke=\"#000000\" stroke-opacity=\"1\" stroke-width=\"3.2\"/>\n",
       "<path clip-path=\"url(#clip272)\" d=\"M1255.03 251.942 L1243.72 247.254 L1239.03 235.942 L1243.72 224.63 L1255.03 219.942 L1266.34 224.63 L1271.03 235.942 L1266.34 247.254 Z\" fill=\"#009af9\" fill-rule=\"evenodd\" fill-opacity=\"1\" stroke=\"#000000\" stroke-opacity=\"1\" stroke-width=\"3.2\"/>\n",
       "<path clip-path=\"url(#clip272)\" d=\"M1217.11 247.235 L1205.8 242.547 L1201.11 231.235 L1205.8 219.923 L1217.11 215.235 L1228.43 219.923 L1233.11 231.235 L1228.43 242.547 Z\" fill=\"#009af9\" fill-rule=\"evenodd\" fill-opacity=\"1\" stroke=\"#000000\" stroke-opacity=\"1\" stroke-width=\"3.2\"/>\n",
       "<path clip-path=\"url(#clip272)\" d=\"M1379.35 330.439 L1368.04 325.751 L1363.35 314.439 L1368.04 303.127 L1379.35 298.439 L1390.67 303.127 L1395.35 314.439 L1390.67 325.751 Z\" fill=\"#009af9\" fill-rule=\"evenodd\" fill-opacity=\"1\" stroke=\"#000000\" stroke-opacity=\"1\" stroke-width=\"3.2\"/>\n",
       "<path clip-path=\"url(#clip272)\" d=\"M1407.37 319.668 L1396.05 314.98 L1391.37 303.668 L1396.05 292.356 L1407.37 287.668 L1418.68 292.356 L1423.37 303.668 L1418.68 314.98 Z\" fill=\"#009af9\" fill-rule=\"evenodd\" fill-opacity=\"1\" stroke=\"#000000\" stroke-opacity=\"1\" stroke-width=\"3.2\"/>\n",
       "<path clip-path=\"url(#clip272)\" d=\"M1308.76 263.376 L1297.45 258.688 L1292.76 247.376 L1297.45 236.064 L1308.76 231.376 L1320.07 236.064 L1324.76 247.376 L1320.07 258.688 Z\" fill=\"#009af9\" fill-rule=\"evenodd\" fill-opacity=\"1\" stroke=\"#000000\" stroke-opacity=\"1\" stroke-width=\"3.2\"/>\n",
       "<path clip-path=\"url(#clip272)\" d=\"M1273.37 205.692 L1262.06 201.004 L1257.37 189.692 L1262.06 178.38 L1273.37 173.692 L1284.68 178.38 L1289.37 189.692 L1284.68 201.004 Z\" fill=\"#009af9\" fill-rule=\"evenodd\" fill-opacity=\"1\" stroke=\"#000000\" stroke-opacity=\"1\" stroke-width=\"3.2\"/>\n",
       "<path clip-path=\"url(#clip272)\" d=\"M1397.06 316.577 L1385.74 311.889 L1381.06 300.577 L1385.74 289.265 L1397.06 284.577 L1408.37 289.265 L1413.06 300.577 L1408.37 311.889 Z\" fill=\"#009af9\" fill-rule=\"evenodd\" fill-opacity=\"1\" stroke=\"#000000\" stroke-opacity=\"1\" stroke-width=\"3.2\"/>\n",
       "<path clip-path=\"url(#clip272)\" d=\"M1436.11 385.874 L1424.8 381.186 L1420.11 369.874 L1424.8 358.562 L1436.11 353.874 L1447.42 358.562 L1452.11 369.874 L1447.42 381.186 Z\" fill=\"#009af9\" fill-rule=\"evenodd\" fill-opacity=\"1\" stroke=\"#000000\" stroke-opacity=\"1\" stroke-width=\"3.2\"/>\n",
       "<path clip-path=\"url(#clip272)\" d=\"M1278.95 244.28 L1267.64 239.592 L1262.95 228.28 L1267.64 216.968 L1278.95 212.28 L1290.26 216.968 L1294.95 228.28 L1290.26 239.592 Z\" fill=\"#009af9\" fill-rule=\"evenodd\" fill-opacity=\"1\" stroke=\"#000000\" stroke-opacity=\"1\" stroke-width=\"3.2\"/>\n",
       "<path clip-path=\"url(#clip272)\" d=\"M1370.91 314.541 L1359.59 309.853 L1354.91 298.541 L1359.59 287.229 L1370.91 282.541 L1382.22 287.229 L1386.91 298.541 L1382.22 309.853 Z\" fill=\"#009af9\" fill-rule=\"evenodd\" fill-opacity=\"1\" stroke=\"#000000\" stroke-opacity=\"1\" stroke-width=\"3.2\"/>\n",
       "<path clip-path=\"url(#clip272)\" d=\"M1209.33 170.474 L1198.01 165.786 L1193.33 154.474 L1198.01 143.162 L1209.33 138.474 L1220.64 143.162 L1225.33 154.474 L1220.64 165.786 Z\" fill=\"#009af9\" fill-rule=\"evenodd\" fill-opacity=\"1\" stroke=\"#000000\" stroke-opacity=\"1\" stroke-width=\"3.2\"/>\n",
       "<path clip-path=\"url(#clip272)\" d=\"M1292.92 270.754 L1281.6 266.066 L1276.92 254.754 L1281.6 243.442 L1292.92 238.754 L1304.23 243.442 L1308.92 254.754 L1304.23 266.066 Z\" fill=\"#009af9\" fill-rule=\"evenodd\" fill-opacity=\"1\" stroke=\"#000000\" stroke-opacity=\"1\" stroke-width=\"3.2\"/>\n",
       "<path clip-path=\"url(#clip272)\" d=\"M1129.76 194.57 L1118.45 189.882 L1113.76 178.57 L1118.45 167.258 L1129.76 162.57 L1141.07 167.258 L1145.76 178.57 L1141.07 189.882 Z\" fill=\"#009af9\" fill-rule=\"evenodd\" fill-opacity=\"1\" stroke=\"#000000\" stroke-opacity=\"1\" stroke-width=\"3.2\"/>\n",
       "<path clip-path=\"url(#clip272)\" d=\"M1227.1 242.414 L1215.79 237.726 L1211.1 226.414 L1215.79 215.102 L1227.1 210.414 L1238.42 215.102 L1243.1 226.414 L1238.42 237.726 Z\" fill=\"#009af9\" fill-rule=\"evenodd\" fill-opacity=\"1\" stroke=\"#000000\" stroke-opacity=\"1\" stroke-width=\"3.2\"/>\n",
       "<path clip-path=\"url(#clip272)\" d=\"M1377.99 348.406 L1366.68 343.718 L1361.99 332.406 L1366.68 321.094 L1377.99 316.406 L1389.3 321.094 L1393.99 332.406 L1389.3 343.718 Z\" fill=\"#009af9\" fill-rule=\"evenodd\" fill-opacity=\"1\" stroke=\"#000000\" stroke-opacity=\"1\" stroke-width=\"3.2\"/>\n",
       "<path clip-path=\"url(#clip272)\" d=\"M981.646 1268.14 L970.334 1263.45 L965.646 1252.14 L970.334 1240.83 L981.646 1236.14 L992.958 1240.83 L997.646 1252.14 L992.958 1263.45 Z\" fill=\"#009af9\" fill-rule=\"evenodd\" fill-opacity=\"1\" stroke=\"#000000\" stroke-opacity=\"1\" stroke-width=\"3.2\"/>\n",
       "<path clip-path=\"url(#clip272)\" d=\"M1548.67 1254.43 L1537.36 1249.74 L1532.67 1238.43 L1537.36 1227.12 L1548.67 1222.43 L1559.98 1227.12 L1564.67 1238.43 L1559.98 1249.74 Z\" fill=\"#009af9\" fill-rule=\"evenodd\" fill-opacity=\"1\" stroke=\"#000000\" stroke-opacity=\"1\" stroke-width=\"3.2\"/>\n",
       "<path clip-path=\"url(#clip272)\" d=\"M1141.57 1274.75 L1130.26 1270.06 L1125.57 1258.75 L1130.26 1247.44 L1141.57 1242.75 L1152.89 1247.44 L1157.57 1258.75 L1152.89 1270.06 Z\" fill=\"#009af9\" fill-rule=\"evenodd\" fill-opacity=\"1\" stroke=\"#000000\" stroke-opacity=\"1\" stroke-width=\"3.2\"/>\n",
       "<path clip-path=\"url(#clip272)\" d=\"M1773.35 1239.34 L1762.04 1234.65 L1757.35 1223.34 L1762.04 1212.03 L1773.35 1207.34 L1784.67 1212.03 L1789.35 1223.34 L1784.67 1234.65 Z\" fill=\"#009af9\" fill-rule=\"evenodd\" fill-opacity=\"1\" stroke=\"#000000\" stroke-opacity=\"1\" stroke-width=\"3.2\"/>\n",
       "<path clip-path=\"url(#clip272)\" d=\"M1289.62 1170.83 L1278.31 1166.14 L1273.62 1154.83 L1278.31 1143.52 L1289.62 1138.83 L1300.93 1143.52 L1305.62 1154.83 L1300.93 1166.14 Z\" fill=\"#009af9\" fill-rule=\"evenodd\" fill-opacity=\"1\" stroke=\"#000000\" stroke-opacity=\"1\" stroke-width=\"3.2\"/>\n",
       "<path clip-path=\"url(#clip272)\" d=\"M1732.75 1244.88 L1721.43 1240.19 L1716.75 1228.88 L1721.43 1217.57 L1732.75 1212.88 L1744.06 1217.57 L1748.75 1228.88 L1744.06 1240.19 Z\" fill=\"#009af9\" fill-rule=\"evenodd\" fill-opacity=\"1\" stroke=\"#000000\" stroke-opacity=\"1\" stroke-width=\"3.2\"/>\n",
       "<path clip-path=\"url(#clip272)\" d=\"M1269.61 1184.48 L1258.29 1179.8 L1253.61 1168.48 L1258.29 1157.17 L1269.61 1152.48 L1280.92 1157.17 L1285.61 1168.48 L1280.92 1179.8 Z\" fill=\"#009af9\" fill-rule=\"evenodd\" fill-opacity=\"1\" stroke=\"#000000\" stroke-opacity=\"1\" stroke-width=\"3.2\"/>\n",
       "<path clip-path=\"url(#clip272)\" d=\"M2013.93 1139.79 L2002.61 1135.11 L1997.93 1123.79 L2002.61 1112.48 L2013.93 1107.79 L2025.24 1112.48 L2029.93 1123.79 L2025.24 1135.11 Z\" fill=\"#009af9\" fill-rule=\"evenodd\" fill-opacity=\"1\" stroke=\"#000000\" stroke-opacity=\"1\" stroke-width=\"3.2\"/>\n",
       "<path clip-path=\"url(#clip272)\" d=\"M1196.46 931.742 L1185.15 927.054 L1180.46 915.742 L1185.15 904.43 L1196.46 899.742 L1207.78 904.43 L1212.46 915.742 L1207.78 927.054 Z\" fill=\"#009af9\" fill-rule=\"evenodd\" fill-opacity=\"1\" stroke=\"#000000\" stroke-opacity=\"1\" stroke-width=\"3.2\"/>\n",
       "<path clip-path=\"url(#clip272)\" d=\"M1817.72 1035.2 L1806.41 1030.51 L1801.72 1019.2 L1806.41 1007.88 L1817.72 1003.2 L1829.03 1007.88 L1833.72 1019.2 L1829.03 1030.51 Z\" fill=\"#009af9\" fill-rule=\"evenodd\" fill-opacity=\"1\" stroke=\"#000000\" stroke-opacity=\"1\" stroke-width=\"3.2\"/>\n",
       "<path clip-path=\"url(#clip272)\" d=\"M1280.11 1187.04 L1268.8 1182.35 L1264.11 1171.04 L1268.8 1159.73 L1280.11 1155.04 L1291.42 1159.73 L1296.11 1171.04 L1291.42 1182.35 Z\" fill=\"#009af9\" fill-rule=\"evenodd\" fill-opacity=\"1\" stroke=\"#000000\" stroke-opacity=\"1\" stroke-width=\"3.2\"/>\n",
       "<path clip-path=\"url(#clip272)\" d=\"M1694.11 1020.36 L1682.8 1015.68 L1678.11 1004.36 L1682.8 993.052 L1694.11 988.364 L1705.42 993.052 L1710.11 1004.36 L1705.42 1015.68 Z\" fill=\"#009af9\" fill-rule=\"evenodd\" fill-opacity=\"1\" stroke=\"#000000\" stroke-opacity=\"1\" stroke-width=\"3.2\"/>\n",
       "<path clip-path=\"url(#clip272)\" d=\"M1104.03 1275.12 L1092.72 1270.43 L1088.03 1259.12 L1092.72 1247.81 L1104.03 1243.12 L1115.34 1247.81 L1120.03 1259.12 L1115.34 1270.43 Z\" fill=\"#009af9\" fill-rule=\"evenodd\" fill-opacity=\"1\" stroke=\"#000000\" stroke-opacity=\"1\" stroke-width=\"3.2\"/>\n",
       "<path clip-path=\"url(#clip272)\" d=\"M1521.63 1283.67 L1510.31 1278.98 L1505.63 1267.67 L1510.31 1256.35 L1521.63 1251.67 L1532.94 1256.35 L1537.63 1267.67 L1532.94 1278.98 Z\" fill=\"#009af9\" fill-rule=\"evenodd\" fill-opacity=\"1\" stroke=\"#000000\" stroke-opacity=\"1\" stroke-width=\"3.2\"/>\n",
       "<path clip-path=\"url(#clip272)\" d=\"M1033.82 1264.26 L1022.51 1259.57 L1017.82 1248.26 L1022.51 1236.95 L1033.82 1232.26 L1045.13 1236.95 L1049.82 1248.26 L1045.13 1259.57 Z\" fill=\"#009af9\" fill-rule=\"evenodd\" fill-opacity=\"1\" stroke=\"#000000\" stroke-opacity=\"1\" stroke-width=\"3.2\"/>\n",
       "<path clip-path=\"url(#clip272)\" d=\"M1601.86 1254.98 L1590.55 1250.3 L1585.86 1238.98 L1590.55 1227.67 L1601.86 1222.98 L1613.18 1227.67 L1617.86 1238.98 L1613.18 1250.3 Z\" fill=\"#009af9\" fill-rule=\"evenodd\" fill-opacity=\"1\" stroke=\"#000000\" stroke-opacity=\"1\" stroke-width=\"3.2\"/>\n",
       "<path clip-path=\"url(#clip272)\" d=\"M1012.35 1246.77 L1001.04 1242.08 L996.348 1230.77 L1001.04 1219.46 L1012.35 1214.77 L1023.66 1219.46 L1028.35 1230.77 L1023.66 1242.08 Z\" fill=\"#009af9\" fill-rule=\"evenodd\" fill-opacity=\"1\" stroke=\"#000000\" stroke-opacity=\"1\" stroke-width=\"3.2\"/>\n",
       "<path clip-path=\"url(#clip272)\" d=\"M1823.9 1204.04 L1812.59 1199.35 L1807.9 1188.04 L1812.59 1176.73 L1823.9 1172.04 L1835.21 1176.73 L1839.9 1188.04 L1835.21 1199.35 Z\" fill=\"#009af9\" fill-rule=\"evenodd\" fill-opacity=\"1\" stroke=\"#000000\" stroke-opacity=\"1\" stroke-width=\"3.2\"/>\n",
       "<path clip-path=\"url(#clip272)\" d=\"M1010.99 1288.88 L999.679 1284.19 L994.991 1272.88 L999.679 1261.57 L1010.99 1256.88 L1022.3 1261.57 L1026.99 1272.88 L1022.3 1284.19 Z\" fill=\"#009af9\" fill-rule=\"evenodd\" fill-opacity=\"1\" stroke=\"#000000\" stroke-opacity=\"1\" stroke-width=\"3.2\"/>\n",
       "<path clip-path=\"url(#clip272)\" d=\"M1766.71 1252.6 L1755.4 1247.92 L1750.71 1236.6 L1755.4 1225.29 L1766.71 1220.6 L1778.02 1225.29 L1782.71 1236.6 L1778.02 1247.92 Z\" fill=\"#009af9\" fill-rule=\"evenodd\" fill-opacity=\"1\" stroke=\"#000000\" stroke-opacity=\"1\" stroke-width=\"3.2\"/>\n",
       "<path clip-path=\"url(#clip272)\" d=\"M1000.53 1282.75 L989.215 1278.06 L984.527 1266.75 L989.215 1255.44 L1000.53 1250.75 L1011.84 1255.44 L1016.53 1266.75 L1011.84 1278.06 Z\" fill=\"#009af9\" fill-rule=\"evenodd\" fill-opacity=\"1\" stroke=\"#000000\" stroke-opacity=\"1\" stroke-width=\"3.2\"/>\n",
       "<path clip-path=\"url(#clip272)\" d=\"M1590.34 1266.93 L1579.02 1262.24 L1574.34 1250.93 L1579.02 1239.62 L1590.34 1234.93 L1601.65 1239.62 L1606.34 1250.93 L1601.65 1262.24 Z\" fill=\"#009af9\" fill-rule=\"evenodd\" fill-opacity=\"1\" stroke=\"#000000\" stroke-opacity=\"1\" stroke-width=\"3.2\"/>\n",
       "<path clip-path=\"url(#clip272)\" d=\"M866.263 1265.77 L854.951 1261.08 L850.263 1249.77 L854.951 1238.46 L866.263 1233.77 L877.575 1238.46 L882.263 1249.77 L877.575 1261.08 Z\" fill=\"#009af9\" fill-rule=\"evenodd\" fill-opacity=\"1\" stroke=\"#000000\" stroke-opacity=\"1\" stroke-width=\"3.2\"/>\n",
       "<path clip-path=\"url(#clip272)\" d=\"M1321.49 1108.34 L1310.18 1103.65 L1305.49 1092.34 L1310.18 1081.03 L1321.49 1076.34 L1332.8 1081.03 L1337.49 1092.34 L1332.8 1103.65 Z\" fill=\"#009af9\" fill-rule=\"evenodd\" fill-opacity=\"1\" stroke=\"#000000\" stroke-opacity=\"1\" stroke-width=\"3.2\"/>\n",
       "<path clip-path=\"url(#clip272)\" d=\"M1602.32 1255.72 L1591.01 1251.04 L1586.32 1239.72 L1591.01 1228.41 L1602.32 1223.72 L1613.63 1228.41 L1618.32 1239.72 L1613.63 1251.04 Z\" fill=\"#009af9\" fill-rule=\"evenodd\" fill-opacity=\"1\" stroke=\"#000000\" stroke-opacity=\"1\" stroke-width=\"3.2\"/>\n",
       "<path clip-path=\"url(#clip272)\" d=\"M1346.27 1193.45 L1334.96 1188.76 L1330.27 1177.45 L1334.96 1166.14 L1346.27 1161.45 L1357.58 1166.14 L1362.27 1177.45 L1357.58 1188.76 Z\" fill=\"#009af9\" fill-rule=\"evenodd\" fill-opacity=\"1\" stroke=\"#000000\" stroke-opacity=\"1\" stroke-width=\"3.2\"/>\n",
       "<path clip-path=\"url(#clip272)\" d=\"M1658.02 1291.68 L1646.7 1286.99 L1642.02 1275.68 L1646.7 1264.37 L1658.02 1259.68 L1669.33 1264.37 L1674.02 1275.68 L1669.33 1286.99 Z\" fill=\"#009af9\" fill-rule=\"evenodd\" fill-opacity=\"1\" stroke=\"#000000\" stroke-opacity=\"1\" stroke-width=\"3.2\"/>\n",
       "<path clip-path=\"url(#clip272)\" d=\"M1240.22 1178.22 L1228.91 1173.53 L1224.22 1162.22 L1228.91 1150.91 L1240.22 1146.22 L1251.53 1150.91 L1256.22 1162.22 L1251.53 1173.53 Z\" fill=\"#009af9\" fill-rule=\"evenodd\" fill-opacity=\"1\" stroke=\"#000000\" stroke-opacity=\"1\" stroke-width=\"3.2\"/>\n",
       "<path clip-path=\"url(#clip272)\" d=\"M1750.74 1308.93 L1739.42 1304.24 L1734.74 1292.93 L1739.42 1281.62 L1750.74 1276.93 L1762.05 1281.62 L1766.74 1292.93 L1762.05 1304.24 Z\" fill=\"#009af9\" fill-rule=\"evenodd\" fill-opacity=\"1\" stroke=\"#000000\" stroke-opacity=\"1\" stroke-width=\"3.2\"/>\n",
       "<path clip-path=\"url(#clip272)\" d=\"M1455.39 1206.12 L1444.08 1201.44 L1439.39 1190.12 L1444.08 1178.81 L1455.39 1174.12 L1466.71 1178.81 L1471.39 1190.12 L1466.71 1201.44 Z\" fill=\"#009af9\" fill-rule=\"evenodd\" fill-opacity=\"1\" stroke=\"#000000\" stroke-opacity=\"1\" stroke-width=\"3.2\"/>\n",
       "<path clip-path=\"url(#clip272)\" d=\"M1841.39 1306.03 L1830.08 1301.34 L1825.39 1290.03 L1830.08 1278.72 L1841.39 1274.03 L1852.7 1278.72 L1857.39 1290.03 L1852.7 1301.34 Z\" fill=\"#009af9\" fill-rule=\"evenodd\" fill-opacity=\"1\" stroke=\"#000000\" stroke-opacity=\"1\" stroke-width=\"3.2\"/>\n",
       "<path clip-path=\"url(#clip272)\" d=\"M1399.77 1138.67 L1388.46 1133.99 L1383.77 1122.67 L1388.46 1111.36 L1399.77 1106.67 L1411.08 1111.36 L1415.77 1122.67 L1411.08 1133.99 Z\" fill=\"#009af9\" fill-rule=\"evenodd\" fill-opacity=\"1\" stroke=\"#000000\" stroke-opacity=\"1\" stroke-width=\"3.2\"/>\n",
       "<path clip-path=\"url(#clip272)\" d=\"M1614.84 1191.78 L1603.53 1187.09 L1598.84 1175.78 L1603.53 1164.46 L1614.84 1159.78 L1626.15 1164.46 L1630.84 1175.78 L1626.15 1187.09 Z\" fill=\"#009af9\" fill-rule=\"evenodd\" fill-opacity=\"1\" stroke=\"#000000\" stroke-opacity=\"1\" stroke-width=\"3.2\"/>\n",
       "<path clip-path=\"url(#clip272)\" d=\"M1896.34 1161.69 L1880.34 1177.69 L1896.34 1193.69 L1912.34 1177.69 L1896.34 1161.69 Z\" fill=\"#009af9\" fill-rule=\"evenodd\" fill-opacity=\"1\" stroke=\"#000000\" stroke-opacity=\"1\" stroke-width=\"3.2\"/>\n",
       "<path clip-path=\"url(#clip272)\" d=\"M2172.46 1112.01 L2156.46 1128.01 L2172.46 1144.01 L2188.46 1128.01 L2172.46 1112.01 Z\" fill=\"#009af9\" fill-rule=\"evenodd\" fill-opacity=\"1\" stroke=\"#000000\" stroke-opacity=\"1\" stroke-width=\"3.2\"/>\n",
       "<path clip-path=\"url(#clip272)\" d=\"M1769.85 1171.49 L1753.85 1187.49 L1769.85 1203.49 L1785.85 1187.49 L1769.85 1171.49 Z\" fill=\"#009af9\" fill-rule=\"evenodd\" fill-opacity=\"1\" stroke=\"#000000\" stroke-opacity=\"1\" stroke-width=\"3.2\"/>\n",
       "<path clip-path=\"url(#clip272)\" d=\"M2118.68 1090.19 L2102.68 1106.19 L2118.68 1122.19 L2134.68 1106.19 L2118.68 1090.19 Z\" fill=\"#009af9\" fill-rule=\"evenodd\" fill-opacity=\"1\" stroke=\"#000000\" stroke-opacity=\"1\" stroke-width=\"3.2\"/>\n",
       "<path clip-path=\"url(#clip272)\" d=\"M1694.5 1084.71 L1678.5 1100.71 L1694.5 1116.71 L1710.5 1100.71 L1694.5 1084.71 Z\" fill=\"#009af9\" fill-rule=\"evenodd\" fill-opacity=\"1\" stroke=\"#000000\" stroke-opacity=\"1\" stroke-width=\"3.2\"/>\n",
       "<path clip-path=\"url(#clip272)\" d=\"M2040.79 1075.01 L2024.79 1091.01 L2040.79 1107.01 L2056.79 1091.01 L2040.79 1075.01 Z\" fill=\"#009af9\" fill-rule=\"evenodd\" fill-opacity=\"1\" stroke=\"#000000\" stroke-opacity=\"1\" stroke-width=\"3.2\"/>\n",
       "<path clip-path=\"url(#clip272)\" d=\"M1822 1137.89 L1806 1153.89 L1822 1169.89 L1838 1153.89 L1822 1137.89 Z\" fill=\"#009af9\" fill-rule=\"evenodd\" fill-opacity=\"1\" stroke=\"#000000\" stroke-opacity=\"1\" stroke-width=\"3.2\"/>\n",
       "<path clip-path=\"url(#clip272)\" d=\"M2063.34 958.805 L2047.34 974.805 L2063.34 990.805 L2079.34 974.805 L2063.34 958.805 Z\" fill=\"#009af9\" fill-rule=\"evenodd\" fill-opacity=\"1\" stroke=\"#000000\" stroke-opacity=\"1\" stroke-width=\"3.2\"/>\n",
       "<path clip-path=\"url(#clip272)\" d=\"M1714.95 1099.42 L1698.95 1115.42 L1714.95 1131.42 L1730.95 1115.42 L1714.95 1099.42 Z\" fill=\"#009af9\" fill-rule=\"evenodd\" fill-opacity=\"1\" stroke=\"#000000\" stroke-opacity=\"1\" stroke-width=\"3.2\"/>\n",
       "<path clip-path=\"url(#clip272)\" d=\"M1963.27 993.82 L1947.27 1009.82 L1963.27 1025.82 L1979.27 1009.82 L1963.27 993.82 Z\" fill=\"#009af9\" fill-rule=\"evenodd\" fill-opacity=\"1\" stroke=\"#000000\" stroke-opacity=\"1\" stroke-width=\"3.2\"/>\n",
       "<path clip-path=\"url(#clip272)\" d=\"M1540.32 1051.2 L1524.32 1067.2 L1540.32 1083.2 L1556.32 1067.2 L1540.32 1051.2 Z\" fill=\"#009af9\" fill-rule=\"evenodd\" fill-opacity=\"1\" stroke=\"#000000\" stroke-opacity=\"1\" stroke-width=\"3.2\"/>\n",
       "<path clip-path=\"url(#clip272)\" d=\"M1739.82 1008.93 L1723.82 1024.93 L1739.82 1040.93 L1755.82 1024.93 L1739.82 1008.93 Z\" fill=\"#009af9\" fill-rule=\"evenodd\" fill-opacity=\"1\" stroke=\"#000000\" stroke-opacity=\"1\" stroke-width=\"3.2\"/>\n",
       "<path clip-path=\"url(#clip272)\" d=\"M1791.16 565.543 L1775.16 581.543 L1791.16 597.543 L1807.16 581.543 L1791.16 565.543 Z\" fill=\"#009af9\" fill-rule=\"evenodd\" fill-opacity=\"1\" stroke=\"#000000\" stroke-opacity=\"1\" stroke-width=\"3.2\"/>\n",
       "<path clip-path=\"url(#clip272)\" d=\"M1657.32 445.061 L1641.32 461.061 L1657.32 477.061 L1673.32 461.061 L1657.32 445.061 Z\" fill=\"#009af9\" fill-rule=\"evenodd\" fill-opacity=\"1\" stroke=\"#000000\" stroke-opacity=\"1\" stroke-width=\"3.2\"/>\n",
       "<path clip-path=\"url(#clip272)\" d=\"M1617.63 392.729 L1601.63 408.729 L1617.63 424.729 L1633.63 408.729 L1617.63 392.729 Z\" fill=\"#009af9\" fill-rule=\"evenodd\" fill-opacity=\"1\" stroke=\"#000000\" stroke-opacity=\"1\" stroke-width=\"3.2\"/>\n",
       "<path clip-path=\"url(#clip272)\" d=\"M1655.49 430.298 L1639.49 446.298 L1655.49 462.298 L1671.49 446.298 L1655.49 430.298 Z\" fill=\"#009af9\" fill-rule=\"evenodd\" fill-opacity=\"1\" stroke=\"#000000\" stroke-opacity=\"1\" stroke-width=\"3.2\"/>\n",
       "<path clip-path=\"url(#clip272)\" d=\"M1728.35 507.685 L1712.35 523.685 L1728.35 539.685 L1744.35 523.685 L1728.35 507.685 Z\" fill=\"#009af9\" fill-rule=\"evenodd\" fill-opacity=\"1\" stroke=\"#000000\" stroke-opacity=\"1\" stroke-width=\"3.2\"/>\n",
       "<path clip-path=\"url(#clip272)\" d=\"M1670.68 465.315 L1654.68 481.315 L1670.68 497.315 L1686.68 481.315 L1670.68 465.315 Z\" fill=\"#009af9\" fill-rule=\"evenodd\" fill-opacity=\"1\" stroke=\"#000000\" stroke-opacity=\"1\" stroke-width=\"3.2\"/>\n",
       "<path clip-path=\"url(#clip272)\" d=\"M1778.55 508.008 L1762.55 524.008 L1778.55 540.008 L1794.55 524.008 L1778.55 508.008 Z\" fill=\"#009af9\" fill-rule=\"evenodd\" fill-opacity=\"1\" stroke=\"#000000\" stroke-opacity=\"1\" stroke-width=\"3.2\"/>\n",
       "<path clip-path=\"url(#clip272)\" d=\"M1497.97 327.275 L1481.97 343.275 L1497.97 359.275 L1513.97 343.275 L1497.97 327.275 Z\" fill=\"#009af9\" fill-rule=\"evenodd\" fill-opacity=\"1\" stroke=\"#000000\" stroke-opacity=\"1\" stroke-width=\"3.2\"/>\n",
       "<path clip-path=\"url(#clip272)\" d=\"M1618.88 396.525 L1602.88 412.525 L1618.88 428.525 L1634.88 412.525 L1618.88 396.525 Z\" fill=\"#009af9\" fill-rule=\"evenodd\" fill-opacity=\"1\" stroke=\"#000000\" stroke-opacity=\"1\" stroke-width=\"3.2\"/>\n",
       "<path clip-path=\"url(#clip272)\" d=\"M1802.02 532.743 L1786.02 548.743 L1802.02 564.743 L1818.02 548.743 L1802.02 532.743 Z\" fill=\"#009af9\" fill-rule=\"evenodd\" fill-opacity=\"1\" stroke=\"#000000\" stroke-opacity=\"1\" stroke-width=\"3.2\"/>\n",
       "<path clip-path=\"url(#clip272)\" d=\"M1670.04 469.599 L1654.04 485.599 L1670.04 501.599 L1686.04 485.599 L1670.04 469.599 Z\" fill=\"#009af9\" fill-rule=\"evenodd\" fill-opacity=\"1\" stroke=\"#000000\" stroke-opacity=\"1\" stroke-width=\"3.2\"/>\n",
       "<path clip-path=\"url(#clip272)\" d=\"M1803.55 542.272 L1787.55 558.272 L1803.55 574.272 L1819.55 558.272 L1803.55 542.272 Z\" fill=\"#009af9\" fill-rule=\"evenodd\" fill-opacity=\"1\" stroke=\"#000000\" stroke-opacity=\"1\" stroke-width=\"3.2\"/>\n",
       "<path clip-path=\"url(#clip272)\" d=\"M1685.37 480.541 L1669.37 496.541 L1685.37 512.541 L1701.37 496.541 L1685.37 480.541 Z\" fill=\"#009af9\" fill-rule=\"evenodd\" fill-opacity=\"1\" stroke=\"#000000\" stroke-opacity=\"1\" stroke-width=\"3.2\"/>\n",
       "<path clip-path=\"url(#clip272)\" d=\"M1725.23 428.558 L1709.23 444.558 L1725.23 460.558 L1741.23 444.558 L1725.23 428.558 Z\" fill=\"#009af9\" fill-rule=\"evenodd\" fill-opacity=\"1\" stroke=\"#000000\" stroke-opacity=\"1\" stroke-width=\"3.2\"/>\n",
       "<path clip-path=\"url(#clip272)\" d=\"M1793.02 477.822 L1777.02 493.822 L1793.02 509.822 L1809.02 493.822 L1793.02 477.822 Z\" fill=\"#009af9\" fill-rule=\"evenodd\" fill-opacity=\"1\" stroke=\"#000000\" stroke-opacity=\"1\" stroke-width=\"3.2\"/>\n",
       "<path clip-path=\"url(#clip272)\" d=\"M1794.19 509.892 L1778.19 525.892 L1794.19 541.892 L1810.19 525.892 L1794.19 509.892 Z\" fill=\"#009af9\" fill-rule=\"evenodd\" fill-opacity=\"1\" stroke=\"#000000\" stroke-opacity=\"1\" stroke-width=\"3.2\"/>\n",
       "<path clip-path=\"url(#clip272)\" d=\"M1713.16 454.717 L1697.16 470.717 L1713.16 486.717 L1729.16 470.717 L1713.16 454.717 Z\" fill=\"#009af9\" fill-rule=\"evenodd\" fill-opacity=\"1\" stroke=\"#000000\" stroke-opacity=\"1\" stroke-width=\"3.2\"/>\n",
       "<path clip-path=\"url(#clip272)\" d=\"M1790.36 499.41 L1774.36 515.41 L1790.36 531.41 L1806.36 515.41 L1790.36 499.41 Z\" fill=\"#009af9\" fill-rule=\"evenodd\" fill-opacity=\"1\" stroke=\"#000000\" stroke-opacity=\"1\" stroke-width=\"3.2\"/>\n",
       "<path clip-path=\"url(#clip272)\" d=\"M1761.12 501.453 L1745.12 517.453 L1761.12 533.453 L1777.12 517.453 L1761.12 501.453 Z\" fill=\"#009af9\" fill-rule=\"evenodd\" fill-opacity=\"1\" stroke=\"#000000\" stroke-opacity=\"1\" stroke-width=\"3.2\"/>\n",
       "<path clip-path=\"url(#clip272)\" d=\"M1903.85 626.454 L1887.85 642.454 L1903.85 658.454 L1919.85 642.454 L1903.85 626.454 Z\" fill=\"#009af9\" fill-rule=\"evenodd\" fill-opacity=\"1\" stroke=\"#000000\" stroke-opacity=\"1\" stroke-width=\"3.2\"/>\n",
       "<path clip-path=\"url(#clip272)\" d=\"M1786.72 494.797 L1770.72 510.797 L1786.72 526.797 L1802.72 510.797 L1786.72 494.797 Z\" fill=\"#009af9\" fill-rule=\"evenodd\" fill-opacity=\"1\" stroke=\"#000000\" stroke-opacity=\"1\" stroke-width=\"3.2\"/>\n",
       "<path clip-path=\"url(#clip272)\" d=\"M1803.74 532.675 L1787.74 548.675 L1803.74 564.675 L1819.74 548.675 L1803.74 532.675 Z\" fill=\"#009af9\" fill-rule=\"evenodd\" fill-opacity=\"1\" stroke=\"#000000\" stroke-opacity=\"1\" stroke-width=\"3.2\"/>\n",
       "<path clip-path=\"url(#clip272)\" d=\"M1732.33 445.503 L1716.33 461.503 L1732.33 477.503 L1748.33 461.503 L1732.33 445.503 Z\" fill=\"#009af9\" fill-rule=\"evenodd\" fill-opacity=\"1\" stroke=\"#000000\" stroke-opacity=\"1\" stroke-width=\"3.2\"/>\n",
       "<path clip-path=\"url(#clip272)\" d=\"M1729.53 456.221 L1713.53 472.221 L1729.53 488.221 L1745.53 472.221 L1729.53 456.221 Z\" fill=\"#009af9\" fill-rule=\"evenodd\" fill-opacity=\"1\" stroke=\"#000000\" stroke-opacity=\"1\" stroke-width=\"3.2\"/>\n",
       "<path clip-path=\"url(#clip272)\" d=\"M1604.32 337.444 L1588.32 353.444 L1604.32 369.444 L1620.32 353.444 L1604.32 337.444 Z\" fill=\"#009af9\" fill-rule=\"evenodd\" fill-opacity=\"1\" stroke=\"#000000\" stroke-opacity=\"1\" stroke-width=\"3.2\"/>\n",
       "<path clip-path=\"url(#clip272)\" d=\"M1707.22 434.212 L1691.22 450.212 L1707.22 466.212 L1723.22 450.212 L1707.22 434.212 Z\" fill=\"#009af9\" fill-rule=\"evenodd\" fill-opacity=\"1\" stroke=\"#000000\" stroke-opacity=\"1\" stroke-width=\"3.2\"/>\n",
       "<path clip-path=\"url(#clip272)\" d=\"M1622.97 343.171 L1606.97 359.171 L1622.97 375.171 L1638.97 359.171 L1622.97 343.171 Z\" fill=\"#009af9\" fill-rule=\"evenodd\" fill-opacity=\"1\" stroke=\"#000000\" stroke-opacity=\"1\" stroke-width=\"3.2\"/>\n",
       "<path clip-path=\"url(#clip272)\" d=\"M1544.07 316.14 L1528.07 332.14 L1544.07 348.14 L1560.07 332.14 L1544.07 316.14 Z\" fill=\"#009af9\" fill-rule=\"evenodd\" fill-opacity=\"1\" stroke=\"#000000\" stroke-opacity=\"1\" stroke-width=\"3.2\"/>\n",
       "<path clip-path=\"url(#clip272)\" d=\"M1563.77 288.275 L1547.77 304.275 L1563.77 320.275 L1579.77 304.275 L1563.77 288.275 Z\" fill=\"#009af9\" fill-rule=\"evenodd\" fill-opacity=\"1\" stroke=\"#000000\" stroke-opacity=\"1\" stroke-width=\"3.2\"/>\n",
       "<path clip-path=\"url(#clip272)\" d=\"M1612.89 355.828 L1596.89 371.828 L1612.89 387.828 L1628.89 371.828 L1612.89 355.828 Z\" fill=\"#009af9\" fill-rule=\"evenodd\" fill-opacity=\"1\" stroke=\"#000000\" stroke-opacity=\"1\" stroke-width=\"3.2\"/>\n",
       "<path clip-path=\"url(#clip272)\" d=\"M1750.99 448.779 L1734.99 464.779 L1750.99 480.779 L1766.99 464.779 L1750.99 448.779 Z\" fill=\"#009af9\" fill-rule=\"evenodd\" fill-opacity=\"1\" stroke=\"#000000\" stroke-opacity=\"1\" stroke-width=\"3.2\"/>\n",
       "<path clip-path=\"url(#clip272)\" d=\"M1609.86 304.904 L1593.86 320.904 L1609.86 336.904 L1625.86 320.904 L1609.86 304.904 Z\" fill=\"#009af9\" fill-rule=\"evenodd\" fill-opacity=\"1\" stroke=\"#000000\" stroke-opacity=\"1\" stroke-width=\"3.2\"/>\n",
       "<path clip-path=\"url(#clip272)\" d=\"M1677.97 375.65 L1661.97 391.65 L1677.97 407.65 L1693.97 391.65 L1677.97 375.65 Z\" fill=\"#009af9\" fill-rule=\"evenodd\" fill-opacity=\"1\" stroke=\"#000000\" stroke-opacity=\"1\" stroke-width=\"3.2\"/>\n",
       "<path clip-path=\"url(#clip272)\" d=\"M1822.94 553.701 L1806.94 569.701 L1822.94 585.701 L1838.94 569.701 L1822.94 553.701 Z\" fill=\"#009af9\" fill-rule=\"evenodd\" fill-opacity=\"1\" stroke=\"#000000\" stroke-opacity=\"1\" stroke-width=\"3.2\"/>\n",
       "<path clip-path=\"url(#clip272)\" d=\"M1648.01 372.279 L1632.01 388.279 L1648.01 404.279 L1664.01 388.279 L1648.01 372.279 Z\" fill=\"#009af9\" fill-rule=\"evenodd\" fill-opacity=\"1\" stroke=\"#000000\" stroke-opacity=\"1\" stroke-width=\"3.2\"/>\n",
       "<path clip-path=\"url(#clip272)\" d=\"M729.683 1093.4 L713.683 1109.4 L729.683 1125.4 L745.683 1109.4 L729.683 1093.4 Z\" fill=\"#009af9\" fill-rule=\"evenodd\" fill-opacity=\"1\" stroke=\"#000000\" stroke-opacity=\"1\" stroke-width=\"3.2\"/>\n",
       "<path clip-path=\"url(#clip272)\" d=\"M1337.98 1196.94 L1321.98 1212.94 L1337.98 1228.94 L1353.98 1212.94 L1337.98 1196.94 Z\" fill=\"#009af9\" fill-rule=\"evenodd\" fill-opacity=\"1\" stroke=\"#000000\" stroke-opacity=\"1\" stroke-width=\"3.2\"/>\n",
       "<path clip-path=\"url(#clip272)\" d=\"M664.504 1106.08 L648.504 1122.08 L664.504 1138.08 L680.504 1122.08 L664.504 1106.08 Z\" fill=\"#009af9\" fill-rule=\"evenodd\" fill-opacity=\"1\" stroke=\"#000000\" stroke-opacity=\"1\" stroke-width=\"3.2\"/>\n",
       "<path clip-path=\"url(#clip272)\" d=\"M1474.1 1236.57 L1458.1 1252.57 L1474.1 1268.57 L1490.1 1252.57 L1474.1 1236.57 Z\" fill=\"#009af9\" fill-rule=\"evenodd\" fill-opacity=\"1\" stroke=\"#000000\" stroke-opacity=\"1\" stroke-width=\"3.2\"/>\n",
       "<path clip-path=\"url(#clip272)\" d=\"M737.999 1091.66 L721.999 1107.66 L737.999 1123.66 L753.999 1107.66 L737.999 1091.66 Z\" fill=\"#009af9\" fill-rule=\"evenodd\" fill-opacity=\"1\" stroke=\"#000000\" stroke-opacity=\"1\" stroke-width=\"3.2\"/>\n",
       "<path clip-path=\"url(#clip272)\" d=\"M1671.28 1211.05 L1655.28 1227.05 L1671.28 1243.05 L1687.28 1227.05 L1671.28 1211.05 Z\" fill=\"#009af9\" fill-rule=\"evenodd\" fill-opacity=\"1\" stroke=\"#000000\" stroke-opacity=\"1\" stroke-width=\"3.2\"/>\n",
       "<path clip-path=\"url(#clip272)\" d=\"M867.238 1081.27 L851.238 1097.27 L867.238 1113.27 L883.238 1097.27 L867.238 1081.27 Z\" fill=\"#009af9\" fill-rule=\"evenodd\" fill-opacity=\"1\" stroke=\"#000000\" stroke-opacity=\"1\" stroke-width=\"3.2\"/>\n",
       "<path clip-path=\"url(#clip272)\" d=\"M1509.98 1212.54 L1493.98 1228.54 L1509.98 1244.54 L1525.98 1228.54 L1509.98 1212.54 Z\" fill=\"#009af9\" fill-rule=\"evenodd\" fill-opacity=\"1\" stroke=\"#000000\" stroke-opacity=\"1\" stroke-width=\"3.2\"/>\n",
       "<path clip-path=\"url(#clip272)\" d=\"M754.721 1132.29 L738.721 1148.29 L754.721 1164.29 L770.721 1148.29 L754.721 1132.29 Z\" fill=\"#009af9\" fill-rule=\"evenodd\" fill-opacity=\"1\" stroke=\"#000000\" stroke-opacity=\"1\" stroke-width=\"3.2\"/>\n",
       "<path clip-path=\"url(#clip272)\" d=\"M1216.22 1192.06 L1200.22 1208.06 L1216.22 1224.06 L1232.22 1208.06 L1216.22 1192.06 Z\" fill=\"#009af9\" fill-rule=\"evenodd\" fill-opacity=\"1\" stroke=\"#000000\" stroke-opacity=\"1\" stroke-width=\"3.2\"/>\n",
       "<path clip-path=\"url(#clip272)\" d=\"M1306.77 301.113 L1290.77 317.113 L1306.77 333.113 L1322.77 317.113 L1306.77 301.113 Z\" fill=\"#009af9\" fill-rule=\"evenodd\" fill-opacity=\"1\" stroke=\"#000000\" stroke-opacity=\"1\" stroke-width=\"3.2\"/>\n",
       "<path clip-path=\"url(#clip272)\" d=\"M1211.37 194.979 L1195.37 210.979 L1211.37 226.979 L1227.37 210.979 L1211.37 194.979 Z\" fill=\"#009af9\" fill-rule=\"evenodd\" fill-opacity=\"1\" stroke=\"#000000\" stroke-opacity=\"1\" stroke-width=\"3.2\"/>\n",
       "<path clip-path=\"url(#clip272)\" d=\"M566.061 1043.11 L550.061 1059.11 L566.061 1075.11 L582.061 1059.11 L566.061 1043.11 Z\" fill=\"#009af9\" fill-rule=\"evenodd\" fill-opacity=\"1\" stroke=\"#000000\" stroke-opacity=\"1\" stroke-width=\"3.2\"/>\n",
       "<path clip-path=\"url(#clip272)\" d=\"M818.222 1137.69 L802.222 1153.69 L818.222 1169.69 L834.222 1153.69 L818.222 1137.69 Z\" fill=\"#009af9\" fill-rule=\"evenodd\" fill-opacity=\"1\" stroke=\"#000000\" stroke-opacity=\"1\" stroke-width=\"3.2\"/>\n",
       "<path clip-path=\"url(#clip272)\" d=\"M628.61 1093.54 L612.61 1109.54 L628.61 1125.54 L644.61 1109.54 L628.61 1093.54 Z\" fill=\"#009af9\" fill-rule=\"evenodd\" fill-opacity=\"1\" stroke=\"#000000\" stroke-opacity=\"1\" stroke-width=\"3.2\"/>\n",
       "<path clip-path=\"url(#clip272)\" d=\"M1042.87 1241.91 L1026.87 1257.91 L1042.87 1273.91 L1058.87 1257.91 L1042.87 1241.91 Z\" fill=\"#009af9\" fill-rule=\"evenodd\" fill-opacity=\"1\" stroke=\"#000000\" stroke-opacity=\"1\" stroke-width=\"3.2\"/>\n",
       "<path clip-path=\"url(#clip272)\" d=\"M736.107 1137.67 L720.107 1153.67 L736.107 1169.67 L752.107 1153.67 L736.107 1137.67 Z\" fill=\"#009af9\" fill-rule=\"evenodd\" fill-opacity=\"1\" stroke=\"#000000\" stroke-opacity=\"1\" stroke-width=\"3.2\"/>\n",
       "<path clip-path=\"url(#clip272)\" d=\"M865.878 1254.01 L849.878 1270.01 L865.878 1286.01 L881.878 1270.01 L865.878 1254.01 Z\" fill=\"#009af9\" fill-rule=\"evenodd\" fill-opacity=\"1\" stroke=\"#000000\" stroke-opacity=\"1\" stroke-width=\"3.2\"/>\n",
       "<path clip-path=\"url(#clip272)\" d=\"M750.081 1091.16 L734.081 1107.16 L750.081 1123.16 L766.081 1107.16 L750.081 1091.16 Z\" fill=\"#009af9\" fill-rule=\"evenodd\" fill-opacity=\"1\" stroke=\"#000000\" stroke-opacity=\"1\" stroke-width=\"3.2\"/>\n",
       "<path clip-path=\"url(#clip272)\" d=\"M906.971 1253.14 L890.971 1269.14 L906.971 1285.14 L922.971 1269.14 L906.971 1253.14 Z\" fill=\"#009af9\" fill-rule=\"evenodd\" fill-opacity=\"1\" stroke=\"#000000\" stroke-opacity=\"1\" stroke-width=\"3.2\"/>\n",
       "<path clip-path=\"url(#clip272)\" d=\"M426.092 1129.12 L410.092 1145.12 L426.092 1161.12 L442.092 1145.12 L426.092 1129.12 Z\" fill=\"#009af9\" fill-rule=\"evenodd\" fill-opacity=\"1\" stroke=\"#000000\" stroke-opacity=\"1\" stroke-width=\"3.2\"/>\n",
       "<path clip-path=\"url(#clip272)\" d=\"M768.615 1217.08 L752.615 1233.08 L768.615 1249.08 L784.615 1233.08 L768.615 1217.08 Z\" fill=\"#009af9\" fill-rule=\"evenodd\" fill-opacity=\"1\" stroke=\"#000000\" stroke-opacity=\"1\" stroke-width=\"3.2\"/>\n",
       "<path clip-path=\"url(#clip272)\" d=\"M1377.81 478.722 L1361.81 494.722 L1377.81 510.722 L1393.81 494.722 L1377.81 478.722 Z\" fill=\"#009af9\" fill-rule=\"evenodd\" fill-opacity=\"1\" stroke=\"#000000\" stroke-opacity=\"1\" stroke-width=\"3.2\"/>\n",
       "<path clip-path=\"url(#clip272)\" d=\"M1296.29 448.394 L1280.29 464.394 L1296.29 480.394 L1312.29 464.394 L1296.29 448.394 Z\" fill=\"#009af9\" fill-rule=\"evenodd\" fill-opacity=\"1\" stroke=\"#000000\" stroke-opacity=\"1\" stroke-width=\"3.2\"/>\n",
       "<path clip-path=\"url(#clip272)\" d=\"M1648.6 1237.75 L1632.6 1253.75 L1648.6 1269.75 L1664.6 1253.75 L1648.6 1237.75 Z\" fill=\"#009af9\" fill-rule=\"evenodd\" fill-opacity=\"1\" stroke=\"#000000\" stroke-opacity=\"1\" stroke-width=\"3.2\"/>\n",
       "<path clip-path=\"url(#clip272)\" d=\"M1519.8 1368.24 L1503.8 1384.24 L1519.8 1400.24 L1535.8 1384.24 L1519.8 1368.24 Z\" fill=\"#009af9\" fill-rule=\"evenodd\" fill-opacity=\"1\" stroke=\"#000000\" stroke-opacity=\"1\" stroke-width=\"3.2\"/>\n",
       "<path clip-path=\"url(#clip272)\" d=\"M2292.76 917.306 L2276.76 933.306 L2292.76 949.306 L2308.76 933.306 L2292.76 917.306 Z\" fill=\"#009af9\" fill-rule=\"evenodd\" fill-opacity=\"1\" stroke=\"#000000\" stroke-opacity=\"1\" stroke-width=\"3.2\"/>\n",
       "<path clip-path=\"url(#clip272)\" d=\"M1207.86 1301.15 L1191.86 1317.15 L1207.86 1333.15 L1223.86 1317.15 L1207.86 1301.15 Z\" fill=\"#009af9\" fill-rule=\"evenodd\" fill-opacity=\"1\" stroke=\"#000000\" stroke-opacity=\"1\" stroke-width=\"3.2\"/>\n",
       "<path clip-path=\"url(#clip272)\" d=\"M690.044 1247.07 L674.044 1263.07 L690.044 1279.07 L706.044 1263.07 L690.044 1247.07 Z\" fill=\"#009af9\" fill-rule=\"evenodd\" fill-opacity=\"1\" stroke=\"#000000\" stroke-opacity=\"1\" stroke-width=\"3.2\"/>\n",
       "<path clip-path=\"url(#clip272)\" d=\"M1122.08 1302.25 L1106.08 1318.25 L1122.08 1334.25 L1138.08 1318.25 L1122.08 1302.25 Z\" fill=\"#009af9\" fill-rule=\"evenodd\" fill-opacity=\"1\" stroke=\"#000000\" stroke-opacity=\"1\" stroke-width=\"3.2\"/>\n",
       "<path clip-path=\"url(#clip272)\" d=\"M480.735 1222.52 L464.735 1238.52 L480.735 1254.52 L496.735 1238.52 L480.735 1222.52 Z\" fill=\"#009af9\" fill-rule=\"evenodd\" fill-opacity=\"1\" stroke=\"#000000\" stroke-opacity=\"1\" stroke-width=\"3.2\"/>\n",
       "<path clip-path=\"url(#clip272)\" d=\"M1394.3 1338.34 L1378.3 1354.34 L1394.3 1370.34 L1410.3 1354.34 L1394.3 1338.34 Z\" fill=\"#009af9\" fill-rule=\"evenodd\" fill-opacity=\"1\" stroke=\"#000000\" stroke-opacity=\"1\" stroke-width=\"3.2\"/>\n",
       "<path clip-path=\"url(#clip272)\" d=\"M429.763 1217.35 L413.763 1233.35 L429.763 1249.35 L445.763 1233.35 L429.763 1217.35 Z\" fill=\"#009af9\" fill-rule=\"evenodd\" fill-opacity=\"1\" stroke=\"#000000\" stroke-opacity=\"1\" stroke-width=\"3.2\"/>\n",
       "<path clip-path=\"url(#clip272)\" d=\"M1222.22 1354.95 L1206.22 1370.95 L1222.22 1386.95 L1238.22 1370.95 L1222.22 1354.95 Z\" fill=\"#009af9\" fill-rule=\"evenodd\" fill-opacity=\"1\" stroke=\"#000000\" stroke-opacity=\"1\" stroke-width=\"3.2\"/>\n",
       "<path clip-path=\"url(#clip272)\" d=\"M1836.75 905.163 L1820.75 921.163 L1836.75 937.163 L1852.75 921.163 L1836.75 905.163 Z\" fill=\"#009af9\" fill-rule=\"evenodd\" fill-opacity=\"1\" stroke=\"#000000\" stroke-opacity=\"1\" stroke-width=\"3.2\"/>\n",
       "<path clip-path=\"url(#clip272)\" d=\"M1858.6 668.005 L1842.6 684.005 L1858.6 700.005 L1874.6 684.005 L1858.6 668.005 Z\" fill=\"#009af9\" fill-rule=\"evenodd\" fill-opacity=\"1\" stroke=\"#000000\" stroke-opacity=\"1\" stroke-width=\"3.2\"/>\n",
       "<path clip-path=\"url(#clip272)\" d=\"M1094.64 285.549 L1083.33 280.861 L1078.64 269.549 L1083.33 258.237 L1094.64 253.549 L1105.96 258.237 L1110.64 269.549 L1105.96 280.861 Z\" fill=\"#e26f46\" fill-rule=\"evenodd\" fill-opacity=\"1\" stroke=\"#000000\" stroke-opacity=\"1\" stroke-width=\"3.2\"/>\n",
       "<path clip-path=\"url(#clip272)\" d=\"M1066.49 128.626 L1055.17 123.938 L1050.49 112.626 L1055.17 101.314 L1066.49 96.6256 L1077.8 101.314 L1082.49 112.626 L1077.8 123.938 Z\" fill=\"#e26f46\" fill-rule=\"evenodd\" fill-opacity=\"1\" stroke=\"#000000\" stroke-opacity=\"1\" stroke-width=\"3.2\"/>\n",
       "<path clip-path=\"url(#clip272)\" d=\"M1221.3 257.73 L1209.99 253.042 L1205.3 241.73 L1209.99 230.418 L1221.3 225.73 L1232.62 230.418 L1237.3 241.73 L1232.62 253.042 Z\" fill=\"#e26f46\" fill-rule=\"evenodd\" fill-opacity=\"1\" stroke=\"#000000\" stroke-opacity=\"1\" stroke-width=\"3.2\"/>\n",
       "<path clip-path=\"url(#clip272)\" d=\"M1323.74 276.704 L1312.43 272.016 L1307.74 260.704 L1312.43 249.392 L1323.74 244.704 L1335.06 249.392 L1339.74 260.704 L1335.06 272.016 Z\" fill=\"#e26f46\" fill-rule=\"evenodd\" fill-opacity=\"1\" stroke=\"#000000\" stroke-opacity=\"1\" stroke-width=\"3.2\"/>\n",
       "<path clip-path=\"url(#clip272)\" d=\"M1154.78 186.028 L1143.47 181.34 L1138.78 170.028 L1143.47 158.716 L1154.78 154.028 L1166.09 158.716 L1170.78 170.028 L1166.09 181.34 Z\" fill=\"#e26f46\" fill-rule=\"evenodd\" fill-opacity=\"1\" stroke=\"#000000\" stroke-opacity=\"1\" stroke-width=\"3.2\"/>\n",
       "<path clip-path=\"url(#clip272)\" d=\"M2004.05 924.08 L1992.74 919.392 L1988.05 908.08 L1992.74 896.768 L2004.05 892.08 L2015.36 896.768 L2020.05 908.08 L2015.36 919.392 Z\" fill=\"#e26f46\" fill-rule=\"evenodd\" fill-opacity=\"1\" stroke=\"#000000\" stroke-opacity=\"1\" stroke-width=\"3.2\"/>\n",
       "<path clip-path=\"url(#clip272)\" d=\"M2062.81 891.597 L2051.5 886.909 L2046.81 875.597 L2051.5 864.285 L2062.81 859.597 L2074.12 864.285 L2078.81 875.597 L2074.12 886.909 Z\" fill=\"#e26f46\" fill-rule=\"evenodd\" fill-opacity=\"1\" stroke=\"#000000\" stroke-opacity=\"1\" stroke-width=\"3.2\"/>\n",
       "<path clip-path=\"url(#clip272)\" d=\"M1940.91 825.041 L1929.6 820.353 L1924.91 809.041 L1929.6 797.729 L1940.91 793.041 L1952.23 797.729 L1956.91 809.041 L1952.23 820.353 Z\" fill=\"#e26f46\" fill-rule=\"evenodd\" fill-opacity=\"1\" stroke=\"#000000\" stroke-opacity=\"1\" stroke-width=\"3.2\"/>\n",
       "<path clip-path=\"url(#clip272)\" d=\"M1704.35 793.295 L1693.04 788.607 L1688.35 777.295 L1693.04 765.983 L1704.35 761.295 L1715.66 765.983 L1720.35 777.295 L1715.66 788.607 Z\" fill=\"#e26f46\" fill-rule=\"evenodd\" fill-opacity=\"1\" stroke=\"#000000\" stroke-opacity=\"1\" stroke-width=\"3.2\"/>\n",
       "<path clip-path=\"url(#clip272)\" d=\"M1882.55 832.358 L1871.24 827.67 L1866.55 816.358 L1871.24 805.046 L1882.55 800.358 L1893.86 805.046 L1898.55 816.358 L1893.86 827.67 Z\" fill=\"#e26f46\" fill-rule=\"evenodd\" fill-opacity=\"1\" stroke=\"#000000\" stroke-opacity=\"1\" stroke-width=\"3.2\"/>\n",
       "<path clip-path=\"url(#clip272)\" d=\"M1942.99 842.678 L1931.68 837.99 L1926.99 826.678 L1931.68 815.366 L1942.99 810.678 L1954.3 815.366 L1958.99 826.678 L1954.3 837.99 Z\" fill=\"#e26f46\" fill-rule=\"evenodd\" fill-opacity=\"1\" stroke=\"#000000\" stroke-opacity=\"1\" stroke-width=\"3.2\"/>\n",
       "<path clip-path=\"url(#clip272)\" d=\"M528.907 1290.84 L517.595 1286.15 L512.907 1274.84 L517.595 1263.53 L528.907 1258.84 L540.219 1263.53 L544.907 1274.84 L540.219 1286.15 Z\" fill=\"#e26f46\" fill-rule=\"evenodd\" fill-opacity=\"1\" stroke=\"#000000\" stroke-opacity=\"1\" stroke-width=\"3.2\"/>\n",
       "<path clip-path=\"url(#clip272)\" d=\"M893.525 379.505 L882.213 374.817 L877.525 363.505 L882.213 352.193 L893.525 347.505 L904.837 352.193 L909.525 363.505 L904.837 374.817 Z\" fill=\"#e26f46\" fill-rule=\"evenodd\" fill-opacity=\"1\" stroke=\"#000000\" stroke-opacity=\"1\" stroke-width=\"3.2\"/>\n",
       "<path clip-path=\"url(#clip272)\" d=\"M1052.87 407.447 L1041.56 402.759 L1036.87 391.447 L1041.56 380.135 L1052.87 375.447 L1064.18 380.135 L1068.87 391.447 L1064.18 402.759 Z\" fill=\"#e26f46\" fill-rule=\"evenodd\" fill-opacity=\"1\" stroke=\"#000000\" stroke-opacity=\"1\" stroke-width=\"3.2\"/>\n",
       "<path clip-path=\"url(#clip272)\" d=\"M1009.47 376.572 L998.158 371.884 L993.47 360.572 L998.158 349.26 L1009.47 344.572 L1020.78 349.26 L1025.47 360.572 L1020.78 371.884 Z\" fill=\"#e26f46\" fill-rule=\"evenodd\" fill-opacity=\"1\" stroke=\"#000000\" stroke-opacity=\"1\" stroke-width=\"3.2\"/>\n",
       "<path clip-path=\"url(#clip272)\" d=\"M972.306 374.443 L960.994 369.755 L956.306 358.443 L960.994 347.131 L972.306 342.443 L983.618 347.131 L988.306 358.443 L983.618 369.755 Z\" fill=\"#e26f46\" fill-rule=\"evenodd\" fill-opacity=\"1\" stroke=\"#000000\" stroke-opacity=\"1\" stroke-width=\"3.2\"/>\n",
       "<path clip-path=\"url(#clip272)\" d=\"M788.858 259.802 L777.546 255.114 L772.858 243.802 L777.546 232.49 L788.858 227.802 L800.17 232.49 L804.858 243.802 L800.17 255.114 Z\" fill=\"#e26f46\" fill-rule=\"evenodd\" fill-opacity=\"1\" stroke=\"#000000\" stroke-opacity=\"1\" stroke-width=\"3.2\"/>\n",
       "<path clip-path=\"url(#clip272)\" d=\"M1444.74 192.946 L1428.74 208.946 L1444.74 224.946 L1460.74 208.946 L1444.74 192.946 Z\" fill=\"#e26f46\" fill-rule=\"evenodd\" fill-opacity=\"1\" stroke=\"#000000\" stroke-opacity=\"1\" stroke-width=\"3.2\"/>\n",
       "<path clip-path=\"url(#clip272)\" d=\"M1824.43 513.304 L1808.43 529.304 L1824.43 545.304 L1840.43 529.304 L1824.43 513.304 Z\" fill=\"#e26f46\" fill-rule=\"evenodd\" fill-opacity=\"1\" stroke=\"#000000\" stroke-opacity=\"1\" stroke-width=\"3.2\"/>\n",
       "<path clip-path=\"url(#clip272)\" d=\"M1640.4 388.781 L1624.4 404.781 L1640.4 420.781 L1656.4 404.781 L1640.4 388.781 Z\" fill=\"#e26f46\" fill-rule=\"evenodd\" fill-opacity=\"1\" stroke=\"#000000\" stroke-opacity=\"1\" stroke-width=\"3.2\"/>\n",
       "<path clip-path=\"url(#clip272)\" d=\"M1733.69 499.624 L1717.69 515.624 L1733.69 531.624 L1749.69 515.624 L1733.69 499.624 Z\" fill=\"#e26f46\" fill-rule=\"evenodd\" fill-opacity=\"1\" stroke=\"#000000\" stroke-opacity=\"1\" stroke-width=\"3.2\"/>\n",
       "<path clip-path=\"url(#clip272)\" d=\"M1728.56 449.302 L1712.56 465.302 L1728.56 481.302 L1744.56 465.302 L1728.56 449.302 Z\" fill=\"#e26f46\" fill-rule=\"evenodd\" fill-opacity=\"1\" stroke=\"#000000\" stroke-opacity=\"1\" stroke-width=\"3.2\"/>\n",
       "<path clip-path=\"url(#clip272)\" d=\"M1672.76 422.232 L1656.76 438.232 L1672.76 454.232 L1688.76 438.232 L1672.76 422.232 Z\" fill=\"#e26f46\" fill-rule=\"evenodd\" fill-opacity=\"1\" stroke=\"#000000\" stroke-opacity=\"1\" stroke-width=\"3.2\"/>\n",
       "<path clip-path=\"url(#clip272)\" d=\"M1831.47 1215.41 L1815.47 1231.41 L1831.47 1247.41 L1847.47 1231.41 L1831.47 1215.41 Z\" fill=\"#e26f46\" fill-rule=\"evenodd\" fill-opacity=\"1\" stroke=\"#000000\" stroke-opacity=\"1\" stroke-width=\"3.2\"/>\n",
       "<path clip-path=\"url(#clip272)\" d=\"M1246.24 295.517 L1230.24 311.517 L1246.24 327.517 L1262.24 311.517 L1246.24 295.517 Z\" fill=\"#e26f46\" fill-rule=\"evenodd\" fill-opacity=\"1\" stroke=\"#000000\" stroke-opacity=\"1\" stroke-width=\"3.2\"/>\n",
       "<path clip-path=\"url(#clip272)\" d=\"M1479.5 444.98 L1463.5 460.98 L1479.5 476.98 L1495.5 460.98 L1479.5 444.98 Z\" fill=\"#e26f46\" fill-rule=\"evenodd\" fill-opacity=\"1\" stroke=\"#000000\" stroke-opacity=\"1\" stroke-width=\"3.2\"/>\n",
       "<path clip-path=\"url(#clip272)\" d=\"M1292.93 375.372 L1276.93 391.372 L1292.93 407.372 L1308.93 391.372 L1292.93 375.372 Z\" fill=\"#e26f46\" fill-rule=\"evenodd\" fill-opacity=\"1\" stroke=\"#000000\" stroke-opacity=\"1\" stroke-width=\"3.2\"/>\n",
       "<path clip-path=\"url(#clip272)\" d=\"M1493.07 409.795 L1477.07 425.795 L1493.07 441.795 L1509.07 425.795 L1493.07 409.795 Z\" fill=\"#e26f46\" fill-rule=\"evenodd\" fill-opacity=\"1\" stroke=\"#000000\" stroke-opacity=\"1\" stroke-width=\"3.2\"/>\n",
       "<path clip-path=\"url(#clip272)\" d=\"M1216.08 298.226 L1200.08 314.226 L1216.08 330.226 L1232.08 314.226 L1216.08 298.226 Z\" fill=\"#e26f46\" fill-rule=\"evenodd\" fill-opacity=\"1\" stroke=\"#000000\" stroke-opacity=\"1\" stroke-width=\"3.2\"/>\n",
       "<path clip-path=\"url(#clip272)\" d=\"M292.962 977.874 L276.962 993.874 L292.962 1009.87 L308.962 993.874 L292.962 977.874 Z\" fill=\"#e26f46\" fill-rule=\"evenodd\" fill-opacity=\"1\" stroke=\"#000000\" stroke-opacity=\"1\" stroke-width=\"3.2\"/>\n",
       "<path clip-path=\"url(#clip272)\" d=\"M983.985 138.274 L967.985 154.274 L983.985 170.274 L999.985 154.274 L983.985 138.274 Z\" fill=\"#e26f46\" fill-rule=\"evenodd\" fill-opacity=\"1\" stroke=\"#000000\" stroke-opacity=\"1\" stroke-width=\"3.2\"/>\n",
       "<path clip-path=\"url(#clip272)\" d=\"M951.815 172.209 L935.815 188.209 L951.815 204.209 L967.815 188.209 L951.815 172.209 Z\" fill=\"#e26f46\" fill-rule=\"evenodd\" fill-opacity=\"1\" stroke=\"#000000\" stroke-opacity=\"1\" stroke-width=\"3.2\"/>\n",
       "<path clip-path=\"url(#clip272)\" d=\"M1089.35 217.939 L1073.35 233.939 L1089.35 249.939 L1105.35 233.939 L1089.35 217.939 Z\" fill=\"#e26f46\" fill-rule=\"evenodd\" fill-opacity=\"1\" stroke=\"#000000\" stroke-opacity=\"1\" stroke-width=\"3.2\"/>\n",
       "<path clip-path=\"url(#clip272)\" d=\"M1469.36 496.016 L1453.36 512.016 L1469.36 528.016 L1485.36 512.016 L1469.36 496.016 Z\" fill=\"#e26f46\" fill-rule=\"evenodd\" fill-opacity=\"1\" stroke=\"#000000\" stroke-opacity=\"1\" stroke-width=\"3.2\"/>\n",
       "<path clip-path=\"url(#clip272)\" d=\"M1319.17 335.502 L1303.17 351.502 L1319.17 367.502 L1335.17 351.502 L1319.17 335.502 Z\" fill=\"#e26f46\" fill-rule=\"evenodd\" fill-opacity=\"1\" stroke=\"#000000\" stroke-opacity=\"1\" stroke-width=\"3.2\"/>\n",
       "<path clip-path=\"url(#clip272)\" d=\"M1568.31 1075.01 L1552.31 1091.01 L1568.31 1107.01 L1584.31 1091.01 L1568.31 1075.01 Z\" fill=\"#e26f46\" fill-rule=\"evenodd\" fill-opacity=\"1\" stroke=\"#000000\" stroke-opacity=\"1\" stroke-width=\"3.2\"/>\n",
       "<path clip-path=\"url(#clip272)\" d=\"M1253.58 291.688 L1237.58 307.688 L1253.58 323.688 L1269.58 307.688 L1253.58 291.688 Z\" fill=\"#e26f46\" fill-rule=\"evenodd\" fill-opacity=\"1\" stroke=\"#000000\" stroke-opacity=\"1\" stroke-width=\"3.2\"/>\n",
       "<path clip-path=\"url(#clip272)\" d=\"M1468.81 283.683 L1452.81 299.683 L1468.81 315.683 L1484.81 299.683 L1468.81 283.683 Z\" fill=\"#e26f46\" fill-rule=\"evenodd\" fill-opacity=\"1\" stroke=\"#000000\" stroke-opacity=\"1\" stroke-width=\"3.2\"/>\n",
       "<path clip-path=\"url(#clip272)\" d=\"M1511.12 437.985 L1495.12 453.985 L1511.12 469.985 L1527.12 453.985 L1511.12 437.985 Z\" fill=\"#e26f46\" fill-rule=\"evenodd\" fill-opacity=\"1\" stroke=\"#000000\" stroke-opacity=\"1\" stroke-width=\"3.2\"/>\n",
       "<path clip-path=\"url(#clip272)\" d=\"M1847.71 721.249 L1831.71 737.249 L1847.71 753.249 L1863.71 737.249 L1847.71 721.249 Z\" fill=\"#e26f46\" fill-rule=\"evenodd\" fill-opacity=\"1\" stroke=\"#000000\" stroke-opacity=\"1\" stroke-width=\"3.2\"/>\n",
       "<path clip-path=\"url(#clip272)\" d=\"M1435.34 403.838 L1419.34 419.838 L1435.34 435.838 L1451.34 419.838 L1435.34 403.838 Z\" fill=\"#e26f46\" fill-rule=\"evenodd\" fill-opacity=\"1\" stroke=\"#000000\" stroke-opacity=\"1\" stroke-width=\"3.2\"/>\n",
       "<path clip-path=\"url(#clip272)\" d=\"M1297.09 328.862 L1285.78 324.174 L1281.09 312.862 L1285.78 301.55 L1297.09 296.862 L1308.4 301.55 L1313.09 312.862 L1308.4 324.174 Z\" fill=\"#3da44d\" fill-rule=\"evenodd\" fill-opacity=\"1\" stroke=\"#000000\" stroke-opacity=\"1\" stroke-width=\"3.2\"/>\n",
       "<path clip-path=\"url(#clip272)\" d=\"M1223.55 207.824 L1212.24 203.136 L1207.55 191.824 L1212.24 180.512 L1223.55 175.824 L1234.87 180.512 L1239.55 191.824 L1234.87 203.136 Z\" fill=\"#3da44d\" fill-rule=\"evenodd\" fill-opacity=\"1\" stroke=\"#000000\" stroke-opacity=\"1\" stroke-width=\"3.2\"/>\n",
       "<path clip-path=\"url(#clip272)\" d=\"M1255.76 227.16 L1244.44 222.472 L1239.76 211.16 L1244.44 199.848 L1255.76 195.16 L1267.07 199.848 L1271.76 211.16 L1267.07 222.472 Z\" fill=\"#3da44d\" fill-rule=\"evenodd\" fill-opacity=\"1\" stroke=\"#000000\" stroke-opacity=\"1\" stroke-width=\"3.2\"/>\n",
       "<path clip-path=\"url(#clip272)\" d=\"M1356.5 266.22 L1345.19 261.532 L1340.5 250.22 L1345.19 238.908 L1356.5 234.22 L1367.82 238.908 L1372.5 250.22 L1367.82 261.532 Z\" fill=\"#3da44d\" fill-rule=\"evenodd\" fill-opacity=\"1\" stroke=\"#000000\" stroke-opacity=\"1\" stroke-width=\"3.2\"/>\n",
       "<path clip-path=\"url(#clip272)\" d=\"M1475.47 405.634 L1464.16 400.946 L1459.47 389.634 L1464.16 378.322 L1475.47 373.634 L1486.78 378.322 L1491.47 389.634 L1486.78 400.946 Z\" fill=\"#3da44d\" fill-rule=\"evenodd\" fill-opacity=\"1\" stroke=\"#000000\" stroke-opacity=\"1\" stroke-width=\"3.2\"/>\n",
       "<path clip-path=\"url(#clip272)\" d=\"M1854 785.738 L1842.69 781.05 L1838 769.738 L1842.69 758.426 L1854 753.738 L1865.32 758.426 L1870 769.738 L1865.32 781.05 Z\" fill=\"#3da44d\" fill-rule=\"evenodd\" fill-opacity=\"1\" stroke=\"#000000\" stroke-opacity=\"1\" stroke-width=\"3.2\"/>\n",
       "<path clip-path=\"url(#clip272)\" d=\"M1879.94 762.984 L1868.63 758.296 L1863.94 746.984 L1868.63 735.672 L1879.94 730.984 L1891.26 735.672 L1895.94 746.984 L1891.26 758.296 Z\" fill=\"#3da44d\" fill-rule=\"evenodd\" fill-opacity=\"1\" stroke=\"#000000\" stroke-opacity=\"1\" stroke-width=\"3.2\"/>\n",
       "<path clip-path=\"url(#clip272)\" d=\"M1695.39 673 L1684.08 668.312 L1679.39 657 L1684.08 645.688 L1695.39 641 L1706.71 645.688 L1711.39 657 L1706.71 668.312 Z\" fill=\"#3da44d\" fill-rule=\"evenodd\" fill-opacity=\"1\" stroke=\"#000000\" stroke-opacity=\"1\" stroke-width=\"3.2\"/>\n",
       "<path clip-path=\"url(#clip272)\" d=\"M1362.09 552.645 L1350.78 547.957 L1346.09 536.645 L1350.78 525.333 L1362.09 520.645 L1373.4 525.333 L1378.09 536.645 L1373.4 547.957 Z\" fill=\"#3da44d\" fill-rule=\"evenodd\" fill-opacity=\"1\" stroke=\"#000000\" stroke-opacity=\"1\" stroke-width=\"3.2\"/>\n",
       "<path clip-path=\"url(#clip272)\" d=\"M1892.66 788.359 L1881.34 783.671 L1876.66 772.359 L1881.34 761.047 L1892.66 756.359 L1903.97 761.047 L1908.66 772.359 L1903.97 783.671 Z\" fill=\"#3da44d\" fill-rule=\"evenodd\" fill-opacity=\"1\" stroke=\"#000000\" stroke-opacity=\"1\" stroke-width=\"3.2\"/>\n",
       "<path clip-path=\"url(#clip272)\" d=\"M1391.14 426.302 L1379.83 421.614 L1375.14 410.302 L1379.83 398.99 L1391.14 394.302 L1402.46 398.99 L1407.14 410.302 L1402.46 421.614 Z\" fill=\"#3da44d\" fill-rule=\"evenodd\" fill-opacity=\"1\" stroke=\"#000000\" stroke-opacity=\"1\" stroke-width=\"3.2\"/>\n",
       "<path clip-path=\"url(#clip272)\" d=\"M1246.24 1384.28 L1234.93 1379.59 L1230.24 1368.28 L1234.93 1356.97 L1246.24 1352.28 L1257.55 1356.97 L1262.24 1368.28 L1257.55 1379.59 Z\" fill=\"#3da44d\" fill-rule=\"evenodd\" fill-opacity=\"1\" stroke=\"#000000\" stroke-opacity=\"1\" stroke-width=\"3.2\"/>\n",
       "<path clip-path=\"url(#clip272)\" d=\"M1014.52 486.198 L1003.2 481.51 L998.516 470.198 L1003.2 458.886 L1014.52 454.198 L1025.83 458.886 L1030.52 470.198 L1025.83 481.51 Z\" fill=\"#3da44d\" fill-rule=\"evenodd\" fill-opacity=\"1\" stroke=\"#000000\" stroke-opacity=\"1\" stroke-width=\"3.2\"/>\n",
       "<path clip-path=\"url(#clip272)\" d=\"M987.814 403.775 L976.502 399.087 L971.814 387.775 L976.502 376.463 L987.814 371.775 L999.126 376.463 L1003.81 387.775 L999.126 399.087 Z\" fill=\"#3da44d\" fill-rule=\"evenodd\" fill-opacity=\"1\" stroke=\"#000000\" stroke-opacity=\"1\" stroke-width=\"3.2\"/>\n",
       "<path clip-path=\"url(#clip272)\" d=\"M956.837 356.727 L945.525 352.039 L940.837 340.727 L945.525 329.415 L956.837 324.727 L968.149 329.415 L972.837 340.727 L968.149 352.039 Z\" fill=\"#3da44d\" fill-rule=\"evenodd\" fill-opacity=\"1\" stroke=\"#000000\" stroke-opacity=\"1\" stroke-width=\"3.2\"/>\n",
       "<path clip-path=\"url(#clip272)\" d=\"M1075.66 505.237 L1064.35 500.549 L1059.66 489.237 L1064.35 477.925 L1075.66 473.237 L1086.97 477.925 L1091.66 489.237 L1086.97 500.549 Z\" fill=\"#3da44d\" fill-rule=\"evenodd\" fill-opacity=\"1\" stroke=\"#000000\" stroke-opacity=\"1\" stroke-width=\"3.2\"/>\n",
       "<path clip-path=\"url(#clip272)\" d=\"M551.536 120.044 L540.224 115.356 L535.536 104.044 L540.224 92.7316 L551.536 88.0436 L562.848 92.7316 L567.536 104.044 L562.848 115.356 Z\" fill=\"#3da44d\" fill-rule=\"evenodd\" fill-opacity=\"1\" stroke=\"#000000\" stroke-opacity=\"1\" stroke-width=\"3.2\"/>\n",
       "<path clip-path=\"url(#clip272)\" d=\"M1595.03 341.438 L1579.03 357.438 L1595.03 373.438 L1611.03 357.438 L1595.03 341.438 Z\" fill=\"#3da44d\" fill-rule=\"evenodd\" fill-opacity=\"1\" stroke=\"#000000\" stroke-opacity=\"1\" stroke-width=\"3.2\"/>\n",
       "<path clip-path=\"url(#clip272)\" d=\"M1719.75 468.186 L1703.75 484.186 L1719.75 500.186 L1735.75 484.186 L1719.75 468.186 Z\" fill=\"#3da44d\" fill-rule=\"evenodd\" fill-opacity=\"1\" stroke=\"#000000\" stroke-opacity=\"1\" stroke-width=\"3.2\"/>\n",
       "<path clip-path=\"url(#clip272)\" d=\"M1494.27 313.501 L1478.27 329.501 L1494.27 345.501 L1510.27 329.501 L1494.27 313.501 Z\" fill=\"#3da44d\" fill-rule=\"evenodd\" fill-opacity=\"1\" stroke=\"#000000\" stroke-opacity=\"1\" stroke-width=\"3.2\"/>\n",
       "<path clip-path=\"url(#clip272)\" d=\"M1651.64 393.043 L1635.64 409.043 L1651.64 425.043 L1667.64 409.043 L1651.64 393.043 Z\" fill=\"#3da44d\" fill-rule=\"evenodd\" fill-opacity=\"1\" stroke=\"#000000\" stroke-opacity=\"1\" stroke-width=\"3.2\"/>\n",
       "<path clip-path=\"url(#clip272)\" d=\"M1534.85 324.66 L1518.85 340.66 L1534.85 356.66 L1550.85 340.66 L1534.85 324.66 Z\" fill=\"#3da44d\" fill-rule=\"evenodd\" fill-opacity=\"1\" stroke=\"#000000\" stroke-opacity=\"1\" stroke-width=\"3.2\"/>\n",
       "<path clip-path=\"url(#clip272)\" d=\"M1618.27 394.406 L1602.27 410.406 L1618.27 426.406 L1634.27 410.406 L1618.27 394.406 Z\" fill=\"#3da44d\" fill-rule=\"evenodd\" fill-opacity=\"1\" stroke=\"#000000\" stroke-opacity=\"1\" stroke-width=\"3.2\"/>\n",
       "<path clip-path=\"url(#clip272)\" d=\"M1197.01 305.343 L1181.01 321.343 L1197.01 337.343 L1213.01 321.343 L1197.01 305.343 Z\" fill=\"#3da44d\" fill-rule=\"evenodd\" fill-opacity=\"1\" stroke=\"#000000\" stroke-opacity=\"1\" stroke-width=\"3.2\"/>\n",
       "<path clip-path=\"url(#clip272)\" d=\"M1172.77 262.455 L1156.77 278.455 L1172.77 294.455 L1188.77 278.455 L1172.77 262.455 Z\" fill=\"#3da44d\" fill-rule=\"evenodd\" fill-opacity=\"1\" stroke=\"#000000\" stroke-opacity=\"1\" stroke-width=\"3.2\"/>\n",
       "<path clip-path=\"url(#clip272)\" d=\"M1085.38 214.518 L1069.38 230.518 L1085.38 246.518 L1101.38 230.518 L1085.38 214.518 Z\" fill=\"#3da44d\" fill-rule=\"evenodd\" fill-opacity=\"1\" stroke=\"#000000\" stroke-opacity=\"1\" stroke-width=\"3.2\"/>\n",
       "<path clip-path=\"url(#clip272)\" d=\"M1310.13 348.971 L1294.13 364.971 L1310.13 380.971 L1326.13 364.971 L1310.13 348.971 Z\" fill=\"#3da44d\" fill-rule=\"evenodd\" fill-opacity=\"1\" stroke=\"#000000\" stroke-opacity=\"1\" stroke-width=\"3.2\"/>\n",
       "<path clip-path=\"url(#clip272)\" d=\"M1475.43 450.176 L1459.43 466.176 L1475.43 482.176 L1491.43 466.176 L1475.43 450.176 Z\" fill=\"#3da44d\" fill-rule=\"evenodd\" fill-opacity=\"1\" stroke=\"#000000\" stroke-opacity=\"1\" stroke-width=\"3.2\"/>\n",
       "<path clip-path=\"url(#clip272)\" d=\"M897.625 79.741 L881.625 95.741 L897.625 111.741 L913.625 95.741 L897.625 79.741 Z\" fill=\"#3da44d\" fill-rule=\"evenodd\" fill-opacity=\"1\" stroke=\"#000000\" stroke-opacity=\"1\" stroke-width=\"3.2\"/>\n",
       "<path clip-path=\"url(#clip272)\" d=\"M965.247 1153.27 L949.247 1169.27 L965.247 1185.27 L981.247 1169.27 L965.247 1153.27 Z\" fill=\"#3da44d\" fill-rule=\"evenodd\" fill-opacity=\"1\" stroke=\"#000000\" stroke-opacity=\"1\" stroke-width=\"3.2\"/>\n",
       "<path clip-path=\"url(#clip272)\" d=\"M829.436 99.6206 L813.436 115.621 L829.436 131.621 L845.436 115.621 L829.436 99.6206 Z\" fill=\"#3da44d\" fill-rule=\"evenodd\" fill-opacity=\"1\" stroke=\"#000000\" stroke-opacity=\"1\" stroke-width=\"3.2\"/>\n",
       "<path clip-path=\"url(#clip272)\" d=\"M900.222 165.802 L884.222 181.802 L900.222 197.802 L916.222 181.802 L900.222 165.802 Z\" fill=\"#3da44d\" fill-rule=\"evenodd\" fill-opacity=\"1\" stroke=\"#000000\" stroke-opacity=\"1\" stroke-width=\"3.2\"/>\n",
       "<path clip-path=\"url(#clip272)\" d=\"M837.738 70.1857 L821.738 86.1857 L837.738 102.186 L853.738 86.1857 L837.738 70.1857 Z\" fill=\"#3da44d\" fill-rule=\"evenodd\" fill-opacity=\"1\" stroke=\"#000000\" stroke-opacity=\"1\" stroke-width=\"3.2\"/>\n",
       "<path clip-path=\"url(#clip272)\" d=\"M1220.66 337.655 L1204.66 353.655 L1220.66 369.655 L1236.66 353.655 L1220.66 337.655 Z\" fill=\"#3da44d\" fill-rule=\"evenodd\" fill-opacity=\"1\" stroke=\"#000000\" stroke-opacity=\"1\" stroke-width=\"3.2\"/>\n",
       "<path clip-path=\"url(#clip272)\" d=\"M966.66 176.822 L950.66 192.822 L966.66 208.822 L982.66 192.822 L966.66 176.822 Z\" fill=\"#3da44d\" fill-rule=\"evenodd\" fill-opacity=\"1\" stroke=\"#000000\" stroke-opacity=\"1\" stroke-width=\"3.2\"/>\n",
       "<path clip-path=\"url(#clip272)\" d=\"M1822.63 1226.57 L1806.63 1242.57 L1822.63 1258.57 L1838.63 1242.57 L1822.63 1226.57 Z\" fill=\"#3da44d\" fill-rule=\"evenodd\" fill-opacity=\"1\" stroke=\"#000000\" stroke-opacity=\"1\" stroke-width=\"3.2\"/>\n",
       "<path clip-path=\"url(#clip272)\" d=\"M1506.99 433.538 L1490.99 449.538 L1506.99 465.538 L1522.99 449.538 L1506.99 433.538 Z\" fill=\"#3da44d\" fill-rule=\"evenodd\" fill-opacity=\"1\" stroke=\"#000000\" stroke-opacity=\"1\" stroke-width=\"3.2\"/>\n",
       "<path clip-path=\"url(#clip272)\" d=\"M1510.8 542.147 L1494.8 558.147 L1510.8 574.147 L1526.8 558.147 L1510.8 542.147 Z\" fill=\"#3da44d\" fill-rule=\"evenodd\" fill-opacity=\"1\" stroke=\"#000000\" stroke-opacity=\"1\" stroke-width=\"3.2\"/>\n",
       "<path clip-path=\"url(#clip272)\" d=\"M1311.68 283.042 L1295.68 299.042 L1311.68 315.042 L1327.68 299.042 L1311.68 283.042 Z\" fill=\"#3da44d\" fill-rule=\"evenodd\" fill-opacity=\"1\" stroke=\"#000000\" stroke-opacity=\"1\" stroke-width=\"3.2\"/>\n",
       "<path clip-path=\"url(#clip272)\" d=\"M1641.17 588.902 L1625.17 604.902 L1641.17 620.902 L1657.17 604.902 L1641.17 588.902 Z\" fill=\"#3da44d\" fill-rule=\"evenodd\" fill-opacity=\"1\" stroke=\"#000000\" stroke-opacity=\"1\" stroke-width=\"3.2\"/>\n",
       "<path clip-path=\"url(#clip272)\" d=\"M1746.51 702.481 L1730.51 718.481 L1746.51 734.481 L1762.51 718.481 L1746.51 702.481 Z\" fill=\"#3da44d\" fill-rule=\"evenodd\" fill-opacity=\"1\" stroke=\"#000000\" stroke-opacity=\"1\" stroke-width=\"3.2\"/>\n",
       "<path clip-path=\"url(#clip270)\" d=\"\n",
       "M1644.34 395.509 L2282.1 395.509 L2282.1 93.1086 L1644.34 93.1086  Z\n",
       "  \" fill=\"#ffffff\" fill-rule=\"evenodd\" fill-opacity=\"1\"/>\n",
       "<polyline clip-path=\"url(#clip270)\" style=\"stroke:#000000; stroke-width:4; stroke-opacity:1; fill:none\" points=\"\n",
       "  1644.34,395.509 2282.1,395.509 2282.1,93.1086 1644.34,93.1086 1644.34,395.509 \n",
       "  \"/>\n",
       "<path clip-path=\"url(#clip270)\" d=\"M1738.56 179.189 L1720.46 171.688 L1712.96 153.589 L1720.46 135.489 L1738.56 127.989 L1756.66 135.489 L1764.16 153.589 L1756.66 171.688 Z\" fill=\"#009af9\" fill-rule=\"evenodd\" fill-opacity=\"1\" stroke=\"#000000\" stroke-opacity=\"1\" stroke-width=\"5.12\"/>\n",
       "<path clip-path=\"url(#clip270)\" d=\"M 0 0 M1858.33 165.938 L1858.33 156.656 L1850.69 156.656 L1850.69 152.813 L1862.95 152.813 L1862.95 167.651 Q1860.25 169.572 1856.98 170.568 Q1853.72 171.54 1850.02 171.54 Q1841.91 171.54 1837.33 166.818 Q1832.77 162.072 1832.77 153.623 Q1832.77 145.151 1837.33 140.429 Q1841.91 135.684 1850.02 135.684 Q1853.39 135.684 1856.43 136.517 Q1859.48 137.35 1862.05 138.971 L1862.05 143.947 Q1859.46 141.748 1856.54 140.637 Q1853.63 139.526 1850.41 139.526 Q1844.07 139.526 1840.87 143.068 Q1837.7 146.609 1837.7 153.623 Q1837.7 160.614 1840.87 164.156 Q1844.07 167.697 1850.41 167.697 Q1852.89 167.697 1854.83 167.281 Q1856.77 166.841 1858.33 165.938 Z\" fill=\"#000000\" fill-rule=\"evenodd\" fill-opacity=\"1\" /><path clip-path=\"url(#clip270)\" d=\"M 0 0 M1867.42 134.85 L1871.68 134.85 L1871.68 170.869 L1867.42 170.869 L1867.42 134.85 Z\" fill=\"#000000\" fill-rule=\"evenodd\" fill-opacity=\"1\" /><path clip-path=\"url(#clip270)\" d=\"M 0 0 M1886.2 147.929 Q1882.77 147.929 1880.78 150.614 Q1878.79 153.276 1878.79 157.929 Q1878.79 162.582 1880.76 165.267 Q1882.75 167.929 1886.2 167.929 Q1889.6 167.929 1891.59 165.244 Q1893.58 162.558 1893.58 157.929 Q1893.58 153.322 1891.59 150.637 Q1889.6 147.929 1886.2 147.929 M1886.2 144.318 Q1891.75 144.318 1894.92 147.929 Q1898.09 151.54 1898.09 157.929 Q1898.09 164.295 1894.92 167.929 Q1891.75 171.54 1886.2 171.54 Q1880.62 171.54 1877.45 167.929 Q1874.3 164.295 1874.3 157.929 Q1874.3 151.54 1877.45 147.929 Q1880.62 144.318 1886.2 144.318 Z\" fill=\"#000000\" fill-rule=\"evenodd\" fill-opacity=\"1\" /><path clip-path=\"url(#clip270)\" d=\"M 0 0 M1922.75 149.92 Q1924.34 147.049 1926.57 145.684 Q1928.79 144.318 1931.8 144.318 Q1935.85 144.318 1938.05 147.165 Q1940.25 149.989 1940.25 155.221 L1940.25 170.869 L1935.96 170.869 L1935.96 155.359 Q1935.96 151.633 1934.64 149.827 Q1933.32 148.022 1930.62 148.022 Q1927.31 148.022 1925.39 150.221 Q1923.46 152.42 1923.46 156.216 L1923.46 170.869 L1919.18 170.869 L1919.18 155.359 Q1919.18 151.609 1917.86 149.827 Q1916.54 148.022 1913.79 148.022 Q1910.52 148.022 1908.6 150.244 Q1906.68 152.443 1906.68 156.216 L1906.68 170.869 L1902.4 170.869 L1902.4 144.943 L1906.68 144.943 L1906.68 148.971 Q1908.14 146.586 1910.18 145.452 Q1912.21 144.318 1915.01 144.318 Q1917.84 144.318 1919.81 145.753 Q1921.8 147.188 1922.75 149.92 Z\" fill=\"#000000\" fill-rule=\"evenodd\" fill-opacity=\"1\" /><path clip-path=\"url(#clip270)\" d=\"M 0 0 M1966.89 156.841 L1966.89 158.924 L1947.31 158.924 Q1947.58 163.322 1949.95 165.637 Q1952.33 167.929 1956.57 167.929 Q1959.02 167.929 1961.31 167.327 Q1963.63 166.725 1965.89 165.521 L1965.89 169.549 Q1963.6 170.521 1961.2 171.031 Q1958.79 171.54 1956.31 171.54 Q1950.11 171.54 1946.47 167.929 Q1942.86 164.318 1942.86 158.16 Q1942.86 151.795 1946.29 148.068 Q1949.74 144.318 1955.57 144.318 Q1960.8 144.318 1963.83 147.697 Q1966.89 151.054 1966.89 156.841 M1962.63 155.591 Q1962.58 152.096 1960.66 150.012 Q1958.76 147.929 1955.62 147.929 Q1952.05 147.929 1949.9 149.943 Q1947.77 151.957 1947.45 155.614 L1962.63 155.591 Z\" fill=\"#000000\" fill-rule=\"evenodd\" fill-opacity=\"1\" /><path clip-path=\"url(#clip270)\" d=\"M 0 0 M1986.38 148.924 Q1985.66 148.508 1984.81 148.322 Q1983.97 148.114 1982.95 148.114 Q1979.34 148.114 1977.4 150.475 Q1975.48 152.813 1975.48 157.211 L1975.48 170.869 L1971.2 170.869 L1971.2 144.943 L1975.48 144.943 L1975.48 148.971 Q1976.82 146.609 1978.97 145.475 Q1981.13 144.318 1984.2 144.318 Q1984.64 144.318 1985.18 144.387 Q1985.71 144.434 1986.36 144.549 L1986.38 148.924 Z\" fill=\"#000000\" fill-rule=\"evenodd\" fill-opacity=\"1\" /><path clip-path=\"url(#clip270)\" d=\"M 0 0 M1990.41 160.637 L1990.41 144.943 L1994.67 144.943 L1994.67 160.475 Q1994.67 164.156 1996.1 166.008 Q1997.54 167.836 2000.41 167.836 Q2003.86 167.836 2005.85 165.637 Q2007.86 163.438 2007.86 159.642 L2007.86 144.943 L2012.12 144.943 L2012.12 170.869 L2007.86 170.869 L2007.86 166.887 Q2006.31 169.248 2004.25 170.406 Q2002.21 171.54 1999.51 171.54 Q1995.04 171.54 1992.72 168.762 Q1990.41 165.984 1990.41 160.637 M2001.13 144.318 L2001.13 144.318 Z\" fill=\"#000000\" fill-rule=\"evenodd\" fill-opacity=\"1\" /><path clip-path=\"url(#clip270)\" d=\"M 0 0 M2016.59 134.85 L2020.85 134.85 L2020.85 170.869 L2016.59 170.869 L2016.59 134.85 Z\" fill=\"#000000\" fill-rule=\"evenodd\" fill-opacity=\"1\" /><path clip-path=\"url(#clip270)\" d=\"M 0 0 M2025.32 144.943 L2029.57 144.943 L2029.57 170.869 L2025.32 170.869 L2025.32 144.943 M2025.32 134.85 L2029.57 134.85 L2029.57 140.244 L2025.32 140.244 L2025.32 134.85 Z\" fill=\"#000000\" fill-rule=\"evenodd\" fill-opacity=\"1\" /><path clip-path=\"url(#clip270)\" d=\"M 0 0 M2059.34 134.897 Q2056.24 140.221 2054.74 145.429 Q2053.23 150.637 2053.23 155.984 Q2053.23 161.332 2054.74 166.586 Q2056.26 171.818 2059.34 177.119 L2055.64 177.119 Q2052.17 171.679 2050.43 166.424 Q2048.72 161.17 2048.72 155.984 Q2048.72 150.822 2050.43 145.591 Q2052.14 140.36 2055.64 134.897 L2059.34 134.897 Z\" fill=\"#000000\" fill-rule=\"evenodd\" fill-opacity=\"1\" /><path clip-path=\"url(#clip270)\" d=\"M 0 0 M2064 136.309 L2068.67 136.309 L2068.67 150.475 L2085.66 150.475 L2085.66 136.309 L2090.34 136.309 L2090.34 170.869 L2085.66 170.869 L2085.66 154.41 L2068.67 154.41 L2068.67 170.869 L2064 170.869 L2064 136.309 Z\" fill=\"#000000\" fill-rule=\"evenodd\" fill-opacity=\"1\" /><path clip-path=\"url(#clip270)\" d=\"M 0 0 M2116.98 156.841 L2116.98 158.924 L2097.4 158.924 Q2097.68 163.322 2100.04 165.637 Q2102.42 167.929 2106.66 167.929 Q2109.11 167.929 2111.4 167.327 Q2113.72 166.725 2115.99 165.521 L2115.99 169.549 Q2113.69 170.521 2111.29 171.031 Q2108.88 171.54 2106.4 171.54 Q2100.2 171.54 2096.56 167.929 Q2092.95 164.318 2092.95 158.16 Q2092.95 151.795 2096.38 148.068 Q2099.83 144.318 2105.66 144.318 Q2110.89 144.318 2113.93 147.697 Q2116.98 151.054 2116.98 156.841 M2112.72 155.591 Q2112.68 152.096 2110.75 150.012 Q2108.86 147.929 2105.71 147.929 Q2102.14 147.929 2099.99 149.943 Q2097.86 151.957 2097.54 155.614 L2112.72 155.591 Z\" fill=\"#000000\" fill-rule=\"evenodd\" fill-opacity=\"1\" /><path clip-path=\"url(#clip270)\" d=\"M 0 0 M2133.23 157.836 Q2128.07 157.836 2126.08 159.017 Q2124.09 160.197 2124.09 163.045 Q2124.09 165.313 2125.57 166.656 Q2127.07 167.975 2129.64 167.975 Q2133.18 167.975 2135.31 165.475 Q2137.47 162.952 2137.47 158.785 L2137.47 157.836 L2133.23 157.836 M2141.73 156.077 L2141.73 170.869 L2137.47 170.869 L2137.47 166.933 Q2136.01 169.295 2133.83 170.429 Q2131.66 171.54 2128.51 171.54 Q2124.53 171.54 2122.17 169.318 Q2119.83 167.072 2119.83 163.322 Q2119.83 158.947 2122.75 156.725 Q2125.68 154.503 2131.5 154.503 L2137.47 154.503 L2137.47 154.086 Q2137.47 151.147 2135.52 149.549 Q2133.6 147.929 2130.11 147.929 Q2127.88 147.929 2125.78 148.461 Q2123.67 148.994 2121.73 150.059 L2121.73 146.123 Q2124.06 145.221 2126.26 144.781 Q2128.46 144.318 2130.55 144.318 Q2136.17 144.318 2138.95 147.234 Q2141.73 150.151 2141.73 156.077 Z\" fill=\"#000000\" fill-rule=\"evenodd\" fill-opacity=\"1\" /><path clip-path=\"url(#clip270)\" d=\"M 0 0 M2146.19 134.85 L2150.45 134.85 L2150.45 170.869 L2146.19 170.869 L2146.19 134.85 Z\" fill=\"#000000\" fill-rule=\"evenodd\" fill-opacity=\"1\" /><path clip-path=\"url(#clip270)\" d=\"M 0 0 M2159.13 137.582 L2159.13 144.943 L2167.91 144.943 L2167.91 148.253 L2159.13 148.253 L2159.13 162.327 Q2159.13 165.498 2159.99 166.401 Q2160.87 167.304 2163.53 167.304 L2167.91 167.304 L2167.91 170.869 L2163.53 170.869 Q2158.6 170.869 2156.73 169.04 Q2154.85 167.188 2154.85 162.327 L2154.85 148.253 L2151.73 148.253 L2151.73 144.943 L2154.85 144.943 L2154.85 137.582 L2159.13 137.582 Z\" fill=\"#000000\" fill-rule=\"evenodd\" fill-opacity=\"1\" /><path clip-path=\"url(#clip270)\" d=\"M 0 0 M2193.93 155.221 L2193.93 170.869 L2189.67 170.869 L2189.67 155.359 Q2189.67 151.679 2188.23 149.85 Q2186.8 148.022 2183.93 148.022 Q2180.48 148.022 2178.49 150.221 Q2176.49 152.42 2176.49 156.216 L2176.49 170.869 L2172.21 170.869 L2172.21 134.85 L2176.49 134.85 L2176.49 148.971 Q2178.02 146.633 2180.08 145.475 Q2182.17 144.318 2184.87 144.318 Q2189.34 144.318 2191.63 147.096 Q2193.93 149.85 2193.93 155.221 Z\" fill=\"#000000\" fill-rule=\"evenodd\" fill-opacity=\"1\" /><path clip-path=\"url(#clip270)\" d=\"M 0 0 M2209.18 173.276 Q2207.37 177.906 2205.66 179.318 Q2203.95 180.73 2201.08 180.73 L2197.68 180.73 L2197.68 177.165 L2200.18 177.165 Q2201.93 177.165 2202.91 176.332 Q2203.88 175.498 2205.06 172.396 L2205.82 170.452 L2195.34 144.943 L2199.85 144.943 L2207.95 165.221 L2216.05 144.943 L2220.57 144.943 L2209.18 173.276 Z\" fill=\"#000000\" fill-rule=\"evenodd\" fill-opacity=\"1\" /><path clip-path=\"url(#clip270)\" d=\"M 0 0 M2224.36 134.897 L2228.07 134.897 Q2231.54 140.36 2233.25 145.591 Q2234.99 150.822 2234.99 155.984 Q2234.99 161.17 2233.25 166.424 Q2231.54 171.679 2228.07 177.119 L2224.36 177.119 Q2227.44 171.818 2228.95 166.586 Q2230.48 161.332 2230.48 155.984 Q2230.48 150.637 2228.95 145.429 Q2227.44 140.221 2224.36 134.897 Z\" fill=\"#000000\" fill-rule=\"evenodd\" fill-opacity=\"1\" /><path clip-path=\"url(#clip270)\" d=\"M1738.56 188.469 L1712.96 214.069 L1738.56 239.669 L1764.16 214.069 L1738.56 188.469 Z\" fill=\"#009af9\" fill-rule=\"evenodd\" fill-opacity=\"1\" stroke=\"#000000\" stroke-opacity=\"1\" stroke-width=\"5.12\"/>\n",
       "<path clip-path=\"url(#clip270)\" d=\"M 0 0 M1858.33 226.418 L1858.33 217.136 L1850.69 217.136 L1850.69 213.293 L1862.95 213.293 L1862.95 228.131 Q1860.25 230.052 1856.98 231.048 Q1853.72 232.02 1850.02 232.02 Q1841.91 232.02 1837.33 227.298 Q1832.77 222.552 1832.77 214.103 Q1832.77 205.631 1837.33 200.909 Q1841.91 196.164 1850.02 196.164 Q1853.39 196.164 1856.43 196.997 Q1859.48 197.83 1862.05 199.451 L1862.05 204.427 Q1859.46 202.228 1856.54 201.117 Q1853.63 200.006 1850.41 200.006 Q1844.07 200.006 1840.87 203.548 Q1837.7 207.089 1837.7 214.103 Q1837.7 221.094 1840.87 224.636 Q1844.07 228.177 1850.41 228.177 Q1852.89 228.177 1854.83 227.761 Q1856.77 227.321 1858.33 226.418 Z\" fill=\"#000000\" fill-rule=\"evenodd\" fill-opacity=\"1\" /><path clip-path=\"url(#clip270)\" d=\"M 0 0 M1867.42 195.33 L1871.68 195.33 L1871.68 231.349 L1867.42 231.349 L1867.42 195.33 Z\" fill=\"#000000\" fill-rule=\"evenodd\" fill-opacity=\"1\" /><path clip-path=\"url(#clip270)\" d=\"M 0 0 M1886.2 208.409 Q1882.77 208.409 1880.78 211.094 Q1878.79 213.756 1878.79 218.409 Q1878.79 223.062 1880.76 225.747 Q1882.75 228.409 1886.2 228.409 Q1889.6 228.409 1891.59 225.724 Q1893.58 223.038 1893.58 218.409 Q1893.58 213.802 1891.59 211.117 Q1889.6 208.409 1886.2 208.409 M1886.2 204.798 Q1891.75 204.798 1894.92 208.409 Q1898.09 212.02 1898.09 218.409 Q1898.09 224.775 1894.92 228.409 Q1891.75 232.02 1886.2 232.02 Q1880.62 232.02 1877.45 228.409 Q1874.3 224.775 1874.3 218.409 Q1874.3 212.02 1877.45 208.409 Q1880.62 204.798 1886.2 204.798 Z\" fill=\"#000000\" fill-rule=\"evenodd\" fill-opacity=\"1\" /><path clip-path=\"url(#clip270)\" d=\"M 0 0 M1922.75 210.4 Q1924.34 207.529 1926.57 206.164 Q1928.79 204.798 1931.8 204.798 Q1935.85 204.798 1938.05 207.645 Q1940.25 210.469 1940.25 215.701 L1940.25 231.349 L1935.96 231.349 L1935.96 215.839 Q1935.96 212.113 1934.64 210.307 Q1933.32 208.502 1930.62 208.502 Q1927.31 208.502 1925.39 210.701 Q1923.46 212.9 1923.46 216.696 L1923.46 231.349 L1919.18 231.349 L1919.18 215.839 Q1919.18 212.089 1917.86 210.307 Q1916.54 208.502 1913.79 208.502 Q1910.52 208.502 1908.6 210.724 Q1906.68 212.923 1906.68 216.696 L1906.68 231.349 L1902.4 231.349 L1902.4 205.423 L1906.68 205.423 L1906.68 209.451 Q1908.14 207.066 1910.18 205.932 Q1912.21 204.798 1915.01 204.798 Q1917.84 204.798 1919.81 206.233 Q1921.8 207.668 1922.75 210.4 Z\" fill=\"#000000\" fill-rule=\"evenodd\" fill-opacity=\"1\" /><path clip-path=\"url(#clip270)\" d=\"M 0 0 M1970.01 195.377 Q1966.91 200.701 1965.41 205.909 Q1963.9 211.117 1963.9 216.464 Q1963.9 221.812 1965.41 227.066 Q1966.94 232.298 1970.01 237.599 L1966.31 237.599 Q1962.84 232.159 1961.1 226.904 Q1959.39 221.65 1959.39 216.464 Q1959.39 211.302 1961.1 206.071 Q1962.82 200.84 1966.31 195.377 L1970.01 195.377 Z\" fill=\"#000000\" fill-rule=\"evenodd\" fill-opacity=\"1\" /><path clip-path=\"url(#clip270)\" d=\"M 0 0 M1979.34 200.631 L1979.34 227.506 L1984.99 227.506 Q1992.14 227.506 1995.45 224.265 Q1998.79 221.025 1998.79 214.034 Q1998.79 207.089 1995.45 203.872 Q1992.14 200.631 1984.99 200.631 L1979.34 200.631 M1974.67 196.789 L1984.27 196.789 Q1994.32 196.789 1999.02 200.978 Q2003.72 205.145 2003.72 214.034 Q2003.72 222.969 1999 227.159 Q1994.27 231.349 1984.27 231.349 L1974.67 231.349 L1974.67 196.789 Z\" fill=\"#000000\" fill-rule=\"evenodd\" fill-opacity=\"1\" /><path clip-path=\"url(#clip270)\" d=\"M 0 0 M2008.37 196.789 L2013.05 196.789 L2013.05 211.395 L2028.56 196.789 L2034.57 196.789 L2017.42 212.9 L2035.8 231.349 L2029.64 231.349 L2013.05 214.705 L2013.05 231.349 L2008.37 231.349 L2008.37 196.789 Z\" fill=\"#000000\" fill-rule=\"evenodd\" fill-opacity=\"1\" /><path clip-path=\"url(#clip270)\" d=\"M 0 0 M2045.13 200.631 L2045.13 227.506 L2050.78 227.506 Q2057.93 227.506 2061.24 224.265 Q2064.57 221.025 2064.57 214.034 Q2064.57 207.089 2061.24 203.872 Q2057.93 200.631 2050.78 200.631 L2045.13 200.631 M2040.45 196.789 L2050.06 196.789 Q2060.11 196.789 2064.81 200.978 Q2069.5 205.145 2069.5 214.034 Q2069.5 222.969 2064.78 227.159 Q2060.06 231.349 2050.06 231.349 L2040.45 231.349 L2040.45 196.789 Z\" fill=\"#000000\" fill-rule=\"evenodd\" fill-opacity=\"1\" /><path clip-path=\"url(#clip270)\" d=\"M 0 0 M2073.3 195.377 L2077 195.377 Q2080.48 200.84 2082.19 206.071 Q2083.93 211.302 2083.93 216.464 Q2083.93 221.65 2082.19 226.904 Q2080.48 232.159 2077 237.599 L2073.3 237.599 Q2076.38 232.298 2077.88 227.066 Q2079.41 221.812 2079.41 216.464 Q2079.41 211.117 2077.88 205.909 Q2076.38 200.701 2073.3 195.377 Z\" fill=\"#000000\" fill-rule=\"evenodd\" fill-opacity=\"1\" /><path clip-path=\"url(#clip270)\" d=\"M1738.56 300.149 L1720.46 292.648 L1712.96 274.549 L1720.46 256.449 L1738.56 248.949 L1756.66 256.449 L1764.16 274.549 L1756.66 292.648 Z\" fill=\"#e26f46\" fill-rule=\"evenodd\" fill-opacity=\"1\" stroke=\"#000000\" stroke-opacity=\"1\" stroke-width=\"5.12\"/>\n",
       "<path clip-path=\"url(#clip270)\" d=\"M 0 0 M1837.45 261.111 L1837.45 287.986 L1843.09 287.986 Q1850.25 287.986 1853.56 284.745 Q1856.89 281.505 1856.89 274.514 Q1856.89 267.569 1853.56 264.352 Q1850.25 261.111 1843.09 261.111 L1837.45 261.111 M1832.77 257.269 L1842.38 257.269 Q1852.42 257.269 1857.12 261.458 Q1861.82 265.625 1861.82 274.514 Q1861.82 283.449 1857.1 287.639 Q1852.38 291.829 1842.38 291.829 L1832.77 291.829 L1832.77 257.269 Z\" fill=\"#000000\" fill-rule=\"evenodd\" fill-opacity=\"1\" /><path clip-path=\"url(#clip270)\" d=\"M 0 0 M1866.29 265.903 L1870.55 265.903 L1870.55 291.829 L1866.29 291.829 L1866.29 265.903 M1866.29 255.81 L1870.55 255.81 L1870.55 261.204 L1866.29 261.204 L1866.29 255.81 Z\" fill=\"#000000\" fill-rule=\"evenodd\" fill-opacity=\"1\" /><path clip-path=\"url(#clip270)\" d=\"M 0 0 M1891.54 266.667 L1891.54 270.694 Q1889.74 269.769 1887.79 269.306 Q1885.85 268.843 1883.76 268.843 Q1880.59 268.843 1879 269.815 Q1877.42 270.787 1877.42 272.731 Q1877.42 274.213 1878.56 275.069 Q1879.69 275.903 1883.12 276.667 L1884.58 276.991 Q1889.11 277.963 1891.01 279.745 Q1892.93 281.505 1892.93 284.676 Q1892.93 288.287 1890.06 290.393 Q1887.21 292.5 1882.21 292.5 Q1880.13 292.5 1877.86 292.083 Q1875.62 291.69 1873.12 290.88 L1873.12 286.481 Q1875.48 287.708 1877.77 288.333 Q1880.06 288.935 1882.31 288.935 Q1885.32 288.935 1886.94 287.917 Q1888.56 286.875 1888.56 285 Q1888.56 283.264 1887.38 282.338 Q1886.22 281.412 1882.26 280.556 L1880.78 280.208 Q1876.82 279.375 1875.06 277.662 Q1873.3 275.926 1873.3 272.917 Q1873.3 269.259 1875.89 267.269 Q1878.49 265.278 1883.26 265.278 Q1885.62 265.278 1887.7 265.625 Q1889.78 265.972 1891.54 266.667 Z\" fill=\"#000000\" fill-rule=\"evenodd\" fill-opacity=\"1\" /><path clip-path=\"url(#clip270)\" d=\"M 0 0 M1901.61 258.542 L1901.61 265.903 L1910.39 265.903 L1910.39 269.213 L1901.61 269.213 L1901.61 283.287 Q1901.61 286.458 1902.47 287.361 Q1903.35 288.264 1906.01 288.264 L1910.39 288.264 L1910.39 291.829 L1906.01 291.829 Q1901.08 291.829 1899.2 290 Q1897.33 288.148 1897.33 283.287 L1897.33 269.213 L1894.2 269.213 L1894.2 265.903 L1897.33 265.903 L1897.33 258.542 L1901.61 258.542 Z\" fill=\"#000000\" fill-rule=\"evenodd\" fill-opacity=\"1\" /><path clip-path=\"url(#clip270)\" d=\"M 0 0 M1914.41 281.597 L1914.41 265.903 L1918.67 265.903 L1918.67 281.435 Q1918.67 285.116 1920.11 286.968 Q1921.54 288.796 1924.41 288.796 Q1927.86 288.796 1929.85 286.597 Q1931.87 284.398 1931.87 280.602 L1931.87 265.903 L1936.13 265.903 L1936.13 291.829 L1931.87 291.829 L1931.87 287.847 Q1930.32 290.208 1928.26 291.366 Q1926.22 292.5 1923.51 292.5 Q1919.04 292.5 1916.73 289.722 Q1914.41 286.944 1914.41 281.597 M1925.13 265.278 L1925.13 265.278 Z\" fill=\"#000000\" fill-rule=\"evenodd\" fill-opacity=\"1\" /><path clip-path=\"url(#clip270)\" d=\"M 0 0 M1959.2 278.889 Q1959.2 274.19 1957.26 271.528 Q1955.34 268.843 1951.96 268.843 Q1948.58 268.843 1946.63 271.528 Q1944.71 274.19 1944.71 278.889 Q1944.71 283.588 1946.63 286.273 Q1948.58 288.935 1951.96 288.935 Q1955.34 288.935 1957.26 286.273 Q1959.2 283.588 1959.2 278.889 M1944.71 269.838 Q1946.06 267.523 1948.09 266.412 Q1950.15 265.278 1953 265.278 Q1957.72 265.278 1960.66 269.028 Q1963.63 272.778 1963.63 278.889 Q1963.63 285 1960.66 288.75 Q1957.72 292.5 1953 292.5 Q1950.15 292.5 1948.09 291.389 Q1946.06 290.255 1944.71 287.94 L1944.71 291.829 L1940.43 291.829 L1940.43 255.81 L1944.71 255.81 L1944.71 269.838 Z\" fill=\"#000000\" fill-rule=\"evenodd\" fill-opacity=\"1\" /><path clip-path=\"url(#clip270)\" d=\"M1738.56 360.629 L1720.46 353.128 L1712.96 335.029 L1720.46 316.929 L1738.56 309.429 L1756.66 316.929 L1764.16 335.029 L1756.66 353.128 Z\" fill=\"#3da44d\" fill-rule=\"evenodd\" fill-opacity=\"1\" stroke=\"#000000\" stroke-opacity=\"1\" stroke-width=\"5.12\"/>\n",
       "<path clip-path=\"url(#clip270)\" d=\"M 0 0 M1837.45 321.591 L1837.45 334.577 L1843.33 334.577 Q1846.59 334.577 1848.37 332.887 Q1850.15 331.198 1850.15 328.073 Q1850.15 324.971 1848.37 323.281 Q1846.59 321.591 1843.33 321.591 L1837.45 321.591 M1832.77 317.749 L1843.33 317.749 Q1849.14 317.749 1852.1 320.387 Q1855.08 323.003 1855.08 328.073 Q1855.08 333.188 1852.1 335.804 Q1849.14 338.42 1843.33 338.42 L1837.45 338.42 L1837.45 352.309 L1832.77 352.309 L1832.77 317.749 Z\" fill=\"#000000\" fill-rule=\"evenodd\" fill-opacity=\"1\" /><path clip-path=\"url(#clip270)\" d=\"M 0 0 M1873.74 330.364 Q1873.02 329.948 1872.17 329.762 Q1871.33 329.554 1870.32 329.554 Q1866.7 329.554 1864.76 331.915 Q1862.84 334.253 1862.84 338.651 L1862.84 352.309 L1858.56 352.309 L1858.56 326.383 L1862.84 326.383 L1862.84 330.411 Q1864.18 328.049 1866.33 326.915 Q1868.49 325.758 1871.57 325.758 Q1872.01 325.758 1872.54 325.827 Q1873.07 325.874 1873.72 325.989 L1873.74 330.364 Z\" fill=\"#000000\" fill-rule=\"evenodd\" fill-opacity=\"1\" /><path clip-path=\"url(#clip270)\" d=\"M 0 0 M1887.21 329.369 Q1883.79 329.369 1881.8 332.054 Q1879.81 334.716 1879.81 339.369 Q1879.81 344.022 1881.77 346.707 Q1883.76 349.369 1887.21 349.369 Q1890.62 349.369 1892.61 346.684 Q1894.6 343.998 1894.6 339.369 Q1894.6 334.762 1892.61 332.077 Q1890.62 329.369 1887.21 329.369 M1887.21 325.758 Q1892.77 325.758 1895.94 329.369 Q1899.11 332.98 1899.11 339.369 Q1899.11 345.735 1895.94 349.369 Q1892.77 352.98 1887.21 352.98 Q1881.64 352.98 1878.46 349.369 Q1875.32 345.735 1875.32 339.369 Q1875.32 332.98 1878.46 329.369 Q1881.64 325.758 1887.21 325.758 Z\" fill=\"#000000\" fill-rule=\"evenodd\" fill-opacity=\"1\" /><path clip-path=\"url(#clip270)\" d=\"M 0 0 M1923.67 326.383 L1914.3 338.999 L1924.16 352.309 L1919.14 352.309 L1911.59 342.123 L1904.04 352.309 L1899.02 352.309 L1909.09 338.744 L1899.88 326.383 L1904.9 326.383 L1911.77 335.619 L1918.65 326.383 L1923.67 326.383 Z\" fill=\"#000000\" fill-rule=\"evenodd\" fill-opacity=\"1\" /><path clip-path=\"url(#clip270)\" d=\"M 0 0 M1932.84 319.022 L1932.84 326.383 L1941.61 326.383 L1941.61 329.693 L1932.84 329.693 L1932.84 343.767 Q1932.84 346.938 1933.7 347.841 Q1934.57 348.744 1937.24 348.744 L1941.61 348.744 L1941.61 352.309 L1937.24 352.309 Q1932.31 352.309 1930.43 350.48 Q1928.56 348.628 1928.56 343.767 L1928.56 329.693 L1925.43 329.693 L1925.43 326.383 L1928.56 326.383 L1928.56 319.022 L1932.84 319.022 Z\" fill=\"#000000\" fill-rule=\"evenodd\" fill-opacity=\"1\" /><path clip-path=\"url(#clip270)\" d=\"M 0 0 M1945.64 342.077 L1945.64 326.383 L1949.9 326.383 L1949.9 341.915 Q1949.9 345.596 1951.33 347.448 Q1952.77 349.276 1955.64 349.276 Q1959.09 349.276 1961.08 347.077 Q1963.09 344.878 1963.09 341.082 L1963.09 326.383 L1967.35 326.383 L1967.35 352.309 L1963.09 352.309 L1963.09 348.327 Q1961.54 350.688 1959.48 351.846 Q1957.45 352.98 1954.74 352.98 Q1950.27 352.98 1947.95 350.202 Q1945.64 347.424 1945.64 342.077 M1956.36 325.758 L1956.36 325.758 Z\" fill=\"#000000\" fill-rule=\"evenodd\" fill-opacity=\"1\" /><path clip-path=\"url(#clip270)\" d=\"M 0 0 M1990.43 339.369 Q1990.43 334.67 1988.49 332.008 Q1986.57 329.323 1983.19 329.323 Q1979.81 329.323 1977.86 332.008 Q1975.94 334.67 1975.94 339.369 Q1975.94 344.068 1977.86 346.753 Q1979.81 349.415 1983.19 349.415 Q1986.57 349.415 1988.49 346.753 Q1990.43 344.068 1990.43 339.369 M1975.94 330.318 Q1977.28 328.003 1979.32 326.892 Q1981.38 325.758 1984.23 325.758 Q1988.95 325.758 1991.89 329.508 Q1994.85 333.258 1994.85 339.369 Q1994.85 345.48 1991.89 349.23 Q1988.95 352.98 1984.23 352.98 Q1981.38 352.98 1979.32 351.869 Q1977.28 350.735 1975.94 348.42 L1975.94 352.309 L1971.66 352.309 L1971.66 316.29 L1975.94 316.29 L1975.94 330.318 Z\" fill=\"#000000\" fill-rule=\"evenodd\" fill-opacity=\"1\" /></svg>\n"
      ]
     },
     "execution_count": 31,
     "metadata": {},
     "output_type": "execute_result"
    }
   ],
   "source": [
    "Plots.scatter(Yte[1,healthy.& glomeruli],Yte[2,healthy.& glomeruli],color=1,label=\"Glomeruli (Healthy)\",marker=:o)\n",
    "Plots.xlabel!(\"pca component1\")\n",
    "Plots.ylabel!(\"pca component2\")\n",
    "Plots.scatter!(Yte[1,.!(healthy).& glomeruli],Yte[2,.!(healthy).& glomeruli],color=1,label=\"Glom (DKD)\",marker=:d)\n",
    "Plots.scatter!(Yte[1,healthy.& distTub],Yte[2,healthy.& distTub],color=2,label=\"Distub\",marker=:o)\n",
    "Plots.scatter!(Yte[1,.!(healthy).& distTub],Yte[2,.!(healthy).& distTub],color=2,label=:none, marker=:d)\n",
    "Plots.scatter!(Yte[1,healthy.& proxTub],Yte[2,healthy.& proxTub],color=3,label=\"Proxtub\",marker=:o)\n",
    "Plots.scatter!(Yte[1,.!(healthy).& proxTub],Yte[2,.!(healthy).& proxTub],color=3,label=:none, marker=:d)"
   ]
  },
  {
   "cell_type": "code",
   "execution_count": null,
   "metadata": {},
   "outputs": [],
   "source": [
    "a=[stat for stat in unique(features[!,\"disease_status\"])]"
   ]
  },
  {
   "cell_type": "code",
   "execution_count": null,
   "metadata": {},
   "outputs": [],
   "source": [
    "@show a"
   ]
  },
  {
   "cell_type": "code",
   "execution_count": null,
   "metadata": {},
   "outputs": [],
   "source": [
    "Plots.png(\"glomAndTubs.png\")"
   ]
  },
  {
   "cell_type": "code",
   "execution_count": null,
   "metadata": {},
   "outputs": [],
   "source": [
    "glomPath = features[!,\"pathology\"];\n",
    "glomPath = [ ismissing(x) ? \"a\" : x for x in glomPath ]"
   ]
  },
  {
   "cell_type": "code",
   "execution_count": null,
   "metadata": {},
   "outputs": [],
   "source": [
    "features.SegmentDisplayName"
   ]
  },
  {
   "cell_type": "code",
   "execution_count": null,
   "metadata": {},
   "outputs": [],
   "source": [
    "Plots.scatter(Yte[1,glomPath.==\"healthy\"],Yte[2,glomPath.==\"healthy\"],color=1,label=\"healthy Glomeruli\",marker=:o)\n",
    "Plots.xlabel!(\"pca component1\")\n",
    "Plots.ylabel!(\"pca component2\")\n",
    "Plots.scatter!(Yte[1,glomPath.==\"abnormal\"],Yte[2,glomPath.==\"abnormal\"],color=1,label=\"abnormal Glom\",marker=:x)\n"
   ]
  },
  {
   "cell_type": "code",
   "execution_count": null,
   "metadata": {},
   "outputs": [],
   "source": [
    "Plots.scatter(Yte[1, .!(healthy) .& (glomPath.==\"healthy\")],Yte[2,.!(healthy) .& (glomPath.==\"healthy\")],color=1,label=\"healthy Glomeruli(DKD)\",marker=:o)\n",
    "Plots.scatter!(Yte[1,.!(healthy) .& (glomPath.==\"abnormal\")],Yte[2,.!(healthy) .& (glomPath.==\"abnormal\")],color=1,label=\"abnormal Glom(DKD)\",marker=:x)\n",
    "\n",
    "Plots.scatter!(Yte[1, (healthy) .& (glomPath.==\"healthy\")],Yte[2,(healthy) .& (glomPath.==\"healthy\")],color=2,label=\"healthy Glomeruli(Ctrl)\",marker=:o)\n",
    "Plots.xlabel!(\"pca component1\")\n",
    "Plots.ylabel!(\"pca component2\")\n",
    "Plots.scatter!(Yte[1,(healthy) .& (glomPath.==\"abnormal\")],Yte[2,(healthy) .& (glomPath.==\"abnormal\")],color=2,label=\"abnormal Glom(Ctrl)\",marker=:x)\n"
   ]
  },
  {
   "cell_type": "code",
   "execution_count": null,
   "metadata": {},
   "outputs": [],
   "source": [
    "p = fit(PCA,data,maxoutdim=3)\n",
    "Yte = MultivariateStats.transform(p, data)\n",
    "scatter3d(Yte[1,:],Yte[2,:],Yte[3,:],legend=false)"
   ]
  },
  {
   "cell_type": "code",
   "execution_count": null,
   "metadata": {},
   "outputs": [],
   "source": [
    "scene = Makie.scatter(Yte[1,:],Yte[2,:],Yte[3,:])"
   ]
  },
  {
   "cell_type": "code",
   "execution_count": null,
   "metadata": {},
   "outputs": [],
   "source": [
    "display(scene)"
   ]
  },
  {
   "cell_type": "code",
   "execution_count": null,
   "metadata": {},
   "outputs": [],
   "source": [
    "car_origin = C[:,:Origin]\n",
    "carmap = labelmap(car_origin) #from MLBase\n",
    "uniqueids = labelencode(carmap,car_origin)"
   ]
  },
  {
   "cell_type": "code",
   "execution_count": null,
   "metadata": {},
   "outputs": [],
   "source": [
    "Plots.png(\"glomeruliDKDvsCtrl.png\")"
   ]
  },
  {
   "cell_type": "code",
   "execution_count": null,
   "metadata": {},
   "outputs": [],
   "source": [
    "patients=unique(features[!,\"SlideName\"])"
   ]
  },
  {
   "cell_type": "code",
   "execution_count": null,
   "metadata": {},
   "outputs": [],
   "source": [
    "patient = patients[1]\n",
    "patientRegions= features[!,\"SlideName\"].==patient\n",
    "healthyGlom = glomPath.==\"healthy\"\n",
    "abnormalGlom = glomPath.==\"abnormal\"\n",
    "Plots.scatter(Yte[1,patientRegions .& healthyGlom],Yte[2,patientRegions .& healthyGlom],color=1,label=\"healthy Glomeruli\",marker=:o)\n",
    "Plots.title!(patient)\n",
    "Plots.xlabel!(\"pca component1\")\n",
    "Plots.ylabel!(\"pca component2\")\n",
    "Plots.scatter!(Yte[1,patientRegions .& abnormalGlom],Yte[2,patientRegions .& abnormalGlom],color=1,label=\"abnormal Glom\",marker=:x)"
   ]
  }
 ],
 "metadata": {
  "@webio": {
   "lastCommId": null,
   "lastKernelId": null
  },
  "kernelspec": {
   "display_name": "Julia 1.6.0",
   "language": "julia",
   "name": "julia-1.6"
  },
  "language_info": {
   "file_extension": ".jl",
   "mimetype": "application/julia",
   "name": "julia",
   "version": "1.6.0"
  }
 },
 "nbformat": 4,
 "nbformat_minor": 4
}
