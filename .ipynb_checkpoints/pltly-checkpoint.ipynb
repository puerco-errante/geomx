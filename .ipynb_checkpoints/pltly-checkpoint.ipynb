{
 "cells": [
  {
   "cell_type": "markdown",
   "metadata": {},
   "source": [
    "# Analyzing the different regions and their correlations\n",
    "\n",
    "Useful links:\n",
    "\n",
    "* https://en.wikibooks.org/wiki/Introducing_Julia/DataFrames"
   ]
  },
  {
   "cell_type": "code",
   "execution_count": null,
   "metadata": {},
   "outputs": [],
   "source": [
    "# Packages we will use throughout this notebook (only first time)\n",
    "Pkg.add(\"UMAP\")\n",
    "Pkg.add(\"Makie\")\n",
    "Pkg.add(\"XLSX\")\n",
    "Pkg.add(\"VegaDatasets\")\n",
    "Pkg.add(\"MultivariateStats\")\n",
    "Pkg.add(\"RDatasets\")\n",
    "Pkg.add(\"StatsBase\")\n",
    "Pkg.add(\"Statistics\")\n",
    "Pkg.add(\"LinearAlgebra\")\n",
    "Pkg.add(\"Plots\")\n",
    "Pkg.add(\"ScikitLearn\")\n",
    "Pkg.add(\"MLBase\")\n",
    "Pkg.add(\"Distances\")"
   ]
  },
  {
   "cell_type": "code",
   "execution_count": null,
   "metadata": {},
   "outputs": [],
   "source": [
    "# Packages we will use throughout this notebook\n",
    "using UMAP\n",
    "using Makie\n",
    "using XLSX\n",
    "using VegaDatasets\n",
    "using DataFrames\n",
    "using MultivariateStats\n",
    "using RDatasets\n",
    "using StatsBase\n",
    "using Statistics\n",
    "using LinearAlgebra\n",
    "#using Plots\n",
    "using ScikitLearn\n",
    "using MLBase\n",
    "using Distances"
   ]
  },
  {
   "cell_type": "code",
   "execution_count": null,
   "metadata": {},
   "outputs": [],
   "source": [
    "using PlotlyJS"
   ]
  },
  {
   "cell_type": "code",
   "execution_count": null,
   "metadata": {},
   "outputs": [],
   "source": [
    "using DataFrames"
   ]
  },
  {
   "cell_type": "code",
   "execution_count": null,
   "metadata": {},
   "outputs": [],
   "source": [
    "using CSV"
   ]
  },
  {
   "cell_type": "code",
   "execution_count": null,
   "metadata": {},
   "outputs": [],
   "source": [
    "features = DataFrame(CSV.File(\"data/Kidney_Sample_Annotations.txt\"))"
   ]
  },
  {
   "cell_type": "code",
   "execution_count": null,
   "metadata": {},
   "outputs": [],
   "source": [
    "unique(features.ScanName)"
   ]
  },
  {
   "cell_type": "code",
   "execution_count": null,
   "metadata": {},
   "outputs": [],
   "source": [
    "TCM = DataFrame(CSV.File(\"data/Kidney_Raw_TargetCountMatrix.txt\"))"
   ]
  },
  {
   "cell_type": "code",
   "execution_count": null,
   "metadata": {},
   "outputs": [],
   "source": [
    "PCM = DataFrame(CSV.File(\"data/Kidney_Q3Norm_TargetCountMatrix.txt\"))"
   ]
  },
  {
   "cell_type": "code",
   "execution_count": null,
   "metadata": {},
   "outputs": [],
   "source": [
    "M = Matrix(PCM[:,2:end])"
   ]
  },
  {
   "cell_type": "code",
   "execution_count": null,
   "metadata": {},
   "outputs": [],
   "source": [
    "data = M\n",
    "data = (data .- mean(data,dims = 2))./ std(data,dims=2)"
   ]
  },
  {
   "cell_type": "code",
   "execution_count": null,
   "metadata": {},
   "outputs": [],
   "source": [
    "p = fit(PCA,data,maxoutdim=2)"
   ]
  },
  {
   "cell_type": "code",
   "execution_count": null,
   "metadata": {},
   "outputs": [],
   "source": [
    "P = projection(p)"
   ]
  },
  {
   "cell_type": "code",
   "execution_count": null,
   "metadata": {},
   "outputs": [],
   "source": [
    "Yte = MultivariateStats.transform(p, data) #notice that Yte[:,1] is the same as P'*(data[1,:]-mean(p))"
   ]
  },
  {
   "cell_type": "code",
   "execution_count": null,
   "metadata": {},
   "outputs": [],
   "source": [
    "PlotlyJS.plot(\n",
    "        Yte[1,features[!, \"disease_status\"] .== patientState[1]],\n",
    "        Yte[2,features[!, \"disease_status\"] .== patientState[1]],\n",
    "        Layout(\n",
    "            xaxis_type = xaxis_type == \"Linear\" ? \"linear\" : \"log\",\n",
    "            xaxis_title = \"pca_1\",\n",
    "            yaxis_title = \"pca_2\",\n",
    "            yaxis_type = yaxis_type == \"Linear\" ? \"linear\" : \"log\",\n",
    "            hovermode = \"closest\",\n",
    "            height = 450,\n",
    "        ),\n",
    "        kind = \"scatter\",\n",
    "        mode = \"markers\",\n",
    "        marker_size = 15,\n",
    "        marker_opacity = 0.5,\n",
    "        marker_line_width = 0.5,\n",
    "        marker_line_color = \"white\",\n",
    ")"
   ]
  },
  {
   "cell_type": "code",
   "execution_count": null,
   "metadata": {},
   "outputs": [],
   "source": [
    "#To plot we need to know which points are what...\n",
    "#Preliminarily, we can use this:\n",
    "segmentDisplayNames=features[!,r\"SegmentDi.\"]"
   ]
  },
  {
   "cell_type": "code",
   "execution_count": null,
   "metadata": {},
   "outputs": [],
   "source": [
    "healthy=[!occursin(r\"disease.\",seg) for seg in segmentDisplayNames[!,1]];"
   ]
  },
  {
   "cell_type": "code",
   "execution_count": null,
   "metadata": {},
   "outputs": [],
   "source": [
    "glomeruli = [occursin(r\".Geo.\",seg) for seg in segmentDisplayNames[!,1]];\n",
    "distTub = [occursin(r\".Pan.\",seg) for seg in segmentDisplayNames[!,1]];\n",
    "proxTub = [occursin(r\".neg\",seg) for seg in segmentDisplayNames[!,1]];"
   ]
  },
  {
   "cell_type": "code",
   "execution_count": null,
   "metadata": {},
   "outputs": [],
   "source": [
    "Plots.scatter(Yte[1,healthy.& glomeruli],Yte[2,healthy.& glomeruli],color=1,label=\"Glomeruli (Healthy)\",marker=:o)\n",
    "Plots.xlabel!(\"pca component1\")\n",
    "Plots.ylabel!(\"pca component2\")\n",
    "Plots.scatter!(Yte[1,.!(healthy).& glomeruli],Yte[2,.!(healthy).& glomeruli],color=1,label=\"Glom (DKD)\",marker=:d)\n",
    "Plots.scatter!(Yte[1,healthy.& distTub],Yte[2,healthy.& distTub],color=2,label=\"Distub\",marker=:o)\n",
    "Plots.scatter!(Yte[1,.!(healthy).& distTub],Yte[2,.!(healthy).& distTub],color=2,label=:none, marker=:d)\n",
    "Plots.scatter!(Yte[1,healthy.& proxTub],Yte[2,healthy.& proxTub],color=3,label=\"Proxtub\",marker=:o)\n",
    "Plots.scatter!(Yte[1,.!(healthy).& proxTub],Yte[2,.!(healthy).& proxTub],color=3,label=:none, marker=:d)"
   ]
  },
  {
   "cell_type": "code",
   "execution_count": null,
   "metadata": {},
   "outputs": [],
   "source": [
    "a=[stat for stat in unique(features[!,\"disease_status\"])]"
   ]
  },
  {
   "cell_type": "code",
   "execution_count": null,
   "metadata": {},
   "outputs": [],
   "source": [
    "@show a"
   ]
  },
  {
   "cell_type": "code",
   "execution_count": null,
   "metadata": {},
   "outputs": [],
   "source": [
    "Plots.png(\"glomAndTubs.png\")"
   ]
  },
  {
   "cell_type": "code",
   "execution_count": null,
   "metadata": {},
   "outputs": [],
   "source": [
    "glomPath = features[!,\"pathology\"];\n",
    "glomPath = [ ismissing(x) ? \"a\" : x for x in glomPath ]"
   ]
  },
  {
   "cell_type": "code",
   "execution_count": null,
   "metadata": {},
   "outputs": [],
   "source": [
    "features.SegmentDisplayName"
   ]
  },
  {
   "cell_type": "code",
   "execution_count": null,
   "metadata": {},
   "outputs": [],
   "source": [
    "Plots.scatter(Yte[1,glomPath.==\"healthy\"],Yte[2,glomPath.==\"healthy\"],color=1,label=\"healthy Glomeruli\",marker=:o)\n",
    "Plots.xlabel!(\"pca component1\")\n",
    "Plots.ylabel!(\"pca component2\")\n",
    "Plots.scatter!(Yte[1,glomPath.==\"abnormal\"],Yte[2,glomPath.==\"abnormal\"],color=1,label=\"abnormal Glom\",marker=:x)\n"
   ]
  },
  {
   "cell_type": "code",
   "execution_count": null,
   "metadata": {},
   "outputs": [],
   "source": [
    "Plots.scatter(Yte[1, .!(healthy) .& (glomPath.==\"healthy\")],Yte[2,.!(healthy) .& (glomPath.==\"healthy\")],color=1,label=\"healthy Glomeruli(DKD)\",marker=:o)\n",
    "Plots.scatter!(Yte[1,.!(healthy) .& (glomPath.==\"abnormal\")],Yte[2,.!(healthy) .& (glomPath.==\"abnormal\")],color=1,label=\"abnormal Glom(DKD)\",marker=:x)\n",
    "\n",
    "Plots.scatter!(Yte[1, (healthy) .& (glomPath.==\"healthy\")],Yte[2,(healthy) .& (glomPath.==\"healthy\")],color=2,label=\"healthy Glomeruli(Ctrl)\",marker=:o)\n",
    "Plots.xlabel!(\"pca component1\")\n",
    "Plots.ylabel!(\"pca component2\")\n",
    "Plots.scatter!(Yte[1,(healthy) .& (glomPath.==\"abnormal\")],Yte[2,(healthy) .& (glomPath.==\"abnormal\")],color=2,label=\"abnormal Glom(Ctrl)\",marker=:x)\n"
   ]
  },
  {
   "cell_type": "code",
   "execution_count": null,
   "metadata": {},
   "outputs": [],
   "source": [
    "p = fit(PCA,data,maxoutdim=3)\n",
    "Yte = MultivariateStats.transform(p, data)\n",
    "scatter3d(Yte[1,:],Yte[2,:],Yte[3,:],legend=false)"
   ]
  },
  {
   "cell_type": "code",
   "execution_count": null,
   "metadata": {},
   "outputs": [],
   "source": [
    "scene = Makie.scatter(Yte[1,:],Yte[2,:],Yte[3,:])"
   ]
  },
  {
   "cell_type": "code",
   "execution_count": null,
   "metadata": {},
   "outputs": [],
   "source": [
    "display(scene)"
   ]
  },
  {
   "cell_type": "code",
   "execution_count": null,
   "metadata": {},
   "outputs": [],
   "source": [
    "car_origin = C[:,:Origin]\n",
    "carmap = labelmap(car_origin) #from MLBase\n",
    "uniqueids = labelencode(carmap,car_origin)"
   ]
  },
  {
   "cell_type": "code",
   "execution_count": null,
   "metadata": {},
   "outputs": [],
   "source": [
    "Plots.png(\"glomeruliDKDvsCtrl.png\")"
   ]
  },
  {
   "cell_type": "code",
   "execution_count": null,
   "metadata": {},
   "outputs": [],
   "source": [
    "patients=unique(features[!,\"SlideName\"])"
   ]
  },
  {
   "cell_type": "code",
   "execution_count": null,
   "metadata": {},
   "outputs": [],
   "source": [
    "\n",
    "\n",
    "using AbstractPlotting \n",
    "\n",
    "img = rand(100, 100)\n",
    "scene = Scene(resolution = (500, 500))\n",
    "AbstractPlotting.heatmap!(scene, img, scale_plot = false)\n",
    "clicks = Node(Point2f0[(0,0)])\n",
    "on(scene.events.mousebuttons) do buttons\n",
    "   if AbstractPlotting.ispressed(scene, Mouse.left)\n",
    "       pos = AbstractPlotting.to_world(scene, AbstractPlotting.Point2f0(scene.events.mouseposition[]))\n",
    "       clicks[] = push!(clicks[], pos)\n",
    "   end\n",
    "   return\n",
    "end\n",
    "AbstractPlotting.scatter!(scene, clicks, color = :red, marker = '+', markersize = 10)\n"
   ]
  },
  {
   "cell_type": "code",
   "execution_count": null,
   "metadata": {},
   "outputs": [],
   "source": [
    "patient = patients[1]\n",
    "patientRegions= features[!,\"SlideName\"].==patient\n",
    "healthyGlom = glomPath.==\"healthy\"\n",
    "abnormalGlom = glomPath.==\"abnormal\"\n",
    "Plots.scatter(Yte[1,patientRegions .& healthyGlom],Yte[2,patientRegions .& healthyGlom],color=1,label=\"healthy Glomeruli\",marker=:o)\n",
    "Plots.title!(patient)\n",
    "Plots.xlabel!(\"pca component1\")\n",
    "Plots.ylabel!(\"pca component2\")\n",
    "Plots.scatter!(Yte[1,patientRegions .& abnormalGlom],Yte[2,patientRegions .& abnormalGlom],color=1,label=\"abnormal Glom\",marker=:x)"
   ]
  },
  {
   "cell_type": "code",
   "execution_count": null,
   "metadata": {},
   "outputs": [],
   "source": [
    "inspectdr()"
   ]
  },
  {
   "cell_type": "code",
   "execution_count": null,
   "metadata": {},
   "outputs": [],
   "source": [
    "patient = patients[1]\n",
    "patientRegions= features[!,\"SlideName\"].==patient\n",
    "healthyGlom = glomPath.==\"healthy\"\n",
    "abnormalGlom = glomPath.==\"abnormal\"\n",
    "Plots.scatter(Yte[1,patientRegions .& healthyGlom],Yte[2,patientRegions .& healthyGlom],color=1,label=\"healthy Glomeruli\",marker=:o)\n",
    "Plots.title!(patient)\n",
    "Plots.xlabel!(\"pca component1\")\n",
    "Plots.ylabel!(\"pca component2\")\n",
    "Plots.scatter!(Yte[1,patientRegions .& abnormalGlom],Yte[2,patientRegions .& abnormalGlom],color=1,label=\"abnormal Glom\",marker=:x)"
   ]
  },
  {
   "cell_type": "code",
   "execution_count": null,
   "metadata": {},
   "outputs": [],
   "source": [
    "plotly()"
   ]
  },
  {
   "cell_type": "code",
   "execution_count": null,
   "metadata": {},
   "outputs": [],
   "source": [
    "Pkg.add.([\"Dash\", \"DashCoreComponents\", \"DashHtmlComponents\", \"DashTable\"])"
   ]
  },
  {
   "cell_type": "code",
   "execution_count": null,
   "metadata": {},
   "outputs": [],
   "source": [
    "using Pkg"
   ]
  },
  {
   "cell_type": "code",
   "execution_count": null,
   "metadata": {},
   "outputs": [],
   "source": [
    "patient = patients[1]\n",
    "patientRegions= features[!,\"SlideName\"].==patient\n",
    "healthyGlom = glomPath.==\"healthy\"\n",
    "abnormalGlom = glomPath.==\"abnormal\"\n",
    "Plots.scatter(Yte[1,patientRegions .& healthyGlom],Yte[2,patientRegions .& healthyGlom],color=1,label=\"healthy Glomeruli\",marker=:o)\n",
    "Plots.title!(patient)\n",
    "Plots.xlabel!(\"pca component1\")\n",
    "Plots.ylabel!(\"pca component2\")\n",
    "b=Plots.scatter!(Yte[1,patientRegions .& abnormalGlom],Yte[2,patientRegions .& abnormalGlom],color=1,label=\"abnormal Glom\",marker=:x)"
   ]
  },
  {
   "cell_type": "code",
   "execution_count": null,
   "metadata": {},
   "outputs": [],
   "source": []
  },
  {
   "cell_type": "code",
   "execution_count": null,
   "metadata": {},
   "outputs": [],
   "source": [
    "patient = patients[1]\n",
    "patientRegions= features[!,\"SlideName\"].==patient\n",
    "healthyGlom = glomPath.==\"healthy\"\n",
    "abnormalGlom = glomPath.==\"abnormal\"\n",
    "Plots.scatter(Yte[1,patientRegions .& healthyGlom],Yte[2,patientRegions .& healthyGlom],color=1,label=\"healthy Glomeruli\",marker=:o)\n",
    "Plots.title!(patient)\n",
    "Plots.xlabel!(\"pca component1\")\n",
    "Plots.ylabel!(\"pca component2\")\n",
    "Plots.scatter!(Yte[1,patientRegions .& abnormalGlom],Yte[2,patientRegions .& abnormalGlom],color=1,label=\"abnormal Glom\",marker=:x)"
   ]
  },
  {
   "cell_type": "code",
   "execution_count": null,
   "metadata": {},
   "outputs": [],
   "source": [
    "features[patientRegions,:]"
   ]
  },
  {
   "cell_type": "code",
   "execution_count": null,
   "metadata": {},
   "outputs": [],
   "source": [
    "#Patient by Patient plotting\n",
    "for (num,patient) in enumerate(patients)\n",
    "    patientRegions= features[!,\"SlideName\"].==patient\n",
    "    healthyGlom = glomPath.==\"healthy\"\n",
    "    abnormalGlom = glomPath.==\"abnormal\"\n",
    "    Plots.scatter!(Yte[1,patientRegions .& healthyGlom],Yte[2,patientRegions .& healthyGlom],color=num,marker=:o,legend=false)\n",
    "    Plots.title!(patient)\n",
    "    Plots.xlabel!(\"pca component1\")\n",
    "    Plots.ylabel!(\"pca component2\")\n",
    "    Plots.scatter!(Yte[1,patientRegions .& abnormalGlom],Yte[2,patientRegions .& abnormalGlom],color=num,marker=:x)\n",
    "    Plots.png(\"test.png\")\n",
    "end\n"
   ]
  },
  {
   "cell_type": "code",
   "execution_count": null,
   "metadata": {},
   "outputs": [],
   "source": [
    "names(PCM)"
   ]
  },
  {
   "cell_type": "code",
   "execution_count": null,
   "metadata": {},
   "outputs": [],
   "source": [
    "Plots.plot(PCM[!,\"normal2B_scan | 008 | PanCK\"])"
   ]
  },
  {
   "cell_type": "code",
   "execution_count": null,
   "metadata": {},
   "outputs": [],
   "source": [
    "patientid=2\n",
    "patient=patients[patientid]\n",
    "patientRegions= features[!,\"SlideName\"].==patient\n",
    "points = features[patientRegions,[\"SegmentDisplayName\", \"ROICoordinateX\", \"ROICoordinateY\"]]\n",
    "gloms=[occursin(r\"Geom.\",x) for x in points[!,\"SegmentDisplayName\"]]\n",
    "Plots.scatter(points.ROICoordinateX,points.ROICoordinateY,color=1,label=\"Tubules\")\n",
    "Plots.title!(patient)\n",
    "Plots.scatter!(points[gloms,:].ROICoordinateX,points[gloms,:].ROICoordinateY,color=2,label=\"Gloms\")"
   ]
  },
  {
   "cell_type": "code",
   "execution_count": null,
   "metadata": {},
   "outputs": [],
   "source": [
    "modePerRegion=[argmax(PCM[!,nn]) for nn in names(PCM)];"
   ]
  },
  {
   "cell_type": "code",
   "execution_count": null,
   "metadata": {},
   "outputs": [],
   "source": [
    "Plots.histogram(modePerRegion)"
   ]
  },
  {
   "cell_type": "markdown",
   "metadata": {},
   "source": [
    "# GSEA"
   ]
  },
  {
   "cell_type": "code",
   "execution_count": null,
   "metadata": {},
   "outputs": [],
   "source": [
    "ssGSEA = DataFrame(CSV.File(\"data/Kidney_ssGSEA.txt\"))"
   ]
  },
  {
   "cell_type": "code",
   "execution_count": null,
   "metadata": {},
   "outputs": [],
   "source": [
    "names(ssGSEA)"
   ]
  },
  {
   "cell_type": "code",
   "execution_count": null,
   "metadata": {},
   "outputs": [],
   "source": [
    "groupPerRegion=[ssGSEA[argmax(ssGSEA[!,nn]),\"Column1\"] for nn in names(ssGSEA)];"
   ]
  },
  {
   "cell_type": "code",
   "execution_count": null,
   "metadata": {},
   "outputs": [],
   "source": [
    "groupPerRegion"
   ]
  },
  {
   "cell_type": "code",
   "execution_count": null,
   "metadata": {},
   "outputs": [],
   "source": [
    "s=unique(groupPerRegion);"
   ]
  },
  {
   "cell_type": "code",
   "execution_count": null,
   "metadata": {},
   "outputs": [],
   "source": [
    "datamap = countmap(groupPerRegion)\n",
    "bar((x -> datamap[x]).(s), yticks=(1:length(s), s),orientation = :horizontal,yflip=true,size=(1200,500))"
   ]
  },
  {
   "cell_type": "code",
   "execution_count": null,
   "metadata": {},
   "outputs": [],
   "source": [
    "png(\"GEA_histogram.png\")"
   ]
  },
  {
   "cell_type": "code",
   "execution_count": null,
   "metadata": {},
   "outputs": [],
   "source": []
  }
 ],
 "metadata": {
  "@webio": {
   "lastCommId": null,
   "lastKernelId": null
  },
  "kernelspec": {
   "display_name": "Julia 1.6.0",
   "language": "julia",
   "name": "julia-1.6"
  },
  "language_info": {
   "file_extension": ".jl",
   "mimetype": "application/julia",
   "name": "julia",
   "version": "1.6.0"
  }
 },
 "nbformat": 4,
 "nbformat_minor": 4
}
